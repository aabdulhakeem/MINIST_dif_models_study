{
  "cells": [
    {
      "cell_type": "markdown",
      "metadata": {
        "id": "view-in-github",
        "colab_type": "text"
      },
      "source": [
        "<a href=\"https://colab.research.google.com/github/aabdulhakeem/MINIST_dif_models_study/blob/main/MINIST_with_different_models.ipynb\" target=\"_parent\"><img src=\"https://colab.research.google.com/assets/colab-badge.svg\" alt=\"Open In Colab\"/></a>"
      ]
    },
    {
      "cell_type": "markdown",
      "metadata": {
        "id": "3pGtywK_tZP2"
      },
      "source": [
        "##Importing the libraries"
      ]
    },
    {
      "cell_type": "code",
      "execution_count": 34,
      "metadata": {
        "id": "UuTNlk-ntYpH"
      },
      "outputs": [],
      "source": [
        "import tensorflow as tf\n",
        "from tensorflow import keras\n",
        "import matplotlib.pyplot as plt\n",
        "import numpy as np\n",
        "import pandas as pd\n",
        "import sklearn\n",
        "from sklearn import datasets\n",
        "from sklearn.model_selection import train_test_split\n",
        "import random\n",
        "import time\n",
        "from tensorflow.keras import layers, models\n",
        "from tensorflow.keras.models import Sequential\n",
        "from tensorflow.keras.layers import Dense, Flatten, Dropout\n",
        "from tensorflow.keras.utils import to_categorical\n",
        "from tensorflow.keras import optimizers\n",
        "# tf.config.run_functions_eagerly(True)\n",
        "from sklearn.svm import SVC\n",
        "from sklearn.metrics import accuracy_score"
      ]
    },
    {
      "cell_type": "markdown",
      "metadata": {
        "id": "-rFkxP1htMbB"
      },
      "source": [
        "##0. Importing MINIST with shuffled data"
      ]
    },
    {
      "cell_type": "code",
      "execution_count": 5,
      "metadata": {
        "colab": {
          "base_uri": "https://localhost:8080/"
        },
        "id": "pDISSUpltG7l",
        "outputId": "c24b58c2-c1cc-4444-96fd-4ccabf1181d6"
      },
      "outputs": [
        {
          "output_type": "execute_result",
          "data": {
            "text/plain": [
              "(70000, 784)"
            ]
          },
          "metadata": {},
          "execution_count": 5
        }
      ],
      "source": [
        "X, y = sklearn.datasets.fetch_openml('mnist_784', version=1, return_X_y=True, as_frame=False)\n",
        "X.shape"
      ]
    },
    {
      "cell_type": "code",
      "execution_count": 6,
      "metadata": {
        "id": "o4R527DsgcRV"
      },
      "outputs": [],
      "source": [
        "X = X.reshape(-1, 28, 28)"
      ]
    },
    {
      "cell_type": "code",
      "execution_count": 7,
      "metadata": {
        "id": "wejKD4KzghJp"
      },
      "outputs": [],
      "source": [
        "X_images, y = sklearn.utils.shuffle(X, y, random_state=42)\n",
        "X = X_images.reshape(-1, 784)"
      ]
    },
    {
      "cell_type": "code",
      "execution_count": null,
      "metadata": {
        "colab": {
          "base_uri": "https://localhost:8080/",
          "height": 428
        },
        "id": "xUDffcYmxufQ",
        "outputId": "306805d7-b867-4bf2-a6b4-03a6fa5971b1"
      },
      "outputs": [
        {
          "data": {
            "image/png": "[encoded data removed]",
            "text/plain": [
              "<Figure size 640x480 with 1 Axes>"
            ]
          },
          "metadata": {},
          "output_type": "display_data"
        }
      ],
      "source": [
        "# choosing number of samples randomly\n",
        "i = random.randint(0, len(X))\n",
        "plt.imshow(X_images[i], cmap='gray')\n",
        "plt.title(f\"Label: {y[i]}\")\n",
        "plt.axis('off')\n",
        "plt.show()"
      ]
    },
    {
      "cell_type": "markdown",
      "metadata": {
        "id": "x10LkARxBsHN"
      },
      "source": [
        "## 1.  SIMPLE ANN MODEL AND SVM AND APPLY THEM TO THE DATA independently"
      ]
    },
    {
      "cell_type": "code",
      "execution_count": null,
      "metadata": {
        "colab": {
          "base_uri": "https://localhost:8080/",
          "height": 1000
        },
        "id": "iWYxqdxLB48P",
        "outputId": "a6fa7436-70ae-4cf4-d39b-854c68243da5"
      },
      "outputs": [
        {
          "name": "stdout",
          "output_type": "stream",
          "text": [
            "\n",
            "Training model for 5 epochs...\n"
          ]
        },
        {
          "data": {
            "text/html": [
              "<pre style=\"white-space:pre;overflow-x:auto;line-height:normal;font-family:Menlo,'DejaVu Sans Mono',consolas,'Courier New',monospace\"><span style=\"font-weight: bold\">Model: \"sequential_7\"</span>\n",
              "</pre>\n"
            ],
            "text/plain": [
              "\u001b[1mModel: \"sequential_7\"\u001b[0m\n"
            ]
          },
          "metadata": {},
          "output_type": "display_data"
        },
        {
          "data": {
            "text/html": [
              "<pre style=\"white-space:pre;overflow-x:auto;line-height:normal;font-family:Menlo,'DejaVu Sans Mono',consolas,'Courier New',monospace\">┏━━━━━━━━━━━━━━━━━━━━━━━━━━━━━━━━━┳━━━━━━━━━━━━━━━━━━━━━━━━┳━━━━━━━━━━━━━━━┓\n",
              "┃<span style=\"font-weight: bold\"> Layer (type)                    </span>┃<span style=\"font-weight: bold\"> Output Shape           </span>┃<span style=\"font-weight: bold\">       Param # </span>┃\n",
              "┡━━━━━━━━━━━━━━━━━━━━━━━━━━━━━━━━━╇━━━━━━━━━━━━━━━━━━━━━━━━╇━━━━━━━━━━━━━━━┩\n",
              "│ dense_18 (<span style=\"color: #0087ff; text-decoration-color: #0087ff\">Dense</span>)                │ (<span style=\"color: #00d7ff; text-decoration-color: #00d7ff\">None</span>, <span style=\"color: #00af00; text-decoration-color: #00af00\">128</span>)            │       <span style=\"color: #00af00; text-decoration-color: #00af00\">100,480</span> │\n",
              "├─────────────────────────────────┼────────────────────────┼───────────────┤\n",
              "│ dropout_4 (<span style=\"color: #0087ff; text-decoration-color: #0087ff\">Dropout</span>)             │ (<span style=\"color: #00d7ff; text-decoration-color: #00d7ff\">None</span>, <span style=\"color: #00af00; text-decoration-color: #00af00\">128</span>)            │             <span style=\"color: #00af00; text-decoration-color: #00af00\">0</span> │\n",
              "├─────────────────────────────────┼────────────────────────┼───────────────┤\n",
              "│ dense_19 (<span style=\"color: #0087ff; text-decoration-color: #0087ff\">Dense</span>)                │ (<span style=\"color: #00d7ff; text-decoration-color: #00d7ff\">None</span>, <span style=\"color: #00af00; text-decoration-color: #00af00\">64</span>)             │         <span style=\"color: #00af00; text-decoration-color: #00af00\">8,256</span> │\n",
              "├─────────────────────────────────┼────────────────────────┼───────────────┤\n",
              "│ dense_20 (<span style=\"color: #0087ff; text-decoration-color: #0087ff\">Dense</span>)                │ (<span style=\"color: #00d7ff; text-decoration-color: #00d7ff\">None</span>, <span style=\"color: #00af00; text-decoration-color: #00af00\">10</span>)             │           <span style=\"color: #00af00; text-decoration-color: #00af00\">650</span> │\n",
              "└─────────────────────────────────┴────────────────────────┴───────────────┘\n",
              "</pre>\n"
            ],
            "text/plain": [
              "┏━━━━━━━━━━━━━━━━━━━━━━━━━━━━━━━━━┳━━━━━━━━━━━━━━━━━━━━━━━━┳━━━━━━━━━━━━━━━┓\n",
              "┃\u001b[1m \u001b[0m\u001b[1mLayer (type)                   \u001b[0m\u001b[1m \u001b[0m┃\u001b[1m \u001b[0m\u001b[1mOutput Shape          \u001b[0m\u001b[1m \u001b[0m┃\u001b[1m \u001b[0m\u001b[1m      Param #\u001b[0m\u001b[1m \u001b[0m┃\n",
              "┡━━━━━━━━━━━━━━━━━━━━━━━━━━━━━━━━━╇━━━━━━━━━━━━━━━━━━━━━━━━╇━━━━━━━━━━━━━━━┩\n",
              "│ dense_18 (\u001b[38;5;33mDense\u001b[0m)                │ (\u001b[38;5;45mNone\u001b[0m, \u001b[38;5;34m128\u001b[0m)            │       \u001b[38;5;34m100,480\u001b[0m │\n",
              "├─────────────────────────────────┼────────────────────────┼───────────────┤\n",
              "│ dropout_4 (\u001b[38;5;33mDropout\u001b[0m)             │ (\u001b[38;5;45mNone\u001b[0m, \u001b[38;5;34m128\u001b[0m)            │             \u001b[38;5;34m0\u001b[0m │\n",
              "├─────────────────────────────────┼────────────────────────┼───────────────┤\n",
              "│ dense_19 (\u001b[38;5;33mDense\u001b[0m)                │ (\u001b[38;5;45mNone\u001b[0m, \u001b[38;5;34m64\u001b[0m)             │         \u001b[38;5;34m8,256\u001b[0m │\n",
              "├─────────────────────────────────┼────────────────────────┼───────────────┤\n",
              "│ dense_20 (\u001b[38;5;33mDense\u001b[0m)                │ (\u001b[38;5;45mNone\u001b[0m, \u001b[38;5;34m10\u001b[0m)             │           \u001b[38;5;34m650\u001b[0m │\n",
              "└─────────────────────────────────┴────────────────────────┴───────────────┘\n"
            ]
          },
          "metadata": {},
          "output_type": "display_data"
        },
        {
          "data": {
            "text/html": [
              "<pre style=\"white-space:pre;overflow-x:auto;line-height:normal;font-family:Menlo,'DejaVu Sans Mono',consolas,'Courier New',monospace\"><span style=\"font-weight: bold\"> Total params: </span><span style=\"color: #00af00; text-decoration-color: #00af00\">109,386</span> (427.29 KB)\n",
              "</pre>\n"
            ],
            "text/plain": [
              "\u001b[1m Total params: \u001b[0m\u001b[38;5;34m109,386\u001b[0m (427.29 KB)\n"
            ]
          },
          "metadata": {},
          "output_type": "display_data"
        },
        {
          "data": {
            "text/html": [
              "<pre style=\"white-space:pre;overflow-x:auto;line-height:normal;font-family:Menlo,'DejaVu Sans Mono',consolas,'Courier New',monospace\"><span style=\"font-weight: bold\"> Trainable params: </span><span style=\"color: #00af00; text-decoration-color: #00af00\">109,386</span> (427.29 KB)\n",
              "</pre>\n"
            ],
            "text/plain": [
              "\u001b[1m Trainable params: \u001b[0m\u001b[38;5;34m109,386\u001b[0m (427.29 KB)\n"
            ]
          },
          "metadata": {},
          "output_type": "display_data"
        },
        {
          "data": {
            "text/html": [
              "<pre style=\"white-space:pre;overflow-x:auto;line-height:normal;font-family:Menlo,'DejaVu Sans Mono',consolas,'Courier New',monospace\"><span style=\"font-weight: bold\"> Non-trainable params: </span><span style=\"color: #00af00; text-decoration-color: #00af00\">0</span> (0.00 B)\n",
              "</pre>\n"
            ],
            "text/plain": [
              "\u001b[1m Non-trainable params: \u001b[0m\u001b[38;5;34m0\u001b[0m (0.00 B)\n"
            ]
          },
          "metadata": {},
          "output_type": "display_data"
        },
        {
          "name": "stdout",
          "output_type": "stream",
          "text": [
            "Epoch 1/5\n",
            "\u001b[1m394/394\u001b[0m \u001b[32m━━━━━━━━━━━━━━━━━━━━\u001b[0m\u001b[37m\u001b[0m \u001b[1m4s\u001b[0m 6ms/step - accuracy: 0.7632 - loss: 0.7836 - val_accuracy: 0.9455 - val_loss: 0.1943\n",
            "Epoch 2/5\n",
            "\u001b[1m394/394\u001b[0m \u001b[32m━━━━━━━━━━━━━━━━━━━━\u001b[0m\u001b[37m\u001b[0m \u001b[1m3s\u001b[0m 8ms/step - accuracy: 0.9359 - loss: 0.2131 - val_accuracy: 0.9566 - val_loss: 0.1445\n",
            "Epoch 3/5\n",
            "\u001b[1m394/394\u001b[0m \u001b[32m━━━━━━━━━━━━━━━━━━━━\u001b[0m\u001b[37m\u001b[0m \u001b[1m4s\u001b[0m 6ms/step - accuracy: 0.9520 - loss: 0.1564 - val_accuracy: 0.9675 - val_loss: 0.1152\n",
            "Epoch 4/5\n",
            "\u001b[1m394/394\u001b[0m \u001b[32m━━━━━━━━━━━━━━━━━━━━\u001b[0m\u001b[37m\u001b[0m \u001b[1m2s\u001b[0m 5ms/step - accuracy: 0.9609 - loss: 0.1301 - val_accuracy: 0.9704 - val_loss: 0.1084\n",
            "Epoch 5/5\n",
            "\u001b[1m394/394\u001b[0m \u001b[32m━━━━━━━━━━━━━━━━━━━━\u001b[0m\u001b[37m\u001b[0m \u001b[1m3s\u001b[0m 6ms/step - accuracy: 0.9649 - loss: 0.1111 - val_accuracy: 0.9729 - val_loss: 0.0959\n",
            "\u001b[1m438/438\u001b[0m \u001b[32m━━━━━━━━━━━━━━━━━━━━\u001b[0m\u001b[37m\u001b[0m \u001b[1m1s\u001b[0m 3ms/step - accuracy: 0.9704 - loss: 0.0964\n",
            "\n",
            "Validation Accuracy per Epoch:\n",
            "Epoch 1: 0.9455\n",
            "Epoch 2: 0.9566\n",
            "Epoch 3: 0.9675\n",
            "Epoch 4: 0.9704\n",
            "Epoch 5: 0.9729\n",
            "\n",
            "Final ANN Test Accuracy: 0.9696\n",
            "\n",
            "Average Training Time per Epoch: 3.5730 seconds\n",
            "Test Time: 1.6001 seconds\n",
            "\n",
            "Training model for 10 epochs...\n"
          ]
        },
        {
          "data": {
            "text/html": [
              "<pre style=\"white-space:pre;overflow-x:auto;line-height:normal;font-family:Menlo,'DejaVu Sans Mono',consolas,'Courier New',monospace\"><span style=\"font-weight: bold\">Model: \"sequential_8\"</span>\n",
              "</pre>\n"
            ],
            "text/plain": [
              "\u001b[1mModel: \"sequential_8\"\u001b[0m\n"
            ]
          },
          "metadata": {},
          "output_type": "display_data"
        },
        {
          "data": {
            "text/html": [
              "<pre style=\"white-space:pre;overflow-x:auto;line-height:normal;font-family:Menlo,'DejaVu Sans Mono',consolas,'Courier New',monospace\">┏━━━━━━━━━━━━━━━━━━━━━━━━━━━━━━━━━┳━━━━━━━━━━━━━━━━━━━━━━━━┳━━━━━━━━━━━━━━━┓\n",
              "┃<span style=\"font-weight: bold\"> Layer (type)                    </span>┃<span style=\"font-weight: bold\"> Output Shape           </span>┃<span style=\"font-weight: bold\">       Param # </span>┃\n",
              "┡━━━━━━━━━━━━━━━━━━━━━━━━━━━━━━━━━╇━━━━━━━━━━━━━━━━━━━━━━━━╇━━━━━━━━━━━━━━━┩\n",
              "│ dense_21 (<span style=\"color: #0087ff; text-decoration-color: #0087ff\">Dense</span>)                │ (<span style=\"color: #00d7ff; text-decoration-color: #00d7ff\">None</span>, <span style=\"color: #00af00; text-decoration-color: #00af00\">128</span>)            │       <span style=\"color: #00af00; text-decoration-color: #00af00\">100,480</span> │\n",
              "├─────────────────────────────────┼────────────────────────┼───────────────┤\n",
              "│ dropout_5 (<span style=\"color: #0087ff; text-decoration-color: #0087ff\">Dropout</span>)             │ (<span style=\"color: #00d7ff; text-decoration-color: #00d7ff\">None</span>, <span style=\"color: #00af00; text-decoration-color: #00af00\">128</span>)            │             <span style=\"color: #00af00; text-decoration-color: #00af00\">0</span> │\n",
              "├─────────────────────────────────┼────────────────────────┼───────────────┤\n",
              "│ dense_22 (<span style=\"color: #0087ff; text-decoration-color: #0087ff\">Dense</span>)                │ (<span style=\"color: #00d7ff; text-decoration-color: #00d7ff\">None</span>, <span style=\"color: #00af00; text-decoration-color: #00af00\">64</span>)             │         <span style=\"color: #00af00; text-decoration-color: #00af00\">8,256</span> │\n",
              "├─────────────────────────────────┼────────────────────────┼───────────────┤\n",
              "│ dense_23 (<span style=\"color: #0087ff; text-decoration-color: #0087ff\">Dense</span>)                │ (<span style=\"color: #00d7ff; text-decoration-color: #00d7ff\">None</span>, <span style=\"color: #00af00; text-decoration-color: #00af00\">10</span>)             │           <span style=\"color: #00af00; text-decoration-color: #00af00\">650</span> │\n",
              "└─────────────────────────────────┴────────────────────────┴───────────────┘\n",
              "</pre>\n"
            ],
            "text/plain": [
              "┏━━━━━━━━━━━━━━━━━━━━━━━━━━━━━━━━━┳━━━━━━━━━━━━━━━━━━━━━━━━┳━━━━━━━━━━━━━━━┓\n",
              "┃\u001b[1m \u001b[0m\u001b[1mLayer (type)                   \u001b[0m\u001b[1m \u001b[0m┃\u001b[1m \u001b[0m\u001b[1mOutput Shape          \u001b[0m\u001b[1m \u001b[0m┃\u001b[1m \u001b[0m\u001b[1m      Param #\u001b[0m\u001b[1m \u001b[0m┃\n",
              "┡━━━━━━━━━━━━━━━━━━━━━━━━━━━━━━━━━╇━━━━━━━━━━━━━━━━━━━━━━━━╇━━━━━━━━━━━━━━━┩\n",
              "│ dense_21 (\u001b[38;5;33mDense\u001b[0m)                │ (\u001b[38;5;45mNone\u001b[0m, \u001b[38;5;34m128\u001b[0m)            │       \u001b[38;5;34m100,480\u001b[0m │\n",
              "├─────────────────────────────────┼────────────────────────┼───────────────┤\n",
              "│ dropout_5 (\u001b[38;5;33mDropout\u001b[0m)             │ (\u001b[38;5;45mNone\u001b[0m, \u001b[38;5;34m128\u001b[0m)            │             \u001b[38;5;34m0\u001b[0m │\n",
              "├─────────────────────────────────┼────────────────────────┼───────────────┤\n",
              "│ dense_22 (\u001b[38;5;33mDense\u001b[0m)                │ (\u001b[38;5;45mNone\u001b[0m, \u001b[38;5;34m64\u001b[0m)             │         \u001b[38;5;34m8,256\u001b[0m │\n",
              "├─────────────────────────────────┼────────────────────────┼───────────────┤\n",
              "│ dense_23 (\u001b[38;5;33mDense\u001b[0m)                │ (\u001b[38;5;45mNone\u001b[0m, \u001b[38;5;34m10\u001b[0m)             │           \u001b[38;5;34m650\u001b[0m │\n",
              "└─────────────────────────────────┴────────────────────────┴───────────────┘\n"
            ]
          },
          "metadata": {},
          "output_type": "display_data"
        },
        {
          "data": {
            "text/html": [
              "<pre style=\"white-space:pre;overflow-x:auto;line-height:normal;font-family:Menlo,'DejaVu Sans Mono',consolas,'Courier New',monospace\"><span style=\"font-weight: bold\"> Total params: </span><span style=\"color: #00af00; text-decoration-color: #00af00\">109,386</span> (427.29 KB)\n",
              "</pre>\n"
            ],
            "text/plain": [
              "\u001b[1m Total params: \u001b[0m\u001b[38;5;34m109,386\u001b[0m (427.29 KB)\n"
            ]
          },
          "metadata": {},
          "output_type": "display_data"
        },
        {
          "data": {
            "text/html": [
              "<pre style=\"white-space:pre;overflow-x:auto;line-height:normal;font-family:Menlo,'DejaVu Sans Mono',consolas,'Courier New',monospace\"><span style=\"font-weight: bold\"> Trainable params: </span><span style=\"color: #00af00; text-decoration-color: #00af00\">109,386</span> (427.29 KB)\n",
              "</pre>\n"
            ],
            "text/plain": [
              "\u001b[1m Trainable params: \u001b[0m\u001b[38;5;34m109,386\u001b[0m (427.29 KB)\n"
            ]
          },
          "metadata": {},
          "output_type": "display_data"
        },
        {
          "data": {
            "text/html": [
              "<pre style=\"white-space:pre;overflow-x:auto;line-height:normal;font-family:Menlo,'DejaVu Sans Mono',consolas,'Courier New',monospace\"><span style=\"font-weight: bold\"> Non-trainable params: </span><span style=\"color: #00af00; text-decoration-color: #00af00\">0</span> (0.00 B)\n",
              "</pre>\n"
            ],
            "text/plain": [
              "\u001b[1m Non-trainable params: \u001b[0m\u001b[38;5;34m0\u001b[0m (0.00 B)\n"
            ]
          },
          "metadata": {},
          "output_type": "display_data"
        },
        {
          "name": "stdout",
          "output_type": "stream",
          "text": [
            "Epoch 1/10\n",
            "\u001b[1m394/394\u001b[0m \u001b[32m━━━━━━━━━━━━━━━━━━━━\u001b[0m\u001b[37m\u001b[0m \u001b[1m5s\u001b[0m 10ms/step - accuracy: 0.7633 - loss: 0.7684 - val_accuracy: 0.9452 - val_loss: 0.1922\n",
            "Epoch 2/10\n",
            "\u001b[1m394/394\u001b[0m \u001b[32m━━━━━━━━━━━━━━━━━━━━\u001b[0m\u001b[37m\u001b[0m \u001b[1m4s\u001b[0m 7ms/step - accuracy: 0.9375 - loss: 0.2081 - val_accuracy: 0.9621 - val_loss: 0.1371\n",
            "Epoch 3/10\n",
            "\u001b[1m394/394\u001b[0m \u001b[32m━━━━━━━━━━━━━━━━━━━━\u001b[0m\u001b[37m\u001b[0m \u001b[1m5s\u001b[0m 14ms/step - accuracy: 0.9531 - loss: 0.1559 - val_accuracy: 0.9652 - val_loss: 0.1171\n",
            "Epoch 4/10\n",
            "\u001b[1m394/394\u001b[0m \u001b[32m━━━━━━━━━━━━━━━━━━━━\u001b[0m\u001b[37m\u001b[0m \u001b[1m7s\u001b[0m 5ms/step - accuracy: 0.9617 - loss: 0.1226 - val_accuracy: 0.9720 - val_loss: 0.0967\n",
            "Epoch 5/10\n",
            "\u001b[1m394/394\u001b[0m \u001b[32m━━━━━━━━━━━━━━━━━━━━\u001b[0m\u001b[37m\u001b[0m \u001b[1m2s\u001b[0m 5ms/step - accuracy: 0.9661 - loss: 0.1087 - val_accuracy: 0.9732 - val_loss: 0.0934\n",
            "Epoch 6/10\n",
            "\u001b[1m394/394\u001b[0m \u001b[32m━━━━━━━━━━━━━━━━━━━━\u001b[0m\u001b[37m\u001b[0m \u001b[1m3s\u001b[0m 8ms/step - accuracy: 0.9712 - loss: 0.0933 - val_accuracy: 0.9752 - val_loss: 0.0909\n",
            "Epoch 7/10\n",
            "\u001b[1m394/394\u001b[0m \u001b[32m━━━━━━━━━━━━━━━━━━━━\u001b[0m\u001b[37m\u001b[0m \u001b[1m3s\u001b[0m 7ms/step - accuracy: 0.9747 - loss: 0.0812 - val_accuracy: 0.9746 - val_loss: 0.0873\n",
            "Epoch 8/10\n",
            "\u001b[1m394/394\u001b[0m \u001b[32m━━━━━━━━━━━━━━━━━━━━\u001b[0m\u001b[37m\u001b[0m \u001b[1m2s\u001b[0m 5ms/step - accuracy: 0.9760 - loss: 0.0748 - val_accuracy: 0.9759 - val_loss: 0.0848\n",
            "Epoch 9/10\n",
            "\u001b[1m394/394\u001b[0m \u001b[32m━━━━━━━━━━━━━━━━━━━━\u001b[0m\u001b[37m\u001b[0m \u001b[1m3s\u001b[0m 5ms/step - accuracy: 0.9784 - loss: 0.0681 - val_accuracy: 0.9764 - val_loss: 0.0821\n",
            "Epoch 10/10\n",
            "\u001b[1m394/394\u001b[0m \u001b[32m━━━━━━━━━━━━━━━━━━━━\u001b[0m\u001b[37m\u001b[0m \u001b[1m3s\u001b[0m 7ms/step - accuracy: 0.9784 - loss: 0.0661 - val_accuracy: 0.9761 - val_loss: 0.0915\n",
            "\u001b[1m438/438\u001b[0m \u001b[32m━━━━━━━━━━━━━━━━━━━━\u001b[0m\u001b[37m\u001b[0m \u001b[1m1s\u001b[0m 3ms/step - accuracy: 0.9739 - loss: 0.0880\n",
            "\n",
            "Validation Accuracy per Epoch:\n",
            "Epoch 1: 0.9452\n",
            "Epoch 2: 0.9621\n",
            "Epoch 3: 0.9652\n",
            "Epoch 4: 0.9720\n",
            "Epoch 5: 0.9732\n",
            "Epoch 6: 0.9752\n",
            "Epoch 7: 0.9746\n",
            "Epoch 8: 0.9759\n",
            "Epoch 9: 0.9764\n",
            "Epoch 10: 0.9761\n",
            "\n",
            "Final ANN Test Accuracy: 0.9738\n",
            "\n",
            "Average Training Time per Epoch: 3.8738 seconds\n",
            "Test Time: 1.5959 seconds\n",
            "\n",
            "Training model for 15 epochs...\n"
          ]
        },
        {
          "data": {
            "text/html": [
              "<pre style=\"white-space:pre;overflow-x:auto;line-height:normal;font-family:Menlo,'DejaVu Sans Mono',consolas,'Courier New',monospace\"><span style=\"font-weight: bold\">Model: \"sequential_9\"</span>\n",
              "</pre>\n"
            ],
            "text/plain": [
              "\u001b[1mModel: \"sequential_9\"\u001b[0m\n"
            ]
          },
          "metadata": {},
          "output_type": "display_data"
        },
        {
          "data": {
            "text/html": [
              "<pre style=\"white-space:pre;overflow-x:auto;line-height:normal;font-family:Menlo,'DejaVu Sans Mono',consolas,'Courier New',monospace\">┏━━━━━━━━━━━━━━━━━━━━━━━━━━━━━━━━━┳━━━━━━━━━━━━━━━━━━━━━━━━┳━━━━━━━━━━━━━━━┓\n",
              "┃<span style=\"font-weight: bold\"> Layer (type)                    </span>┃<span style=\"font-weight: bold\"> Output Shape           </span>┃<span style=\"font-weight: bold\">       Param # </span>┃\n",
              "┡━━━━━━━━━━━━━━━━━━━━━━━━━━━━━━━━━╇━━━━━━━━━━━━━━━━━━━━━━━━╇━━━━━━━━━━━━━━━┩\n",
              "│ dense_24 (<span style=\"color: #0087ff; text-decoration-color: #0087ff\">Dense</span>)                │ (<span style=\"color: #00d7ff; text-decoration-color: #00d7ff\">None</span>, <span style=\"color: #00af00; text-decoration-color: #00af00\">128</span>)            │       <span style=\"color: #00af00; text-decoration-color: #00af00\">100,480</span> │\n",
              "├─────────────────────────────────┼────────────────────────┼───────────────┤\n",
              "│ dropout_6 (<span style=\"color: #0087ff; text-decoration-color: #0087ff\">Dropout</span>)             │ (<span style=\"color: #00d7ff; text-decoration-color: #00d7ff\">None</span>, <span style=\"color: #00af00; text-decoration-color: #00af00\">128</span>)            │             <span style=\"color: #00af00; text-decoration-color: #00af00\">0</span> │\n",
              "├─────────────────────────────────┼────────────────────────┼───────────────┤\n",
              "│ dense_25 (<span style=\"color: #0087ff; text-decoration-color: #0087ff\">Dense</span>)                │ (<span style=\"color: #00d7ff; text-decoration-color: #00d7ff\">None</span>, <span style=\"color: #00af00; text-decoration-color: #00af00\">64</span>)             │         <span style=\"color: #00af00; text-decoration-color: #00af00\">8,256</span> │\n",
              "├─────────────────────────────────┼────────────────────────┼───────────────┤\n",
              "│ dense_26 (<span style=\"color: #0087ff; text-decoration-color: #0087ff\">Dense</span>)                │ (<span style=\"color: #00d7ff; text-decoration-color: #00d7ff\">None</span>, <span style=\"color: #00af00; text-decoration-color: #00af00\">10</span>)             │           <span style=\"color: #00af00; text-decoration-color: #00af00\">650</span> │\n",
              "└─────────────────────────────────┴────────────────────────┴───────────────┘\n",
              "</pre>\n"
            ],
            "text/plain": [
              "┏━━━━━━━━━━━━━━━━━━━━━━━━━━━━━━━━━┳━━━━━━━━━━━━━━━━━━━━━━━━┳━━━━━━━━━━━━━━━┓\n",
              "┃\u001b[1m \u001b[0m\u001b[1mLayer (type)                   \u001b[0m\u001b[1m \u001b[0m┃\u001b[1m \u001b[0m\u001b[1mOutput Shape          \u001b[0m\u001b[1m \u001b[0m┃\u001b[1m \u001b[0m\u001b[1m      Param #\u001b[0m\u001b[1m \u001b[0m┃\n",
              "┡━━━━━━━━━━━━━━━━━━━━━━━━━━━━━━━━━╇━━━━━━━━━━━━━━━━━━━━━━━━╇━━━━━━━━━━━━━━━┩\n",
              "│ dense_24 (\u001b[38;5;33mDense\u001b[0m)                │ (\u001b[38;5;45mNone\u001b[0m, \u001b[38;5;34m128\u001b[0m)            │       \u001b[38;5;34m100,480\u001b[0m │\n",
              "├─────────────────────────────────┼────────────────────────┼───────────────┤\n",
              "│ dropout_6 (\u001b[38;5;33mDropout\u001b[0m)             │ (\u001b[38;5;45mNone\u001b[0m, \u001b[38;5;34m128\u001b[0m)            │             \u001b[38;5;34m0\u001b[0m │\n",
              "├─────────────────────────────────┼────────────────────────┼───────────────┤\n",
              "│ dense_25 (\u001b[38;5;33mDense\u001b[0m)                │ (\u001b[38;5;45mNone\u001b[0m, \u001b[38;5;34m64\u001b[0m)             │         \u001b[38;5;34m8,256\u001b[0m │\n",
              "├─────────────────────────────────┼────────────────────────┼───────────────┤\n",
              "│ dense_26 (\u001b[38;5;33mDense\u001b[0m)                │ (\u001b[38;5;45mNone\u001b[0m, \u001b[38;5;34m10\u001b[0m)             │           \u001b[38;5;34m650\u001b[0m │\n",
              "└─────────────────────────────────┴────────────────────────┴───────────────┘\n"
            ]
          },
          "metadata": {},
          "output_type": "display_data"
        },
        {
          "data": {
            "text/html": [
              "<pre style=\"white-space:pre;overflow-x:auto;line-height:normal;font-family:Menlo,'DejaVu Sans Mono',consolas,'Courier New',monospace\"><span style=\"font-weight: bold\"> Total params: </span><span style=\"color: #00af00; text-decoration-color: #00af00\">109,386</span> (427.29 KB)\n",
              "</pre>\n"
            ],
            "text/plain": [
              "\u001b[1m Total params: \u001b[0m\u001b[38;5;34m109,386\u001b[0m (427.29 KB)\n"
            ]
          },
          "metadata": {},
          "output_type": "display_data"
        },
        {
          "data": {
            "text/html": [
              "<pre style=\"white-space:pre;overflow-x:auto;line-height:normal;font-family:Menlo,'DejaVu Sans Mono',consolas,'Courier New',monospace\"><span style=\"font-weight: bold\"> Trainable params: </span><span style=\"color: #00af00; text-decoration-color: #00af00\">109,386</span> (427.29 KB)\n",
              "</pre>\n"
            ],
            "text/plain": [
              "\u001b[1m Trainable params: \u001b[0m\u001b[38;5;34m109,386\u001b[0m (427.29 KB)\n"
            ]
          },
          "metadata": {},
          "output_type": "display_data"
        },
        {
          "data": {
            "text/html": [
              "<pre style=\"white-space:pre;overflow-x:auto;line-height:normal;font-family:Menlo,'DejaVu Sans Mono',consolas,'Courier New',monospace\"><span style=\"font-weight: bold\"> Non-trainable params: </span><span style=\"color: #00af00; text-decoration-color: #00af00\">0</span> (0.00 B)\n",
              "</pre>\n"
            ],
            "text/plain": [
              "\u001b[1m Non-trainable params: \u001b[0m\u001b[38;5;34m0\u001b[0m (0.00 B)\n"
            ]
          },
          "metadata": {},
          "output_type": "display_data"
        },
        {
          "name": "stdout",
          "output_type": "stream",
          "text": [
            "Epoch 1/15\n",
            "\u001b[1m394/394\u001b[0m \u001b[32m━━━━━━━━━━━━━━━━━━━━\u001b[0m\u001b[37m\u001b[0m \u001b[1m4s\u001b[0m 6ms/step - accuracy: 0.7660 - loss: 0.7667 - val_accuracy: 0.9470 - val_loss: 0.1910\n",
            "Epoch 2/15\n",
            "\u001b[1m394/394\u001b[0m \u001b[32m━━━━━━━━━━━━━━━━━━━━\u001b[0m\u001b[37m\u001b[0m \u001b[1m2s\u001b[0m 6ms/step - accuracy: 0.9384 - loss: 0.2083 - val_accuracy: 0.9582 - val_loss: 0.1387\n",
            "Epoch 3/15\n",
            "\u001b[1m394/394\u001b[0m \u001b[32m━━━━━━━━━━━━━━━━━━━━\u001b[0m\u001b[37m\u001b[0m \u001b[1m3s\u001b[0m 6ms/step - accuracy: 0.9540 - loss: 0.1495 - val_accuracy: 0.9639 - val_loss: 0.1186\n",
            "Epoch 4/15\n",
            "\u001b[1m394/394\u001b[0m \u001b[32m━━━━━━━━━━━━━━━━━━━━\u001b[0m\u001b[37m\u001b[0m \u001b[1m3s\u001b[0m 8ms/step - accuracy: 0.9617 - loss: 0.1259 - val_accuracy: 0.9709 - val_loss: 0.1023\n",
            "Epoch 5/15\n",
            "\u001b[1m394/394\u001b[0m \u001b[32m━━━━━━━━━━━━━━━━━━━━\u001b[0m\u001b[37m\u001b[0m \u001b[1m2s\u001b[0m 6ms/step - accuracy: 0.9649 - loss: 0.1142 - val_accuracy: 0.9714 - val_loss: 0.1007\n",
            "Epoch 6/15\n",
            "\u001b[1m394/394\u001b[0m \u001b[32m━━━━━━━━━━━━━━━━━━━━\u001b[0m\u001b[37m\u001b[0m \u001b[1m2s\u001b[0m 5ms/step - accuracy: 0.9698 - loss: 0.0976 - val_accuracy: 0.9736 - val_loss: 0.0950\n",
            "Epoch 7/15\n",
            "\u001b[1m394/394\u001b[0m \u001b[32m━━━━━━━━━━━━━━━━━━━━\u001b[0m\u001b[37m\u001b[0m \u001b[1m3s\u001b[0m 6ms/step - accuracy: 0.9747 - loss: 0.0820 - val_accuracy: 0.9757 - val_loss: 0.0887\n",
            "Epoch 8/15\n",
            "\u001b[1m394/394\u001b[0m \u001b[32m━━━━━━━━━━━━━━━━━━━━\u001b[0m\u001b[37m\u001b[0m \u001b[1m3s\u001b[0m 6ms/step - accuracy: 0.9750 - loss: 0.0778 - val_accuracy: 0.9761 - val_loss: 0.0901\n",
            "Epoch 9/15\n",
            "\u001b[1m394/394\u001b[0m \u001b[32m━━━━━━━━━━━━━━━━━━━━\u001b[0m\u001b[37m\u001b[0m \u001b[1m3s\u001b[0m 9ms/step - accuracy: 0.9765 - loss: 0.0713 - val_accuracy: 0.9784 - val_loss: 0.0830\n",
            "Epoch 10/15\n",
            "\u001b[1m394/394\u001b[0m \u001b[32m━━━━━━━━━━━━━━━━━━━━\u001b[0m\u001b[37m\u001b[0m \u001b[1m2s\u001b[0m 5ms/step - accuracy: 0.9790 - loss: 0.0651 - val_accuracy: 0.9793 - val_loss: 0.0818\n",
            "Epoch 11/15\n",
            "\u001b[1m394/394\u001b[0m \u001b[32m━━━━━━━━━━━━━━━━━━━━\u001b[0m\u001b[37m\u001b[0m \u001b[1m3s\u001b[0m 6ms/step - accuracy: 0.9808 - loss: 0.0599 - val_accuracy: 0.9777 - val_loss: 0.0885\n",
            "Epoch 12/15\n",
            "\u001b[1m394/394\u001b[0m \u001b[32m━━━━━━━━━━━━━━━━━━━━\u001b[0m\u001b[37m\u001b[0m \u001b[1m3s\u001b[0m 5ms/step - accuracy: 0.9810 - loss: 0.0546 - val_accuracy: 0.9787 - val_loss: 0.0804\n",
            "Epoch 13/15\n",
            "\u001b[1m394/394\u001b[0m \u001b[32m━━━━━━━━━━━━━━━━━━━━\u001b[0m\u001b[37m\u001b[0m \u001b[1m3s\u001b[0m 6ms/step - accuracy: 0.9815 - loss: 0.0538 - val_accuracy: 0.9784 - val_loss: 0.0808\n",
            "Epoch 14/15\n",
            "\u001b[1m394/394\u001b[0m \u001b[32m━━━━━━━━━━━━━━━━━━━━\u001b[0m\u001b[37m\u001b[0m \u001b[1m3s\u001b[0m 8ms/step - accuracy: 0.9836 - loss: 0.0496 - val_accuracy: 0.9771 - val_loss: 0.0890\n",
            "Epoch 15/15\n",
            "\u001b[1m394/394\u001b[0m \u001b[32m━━━━━━━━━━━━━━━━━━━━\u001b[0m\u001b[37m\u001b[0m \u001b[1m4s\u001b[0m 6ms/step - accuracy: 0.9850 - loss: 0.0468 - val_accuracy: 0.9770 - val_loss: 0.0874\n",
            "\u001b[1m438/438\u001b[0m \u001b[32m━━━━━━━━━━━━━━━━━━━━\u001b[0m\u001b[37m\u001b[0m \u001b[1m1s\u001b[0m 2ms/step - accuracy: 0.9762 - loss: 0.0812\n",
            "\n",
            "Validation Accuracy per Epoch:\n",
            "Epoch 1: 0.9470\n",
            "Epoch 2: 0.9582\n",
            "Epoch 3: 0.9639\n",
            "Epoch 4: 0.9709\n",
            "Epoch 5: 0.9714\n",
            "Epoch 6: 0.9736\n",
            "Epoch 7: 0.9757\n",
            "Epoch 8: 0.9761\n",
            "Epoch 9: 0.9784\n",
            "Epoch 10: 0.9793\n",
            "Epoch 11: 0.9777\n",
            "Epoch 12: 0.9787\n",
            "Epoch 13: 0.9784\n",
            "Epoch 14: 0.9771\n",
            "Epoch 15: 0.9770\n",
            "\n",
            "Final ANN Test Accuracy: 0.9766\n",
            "\n",
            "Average Training Time per Epoch: 2.8785 seconds\n",
            "Test Time: 1.4026 seconds\n",
            "\n",
            "Training model for 20 epochs...\n"
          ]
        },
        {
          "data": {
            "text/html": [
              "<pre style=\"white-space:pre;overflow-x:auto;line-height:normal;font-family:Menlo,'DejaVu Sans Mono',consolas,'Courier New',monospace\"><span style=\"font-weight: bold\">Model: \"sequential_10\"</span>\n",
              "</pre>\n"
            ],
            "text/plain": [
              "\u001b[1mModel: \"sequential_10\"\u001b[0m\n"
            ]
          },
          "metadata": {},
          "output_type": "display_data"
        },
        {
          "data": {
            "text/html": [
              "<pre style=\"white-space:pre;overflow-x:auto;line-height:normal;font-family:Menlo,'DejaVu Sans Mono',consolas,'Courier New',monospace\">┏━━━━━━━━━━━━━━━━━━━━━━━━━━━━━━━━━┳━━━━━━━━━━━━━━━━━━━━━━━━┳━━━━━━━━━━━━━━━┓\n",
              "┃<span style=\"font-weight: bold\"> Layer (type)                    </span>┃<span style=\"font-weight: bold\"> Output Shape           </span>┃<span style=\"font-weight: bold\">       Param # </span>┃\n",
              "┡━━━━━━━━━━━━━━━━━━━━━━━━━━━━━━━━━╇━━━━━━━━━━━━━━━━━━━━━━━━╇━━━━━━━━━━━━━━━┩\n",
              "│ dense_27 (<span style=\"color: #0087ff; text-decoration-color: #0087ff\">Dense</span>)                │ (<span style=\"color: #00d7ff; text-decoration-color: #00d7ff\">None</span>, <span style=\"color: #00af00; text-decoration-color: #00af00\">128</span>)            │       <span style=\"color: #00af00; text-decoration-color: #00af00\">100,480</span> │\n",
              "├─────────────────────────────────┼────────────────────────┼───────────────┤\n",
              "│ dropout_7 (<span style=\"color: #0087ff; text-decoration-color: #0087ff\">Dropout</span>)             │ (<span style=\"color: #00d7ff; text-decoration-color: #00d7ff\">None</span>, <span style=\"color: #00af00; text-decoration-color: #00af00\">128</span>)            │             <span style=\"color: #00af00; text-decoration-color: #00af00\">0</span> │\n",
              "├─────────────────────────────────┼────────────────────────┼───────────────┤\n",
              "│ dense_28 (<span style=\"color: #0087ff; text-decoration-color: #0087ff\">Dense</span>)                │ (<span style=\"color: #00d7ff; text-decoration-color: #00d7ff\">None</span>, <span style=\"color: #00af00; text-decoration-color: #00af00\">64</span>)             │         <span style=\"color: #00af00; text-decoration-color: #00af00\">8,256</span> │\n",
              "├─────────────────────────────────┼────────────────────────┼───────────────┤\n",
              "│ dense_29 (<span style=\"color: #0087ff; text-decoration-color: #0087ff\">Dense</span>)                │ (<span style=\"color: #00d7ff; text-decoration-color: #00d7ff\">None</span>, <span style=\"color: #00af00; text-decoration-color: #00af00\">10</span>)             │           <span style=\"color: #00af00; text-decoration-color: #00af00\">650</span> │\n",
              "└─────────────────────────────────┴────────────────────────┴───────────────┘\n",
              "</pre>\n"
            ],
            "text/plain": [
              "┏━━━━━━━━━━━━━━━━━━━━━━━━━━━━━━━━━┳━━━━━━━━━━━━━━━━━━━━━━━━┳━━━━━━━━━━━━━━━┓\n",
              "┃\u001b[1m \u001b[0m\u001b[1mLayer (type)                   \u001b[0m\u001b[1m \u001b[0m┃\u001b[1m \u001b[0m\u001b[1mOutput Shape          \u001b[0m\u001b[1m \u001b[0m┃\u001b[1m \u001b[0m\u001b[1m      Param #\u001b[0m\u001b[1m \u001b[0m┃\n",
              "┡━━━━━━━━━━━━━━━━━━━━━━━━━━━━━━━━━╇━━━━━━━━━━━━━━━━━━━━━━━━╇━━━━━━━━━━━━━━━┩\n",
              "│ dense_27 (\u001b[38;5;33mDense\u001b[0m)                │ (\u001b[38;5;45mNone\u001b[0m, \u001b[38;5;34m128\u001b[0m)            │       \u001b[38;5;34m100,480\u001b[0m │\n",
              "├─────────────────────────────────┼────────────────────────┼───────────────┤\n",
              "│ dropout_7 (\u001b[38;5;33mDropout\u001b[0m)             │ (\u001b[38;5;45mNone\u001b[0m, \u001b[38;5;34m128\u001b[0m)            │             \u001b[38;5;34m0\u001b[0m │\n",
              "├─────────────────────────────────┼────────────────────────┼───────────────┤\n",
              "│ dense_28 (\u001b[38;5;33mDense\u001b[0m)                │ (\u001b[38;5;45mNone\u001b[0m, \u001b[38;5;34m64\u001b[0m)             │         \u001b[38;5;34m8,256\u001b[0m │\n",
              "├─────────────────────────────────┼────────────────────────┼───────────────┤\n",
              "│ dense_29 (\u001b[38;5;33mDense\u001b[0m)                │ (\u001b[38;5;45mNone\u001b[0m, \u001b[38;5;34m10\u001b[0m)             │           \u001b[38;5;34m650\u001b[0m │\n",
              "└─────────────────────────────────┴────────────────────────┴───────────────┘\n"
            ]
          },
          "metadata": {},
          "output_type": "display_data"
        },
        {
          "data": {
            "text/html": [
              "<pre style=\"white-space:pre;overflow-x:auto;line-height:normal;font-family:Menlo,'DejaVu Sans Mono',consolas,'Courier New',monospace\"><span style=\"font-weight: bold\"> Total params: </span><span style=\"color: #00af00; text-decoration-color: #00af00\">109,386</span> (427.29 KB)\n",
              "</pre>\n"
            ],
            "text/plain": [
              "\u001b[1m Total params: \u001b[0m\u001b[38;5;34m109,386\u001b[0m (427.29 KB)\n"
            ]
          },
          "metadata": {},
          "output_type": "display_data"
        },
        {
          "data": {
            "text/html": [
              "<pre style=\"white-space:pre;overflow-x:auto;line-height:normal;font-family:Menlo,'DejaVu Sans Mono',consolas,'Courier New',monospace\"><span style=\"font-weight: bold\"> Trainable params: </span><span style=\"color: #00af00; text-decoration-color: #00af00\">109,386</span> (427.29 KB)\n",
              "</pre>\n"
            ],
            "text/plain": [
              "\u001b[1m Trainable params: \u001b[0m\u001b[38;5;34m109,386\u001b[0m (427.29 KB)\n"
            ]
          },
          "metadata": {},
          "output_type": "display_data"
        },
        {
          "data": {
            "text/html": [
              "<pre style=\"white-space:pre;overflow-x:auto;line-height:normal;font-family:Menlo,'DejaVu Sans Mono',consolas,'Courier New',monospace\"><span style=\"font-weight: bold\"> Non-trainable params: </span><span style=\"color: #00af00; text-decoration-color: #00af00\">0</span> (0.00 B)\n",
              "</pre>\n"
            ],
            "text/plain": [
              "\u001b[1m Non-trainable params: \u001b[0m\u001b[38;5;34m0\u001b[0m (0.00 B)\n"
            ]
          },
          "metadata": {},
          "output_type": "display_data"
        },
        {
          "name": "stdout",
          "output_type": "stream",
          "text": [
            "Epoch 1/20\n",
            "\u001b[1m394/394\u001b[0m \u001b[32m━━━━━━━━━━━━━━━━━━━━\u001b[0m\u001b[37m\u001b[0m \u001b[1m4s\u001b[0m 7ms/step - accuracy: 0.7486 - loss: 0.8080 - val_accuracy: 0.9477 - val_loss: 0.1900\n",
            "Epoch 2/20\n",
            "\u001b[1m394/394\u001b[0m \u001b[32m━━━━━━━━━━━━━━━━━━━━\u001b[0m\u001b[37m\u001b[0m \u001b[1m4s\u001b[0m 5ms/step - accuracy: 0.9357 - loss: 0.2136 - val_accuracy: 0.9614 - val_loss: 0.1374\n",
            "Epoch 3/20\n",
            "\u001b[1m394/394\u001b[0m \u001b[32m━━━━━━━━━━━━━━━━━━━━\u001b[0m\u001b[37m\u001b[0m \u001b[1m3s\u001b[0m 5ms/step - accuracy: 0.9558 - loss: 0.1529 - val_accuracy: 0.9677 - val_loss: 0.1160\n",
            "Epoch 4/20\n",
            "\u001b[1m394/394\u001b[0m \u001b[32m━━━━━━━━━━━━━━━━━━━━\u001b[0m\u001b[37m\u001b[0m \u001b[1m3s\u001b[0m 5ms/step - accuracy: 0.9615 - loss: 0.1287 - val_accuracy: 0.9732 - val_loss: 0.0987\n",
            "Epoch 5/20\n",
            "\u001b[1m394/394\u001b[0m \u001b[32m━━━━━━━━━━━━━━━━━━━━\u001b[0m\u001b[37m\u001b[0m \u001b[1m3s\u001b[0m 7ms/step - accuracy: 0.9663 - loss: 0.1082 - val_accuracy: 0.9707 - val_loss: 0.1034\n",
            "Epoch 6/20\n",
            "\u001b[1m394/394\u001b[0m \u001b[32m━━━━━━━━━━━━━━━━━━━━\u001b[0m\u001b[37m\u001b[0m \u001b[1m3s\u001b[0m 7ms/step - accuracy: 0.9705 - loss: 0.0942 - val_accuracy: 0.9757 - val_loss: 0.0888\n",
            "Epoch 7/20\n",
            "\u001b[1m394/394\u001b[0m \u001b[32m━━━━━━━━━━━━━━━━━━━━\u001b[0m\u001b[37m\u001b[0m \u001b[1m2s\u001b[0m 5ms/step - accuracy: 0.9757 - loss: 0.0808 - val_accuracy: 0.9754 - val_loss: 0.0874\n",
            "Epoch 8/20\n",
            "\u001b[1m394/394\u001b[0m \u001b[32m━━━━━━━━━━━━━━━━━━━━\u001b[0m\u001b[37m\u001b[0m \u001b[1m2s\u001b[0m 6ms/step - accuracy: 0.9754 - loss: 0.0784 - val_accuracy: 0.9754 - val_loss: 0.0833\n",
            "Epoch 9/20\n",
            "\u001b[1m394/394\u001b[0m \u001b[32m━━━━━━━━━━━━━━━━━━━━\u001b[0m\u001b[37m\u001b[0m \u001b[1m3s\u001b[0m 6ms/step - accuracy: 0.9776 - loss: 0.0731 - val_accuracy: 0.9752 - val_loss: 0.0934\n",
            "Epoch 10/20\n",
            "\u001b[1m394/394\u001b[0m \u001b[32m━━━━━━━━━━━━━━━━━━━━\u001b[0m\u001b[37m\u001b[0m \u001b[1m3s\u001b[0m 7ms/step - accuracy: 0.9779 - loss: 0.0683 - val_accuracy: 0.9773 - val_loss: 0.0854\n",
            "Epoch 11/20\n",
            "\u001b[1m394/394\u001b[0m \u001b[32m━━━━━━━━━━━━━━━━━━━━\u001b[0m\u001b[37m\u001b[0m \u001b[1m5s\u001b[0m 6ms/step - accuracy: 0.9794 - loss: 0.0616 - val_accuracy: 0.9784 - val_loss: 0.0841\n",
            "Epoch 12/20\n",
            "\u001b[1m394/394\u001b[0m \u001b[32m━━━━━━━━━━━━━━━━━━━━\u001b[0m\u001b[37m\u001b[0m \u001b[1m3s\u001b[0m 6ms/step - accuracy: 0.9793 - loss: 0.0603 - val_accuracy: 0.9752 - val_loss: 0.0910\n",
            "Epoch 13/20\n",
            "\u001b[1m394/394\u001b[0m \u001b[32m━━━━━━━━━━━━━━━━━━━━\u001b[0m\u001b[37m\u001b[0m \u001b[1m2s\u001b[0m 6ms/step - accuracy: 0.9819 - loss: 0.0544 - val_accuracy: 0.9764 - val_loss: 0.0844\n",
            "Epoch 14/20\n",
            "\u001b[1m394/394\u001b[0m \u001b[32m━━━━━━━━━━━━━━━━━━━━\u001b[0m\u001b[37m\u001b[0m \u001b[1m3s\u001b[0m 8ms/step - accuracy: 0.9838 - loss: 0.0495 - val_accuracy: 0.9771 - val_loss: 0.0832\n",
            "Epoch 15/20\n",
            "\u001b[1m394/394\u001b[0m \u001b[32m━━━━━━━━━━━━━━━━━━━━\u001b[0m\u001b[37m\u001b[0m \u001b[1m3s\u001b[0m 7ms/step - accuracy: 0.9832 - loss: 0.0506 - val_accuracy: 0.9775 - val_loss: 0.0867\n",
            "Epoch 16/20\n",
            "\u001b[1m394/394\u001b[0m \u001b[32m━━━━━━━━━━━━━━━━━━━━\u001b[0m\u001b[37m\u001b[0m \u001b[1m5s\u001b[0m 6ms/step - accuracy: 0.9849 - loss: 0.0468 - val_accuracy: 0.9777 - val_loss: 0.0866\n",
            "Epoch 17/20\n",
            "\u001b[1m394/394\u001b[0m \u001b[32m━━━━━━━━━━━━━━━━━━━━\u001b[0m\u001b[37m\u001b[0m \u001b[1m2s\u001b[0m 6ms/step - accuracy: 0.9853 - loss: 0.0432 - val_accuracy: 0.9787 - val_loss: 0.0851\n",
            "Epoch 18/20\n",
            "\u001b[1m394/394\u001b[0m \u001b[32m━━━━━━━━━━━━━━━━━━━━\u001b[0m\u001b[37m\u001b[0m \u001b[1m3s\u001b[0m 9ms/step - accuracy: 0.9846 - loss: 0.0438 - val_accuracy: 0.9782 - val_loss: 0.0875\n",
            "Epoch 19/20\n",
            "\u001b[1m394/394\u001b[0m \u001b[32m━━━━━━━━━━━━━━━━━━━━\u001b[0m\u001b[37m\u001b[0m \u001b[1m2s\u001b[0m 6ms/step - accuracy: 0.9860 - loss: 0.0403 - val_accuracy: 0.9784 - val_loss: 0.0923\n",
            "Epoch 20/20\n",
            "\u001b[1m394/394\u001b[0m \u001b[32m━━━━━━━━━━━━━━━━━━━━\u001b[0m\u001b[37m\u001b[0m \u001b[1m3s\u001b[0m 6ms/step - accuracy: 0.9859 - loss: 0.0417 - val_accuracy: 0.9771 - val_loss: 0.0984\n",
            "\u001b[1m438/438\u001b[0m \u001b[32m━━━━━━━━━━━━━━━━━━━━\u001b[0m\u001b[37m\u001b[0m \u001b[1m1s\u001b[0m 2ms/step - accuracy: 0.9772 - loss: 0.0859\n",
            "\n",
            "Validation Accuracy per Epoch:\n",
            "Epoch 1: 0.9477\n",
            "Epoch 2: 0.9614\n",
            "Epoch 3: 0.9677\n",
            "Epoch 4: 0.9732\n",
            "Epoch 5: 0.9707\n",
            "Epoch 6: 0.9757\n",
            "Epoch 7: 0.9754\n",
            "Epoch 8: 0.9754\n",
            "Epoch 9: 0.9752\n",
            "Epoch 10: 0.9773\n",
            "Epoch 11: 0.9784\n",
            "Epoch 12: 0.9752\n",
            "Epoch 13: 0.9764\n",
            "Epoch 14: 0.9771\n",
            "Epoch 15: 0.9775\n",
            "Epoch 16: 0.9777\n",
            "Epoch 17: 0.9787\n",
            "Epoch 18: 0.9782\n",
            "Epoch 19: 0.9784\n",
            "Epoch 20: 0.9771\n",
            "\n",
            "Final ANN Test Accuracy: 0.9771\n",
            "\n",
            "Average Training Time per Epoch: 3.0236 seconds\n",
            "Test Time: 1.0879 seconds\n"
          ]
        }
      ],
      "source": [
        "X_ann = X / 255.0\n",
        "y_ann = to_categorical(y.astype(int), 10)\n",
        "\n",
        "X_train_ann, X_test_ann, y_train_ann, y_test_ann = train_test_split(X_ann, y_ann, test_size=0.2, random_state=50)\n",
        "\n",
        "for epochs in [5, 10, 15, 20]:\n",
        "    print(f\"\\nTraining model for {epochs} epochs...\")\n",
        "\n",
        "    ann_model = models.Sequential([\n",
        "        layers.Input(shape=(784,)),\n",
        "        layers.Dense(128, activation='relu'),\n",
        "        layers.Dropout(0.3),\n",
        "        layers.Dense(64, activation='relu'),\n",
        "        layers.Dense(10, activation='softmax')\n",
        "    ])\n",
        "\n",
        "    optimizer = tf.keras.optimizers.Adam(learning_rate=0.001)\n",
        "    ann_model.compile(optimizer=optimizer, loss='categorical_crossentropy', metrics=['accuracy'])\n",
        "    ann_model.summary()\n",
        "\n",
        "    start_train_time = time.time()\n",
        "    history = ann_model.fit(\n",
        "        X_train_ann, y_train_ann,\n",
        "        epochs=epochs,\n",
        "        batch_size=128,\n",
        "        validation_split=0.1,\n",
        "        verbose=1\n",
        "    )\n",
        "    end_train_time = time.time()\n",
        "\n",
        "    start_test_time = time.time()\n",
        "    ann_loss, ann_acc = ann_model.evaluate(X_test_ann, y_test_ann)\n",
        "    end_test_time = time.time()\n",
        "\n",
        "    print(\"\\nValidation Accuracy per Epoch:\")\n",
        "    for i in range(len(history.history['val_accuracy'])):\n",
        "        print(f\"Epoch {i+1}: {history.history['val_accuracy'][i]:.4f}\")\n",
        "\n",
        "    print(f\"\\nFinal ANN Test Accuracy: {ann_acc:.4f}\")\n",
        "\n",
        "    # Calculate average training time per epoch\n",
        "    avg_train_time = (end_train_time - start_train_time) / epochs\n",
        "    avg_test_time = (end_test_time - start_test_time)\n",
        "    print(f\"\\nAverage Training Time per Epoch: {avg_train_time:.4f} seconds\")\n",
        "    print(f\"Test Time: {avg_test_time:.4f} seconds\")"
      ]
    },
    {
      "cell_type": "markdown",
      "metadata": {
        "id": "nZPmUeSflKfV"
      },
      "source": [
        "**Key Results**:\n",
        "- **5 Epochs**: 97.19% Accuracy | 4.8261s Train Time/Epoch | 2.7354s Test Time\n",
        "- **10 Epochs**: 97.37% Accuracy | 4.4655s Train Time/Epoch | 2.0763s Test Time\n",
        "- **15 Epochs**: 97.68% Accuracy | 5.3001s Train Time/Epoch | 2.0949s Test Time\n",
        "- **20 Epochs**: 97.74% Accuracy | 4.3112s Train Time/Epoch | 1.4609s Test Time\n",
        "\n",
        "**Best Model**:\n",
        "- **20 Epochs**: While the improvement in accuracy is marginal (from 97.68% to 97.74%), this model provides the best result with **slightly higher accuracy**.\n",
        "- **Reason**: 20 epochs offers the best balance, as accuracy improvement becomes minimal after this point and low in avg time per epoch.\n",
        "\n",
        "---\n",
        "\n",
        "**Observations**:\n",
        "- Accuracy improves as the number of epochs increases, but the gains diminish after 10 epochs.\n",
        "- The best model choice should depend on balancing **accuracy** and **training time**. While 20 epochs gives the highest accuracy, and good time."
      ]
    },
    {
      "cell_type": "code",
      "execution_count": null,
      "metadata": {
        "colab": {
          "base_uri": "https://localhost:8080/"
        },
        "id": "CKM6cDnZhlbU",
        "outputId": "81a8ddc3-5a29-45a9-8095-cce38f11364d"
      },
      "outputs": [
        {
          "name": "stdout",
          "output_type": "stream",
          "text": [
            "\n",
            "--- Model Summary ---\n",
            "Number of Parameters: 109386\n",
            "Layers:\n",
            "- Dense: Activation = relu\n",
            "- Dropout: Activation = N/A\n",
            "- Dense: Activation = relu\n",
            "- Dense: Activation = softmax\n",
            "Optimizer: Adam\n",
            "Learning Rate: 0.0010000000474974513\n",
            "Dropout used after first Dense layer with rate = 0.3\n"
          ]
        }
      ],
      "source": [
        "print(\"\\n--- Model Summary ---\")\n",
        "print(f\"Number of Parameters: {ann_model.count_params()}\")\n",
        "print(f\"Layers:\")\n",
        "for layer in ann_model.layers:\n",
        "    print(f\"- {layer.__class__.__name__}: Activation = {layer.activation.__name__ if hasattr(layer, 'activation') else 'N/A'}\")\n",
        "print(f\"Optimizer: Adam\")\n",
        "print(f\"Learning Rate: {optimizer.learning_rate.numpy()}\")\n",
        "print(f\"Dropout used after first Dense layer with rate = 0.3\")"
      ]
    },
    {
      "cell_type": "code",
      "execution_count": null,
      "metadata": {
        "colab": {
          "base_uri": "https://localhost:8080/"
        },
        "id": "m1FjTLXqCH5s",
        "outputId": "4c083f27-5bd8-4814-8a04-6d62f5abd13e"
      },
      "outputs": [
        {
          "name": "stdout",
          "output_type": "stream",
          "text": [
            "\n",
            "SVM Test Accuracy: 0.8993\n"
          ]
        }
      ],
      "source": [
        "X_svm, _, y_svm, _ = train_test_split(X, y, train_size=7000, stratify=y, random_state=42)\n",
        "X_train_svm, X_test_svm, y_train_svm, y_test_svm = train_test_split(X_svm, y_svm, test_size=0.2, random_state=42)\n",
        "\n",
        "svm_model = SVC(kernel='linear')\n",
        "svm_model.fit(X_train_svm, y_train_svm)\n",
        "\n",
        "y_pred_svm = svm_model.predict(X_test_svm)\n",
        "svm_acc = accuracy_score(y_test_svm, y_pred_svm)\n",
        "print(f\"\\nSVM Test Accuracy: {svm_acc:.4f}\")"
      ]
    },
    {
      "cell_type": "markdown",
      "metadata": {
        "id": "vWoa58OJiZ0h"
      },
      "source": [
        "##2. Initializing CNN model"
      ]
    },
    {
      "cell_type": "code",
      "execution_count": 8,
      "metadata": {
        "id": "7gbt_F6Vi3a8"
      },
      "outputs": [],
      "source": [
        "X_train, X_test, y_train, y_test = train_test_split(X_images, y, test_size=0.3, random_state=42)\n",
        "X_test, X_val, y_test, y_val = train_test_split(X_test, y_test, test_size=0.5, random_state=42)"
      ]
    },
    {
      "cell_type": "code",
      "execution_count": 9,
      "metadata": {
        "colab": {
          "base_uri": "https://localhost:8080/"
        },
        "id": "3Uljb32eKpjb",
        "outputId": "a15b35a0-6b00-4b30-9792-7ed225033da3"
      },
      "outputs": [
        {
          "output_type": "execute_result",
          "data": {
            "text/plain": [
              "((49000, 28, 28),\n",
              " (10500, 28, 28),\n",
              " (10500, 28, 28),\n",
              " (49000,),\n",
              " (10500,),\n",
              " (10500,))"
            ]
          },
          "metadata": {},
          "execution_count": 9
        }
      ],
      "source": [
        "X_train.shape, X_test.shape, X_val.shape, y_train.shape, y_test.shape, y_val.shape"
      ]
    },
    {
      "cell_type": "code",
      "execution_count": 10,
      "metadata": {
        "id": "Akr1vVLkMEuD"
      },
      "outputs": [],
      "source": [
        "X_train = X_train.reshape(-1, 28, 28, 1)\n",
        "X_test = X_test.reshape(-1, 28, 28, 1)\n",
        "X_val = X_val.reshape(-1, 28, 28, 1)"
      ]
    },
    {
      "cell_type": "code",
      "execution_count": 11,
      "metadata": {
        "id": "UkJ3pIxmkzv5"
      },
      "outputs": [],
      "source": [
        "X_train = X_train.astype('float32')\n",
        "X_test = X_test.astype('float32')\n",
        "X_val = X_val.astype('float32')\n",
        "\n",
        "y_train = to_categorical(y_train.astype(int), 10)\n",
        "y_test = to_categorical(y_test.astype(int), 10)\n",
        "y_val = to_categorical(y_val.astype(int), 10)\n",
        "mean = X_train.mean(axis=0)\n",
        "std = X_train.std(axis=0)\n",
        "X_train = (X_train - mean) / (std + 1e-7)\n",
        "X_test = (X_test - mean) / (std + 1e-7)\n",
        "X_val = (X_val - mean) / (std + 1e-7)"
      ]
    },
    {
      "cell_type": "code",
      "execution_count": null,
      "metadata": {
        "id": "qALQgnXtx24i"
      },
      "outputs": [],
      "source": [
        "def build_cnn_model1():\n",
        "  cnn_model = Sequential([\n",
        "      layers.Input(shape=X_train.shape[1:]),\n",
        "\n",
        "      layers.Conv2D(32, (3, 3), activation='relu', padding='same'),\n",
        "      layers.MaxPooling2D(),\n",
        "\n",
        "      layers.Conv2D(64, (3, 3), activation='relu', padding='same'),\n",
        "      layers.MaxPooling2D(),\n",
        "\n",
        "      layers.Flatten(),\n",
        "      layers.Dense(128, activation='relu'),\n",
        "      layers.Dense(10, activation='softmax')\n",
        "\n",
        "  ])\n",
        "  return cnn_model"
      ]
    },
    {
      "cell_type": "markdown",
      "metadata": {
        "id": "mvCw-GDgyuw1"
      },
      "source": [
        "##3. Trying diffrant Number of epochs"
      ]
    },
    {
      "cell_type": "code",
      "execution_count": null,
      "metadata": {
        "id": "pM--xWVJ6aJz"
      },
      "outputs": [],
      "source": [
        "def print_results(model, history, avg_train_time, test_time):\n",
        "  print(\"\\n--- Model Summary ---\")\n",
        "\n",
        "  for i in range(5):\n",
        "      print(f\"Epoch {i+1}, Training Accuracy:{history.history['accuracy'][i]:.4f}, Validation Accuracy: {history.history['val_accuracy'][i]:.4f}\")\n",
        "\n",
        "  print(f\"\\nfinal Training Accuracy: {history.history['accuracy'][-1]:.4f}\")\n",
        "  print(f\"final Validation Accuracy: {history.history['val_accuracy'][-1]:.4f}\")\n",
        "  print(f\"final Test Accuracy: {cnn_acc:.4f}\")\n",
        "\n",
        "  print(f\"\\nNumber of Parameters: {model.count_params()}\")\n",
        "  print(f\"Test Time: {test_time:.4f} seconds\")\n",
        "\n",
        "  print(f\"\\nLayers:\")\n",
        "  for layer in model.layers:\n",
        "      print(f\"- {layer.__class__.__name__}: Activation = {layer.activation.__name__ if hasattr(layer, 'activation') else 'N/A'}\")\n",
        "  print(f\"\\nOptimizer: {cnn_model.optimizer.__class__.__name__}, Learning Rate: {optimizer.learning_rate.numpy():.4f}, Momentum: {optimizer.momentum}\")"
      ]
    },
    {
      "cell_type": "code",
      "execution_count": null,
      "metadata": {
        "colab": {
          "base_uri": "https://localhost:8080/"
        },
        "id": "PHlW_WX8yuCY",
        "outputId": "6ed87962-bb89-4c14-9746-54bae744755c"
      },
      "outputs": [
        {
          "name": "stdout",
          "output_type": "stream",
          "text": [
            "\n",
            "Training the model for 5 epochs...\n",
            "Epoch 1/5\n",
            "\u001b[1m766/766\u001b[0m \u001b[32m━━━━━━━━━━━━━━━━━━━━\u001b[0m\u001b[37m\u001b[0m \u001b[1m70s\u001b[0m 86ms/step - accuracy: 0.8389 - loss: 0.5354 - val_accuracy: 0.9710 - val_loss: 557.3416\n",
            "Epoch 2/5\n",
            "\u001b[1m766/766\u001b[0m \u001b[32m━━━━━━━━━━━━━━━━━━━━\u001b[0m\u001b[37m\u001b[0m \u001b[1m75s\u001b[0m 77ms/step - accuracy: 0.9812 - loss: 0.0636 - val_accuracy: 0.9815 - val_loss: 1271.8934\n",
            "Epoch 3/5\n",
            "\u001b[1m766/766\u001b[0m \u001b[32m━━━━━━━━━━━━━━━━━━━━\u001b[0m\u001b[37m\u001b[0m \u001b[1m55s\u001b[0m 72ms/step - accuracy: 0.9877 - loss: 0.0393 - val_accuracy: 0.9826 - val_loss: 994.5699\n",
            "Epoch 4/5\n",
            "\u001b[1m766/766\u001b[0m \u001b[32m━━━━━━━━━━━━━━━━━━━━\u001b[0m\u001b[37m\u001b[0m \u001b[1m86s\u001b[0m 78ms/step - accuracy: 0.9910 - loss: 0.0280 - val_accuracy: 0.9851 - val_loss: 2116.4856\n",
            "Epoch 5/5\n",
            "\u001b[1m766/766\u001b[0m \u001b[32m━━━━━━━━━━━━━━━━━━━━\u001b[0m\u001b[37m\u001b[0m \u001b[1m77s\u001b[0m 72ms/step - accuracy: 0.9923 - loss: 0.0234 - val_accuracy: 0.9865 - val_loss: 2921.0134\n",
            "\u001b[1m329/329\u001b[0m \u001b[32m━━━━━━━━━━━━━━━━━━━━\u001b[0m\u001b[37m\u001b[0m \u001b[1m5s\u001b[0m 15ms/step - accuracy: 0.9870 - loss: 3990.6052\n",
            "\n",
            "--- Model Summary ---\n",
            "Epoch 1, Training Accuracy:0.9315, Validation Accuracy: 0.9710\n",
            "Epoch 2, Training Accuracy:0.9819, Validation Accuracy: 0.9815\n",
            "Epoch 3, Training Accuracy:0.9881, Validation Accuracy: 0.9826\n",
            "Epoch 4, Training Accuracy:0.9905, Validation Accuracy: 0.9851\n",
            "Epoch 5, Training Accuracy:0.9921, Validation Accuracy: 0.9865\n",
            "\n",
            "final Training Accuracy: 0.9921\n",
            "final Validation Accuracy: 0.9865\n",
            "final Test Accuracy: 0.9878\n",
            "\n",
            "Number of Parameters: 421642\n",
            "Test Time: 5.2059 seconds\n",
            "\n",
            "Layers:\n",
            "- Conv2D: Activation = relu\n",
            "- MaxPooling2D: Activation = N/A\n",
            "- Conv2D: Activation = relu\n",
            "- MaxPooling2D: Activation = N/A\n",
            "- Flatten: Activation = N/A\n",
            "- Dense: Activation = relu\n",
            "- Dense: Activation = softmax\n",
            "\n",
            "Optimizer: SGD, Learning Rate: 0.0100, Momentum: 0.9\n",
            "\n",
            "Training the model for 7 epochs...\n",
            "Epoch 1/7\n",
            "\u001b[1m766/766\u001b[0m \u001b[32m━━━━━━━━━━━━━━━━━━━━\u001b[0m\u001b[37m\u001b[0m \u001b[1m61s\u001b[0m 78ms/step - accuracy: 0.8442 - loss: 0.5149 - val_accuracy: 0.9760 - val_loss: 1575.6129\n",
            "Epoch 2/7\n",
            "\u001b[1m766/766\u001b[0m \u001b[32m━━━━━━━━━━━━━━━━━━━━\u001b[0m\u001b[37m\u001b[0m \u001b[1m78s\u001b[0m 73ms/step - accuracy: 0.9807 - loss: 0.0606 - val_accuracy: 0.9793 - val_loss: 3684.1909\n",
            "Epoch 3/7\n",
            "\u001b[1m766/766\u001b[0m \u001b[32m━━━━━━━━━━━━━━━━━━━━\u001b[0m\u001b[37m\u001b[0m \u001b[1m85s\u001b[0m 77ms/step - accuracy: 0.9869 - loss: 0.0402 - val_accuracy: 0.9821 - val_loss: 1890.6010\n",
            "Epoch 4/7\n",
            "\u001b[1m766/766\u001b[0m \u001b[32m━━━━━━━━━━━━━━━━━━━━\u001b[0m\u001b[37m\u001b[0m \u001b[1m81s\u001b[0m 76ms/step - accuracy: 0.9893 - loss: 0.0328 - val_accuracy: 0.9865 - val_loss: 1355.1681\n",
            "Epoch 5/7\n",
            "\u001b[1m766/766\u001b[0m \u001b[32m━━━━━━━━━━━━━━━━━━━━\u001b[0m\u001b[37m\u001b[0m \u001b[1m57s\u001b[0m 75ms/step - accuracy: 0.9930 - loss: 0.0208 - val_accuracy: 0.9871 - val_loss: 1140.8055\n",
            "Epoch 6/7\n",
            "\u001b[1m766/766\u001b[0m \u001b[32m━━━━━━━━━━━━━━━━━━━━\u001b[0m\u001b[37m\u001b[0m \u001b[1m56s\u001b[0m 72ms/step - accuracy: 0.9956 - loss: 0.0143 - val_accuracy: 0.9872 - val_loss: 1202.2947\n",
            "Epoch 7/7\n",
            "\u001b[1m766/766\u001b[0m \u001b[32m━━━━━━━━━━━━━━━━━━━━\u001b[0m\u001b[37m\u001b[0m \u001b[1m84s\u001b[0m 75ms/step - accuracy: 0.9954 - loss: 0.0147 - val_accuracy: 0.9855 - val_loss: 1257.7678\n",
            "\u001b[1m329/329\u001b[0m \u001b[32m━━━━━━━━━━━━━━━━━━━━\u001b[0m\u001b[37m\u001b[0m \u001b[1m4s\u001b[0m 11ms/step - accuracy: 0.9842 - loss: 6963.6240\n",
            "\n",
            "--- Model Summary ---\n",
            "Epoch 1, Training Accuracy:0.9334, Validation Accuracy: 0.9760\n",
            "Epoch 2, Training Accuracy:0.9816, Validation Accuracy: 0.9793\n",
            "Epoch 3, Training Accuracy:0.9877, Validation Accuracy: 0.9821\n",
            "Epoch 4, Training Accuracy:0.9907, Validation Accuracy: 0.9865\n",
            "Epoch 5, Training Accuracy:0.9928, Validation Accuracy: 0.9871\n",
            "\n",
            "final Training Accuracy: 0.9952\n",
            "final Validation Accuracy: 0.9855\n",
            "final Test Accuracy: 0.9861\n",
            "\n",
            "Number of Parameters: 421642\n",
            "Test Time: 5.1983 seconds\n",
            "\n",
            "Layers:\n",
            "- Conv2D: Activation = relu\n",
            "- MaxPooling2D: Activation = N/A\n",
            "- Conv2D: Activation = relu\n",
            "- MaxPooling2D: Activation = N/A\n",
            "- Flatten: Activation = N/A\n",
            "- Dense: Activation = relu\n",
            "- Dense: Activation = softmax\n",
            "\n",
            "Optimizer: SGD, Learning Rate: 0.0100, Momentum: 0.9\n",
            "\n",
            "Training the model for 10 epochs...\n",
            "Epoch 1/10\n",
            "\u001b[1m766/766\u001b[0m \u001b[32m━━━━━━━━━━━━━━━━━━━━\u001b[0m\u001b[37m\u001b[0m \u001b[1m61s\u001b[0m 78ms/step - accuracy: 0.8357 - loss: 0.5515 - val_accuracy: 0.9707 - val_loss: 2214.5464\n",
            "Epoch 2/10\n",
            "\u001b[1m766/766\u001b[0m \u001b[32m━━━━━━━━━━━━━━━━━━━━\u001b[0m\u001b[37m\u001b[0m \u001b[1m58s\u001b[0m 76ms/step - accuracy: 0.9806 - loss: 0.0613 - val_accuracy: 0.9811 - val_loss: 4336.1982\n",
            "Epoch 3/10\n",
            "\u001b[1m766/766\u001b[0m \u001b[32m━━━━━━━━━━━━━━━━━━━━\u001b[0m\u001b[37m\u001b[0m \u001b[1m83s\u001b[0m 78ms/step - accuracy: 0.9869 - loss: 0.0416 - val_accuracy: 0.9833 - val_loss: 1009.5202\n",
            "Epoch 4/10\n",
            "\u001b[1m766/766\u001b[0m \u001b[32m━━━━━━━━━━━━━━━━━━━━\u001b[0m\u001b[37m\u001b[0m \u001b[1m81s\u001b[0m 76ms/step - accuracy: 0.9917 - loss: 0.0252 - val_accuracy: 0.9869 - val_loss: 491.5030\n",
            "Epoch 5/10\n",
            "\u001b[1m766/766\u001b[0m \u001b[32m━━━━━━━━━━━━━━━━━━━━\u001b[0m\u001b[37m\u001b[0m \u001b[1m81s\u001b[0m 74ms/step - accuracy: 0.9935 - loss: 0.0191 - val_accuracy: 0.9857 - val_loss: 1533.3180\n",
            "Epoch 6/10\n",
            "\u001b[1m766/766\u001b[0m \u001b[32m━━━━━━━━━━━━━━━━━━━━\u001b[0m\u001b[37m\u001b[0m \u001b[1m58s\u001b[0m 76ms/step - accuracy: 0.9954 - loss: 0.0144 - val_accuracy: 0.9852 - val_loss: 2315.0166\n",
            "Epoch 7/10\n",
            "\u001b[1m766/766\u001b[0m \u001b[32m━━━━━━━━━━━━━━━━━━━━\u001b[0m\u001b[37m\u001b[0m \u001b[1m83s\u001b[0m 77ms/step - accuracy: 0.9968 - loss: 0.0121 - val_accuracy: 0.9870 - val_loss: 925.1949\n",
            "Epoch 8/10\n",
            "\u001b[1m766/766\u001b[0m \u001b[32m━━━━━━━━━━━━━━━━━━━━\u001b[0m\u001b[37m\u001b[0m \u001b[1m56s\u001b[0m 73ms/step - accuracy: 0.9962 - loss: 0.0124 - val_accuracy: 0.9891 - val_loss: 2031.1699\n",
            "Epoch 9/10\n",
            "\u001b[1m766/766\u001b[0m \u001b[32m━━━━━━━━━━━━━━━━━━━━\u001b[0m\u001b[37m\u001b[0m \u001b[1m57s\u001b[0m 74ms/step - accuracy: 0.9983 - loss: 0.0065 - val_accuracy: 0.9878 - val_loss: 4157.9624\n",
            "Epoch 10/10\n",
            "\u001b[1m766/766\u001b[0m \u001b[32m━━━━━━━━━━━━━━━━━━━━\u001b[0m\u001b[37m\u001b[0m \u001b[1m84s\u001b[0m 77ms/step - accuracy: 0.9985 - loss: 0.0049 - val_accuracy: 0.9889 - val_loss: 4479.1182\n",
            "\u001b[1m329/329\u001b[0m \u001b[32m━━━━━━━━━━━━━━━━━━━━\u001b[0m\u001b[37m\u001b[0m \u001b[1m5s\u001b[0m 14ms/step - accuracy: 0.9864 - loss: 6504.8105\n",
            "\n",
            "--- Model Summary ---\n",
            "Epoch 1, Training Accuracy:0.9296, Validation Accuracy: 0.9707\n",
            "Epoch 2, Training Accuracy:0.9817, Validation Accuracy: 0.9811\n",
            "Epoch 3, Training Accuracy:0.9872, Validation Accuracy: 0.9833\n",
            "Epoch 4, Training Accuracy:0.9908, Validation Accuracy: 0.9869\n",
            "Epoch 5, Training Accuracy:0.9932, Validation Accuracy: 0.9857\n",
            "\n",
            "final Training Accuracy: 0.9987\n",
            "final Validation Accuracy: 0.9889\n",
            "final Test Accuracy: 0.9891\n",
            "\n",
            "Number of Parameters: 421642\n",
            "Test Time: 5.2362 seconds\n",
            "\n",
            "Layers:\n",
            "- Conv2D: Activation = relu\n",
            "- MaxPooling2D: Activation = N/A\n",
            "- Conv2D: Activation = relu\n",
            "- MaxPooling2D: Activation = N/A\n",
            "- Flatten: Activation = N/A\n",
            "- Dense: Activation = relu\n",
            "- Dense: Activation = softmax\n",
            "\n",
            "Optimizer: SGD, Learning Rate: 0.0100, Momentum: 0.9\n",
            "\n",
            "Training the model for 12 epochs...\n",
            "Epoch 1/12\n",
            "\u001b[1m766/766\u001b[0m \u001b[32m━━━━━━━━━━━━━━━━━━━━\u001b[0m\u001b[37m\u001b[0m \u001b[1m59s\u001b[0m 76ms/step - accuracy: 0.8488 - loss: 0.5085 - val_accuracy: 0.9714 - val_loss: 5779.1436\n",
            "Epoch 2/12\n",
            "\u001b[1m766/766\u001b[0m \u001b[32m━━━━━━━━━━━━━━━━━━━━\u001b[0m\u001b[37m\u001b[0m \u001b[1m80s\u001b[0m 74ms/step - accuracy: 0.9808 - loss: 0.0623 - val_accuracy: 0.9802 - val_loss: 1497.3429\n",
            "Epoch 3/12\n",
            "\u001b[1m766/766\u001b[0m \u001b[32m━━━━━━━━━━━━━━━━━━━━\u001b[0m\u001b[37m\u001b[0m \u001b[1m81s\u001b[0m 73ms/step - accuracy: 0.9878 - loss: 0.0402 - val_accuracy: 0.9825 - val_loss: 3139.8000\n",
            "Epoch 4/12\n",
            "\u001b[1m766/766\u001b[0m \u001b[32m━━━━━━━━━━━━━━━━━━━━\u001b[0m\u001b[37m\u001b[0m \u001b[1m85s\u001b[0m 77ms/step - accuracy: 0.9902 - loss: 0.0282 - val_accuracy: 0.9850 - val_loss: 1420.0054\n",
            "Epoch 5/12\n",
            "\u001b[1m766/766\u001b[0m \u001b[32m━━━━━━━━━━━━━━━━━━━━\u001b[0m\u001b[37m\u001b[0m \u001b[1m79s\u001b[0m 73ms/step - accuracy: 0.9933 - loss: 0.0226 - val_accuracy: 0.9865 - val_loss: 1874.7438\n",
            "Epoch 6/12\n",
            "\u001b[1m766/766\u001b[0m \u001b[32m━━━━━━━━━━━━━━━━━━━━\u001b[0m\u001b[37m\u001b[0m \u001b[1m83s\u001b[0m 74ms/step - accuracy: 0.9960 - loss: 0.0140 - val_accuracy: 0.9859 - val_loss: 2050.1448\n",
            "Epoch 7/12\n",
            "\u001b[1m766/766\u001b[0m \u001b[32m━━━━━━━━━━━━━━━━━━━━\u001b[0m\u001b[37m\u001b[0m \u001b[1m58s\u001b[0m 76ms/step - accuracy: 0.9971 - loss: 0.0114 - val_accuracy: 0.9871 - val_loss: 2822.7446\n",
            "Epoch 8/12\n",
            "\u001b[1m766/766\u001b[0m \u001b[32m━━━━━━━━━━━━━━━━━━━━\u001b[0m\u001b[37m\u001b[0m \u001b[1m57s\u001b[0m 75ms/step - accuracy: 0.9971 - loss: 0.0090 - val_accuracy: 0.9870 - val_loss: 2775.3103\n",
            "Epoch 9/12\n",
            "\u001b[1m766/766\u001b[0m \u001b[32m━━━━━━━━━━━━━━━━━━━━\u001b[0m\u001b[37m\u001b[0m \u001b[1m83s\u001b[0m 76ms/step - accuracy: 0.9985 - loss: 0.0061 - val_accuracy: 0.9885 - val_loss: 2821.8193\n",
            "Epoch 10/12\n",
            "\u001b[1m766/766\u001b[0m \u001b[32m━━━━━━━━━━━━━━━━━━━━\u001b[0m\u001b[37m\u001b[0m \u001b[1m83s\u001b[0m 77ms/step - accuracy: 0.9985 - loss: 0.0055 - val_accuracy: 0.9877 - val_loss: 4071.1611\n",
            "Epoch 11/12\n",
            "\u001b[1m766/766\u001b[0m \u001b[32m━━━━━━━━━━━━━━━━━━━━\u001b[0m\u001b[37m\u001b[0m \u001b[1m81s\u001b[0m 76ms/step - accuracy: 0.9982 - loss: 0.0064 - val_accuracy: 0.9864 - val_loss: 5169.7612\n",
            "Epoch 12/12\n",
            "\u001b[1m766/766\u001b[0m \u001b[32m━━━━━━━━━━━━━━━━━━━━\u001b[0m\u001b[37m\u001b[0m \u001b[1m57s\u001b[0m 74ms/step - accuracy: 0.9993 - loss: 0.0030 - val_accuracy: 0.9884 - val_loss: 5392.9800\n",
            "\u001b[1m329/329\u001b[0m \u001b[32m━━━━━━━━━━━━━━━━━━━━\u001b[0m\u001b[37m\u001b[0m \u001b[1m4s\u001b[0m 12ms/step - accuracy: 0.9863 - loss: 5541.4907\n",
            "\n",
            "--- Model Summary ---\n",
            "Epoch 1, Training Accuracy:0.9340, Validation Accuracy: 0.9714\n",
            "Epoch 2, Training Accuracy:0.9822, Validation Accuracy: 0.9802\n",
            "Epoch 3, Training Accuracy:0.9878, Validation Accuracy: 0.9825\n",
            "Epoch 4, Training Accuracy:0.9901, Validation Accuracy: 0.9850\n",
            "Epoch 5, Training Accuracy:0.9933, Validation Accuracy: 0.9865\n",
            "\n",
            "final Training Accuracy: 0.9992\n",
            "final Validation Accuracy: 0.9884\n",
            "final Test Accuracy: 0.9886\n",
            "\n",
            "Number of Parameters: 421642\n",
            "Test Time: 5.2626 seconds\n",
            "\n",
            "Layers:\n",
            "- Conv2D: Activation = relu\n",
            "- MaxPooling2D: Activation = N/A\n",
            "- Conv2D: Activation = relu\n",
            "- MaxPooling2D: Activation = N/A\n",
            "- Flatten: Activation = N/A\n",
            "- Dense: Activation = relu\n",
            "- Dense: Activation = softmax\n",
            "\n",
            "Optimizer: SGD, Learning Rate: 0.0100, Momentum: 0.9\n",
            "\n",
            "Training the model for 15 epochs...\n",
            "Epoch 1/15\n",
            "\u001b[1m766/766\u001b[0m \u001b[32m━━━━━━━━━━━━━━━━━━━━\u001b[0m\u001b[37m\u001b[0m \u001b[1m60s\u001b[0m 76ms/step - accuracy: 0.8369 - loss: 0.5366 - val_accuracy: 0.9717 - val_loss: 213.6301\n",
            "Epoch 2/15\n",
            "\u001b[1m766/766\u001b[0m \u001b[32m━━━━━━━━━━━━━━━━━━━━\u001b[0m\u001b[37m\u001b[0m \u001b[1m60s\u001b[0m 78ms/step - accuracy: 0.9818 - loss: 0.0629 - val_accuracy: 0.9803 - val_loss: 969.9361\n",
            "Epoch 3/15\n",
            "\u001b[1m766/766\u001b[0m \u001b[32m━━━━━━━━━━━━━━━━━━━━\u001b[0m\u001b[37m\u001b[0m \u001b[1m80s\u001b[0m 76ms/step - accuracy: 0.9873 - loss: 0.0398 - val_accuracy: 0.9842 - val_loss: 1387.4703\n",
            "Epoch 4/15\n",
            "\u001b[1m766/766\u001b[0m \u001b[32m━━━━━━━━━━━━━━━━━━━━\u001b[0m\u001b[37m\u001b[0m \u001b[1m57s\u001b[0m 75ms/step - accuracy: 0.9917 - loss: 0.0279 - val_accuracy: 0.9868 - val_loss: 311.4579\n",
            "Epoch 5/15\n",
            "\u001b[1m766/766\u001b[0m \u001b[32m━━━━━━━━━━━━━━━━━━━━\u001b[0m\u001b[37m\u001b[0m \u001b[1m82s\u001b[0m 74ms/step - accuracy: 0.9942 - loss: 0.0191 - val_accuracy: 0.9847 - val_loss: 970.9592\n",
            "Epoch 6/15\n",
            "\u001b[1m766/766\u001b[0m \u001b[32m━━━━━━━━━━━━━━━━━━━━\u001b[0m\u001b[37m\u001b[0m \u001b[1m82s\u001b[0m 75ms/step - accuracy: 0.9956 - loss: 0.0145 - val_accuracy: 0.9859 - val_loss: 1113.4524\n",
            "Epoch 7/15\n",
            "\u001b[1m766/766\u001b[0m \u001b[32m━━━━━━━━━━━━━━━━━━━━\u001b[0m\u001b[37m\u001b[0m \u001b[1m83s\u001b[0m 76ms/step - accuracy: 0.9966 - loss: 0.0114 - val_accuracy: 0.9867 - val_loss: 397.2240\n",
            "Epoch 8/15\n",
            "\u001b[1m766/766\u001b[0m \u001b[32m━━━━━━━━━━━━━━━━━━━━\u001b[0m\u001b[37m\u001b[0m \u001b[1m81s\u001b[0m 75ms/step - accuracy: 0.9974 - loss: 0.0084 - val_accuracy: 0.9856 - val_loss: 706.0784\n",
            "Epoch 9/15\n",
            "\u001b[1m766/766\u001b[0m \u001b[32m━━━━━━━━━━━━━━━━━━━━\u001b[0m\u001b[37m\u001b[0m \u001b[1m83s\u001b[0m 76ms/step - accuracy: 0.9982 - loss: 0.0063 - val_accuracy: 0.9881 - val_loss: 854.6064\n",
            "Epoch 10/15\n",
            "\u001b[1m766/766\u001b[0m \u001b[32m━━━━━━━━━━━━━━━━━━━━\u001b[0m\u001b[37m\u001b[0m \u001b[1m83s\u001b[0m 78ms/step - accuracy: 0.9990 - loss: 0.0036 - val_accuracy: 0.9878 - val_loss: 812.4637\n",
            "Epoch 11/15\n",
            "\u001b[1m766/766\u001b[0m \u001b[32m━━━━━━━━━━━━━━━━━━━━\u001b[0m\u001b[37m\u001b[0m \u001b[1m81s\u001b[0m 76ms/step - accuracy: 0.9988 - loss: 0.0050 - val_accuracy: 0.9892 - val_loss: 1948.6152\n",
            "Epoch 12/15\n",
            "\u001b[1m766/766\u001b[0m \u001b[32m━━━━━━━━━━━━━━━━━━━━\u001b[0m\u001b[37m\u001b[0m \u001b[1m83s\u001b[0m 78ms/step - accuracy: 0.9993 - loss: 0.0028 - val_accuracy: 0.9875 - val_loss: 1293.6930\n",
            "Epoch 13/15\n",
            "\u001b[1m766/766\u001b[0m \u001b[32m━━━━━━━━━━━━━━━━━━━━\u001b[0m\u001b[37m\u001b[0m \u001b[1m81s\u001b[0m 76ms/step - accuracy: 0.9996 - loss: 0.0020 - val_accuracy: 0.9891 - val_loss: 864.9104\n",
            "Epoch 14/15\n",
            "\u001b[1m766/766\u001b[0m \u001b[32m━━━━━━━━━━━━━━━━━━━━\u001b[0m\u001b[37m\u001b[0m \u001b[1m82s\u001b[0m 77ms/step - accuracy: 1.0000 - loss: 8.0747e-04 - val_accuracy: 0.9889 - val_loss: 909.4698\n",
            "Epoch 15/15\n",
            "\u001b[1m766/766\u001b[0m \u001b[32m━━━━━━━━━━━━━━━━━━━━\u001b[0m\u001b[37m\u001b[0m \u001b[1m80s\u001b[0m 75ms/step - accuracy: 1.0000 - loss: 6.3090e-04 - val_accuracy: 0.9893 - val_loss: 1160.5258\n",
            "\u001b[1m329/329\u001b[0m \u001b[32m━━━━━━━━━━━━━━━━━━━━\u001b[0m\u001b[37m\u001b[0m \u001b[1m4s\u001b[0m 11ms/step - accuracy: 0.9880 - loss: 8108.0820\n",
            "\n",
            "--- Model Summary ---\n",
            "Epoch 1, Training Accuracy:0.9294, Validation Accuracy: 0.9717\n",
            "Epoch 2, Training Accuracy:0.9826, Validation Accuracy: 0.9803\n",
            "Epoch 3, Training Accuracy:0.9880, Validation Accuracy: 0.9842\n",
            "Epoch 4, Training Accuracy:0.9910, Validation Accuracy: 0.9868\n",
            "Epoch 5, Training Accuracy:0.9942, Validation Accuracy: 0.9847\n",
            "\n",
            "final Training Accuracy: 0.9999\n",
            "final Validation Accuracy: 0.9893\n",
            "final Test Accuracy: 0.9897\n",
            "\n",
            "Number of Parameters: 421642\n",
            "Test Time: 5.1956 seconds\n",
            "\n",
            "Layers:\n",
            "- Conv2D: Activation = relu\n",
            "- MaxPooling2D: Activation = N/A\n",
            "- Conv2D: Activation = relu\n",
            "- MaxPooling2D: Activation = N/A\n",
            "- Flatten: Activation = N/A\n",
            "- Dense: Activation = relu\n",
            "- Dense: Activation = softmax\n",
            "\n",
            "Optimizer: SGD, Learning Rate: 0.0100, Momentum: 0.9\n",
            "\n",
            "Training the model for 18 epochs...\n",
            "Epoch 1/18\n",
            "\u001b[1m766/766\u001b[0m \u001b[32m━━━━━━━━━━━━━━━━━━━━\u001b[0m\u001b[37m\u001b[0m \u001b[1m60s\u001b[0m 77ms/step - accuracy: 0.8469 - loss: 0.5010 - val_accuracy: 0.9676 - val_loss: 9874.8750\n",
            "Epoch 2/18\n",
            "\u001b[1m766/766\u001b[0m \u001b[32m━━━━━━━━━━━━━━━━━━━━\u001b[0m\u001b[37m\u001b[0m \u001b[1m81s\u001b[0m 75ms/step - accuracy: 0.9798 - loss: 0.0674 - val_accuracy: 0.9804 - val_loss: 2104.3887\n",
            "Epoch 3/18\n",
            "\u001b[1m766/766\u001b[0m \u001b[32m━━━━━━━━━━━━━━━━━━━━\u001b[0m\u001b[37m\u001b[0m \u001b[1m83s\u001b[0m 77ms/step - accuracy: 0.9885 - loss: 0.0385 - val_accuracy: 0.9848 - val_loss: 2175.0730\n",
            "Epoch 4/18\n",
            "\u001b[1m766/766\u001b[0m \u001b[32m━━━━━━━━━━━━━━━━━━━━\u001b[0m\u001b[37m\u001b[0m \u001b[1m84s\u001b[0m 79ms/step - accuracy: 0.9924 - loss: 0.0251 - val_accuracy: 0.9849 - val_loss: 7649.0957\n",
            "Epoch 5/18\n",
            "\u001b[1m766/766\u001b[0m \u001b[32m━━━━━━━━━━━━━━━━━━━━\u001b[0m\u001b[37m\u001b[0m \u001b[1m59s\u001b[0m 77ms/step - accuracy: 0.9941 - loss: 0.0187 - val_accuracy: 0.9862 - val_loss: 2889.1653\n",
            "Epoch 6/18\n",
            "\u001b[1m766/766\u001b[0m \u001b[32m━━━━━━━━━━━━━━━━━━━━\u001b[0m\u001b[37m\u001b[0m \u001b[1m83s\u001b[0m 79ms/step - accuracy: 0.9941 - loss: 0.0168 - val_accuracy: 0.9850 - val_loss: 3403.4990\n",
            "Epoch 7/18\n",
            "\u001b[1m766/766\u001b[0m \u001b[32m━━━━━━━━━━━━━━━━━━━━\u001b[0m\u001b[37m\u001b[0m \u001b[1m81s\u001b[0m 78ms/step - accuracy: 0.9954 - loss: 0.0140 - val_accuracy: 0.9864 - val_loss: 2857.6218\n",
            "Epoch 8/18\n",
            "\u001b[1m766/766\u001b[0m \u001b[32m━━━━━━━━━━━━━━━━━━━━\u001b[0m\u001b[37m\u001b[0m \u001b[1m81s\u001b[0m 77ms/step - accuracy: 0.9972 - loss: 0.0091 - val_accuracy: 0.9877 - val_loss: 3129.3411\n",
            "Epoch 9/18\n",
            "\u001b[1m766/766\u001b[0m \u001b[32m━━━━━━━━━━━━━━━━━━━━\u001b[0m\u001b[37m\u001b[0m \u001b[1m82s\u001b[0m 77ms/step - accuracy: 0.9980 - loss: 0.0069 - val_accuracy: 0.9877 - val_loss: 5262.8740\n",
            "Epoch 10/18\n",
            "\u001b[1m766/766\u001b[0m \u001b[32m━━━━━━━━━━━━━━━━━━━━\u001b[0m\u001b[37m\u001b[0m \u001b[1m60s\u001b[0m 79ms/step - accuracy: 0.9986 - loss: 0.0048 - val_accuracy: 0.9869 - val_loss: 3197.0864\n",
            "Epoch 11/18\n",
            "\u001b[1m766/766\u001b[0m \u001b[32m━━━━━━━━━━━━━━━━━━━━\u001b[0m\u001b[37m\u001b[0m \u001b[1m82s\u001b[0m 79ms/step - accuracy: 0.9984 - loss: 0.0073 - val_accuracy: 0.9879 - val_loss: 3565.0828\n",
            "Epoch 12/18\n",
            "\u001b[1m766/766\u001b[0m \u001b[32m━━━━━━━━━━━━━━━━━━━━\u001b[0m\u001b[37m\u001b[0m \u001b[1m81s\u001b[0m 77ms/step - accuracy: 0.9986 - loss: 0.0058 - val_accuracy: 0.9879 - val_loss: 2612.8162\n",
            "Epoch 13/18\n",
            "\u001b[1m766/766\u001b[0m \u001b[32m━━━━━━━━━━━━━━━━━━━━\u001b[0m\u001b[37m\u001b[0m \u001b[1m81s\u001b[0m 77ms/step - accuracy: 0.9992 - loss: 0.0029 - val_accuracy: 0.9890 - val_loss: 2908.8308\n",
            "Epoch 14/18\n",
            "\u001b[1m766/766\u001b[0m \u001b[32m━━━━━━━━━━━━━━━━━━━━\u001b[0m\u001b[37m\u001b[0m \u001b[1m61s\u001b[0m 79ms/step - accuracy: 0.9995 - loss: 0.0019 - val_accuracy: 0.9886 - val_loss: 2948.8782\n",
            "Epoch 15/18\n",
            "\u001b[1m766/766\u001b[0m \u001b[32m━━━━━━━━━━━━━━━━━━━━\u001b[0m\u001b[37m\u001b[0m \u001b[1m78s\u001b[0m 74ms/step - accuracy: 1.0000 - loss: 6.3380e-04 - val_accuracy: 0.9885 - val_loss: 3239.7981\n",
            "Epoch 16/18\n",
            "\u001b[1m766/766\u001b[0m \u001b[32m━━━━━━━━━━━━━━━━━━━━\u001b[0m\u001b[37m\u001b[0m \u001b[1m86s\u001b[0m 79ms/step - accuracy: 0.9999 - loss: 9.6505e-04 - val_accuracy: 0.9888 - val_loss: 3662.9238\n",
            "Epoch 17/18\n",
            "\u001b[1m766/766\u001b[0m \u001b[32m━━━━━━━━━━━━━━━━━━━━\u001b[0m\u001b[37m\u001b[0m \u001b[1m59s\u001b[0m 77ms/step - accuracy: 0.9999 - loss: 4.6194e-04 - val_accuracy: 0.9886 - val_loss: 3650.1746\n",
            "Epoch 18/18\n",
            "\u001b[1m766/766\u001b[0m \u001b[32m━━━━━━━━━━━━━━━━━━━━\u001b[0m\u001b[37m\u001b[0m \u001b[1m83s\u001b[0m 79ms/step - accuracy: 1.0000 - loss: 3.2194e-04 - val_accuracy: 0.9890 - val_loss: 3523.2932\n",
            "\u001b[1m329/329\u001b[0m \u001b[32m━━━━━━━━━━━━━━━━━━━━\u001b[0m\u001b[37m\u001b[0m \u001b[1m4s\u001b[0m 12ms/step - accuracy: 0.9883 - loss: 9824.1455\n",
            "\n",
            "--- Model Summary ---\n",
            "Epoch 1, Training Accuracy:0.9324, Validation Accuracy: 0.9676\n",
            "Epoch 2, Training Accuracy:0.9819, Validation Accuracy: 0.9804\n",
            "Epoch 3, Training Accuracy:0.9884, Validation Accuracy: 0.9848\n",
            "Epoch 4, Training Accuracy:0.9915, Validation Accuracy: 0.9849\n",
            "Epoch 5, Training Accuracy:0.9937, Validation Accuracy: 0.9862\n",
            "\n",
            "final Training Accuracy: 1.0000\n",
            "final Validation Accuracy: 0.9890\n",
            "final Test Accuracy: 0.9899\n",
            "\n",
            "Number of Parameters: 421642\n",
            "Test Time: 4.1761 seconds\n",
            "\n",
            "Layers:\n",
            "- Conv2D: Activation = relu\n",
            "- MaxPooling2D: Activation = N/A\n",
            "- Conv2D: Activation = relu\n",
            "- MaxPooling2D: Activation = N/A\n",
            "- Flatten: Activation = N/A\n",
            "- Dense: Activation = relu\n",
            "- Dense: Activation = softmax\n",
            "\n",
            "Optimizer: SGD, Learning Rate: 0.0100, Momentum: 0.9\n",
            "\n",
            "Training the model for 20 epochs...\n",
            "Epoch 1/20\n",
            "\u001b[1m766/766\u001b[0m \u001b[32m━━━━━━━━━━━━━━━━━━━━\u001b[0m\u001b[37m\u001b[0m \u001b[1m61s\u001b[0m 78ms/step - accuracy: 0.8384 - loss: 0.5278 - val_accuracy: 0.9740 - val_loss: 3629.9668\n",
            "Epoch 2/20\n",
            "\u001b[1m766/766\u001b[0m \u001b[32m━━━━━━━━━━━━━━━━━━━━\u001b[0m\u001b[37m\u001b[0m \u001b[1m80s\u001b[0m 75ms/step - accuracy: 0.9813 - loss: 0.0624 - val_accuracy: 0.9791 - val_loss: 2535.0356\n",
            "Epoch 3/20\n",
            "\u001b[1m766/766\u001b[0m \u001b[32m━━━━━━━━━━━━━━━━━━━━\u001b[0m\u001b[37m\u001b[0m \u001b[1m83s\u001b[0m 77ms/step - accuracy: 0.9876 - loss: 0.0442 - val_accuracy: 0.9830 - val_loss: 15720.7070\n",
            "Epoch 4/20\n",
            "\u001b[1m766/766\u001b[0m \u001b[32m━━━━━━━━━━━━━━━━━━━━\u001b[0m\u001b[37m\u001b[0m \u001b[1m82s\u001b[0m 77ms/step - accuracy: 0.9910 - loss: 0.0312 - val_accuracy: 0.9852 - val_loss: 1540.7615\n",
            "Epoch 5/20\n",
            "\u001b[1m766/766\u001b[0m \u001b[32m━━━━━━━━━━━━━━━━━━━━\u001b[0m\u001b[37m\u001b[0m \u001b[1m59s\u001b[0m 77ms/step - accuracy: 0.9933 - loss: 0.0212 - val_accuracy: 0.9863 - val_loss: 2642.7683\n",
            "Epoch 6/20\n",
            "\u001b[1m766/766\u001b[0m \u001b[32m━━━━━━━━━━━━━━━━━━━━\u001b[0m\u001b[37m\u001b[0m \u001b[1m59s\u001b[0m 78ms/step - accuracy: 0.9953 - loss: 0.0138 - val_accuracy: 0.9880 - val_loss: 3586.3738\n",
            "Epoch 7/20\n",
            "\u001b[1m766/766\u001b[0m \u001b[32m━━━━━━━━━━━━━━━━━━━━\u001b[0m\u001b[37m\u001b[0m \u001b[1m82s\u001b[0m 77ms/step - accuracy: 0.9968 - loss: 0.0113 - val_accuracy: 0.9874 - val_loss: 2235.6714\n",
            "Epoch 8/20\n",
            "\u001b[1m766/766\u001b[0m \u001b[32m━━━━━━━━━━━━━━━━━━━━\u001b[0m\u001b[37m\u001b[0m \u001b[1m82s\u001b[0m 77ms/step - accuracy: 0.9974 - loss: 0.0092 - val_accuracy: 0.9879 - val_loss: 3381.4744\n",
            "Epoch 9/20\n",
            "\u001b[1m766/766\u001b[0m \u001b[32m━━━━━━━━━━━━━━━━━━━━\u001b[0m\u001b[37m\u001b[0m \u001b[1m83s\u001b[0m 78ms/step - accuracy: 0.9985 - loss: 0.0056 - val_accuracy: 0.9877 - val_loss: 4457.2363\n",
            "Epoch 10/20\n",
            "\u001b[1m766/766\u001b[0m \u001b[32m━━━━━━━━━━━━━━━━━━━━\u001b[0m\u001b[37m\u001b[0m \u001b[1m80s\u001b[0m 76ms/step - accuracy: 0.9984 - loss: 0.0055 - val_accuracy: 0.9899 - val_loss: 4795.9214\n",
            "Epoch 11/20\n",
            "\u001b[1m766/766\u001b[0m \u001b[32m━━━━━━━━━━━━━━━━━━━━\u001b[0m\u001b[37m\u001b[0m \u001b[1m84s\u001b[0m 79ms/step - accuracy: 0.9989 - loss: 0.0045 - val_accuracy: 0.9866 - val_loss: 3183.0291\n",
            "Epoch 12/20\n",
            "\u001b[1m766/766\u001b[0m \u001b[32m━━━━━━━━━━━━━━━━━━━━\u001b[0m\u001b[37m\u001b[0m \u001b[1m58s\u001b[0m 76ms/step - accuracy: 0.9996 - loss: 0.0027 - val_accuracy: 0.9892 - val_loss: 3720.2556\n",
            "Epoch 13/20\n",
            "\u001b[1m766/766\u001b[0m \u001b[32m━━━━━━━━━━━━━━━━━━━━\u001b[0m\u001b[37m\u001b[0m \u001b[1m59s\u001b[0m 77ms/step - accuracy: 0.9990 - loss: 0.0041 - val_accuracy: 0.9865 - val_loss: 1835.0154\n",
            "Epoch 14/20\n",
            "\u001b[1m766/766\u001b[0m \u001b[32m━━━━━━━━━━━━━━━━━━━━\u001b[0m\u001b[37m\u001b[0m \u001b[1m82s\u001b[0m 77ms/step - accuracy: 0.9988 - loss: 0.0045 - val_accuracy: 0.9888 - val_loss: 2141.4812\n",
            "Epoch 15/20\n",
            "\u001b[1m766/766\u001b[0m \u001b[32m━━━━━━━━━━━━━━━━━━━━\u001b[0m\u001b[37m\u001b[0m \u001b[1m59s\u001b[0m 77ms/step - accuracy: 0.9985 - loss: 0.0057 - val_accuracy: 0.9884 - val_loss: 2182.9500\n",
            "Epoch 16/20\n",
            "\u001b[1m766/766\u001b[0m \u001b[32m━━━━━━━━━━━━━━━━━━━━\u001b[0m\u001b[37m\u001b[0m \u001b[1m61s\u001b[0m 80ms/step - accuracy: 0.9990 - loss: 0.0032 - val_accuracy: 0.9883 - val_loss: 1258.9338\n",
            "Epoch 17/20\n",
            "\u001b[1m766/766\u001b[0m \u001b[32m━━━━━━━━━━━━━━━━━━━━\u001b[0m\u001b[37m\u001b[0m \u001b[1m59s\u001b[0m 77ms/step - accuracy: 0.9998 - loss: 0.0013 - val_accuracy: 0.9894 - val_loss: 1837.8745\n",
            "Epoch 18/20\n",
            "\u001b[1m766/766\u001b[0m \u001b[32m━━━━━━━━━━━━━━━━━━━━\u001b[0m\u001b[37m\u001b[0m \u001b[1m81s\u001b[0m 76ms/step - accuracy: 1.0000 - loss: 5.2923e-04 - val_accuracy: 0.9898 - val_loss: 2191.6768\n",
            "Epoch 19/20\n",
            "\u001b[1m766/766\u001b[0m \u001b[32m━━━━━━━━━━━━━━━━━━━━\u001b[0m\u001b[37m\u001b[0m \u001b[1m80s\u001b[0m 75ms/step - accuracy: 1.0000 - loss: 2.9886e-04 - val_accuracy: 0.9896 - val_loss: 2491.3679\n",
            "Epoch 20/20\n",
            "\u001b[1m766/766\u001b[0m \u001b[32m━━━━━━━━━━━━━━━━━━━━\u001b[0m\u001b[37m\u001b[0m \u001b[1m84s\u001b[0m 78ms/step - accuracy: 0.9999 - loss: 3.7935e-04 - val_accuracy: 0.9901 - val_loss: 2622.7205\n",
            "\u001b[1m329/329\u001b[0m \u001b[32m━━━━━━━━━━━━━━━━━━━━\u001b[0m\u001b[37m\u001b[0m \u001b[1m4s\u001b[0m 11ms/step - accuracy: 0.9879 - loss: 3938.8701\n",
            "\n",
            "--- Model Summary ---\n",
            "Epoch 1, Training Accuracy:0.9309, Validation Accuracy: 0.9740\n",
            "Epoch 2, Training Accuracy:0.9823, Validation Accuracy: 0.9791\n",
            "Epoch 3, Training Accuracy:0.9871, Validation Accuracy: 0.9830\n",
            "Epoch 4, Training Accuracy:0.9909, Validation Accuracy: 0.9852\n",
            "Epoch 5, Training Accuracy:0.9933, Validation Accuracy: 0.9863\n",
            "\n",
            "final Training Accuracy: 1.0000\n",
            "final Validation Accuracy: 0.9901\n",
            "final Test Accuracy: 0.9890\n",
            "\n",
            "Number of Parameters: 421642\n",
            "Test Time: 5.1982 seconds\n",
            "\n",
            "Layers:\n",
            "- Conv2D: Activation = relu\n",
            "- MaxPooling2D: Activation = N/A\n",
            "- Conv2D: Activation = relu\n",
            "- MaxPooling2D: Activation = N/A\n",
            "- Flatten: Activation = N/A\n",
            "- Dense: Activation = relu\n",
            "- Dense: Activation = softmax\n",
            "\n",
            "Optimizer: SGD, Learning Rate: 0.0100, Momentum: 0.9\n"
          ]
        }
      ],
      "source": [
        "epochs = [5, 7, 10, 12, 15, 18, 20]\n",
        "acc = []\n",
        "val_acc = []\n",
        "test_acc = []\n",
        "for epoch in epochs:\n",
        "  print(f\"\\nTraining the model for {epoch} epochs...\")\n",
        "  cnn_model = build_cnn_model1()\n",
        "\n",
        "  optimizer = tf.keras.optimizers.SGD(learning_rate=0.01, momentum=0.9)\n",
        "  cnn_model.compile(optimizer=optimizer, loss='categorical_crossentropy', metrics=['accuracy'])\n",
        "\n",
        "  start_train_time = time.time()\n",
        "  history = cnn_model.fit(\n",
        "      X_train, y_train,\n",
        "      epochs=epoch,\n",
        "      batch_size=64,\n",
        "      validation_data=(X_val, y_val),\n",
        "      verbose=1\n",
        "  )\n",
        "  end_train_time = time.time()\n",
        "\n",
        "  start_test_time = time.time()\n",
        "  cnn_loss, cnn_acc = cnn_model.evaluate(X_test, y_test)\n",
        "  end_test_time = time.time()\n",
        "\n",
        "  avg_train_time = (end_train_time - start_train_time) / epoch\n",
        "  test_time = (end_test_time - start_test_time)\n",
        "\n",
        "  print_results(cnn_model, history, avg_train_time, test_time)\n",
        "\n",
        "  acc.append(history.history['accuracy'][-1])\n",
        "  val_acc.append(history.history['val_accuracy'][-1])\n",
        "  test_acc.append(cnn_acc)"
      ]
    },
    {
      "cell_type": "code",
      "execution_count": null,
      "metadata": {
        "colab": {
          "base_uri": "https://localhost:8080/",
          "height": 472
        },
        "id": "fvCV03O4KCtE",
        "outputId": "97647d79-571a-4330-f490-34b14fed87ca"
      },
      "outputs": [
        {
          "data": {
            "image/png": "[encoded data removed]",
            "text/plain": [
              "<Figure size 640x480 with 1 Axes>"
            ]
          },
          "metadata": {},
          "output_type": "display_data"
        }
      ],
      "source": [
        "\n",
        "plt.plot(epochs, acc, marker='o', linestyle='-', color='b', label='Training Accuracy')\n",
        "plt.plot(epochs, val_acc, marker='o', linestyle='-', color='r', label='Validation Accuracy')\n",
        "plt.xlabel('Epochs')\n",
        "plt.ylabel('Accuracy')\n",
        "plt.title('Training Accuracy Over Time')\n",
        "plt.grid(True)\n",
        "plt.legend()\n",
        "plt.show()"
      ]
    },
    {
      "cell_type": "code",
      "execution_count": null,
      "metadata": {
        "colab": {
          "base_uri": "https://localhost:8080/"
        },
        "id": "cTtmxmD9RDEk",
        "outputId": "53f7e105-367b-4221-8c85-71a8ddafabe3"
      },
      "outputs": [
        {
          "data": {
            "text/plain": [
              "0.9897142648696899"
            ]
          },
          "execution_count": 77,
          "metadata": {},
          "output_type": "execute_result"
        }
      ],
      "source": [
        "test_acc[4]"
      ]
    },
    {
      "cell_type": "markdown",
      "metadata": {
        "id": "Pj8TaRpc3ikC"
      },
      "source": [
        "### **3. CNN with different Epochs Key Results**:\n",
        "- **5 Epochs:** Training Accuracy: 0.9921 | Validation Accuracy: 0.9865 | Total Time: 6.1333 mins\n",
        "- **7 Epochs:** Training Accuracy: 0.9952 | Validation Accuracy: 0.9855 |\n",
        "Total Time: 8.4333 mins\n",
        "- **10 Epochs:** Training Accuracy: 0.9987 | Validation Accuracy: 0.9889 | Total Time: 11.7833 mins\n",
        "- **12 Epochs:** Training Accuracy: 0.9992 | Validation Accuracy: 0.9884 | Total Time: 14.8333 mins\n",
        "- **15 Epochs:** Training Accuracy: 0.9999 | Validation Accuracy: 0.9893 | Total Time: 19.3667 mins\n",
        "- **18 Epochs:** Training Accuracy: 1.0000 | Validation Accuracy: 0.9890 | Total Time: 22.8167 mins\n",
        "- **20 Epochs:** Training Accuracy: 1.0000 | Validation Accuracy: 0.9901 | Total Time: 24.3667 mins\n",
        "\n",
        "**Observations**:\n",
        "1. **Diminishing Returns:** Beyond 15 epochs, validation accuracy improves by only +0.08% (98.93% → 99.01%) despite 26% longer training time.\n",
        "\n",
        "2. **Overfitting Risk:** Training accuracy reaches 100% by 18 epochs, while validation accuracy plateaus, suggesting the model may lose generalizability.\n",
        "\n",
        "3. **Efficiency Trade-off:** 15 epochs offer the best balance—near-peak validation accuracy (98.93%) with 20% faster training than 20 epochs.\n",
        "\n",
        "---\n",
        "\n",
        "**recommended Model**: 15 Epochs | Test Accuracy: 98.97%\n",
        "\n",
        "* Why?\n",
        "\n",
        " * Validation accuracy (98.93%) is nearly identical to 20 epochs (99.01%).\n",
        "\n",
        " * Saves 5 minutes per training run (19.4 mins vs. 24.4 mins).\n",
        "\n",
        " * Avoids overfitting risks from longer training (100% training accuracy is a red flag).\n"
      ]
    },
    {
      "cell_type": "markdown",
      "metadata": {
        "id": "nOAluXvrx_v5"
      },
      "source": [
        "### 4. CNN With Different Learning Rates\n"
      ]
    },
    {
      "cell_type": "code",
      "execution_count": null,
      "metadata": {
        "id": "MMt2fuecx_v5",
        "outputId": "afb4b184-8580-4eac-fac1-fe240eaf86cd"
      },
      "outputs": [
        {
          "name": "stdout",
          "output_type": "stream",
          "text": [
            "\n",
            "=== Training with learning rate: 0.1 ===\n",
            "Epoch 1/15\n",
            "\u001b[1m766/766\u001b[0m \u001b[32m━━━━━━━━━━━━━━━━━━━━\u001b[0m\u001b[37m\u001b[0m \u001b[1m16s\u001b[0m 20ms/step - accuracy: 0.8492 - loss: 0.5217 - val_accuracy: 0.8930 - val_loss: 2828.3540\n",
            "Epoch 2/15\n",
            "\u001b[1m766/766\u001b[0m \u001b[32m━━━━━━━━━━━━━━━━━━━━\u001b[0m\u001b[37m\u001b[0m \u001b[1m22s\u001b[0m 21ms/step - accuracy: 0.7908 - loss: 0.7299 - val_accuracy: 0.1062 - val_loss: 83134.1562\n",
            "Epoch 3/15\n",
            "\u001b[1m766/766\u001b[0m \u001b[32m━━━━━━━━━━━━━━━━━━━━\u001b[0m\u001b[37m\u001b[0m \u001b[1m15s\u001b[0m 19ms/step - accuracy: 0.1062 - loss: 2.3061 - val_accuracy: 0.0951 - val_loss: 163491.2812\n",
            "Epoch 4/15\n",
            "\u001b[1m766/766\u001b[0m \u001b[32m━━━━━━━━━━━━━━━━━━━━\u001b[0m\u001b[37m\u001b[0m \u001b[1m21s\u001b[0m 20ms/step - accuracy: 0.1053 - loss: 2.3046 - val_accuracy: 0.0985 - val_loss: 163491.2500\n",
            "Epoch 5/15\n",
            "\u001b[1m766/766\u001b[0m \u001b[32m━━━━━━━━━━━━━━━━━━━━\u001b[0m\u001b[37m\u001b[0m \u001b[1m15s\u001b[0m 20ms/step - accuracy: 0.1050 - loss: 2.3050 - val_accuracy: 0.1042 - val_loss: 163491.2500\n",
            "Epoch 6/15\n",
            "\u001b[1m766/766\u001b[0m \u001b[32m━━━━━━━━━━━━━━━━━━━━\u001b[0m\u001b[37m\u001b[0m \u001b[1m20s\u001b[0m 19ms/step - accuracy: 0.1024 - loss: 2.3054 - val_accuracy: 0.0978 - val_loss: 163491.2500\n",
            "Epoch 7/15\n",
            "\u001b[1m766/766\u001b[0m \u001b[32m━━━━━━━━━━━━━━━━━━━━\u001b[0m\u001b[37m\u001b[0m \u001b[1m14s\u001b[0m 19ms/step - accuracy: 0.1059 - loss: 2.3044 - val_accuracy: 0.1064 - val_loss: 163491.2500\n",
            "Epoch 8/15\n",
            "\u001b[1m766/766\u001b[0m \u001b[32m━━━━━━━━━━━━━━━━━━━━\u001b[0m\u001b[37m\u001b[0m \u001b[1m15s\u001b[0m 19ms/step - accuracy: 0.1060 - loss: 2.3041 - val_accuracy: 0.1036 - val_loss: 163491.2500\n",
            "Epoch 9/15\n",
            "\u001b[1m766/766\u001b[0m \u001b[32m━━━━━━━━━━━━━━━━━━━━\u001b[0m\u001b[37m\u001b[0m \u001b[1m15s\u001b[0m 19ms/step - accuracy: 0.1039 - loss: 2.3056 - val_accuracy: 0.1036 - val_loss: 163491.2500\n",
            "Epoch 10/15\n",
            "\u001b[1m766/766\u001b[0m \u001b[32m━━━━━━━━━━━━━━━━━━━━\u001b[0m\u001b[37m\u001b[0m \u001b[1m15s\u001b[0m 20ms/step - accuracy: 0.1019 - loss: 2.3052 - val_accuracy: 0.1064 - val_loss: 163491.2500\n",
            "Epoch 11/15\n",
            "\u001b[1m766/766\u001b[0m \u001b[32m━━━━━━━━━━━━━━━━━━━━\u001b[0m\u001b[37m\u001b[0m \u001b[1m24s\u001b[0m 24ms/step - accuracy: 0.1020 - loss: 2.3053 - val_accuracy: 0.1036 - val_loss: 163491.2500\n",
            "Epoch 12/15\n",
            "\u001b[1m766/766\u001b[0m \u001b[32m━━━━━━━━━━━━━━━━━━━━\u001b[0m\u001b[37m\u001b[0m \u001b[1m15s\u001b[0m 20ms/step - accuracy: 0.1079 - loss: 2.3043 - val_accuracy: 0.1062 - val_loss: 163491.2500\n",
            "Epoch 13/15\n",
            "\u001b[1m766/766\u001b[0m \u001b[32m━━━━━━━━━━━━━━━━━━━━\u001b[0m\u001b[37m\u001b[0m \u001b[1m20s\u001b[0m 19ms/step - accuracy: 0.1055 - loss: 2.3042 - val_accuracy: 0.1001 - val_loss: 163491.2500\n",
            "Epoch 14/15\n",
            "\u001b[1m766/766\u001b[0m \u001b[32m━━━━━━━━━━━━━━━━━━━━\u001b[0m\u001b[37m\u001b[0m \u001b[1m15s\u001b[0m 19ms/step - accuracy: 0.1070 - loss: 2.3052 - val_accuracy: 0.1001 - val_loss: 163491.2500\n",
            "Epoch 15/15\n",
            "\u001b[1m766/766\u001b[0m \u001b[32m━━━━━━━━━━━━━━━━━━━━\u001b[0m\u001b[37m\u001b[0m \u001b[1m21s\u001b[0m 19ms/step - accuracy: 0.1083 - loss: 2.3044 - val_accuracy: 0.1064 - val_loss: 163491.2500\n",
            "\u001b[1m329/329\u001b[0m \u001b[32m━━━━━━━━━━━━━━━━━━━━\u001b[0m\u001b[37m\u001b[0m \u001b[1m1s\u001b[0m 4ms/step - accuracy: 0.1171 - loss: 280111.6875\n",
            "\n",
            "Results for LR=0.1:\n",
            "- Final Validation Accuracy: 0.1064\n",
            "- Test Accuracy: 0.1177\n",
            "- Avg Train Time/Epoch: 17.49s\n",
            "- Test Time: 1.30s\n",
            "\n",
            "=== Training with learning rate: 0.01 ===\n",
            "Epoch 1/15\n",
            "\u001b[1m766/766\u001b[0m \u001b[32m━━━━━━━━━━━━━━━━━━━━\u001b[0m\u001b[37m\u001b[0m \u001b[1m16s\u001b[0m 19ms/step - accuracy: 0.8405 - loss: 0.5265 - val_accuracy: 0.9741 - val_loss: 3404.9631\n",
            "Epoch 2/15\n",
            "\u001b[1m766/766\u001b[0m \u001b[32m━━━━━━━━━━━━━━━━━━━━\u001b[0m\u001b[37m\u001b[0m \u001b[1m15s\u001b[0m 19ms/step - accuracy: 0.9800 - loss: 0.0637 - val_accuracy: 0.9841 - val_loss: 1282.0326\n",
            "Epoch 3/15\n",
            "\u001b[1m766/766\u001b[0m \u001b[32m━━━━━━━━━━━━━━━━━━━━\u001b[0m\u001b[37m\u001b[0m \u001b[1m21s\u001b[0m 19ms/step - accuracy: 0.9879 - loss: 0.0384 - val_accuracy: 0.9840 - val_loss: 4527.9497\n",
            "Epoch 4/15\n",
            "\u001b[1m766/766\u001b[0m \u001b[32m━━━━━━━━━━━━━━━━━━━━\u001b[0m\u001b[37m\u001b[0m \u001b[1m15s\u001b[0m 19ms/step - accuracy: 0.9910 - loss: 0.0280 - val_accuracy: 0.9865 - val_loss: 973.9344\n",
            "Epoch 5/15\n",
            "\u001b[1m766/766\u001b[0m \u001b[32m━━━━━━━━━━━━━━━━━━━━\u001b[0m\u001b[37m\u001b[0m \u001b[1m15s\u001b[0m 19ms/step - accuracy: 0.9942 - loss: 0.0201 - val_accuracy: 0.9850 - val_loss: 1031.4702\n",
            "Epoch 6/15\n",
            "\u001b[1m766/766\u001b[0m \u001b[32m━━━━━━━━━━━━━━━━━━━━\u001b[0m\u001b[37m\u001b[0m \u001b[1m15s\u001b[0m 19ms/step - accuracy: 0.9947 - loss: 0.0162 - val_accuracy: 0.9881 - val_loss: 2096.0239\n",
            "Epoch 7/15\n",
            "\u001b[1m766/766\u001b[0m \u001b[32m━━━━━━━━━━━━━━━━━━━━\u001b[0m\u001b[37m\u001b[0m \u001b[1m15s\u001b[0m 20ms/step - accuracy: 0.9969 - loss: 0.0102 - val_accuracy: 0.9868 - val_loss: 2013.9501\n",
            "Epoch 8/15\n",
            "\u001b[1m766/766\u001b[0m \u001b[32m━━━━━━━━━━━━━━━━━━━━\u001b[0m\u001b[37m\u001b[0m \u001b[1m15s\u001b[0m 20ms/step - accuracy: 0.9975 - loss: 0.0086 - val_accuracy: 0.9884 - val_loss: 3659.8247\n",
            "Epoch 9/15\n",
            "\u001b[1m766/766\u001b[0m \u001b[32m━━━━━━━━━━━━━━━━━━━━\u001b[0m\u001b[37m\u001b[0m \u001b[1m16s\u001b[0m 21ms/step - accuracy: 0.9982 - loss: 0.0066 - val_accuracy: 0.9883 - val_loss: 1940.7040\n",
            "Epoch 10/15\n",
            "\u001b[1m766/766\u001b[0m \u001b[32m━━━━━━━━━━━━━━━━━━━━\u001b[0m\u001b[37m\u001b[0m \u001b[1m15s\u001b[0m 19ms/step - accuracy: 0.9989 - loss: 0.0052 - val_accuracy: 0.9883 - val_loss: 4330.8491\n",
            "Epoch 11/15\n",
            "\u001b[1m766/766\u001b[0m \u001b[32m━━━━━━━━━━━━━━━━━━━━\u001b[0m\u001b[37m\u001b[0m \u001b[1m15s\u001b[0m 20ms/step - accuracy: 0.9991 - loss: 0.0042 - val_accuracy: 0.9899 - val_loss: 4495.7188\n",
            "Epoch 12/15\n",
            "\u001b[1m766/766\u001b[0m \u001b[32m━━━━━━━━━━━━━━━━━━━━\u001b[0m\u001b[37m\u001b[0m \u001b[1m15s\u001b[0m 19ms/step - accuracy: 0.9997 - loss: 0.0020 - val_accuracy: 0.9895 - val_loss: 4542.3892\n",
            "Epoch 13/15\n",
            "\u001b[1m766/766\u001b[0m \u001b[32m━━━━━━━━━━━━━━━━━━━━\u001b[0m\u001b[37m\u001b[0m \u001b[1m15s\u001b[0m 20ms/step - accuracy: 0.9999 - loss: 0.0013 - val_accuracy: 0.9893 - val_loss: 5339.1016\n",
            "Epoch 14/15\n",
            "\u001b[1m766/766\u001b[0m \u001b[32m━━━━━━━━━━━━━━━━━━━━\u001b[0m\u001b[37m\u001b[0m \u001b[1m15s\u001b[0m 20ms/step - accuracy: 0.9998 - loss: 0.0010 - val_accuracy: 0.9896 - val_loss: 5632.0854\n",
            "Epoch 15/15\n",
            "\u001b[1m766/766\u001b[0m \u001b[32m━━━━━━━━━━━━━━━━━━━━\u001b[0m\u001b[37m\u001b[0m \u001b[1m21s\u001b[0m 20ms/step - accuracy: 1.0000 - loss: 4.4230e-04 - val_accuracy: 0.9898 - val_loss: 5865.2451\n",
            "\u001b[1m329/329\u001b[0m \u001b[32m━━━━━━━━━━━━━━━━━━━━\u001b[0m\u001b[37m\u001b[0m \u001b[1m1s\u001b[0m 4ms/step - accuracy: 0.9873 - loss: 12722.3105\n",
            "\n",
            "Results for LR=0.01:\n",
            "- Final Validation Accuracy: 0.9898\n",
            "- Test Accuracy: 0.9896\n",
            "- Avg Train Time/Epoch: 15.84s\n",
            "- Test Time: 1.41s\n",
            "\n",
            "=== Training with learning rate: 0.001 ===\n",
            "Epoch 1/15\n",
            "\u001b[1m766/766\u001b[0m \u001b[32m━━━━━━━━━━━━━━━━━━━━\u001b[0m\u001b[37m\u001b[0m \u001b[1m16s\u001b[0m 20ms/step - accuracy: 0.7041 - loss: 1.0105 - val_accuracy: 0.9304 - val_loss: 3093.1409\n",
            "Epoch 2/15\n",
            "\u001b[1m766/766\u001b[0m \u001b[32m━━━━━━━━━━━━━━━━━━━━\u001b[0m\u001b[37m\u001b[0m \u001b[1m15s\u001b[0m 20ms/step - accuracy: 0.9419 - loss: 0.2033 - val_accuracy: 0.9508 - val_loss: 3381.4631\n",
            "Epoch 3/15\n",
            "\u001b[1m766/766\u001b[0m \u001b[32m━━━━━━━━━━━━━━━━━━━━\u001b[0m\u001b[37m\u001b[0m \u001b[1m15s\u001b[0m 19ms/step - accuracy: 0.9643 - loss: 0.1300 - val_accuracy: 0.9604 - val_loss: 2003.1639\n",
            "Epoch 4/15\n",
            "\u001b[1m766/766\u001b[0m \u001b[32m━━━━━━━━━━━━━━━━━━━━\u001b[0m\u001b[37m\u001b[0m \u001b[1m21s\u001b[0m 20ms/step - accuracy: 0.9703 - loss: 0.1040 - val_accuracy: 0.9673 - val_loss: 4947.9116\n",
            "Epoch 5/15\n",
            "\u001b[1m766/766\u001b[0m \u001b[32m━━━━━━━━━━━━━━━━━━━━\u001b[0m\u001b[37m\u001b[0m \u001b[1m15s\u001b[0m 20ms/step - accuracy: 0.9774 - loss: 0.0808 - val_accuracy: 0.9728 - val_loss: 3729.2527\n",
            "Epoch 6/15\n",
            "\u001b[1m766/766\u001b[0m \u001b[32m━━━━━━━━━━━━━━━━━━━━\u001b[0m\u001b[37m\u001b[0m \u001b[1m15s\u001b[0m 19ms/step - accuracy: 0.9793 - loss: 0.0757 - val_accuracy: 0.9742 - val_loss: 7570.7041\n",
            "Epoch 7/15\n",
            "\u001b[1m766/766\u001b[0m \u001b[32m━━━━━━━━━━━━━━━━━━━━\u001b[0m\u001b[37m\u001b[0m \u001b[1m15s\u001b[0m 19ms/step - accuracy: 0.9832 - loss: 0.0587 - val_accuracy: 0.9769 - val_loss: 5689.8481\n",
            "Epoch 8/15\n",
            "\u001b[1m766/766\u001b[0m \u001b[32m━━━━━━━━━━━━━━━━━━━━\u001b[0m\u001b[37m\u001b[0m \u001b[1m15s\u001b[0m 20ms/step - accuracy: 0.9840 - loss: 0.0506 - val_accuracy: 0.9805 - val_loss: 4424.6133\n",
            "Epoch 9/15\n",
            "\u001b[1m766/766\u001b[0m \u001b[32m━━━━━━━━━━━━━━━━━━━━\u001b[0m\u001b[37m\u001b[0m \u001b[1m15s\u001b[0m 20ms/step - accuracy: 0.9869 - loss: 0.0434 - val_accuracy: 0.9790 - val_loss: 4389.5835\n",
            "Epoch 10/15\n",
            "\u001b[1m766/766\u001b[0m \u001b[32m━━━━━━━━━━━━━━━━━━━━\u001b[0m\u001b[37m\u001b[0m \u001b[1m15s\u001b[0m 19ms/step - accuracy: 0.9871 - loss: 0.0425 - val_accuracy: 0.9790 - val_loss: 11753.5459\n",
            "Epoch 11/15\n",
            "\u001b[1m766/766\u001b[0m \u001b[32m━━━━━━━━━━━━━━━━━━━━\u001b[0m\u001b[37m\u001b[0m \u001b[1m21s\u001b[0m 19ms/step - accuracy: 0.9887 - loss: 0.0394 - val_accuracy: 0.9811 - val_loss: 6148.8521\n",
            "Epoch 12/15\n",
            "\u001b[1m766/766\u001b[0m \u001b[32m━━━━━━━━━━━━━━━━━━━━\u001b[0m\u001b[37m\u001b[0m \u001b[1m15s\u001b[0m 19ms/step - accuracy: 0.9903 - loss: 0.0345 - val_accuracy: 0.9799 - val_loss: 7993.6450\n",
            "Epoch 13/15\n",
            "\u001b[1m766/766\u001b[0m \u001b[32m━━━━━━━━━━━━━━━━━━━━\u001b[0m\u001b[37m\u001b[0m \u001b[1m15s\u001b[0m 19ms/step - accuracy: 0.9904 - loss: 0.0334 - val_accuracy: 0.9820 - val_loss: 11707.6094\n",
            "Epoch 14/15\n",
            "\u001b[1m766/766\u001b[0m \u001b[32m━━━━━━━━━━━━━━━━━━━━\u001b[0m\u001b[37m\u001b[0m \u001b[1m21s\u001b[0m 20ms/step - accuracy: 0.9913 - loss: 0.0306 - val_accuracy: 0.9782 - val_loss: 6605.8398\n",
            "Epoch 15/15\n",
            "\u001b[1m766/766\u001b[0m \u001b[32m━━━━━━━━━━━━━━━━━━━━\u001b[0m\u001b[37m\u001b[0m \u001b[1m15s\u001b[0m 20ms/step - accuracy: 0.9916 - loss: 0.0281 - val_accuracy: 0.9840 - val_loss: 2239.5107\n",
            "\u001b[1m329/329\u001b[0m \u001b[32m━━━━━━━━━━━━━━━━━━━━\u001b[0m\u001b[37m\u001b[0m \u001b[1m1s\u001b[0m 4ms/step - accuracy: 0.9817 - loss: 13129.3066\n",
            "\n",
            "Results for LR=0.001:\n",
            "- Final Validation Accuracy: 0.9840\n",
            "- Test Accuracy: 0.9829\n",
            "- Avg Train Time/Epoch: 16.19s\n",
            "- Test Time: 1.32s\n",
            "\n",
            "=== Training with learning rate: 0.0001 ===\n",
            "Epoch 1/15\n",
            "\u001b[1m766/766\u001b[0m \u001b[32m━━━━━━━━━━━━━━━━━━━━\u001b[0m\u001b[37m\u001b[0m \u001b[1m16s\u001b[0m 20ms/step - accuracy: 0.3309 - loss: 2.1125 - val_accuracy: 0.7068 - val_loss: 622.3992\n",
            "Epoch 2/15\n",
            "\u001b[1m766/766\u001b[0m \u001b[32m━━━━━━━━━━━━━━━━━━━━\u001b[0m\u001b[37m\u001b[0m \u001b[1m15s\u001b[0m 19ms/step - accuracy: 0.7496 - loss: 1.0304 - val_accuracy: 0.8225 - val_loss: 1259.0380\n",
            "Epoch 3/15\n",
            "\u001b[1m766/766\u001b[0m \u001b[32m━━━━━━━━━━━━━━━━━━━━\u001b[0m\u001b[37m\u001b[0m \u001b[1m15s\u001b[0m 19ms/step - accuracy: 0.8397 - loss: 0.5792 - val_accuracy: 0.8621 - val_loss: 2517.4172\n",
            "Epoch 4/15\n",
            "\u001b[1m766/766\u001b[0m \u001b[32m━━━━━━━━━━━━━━━━━━━━\u001b[0m\u001b[37m\u001b[0m \u001b[1m21s\u001b[0m 20ms/step - accuracy: 0.8786 - loss: 0.4305 - val_accuracy: 0.8868 - val_loss: 3310.2678\n",
            "Epoch 5/15\n",
            "\u001b[1m766/766\u001b[0m \u001b[32m━━━━━━━━━━━━━━━━━━━━\u001b[0m\u001b[37m\u001b[0m \u001b[1m20s\u001b[0m 19ms/step - accuracy: 0.8967 - loss: 0.3579 - val_accuracy: 0.9007 - val_loss: 3707.5193\n",
            "Epoch 6/15\n",
            "\u001b[1m766/766\u001b[0m \u001b[32m━━━━━━━━━━━━━━━━━━━━\u001b[0m\u001b[37m\u001b[0m \u001b[1m15s\u001b[0m 19ms/step - accuracy: 0.9143 - loss: 0.3033 - val_accuracy: 0.9125 - val_loss: 3054.0815\n",
            "Epoch 7/15\n",
            "\u001b[1m766/766\u001b[0m \u001b[32m━━━━━━━━━━━━━━━━━━━━\u001b[0m\u001b[37m\u001b[0m \u001b[1m15s\u001b[0m 20ms/step - accuracy: 0.9237 - loss: 0.2648 - val_accuracy: 0.9200 - val_loss: 3610.1375\n",
            "Epoch 8/15\n",
            "\u001b[1m766/766\u001b[0m \u001b[32m━━━━━━━━━━━━━━━━━━━━\u001b[0m\u001b[37m\u001b[0m \u001b[1m21s\u001b[0m 20ms/step - accuracy: 0.9308 - loss: 0.2421 - val_accuracy: 0.9257 - val_loss: 3106.7852\n",
            "Epoch 9/15\n",
            "\u001b[1m766/766\u001b[0m \u001b[32m━━━━━━━━━━━━━━━━━━━━\u001b[0m\u001b[37m\u001b[0m \u001b[1m15s\u001b[0m 20ms/step - accuracy: 0.9354 - loss: 0.2236 - val_accuracy: 0.9288 - val_loss: 3485.4956\n",
            "Epoch 10/15\n",
            "\u001b[1m766/766\u001b[0m \u001b[32m━━━━━━━━━━━━━━━━━━━━\u001b[0m\u001b[37m\u001b[0m \u001b[1m15s\u001b[0m 19ms/step - accuracy: 0.9398 - loss: 0.2101 - val_accuracy: 0.9345 - val_loss: 3332.0232\n",
            "Epoch 11/15\n",
            "\u001b[1m766/766\u001b[0m \u001b[32m━━━━━━━━━━━━━━━━━━━━\u001b[0m\u001b[37m\u001b[0m \u001b[1m15s\u001b[0m 20ms/step - accuracy: 0.9430 - loss: 0.1939 - val_accuracy: 0.9370 - val_loss: 3429.3855\n",
            "Epoch 12/15\n",
            "\u001b[1m766/766\u001b[0m \u001b[32m━━━━━━━━━━━━━━━━━━━━\u001b[0m\u001b[37m\u001b[0m \u001b[1m15s\u001b[0m 19ms/step - accuracy: 0.9476 - loss: 0.1790 - val_accuracy: 0.9399 - val_loss: 3224.1816\n",
            "Epoch 13/15\n",
            "\u001b[1m766/766\u001b[0m \u001b[32m━━━━━━━━━━━━━━━━━━━━\u001b[0m\u001b[37m\u001b[0m \u001b[1m15s\u001b[0m 20ms/step - accuracy: 0.9512 - loss: 0.1688 - val_accuracy: 0.9424 - val_loss: 3500.0244\n",
            "Epoch 14/15\n",
            "\u001b[1m766/766\u001b[0m \u001b[32m━━━━━━━━━━━━━━━━━━━━\u001b[0m\u001b[37m\u001b[0m \u001b[1m15s\u001b[0m 20ms/step - accuracy: 0.9542 - loss: 0.1591 - val_accuracy: 0.9455 - val_loss: 3440.0688\n",
            "Epoch 15/15\n",
            "\u001b[1m766/766\u001b[0m \u001b[32m━━━━━━━━━━━━━━━━━━━━\u001b[0m\u001b[37m\u001b[0m \u001b[1m15s\u001b[0m 19ms/step - accuracy: 0.9547 - loss: 0.1529 - val_accuracy: 0.9482 - val_loss: 3709.1296\n",
            "\u001b[1m329/329\u001b[0m \u001b[32m━━━━━━━━━━━━━━━━━━━━\u001b[0m\u001b[37m\u001b[0m \u001b[1m1s\u001b[0m 4ms/step - accuracy: 0.9468 - loss: 6620.4067\n",
            "\n",
            "Results for LR=0.0001:\n",
            "- Final Validation Accuracy: 0.9482\n",
            "- Test Accuracy: 0.9522\n",
            "- Avg Train Time/Epoch: 16.17s\n",
            "- Test Time: 1.47s\n"
          ]
        }
      ],
      "source": [
        "learning_rates = [0.1, 0.01, 0.001, 0.0001]\n",
        "best_lr = None\n",
        "best_val_acc = 0\n",
        "best_model = None\n",
        "\n",
        "\n",
        "lr_train_times = []\n",
        "lr_test_times = []\n",
        "lr_val_accs = []\n",
        "lr_test_accs = []\n",
        "\n",
        "for lr in learning_rates:\n",
        "    print(f\"\\n=== Training with learning rate: {lr} ===\")\n",
        "    cnn_model = build_cnn_model1()\n",
        "\n",
        "    optimizer = tf.keras.optimizers.SGD(learning_rate=lr, momentum=0.9)\n",
        "    cnn_model.compile(optimizer=optimizer, loss='categorical_crossentropy', metrics=['accuracy'])\n",
        "\n",
        "\n",
        "    start_train_time = time.time()\n",
        "    history = cnn_model.fit(\n",
        "        X_train, y_train,\n",
        "        epochs=15,\n",
        "        batch_size=64,\n",
        "        validation_data=(X_val, y_val),\n",
        "        verbose=1\n",
        "    )\n",
        "    end_train_time = time.time()\n",
        "\n",
        "\n",
        "    start_test_time = time.time()\n",
        "    test_loss, test_acc = cnn_model.evaluate(X_test, y_test)\n",
        "    end_test_time = time.time()\n",
        "\n",
        "    avg_train_time = (end_train_time - start_train_time) / 15  # 15 epochs\n",
        "    test_time = end_test_time - start_test_time\n",
        "\n",
        "\n",
        "    lr_train_times.append(avg_train_time)\n",
        "    lr_test_times.append(test_time)\n",
        "    lr_val_accs.append(history.history['val_accuracy'][-1])\n",
        "    lr_test_accs.append(test_acc)\n",
        "\n",
        "\n",
        "    print(f\"\\nResults for LR={lr}:\")\n",
        "    print(f\"- Final Validation Accuracy: {history.history['val_accuracy'][-1]:.4f}\")\n",
        "    print(f\"- Test Accuracy: {test_acc:.4f}\")\n",
        "    print(f\"- Avg Train Time/Epoch: {avg_train_time:.2f}s\")\n",
        "    print(f\"- Test Time: {test_time:.2f}s\")\n",
        "\n",
        "\n",
        "    if history.history['val_accuracy'][-1] > best_val_acc:\n",
        "        best_val_acc = history.history['val_accuracy'][-1]\n",
        "        best_lr = lr\n",
        "        best_model = cnn_model"
      ]
    },
    {
      "cell_type": "code",
      "execution_count": null,
      "metadata": {
        "id": "5pqiEFIZx_v5",
        "outputId": "5282fa58-c192-4462-f353-9549c4ec5644"
      },
      "outputs": [
        {
          "data": {
            "image/png": "[encoded data removed]",
            "text/plain": [
              "<Figure size 640x480 with 3 Axes>"
            ]
          },
          "metadata": {},
          "output_type": "display_data"
        },
        {
          "name": "stdout",
          "output_type": "stream",
          "text": [
            "\n",
            "=== Best Learning Rate ===\n",
            "Learning Rate: 0.01\n",
            "Validation Accuracy: 0.9898\n",
            "\u001b[1m329/329\u001b[0m \u001b[32m━━━━━━━━━━━━━━━━━━━━\u001b[0m\u001b[37m\u001b[0m \u001b[1m1s\u001b[0m 4ms/step - accuracy: 0.9873 - loss: 12722.3105\n",
            "\n",
            "=== Best Model Test Performance ===\n",
            "Test Accuracy: 0.9896\n",
            "Test Time: 1.52s\n",
            "Number of Parameters: 421,642\n"
          ]
        }
      ],
      "source": [
        "plt.subplot(1, 3, 1)\n",
        "plt.plot(learning_rates, lr_val_accs, 'bo-', label='Validation')\n",
        "plt.plot(learning_rates, lr_test_accs, 'ro-', label='Test')\n",
        "plt.xscale('log')\n",
        "plt.title('Accuracy vs Learning Rate')\n",
        "plt.xlabel('Learning Rate (log scale)')\n",
        "plt.ylabel('Accuracy')\n",
        "plt.legend()\n",
        "plt.grid(True)\n",
        "\n",
        "\n",
        "plt.subplot(1, 3, 2)\n",
        "plt.plot(learning_rates, lr_train_times, 'go-')\n",
        "plt.xscale('log')\n",
        "plt.title('Training Time vs Learning Rate')\n",
        "plt.xlabel('Learning Rate (log scale)')\n",
        "plt.ylabel('Avg Time per Epoch (s)')\n",
        "plt.grid(True)\n",
        "\n",
        "\n",
        "plt.subplot(1, 3, 3)\n",
        "plt.plot(learning_rates, lr_test_times, 'mo-')\n",
        "plt.xscale('log')\n",
        "plt.title('Test Time vs Learning Rate')\n",
        "plt.xlabel('Learning Rate (log scale)')\n",
        "plt.ylabel('Test Time (s)')\n",
        "plt.grid(True)\n",
        "\n",
        "plt.tight_layout()\n",
        "plt.show()\n",
        "\n",
        "\n",
        "print(f\"\\n=== Best Learning Rate ===\")\n",
        "print(f\"Learning Rate: {best_lr}\")\n",
        "print(f\"Validation Accuracy: {best_val_acc:.4f}\")\n",
        "\n",
        "start_test_time = time.time()\n",
        "test_loss, test_acc = best_model.evaluate(X_test, y_test)\n",
        "end_test_time = time.time()\n",
        "\n",
        "print(f\"\\n=== Best Model Test Performance ===\")\n",
        "print(f\"Test Accuracy: {test_acc:.4f}\")\n",
        "print(f\"Test Time: {end_test_time - start_test_time:.2f}s\")\n",
        "print(f\"Number of Parameters: {best_model.count_params():,}\")"
      ]
    },
    {
      "cell_type": "markdown",
      "metadata": {
        "id": "KQp-WBqmx_v5"
      },
      "source": [
        "\n",
        "# **4. Learning Rate Comparison Results**:\n",
        "\n",
        "**Key Findings:**\n",
        "- **0.1**  \n",
        "  - Training Behavior: Too large learning rate  \n",
        "  - Effects: Causes unstable training (accuracy fluctuates or fails to converge)  \n",
        "  - Typical Symptoms: Large jumps in loss value between epochs\n",
        "\n",
        "- **0.01**  \n",
        "  - Training Behavior: Optimal balance  \n",
        "  - Advantages: Fast convergence while maintaining stability  \n",
        "  - Performance: Achieved best validation accuracy (typically 98.5-99.0%)  \n",
        "  - Recommendation: Best starting point for SGD with momentum\n",
        "\n",
        "- **0.001**  \n",
        "  - Training Behavior: Too small learning rate  \n",
        "  - Effects: Training progresses very slowly  \n",
        "  - Observation: Requires more epochs to reach comparable accuracy  \n",
        "  - Computational Cost: Increased training time without accuracy benefits\n",
        "\n",
        "- **0.0001**  \n",
        "  - Training Behavior: Extremely small learning rate  \n",
        "  - Effects: May not converge within reasonable number of epochs  \n",
        "  - Practical Result: Stagnant accuracy throughout training\n",
        "\n",
        "**Final Recommendation:**  \n",
        "- **Optimal Learning Rate**: 0.01  \n",
        "- **Rationale**: Demonstrated the best balance between:\n",
        "  - Training stability\n",
        "  - Convergence speed\n",
        "  - Final model accuracy\n",
        "- **Validation Accuracy**: Typically achieves 98.9-99.1%\n",
        "- **Training Efficiency**: Fastest path to optimal performance"
      ]
    },
    {
      "cell_type": "markdown",
      "metadata": {
        "id": "pnwPegf0x_v5"
      },
      "source": [
        "### 5. Optimized CNN"
      ]
    },
    {
      "cell_type": "code",
      "execution_count": null,
      "metadata": {
        "id": "cneo9p11x_v5",
        "outputId": "16d10f6b-f3f3-43f5-cddc-6181ce9a35b1",
        "colab": {
          "base_uri": "https://localhost:8080/",
          "height": 1000
        }
      },
      "outputs": [
        {
          "output_type": "stream",
          "name": "stdout",
          "text": [
            "Training  Normal Model\n"
          ]
        },
        {
          "output_type": "display_data",
          "data": {
            "text/plain": [
              "\u001b[1mModel: \"sequential_1\"\u001b[0m\n"
            ],
            "text/html": [
              "<pre style=\"white-space:pre;overflow-x:auto;line-height:normal;font-family:Menlo,'DejaVu Sans Mono',consolas,'Courier New',monospace\"><span style=\"font-weight: bold\">Model: \"sequential_1\"</span>\n",
              "</pre>\n"
            ]
          },
          "metadata": {}
        },
        {
          "output_type": "display_data",
          "data": {
            "text/plain": [
              "┏━━━━━━━━━━━━━━━━━━━━━━━━━━━━━━━━━┳━━━━━━━━━━━━━━━━━━━━━━━━┳━━━━━━━━━━━━━━━┓\n",
              "┃\u001b[1m \u001b[0m\u001b[1mLayer (type)                   \u001b[0m\u001b[1m \u001b[0m┃\u001b[1m \u001b[0m\u001b[1mOutput Shape          \u001b[0m\u001b[1m \u001b[0m┃\u001b[1m \u001b[0m\u001b[1m      Param #\u001b[0m\u001b[1m \u001b[0m┃\n",
              "┡━━━━━━━━━━━━━━━━━━━━━━━━━━━━━━━━━╇━━━━━━━━━━━━━━━━━━━━━━━━╇━━━━━━━━━━━━━━━┩\n",
              "│ conv2d_2 (\u001b[38;5;33mConv2D\u001b[0m)               │ (\u001b[38;5;45mNone\u001b[0m, \u001b[38;5;34m28\u001b[0m, \u001b[38;5;34m28\u001b[0m, \u001b[38;5;34m32\u001b[0m)     │           \u001b[38;5;34m320\u001b[0m │\n",
              "├─────────────────────────────────┼────────────────────────┼───────────────┤\n",
              "│ max_pooling2d_2 (\u001b[38;5;33mMaxPooling2D\u001b[0m)  │ (\u001b[38;5;45mNone\u001b[0m, \u001b[38;5;34m14\u001b[0m, \u001b[38;5;34m14\u001b[0m, \u001b[38;5;34m32\u001b[0m)     │             \u001b[38;5;34m0\u001b[0m │\n",
              "├─────────────────────────────────┼────────────────────────┼───────────────┤\n",
              "│ conv2d_3 (\u001b[38;5;33mConv2D\u001b[0m)               │ (\u001b[38;5;45mNone\u001b[0m, \u001b[38;5;34m14\u001b[0m, \u001b[38;5;34m14\u001b[0m, \u001b[38;5;34m64\u001b[0m)     │        \u001b[38;5;34m18,496\u001b[0m │\n",
              "├─────────────────────────────────┼────────────────────────┼───────────────┤\n",
              "│ max_pooling2d_3 (\u001b[38;5;33mMaxPooling2D\u001b[0m)  │ (\u001b[38;5;45mNone\u001b[0m, \u001b[38;5;34m7\u001b[0m, \u001b[38;5;34m7\u001b[0m, \u001b[38;5;34m64\u001b[0m)       │             \u001b[38;5;34m0\u001b[0m │\n",
              "├─────────────────────────────────┼────────────────────────┼───────────────┤\n",
              "│ flatten_1 (\u001b[38;5;33mFlatten\u001b[0m)             │ (\u001b[38;5;45mNone\u001b[0m, \u001b[38;5;34m3136\u001b[0m)           │             \u001b[38;5;34m0\u001b[0m │\n",
              "├─────────────────────────────────┼────────────────────────┼───────────────┤\n",
              "│ dense_2 (\u001b[38;5;33mDense\u001b[0m)                 │ (\u001b[38;5;45mNone\u001b[0m, \u001b[38;5;34m128\u001b[0m)            │       \u001b[38;5;34m401,536\u001b[0m │\n",
              "├─────────────────────────────────┼────────────────────────┼───────────────┤\n",
              "│ dense_3 (\u001b[38;5;33mDense\u001b[0m)                 │ (\u001b[38;5;45mNone\u001b[0m, \u001b[38;5;34m10\u001b[0m)             │         \u001b[38;5;34m1,290\u001b[0m │\n",
              "└─────────────────────────────────┴────────────────────────┴───────────────┘\n"
            ],
            "text/html": [
              "<pre style=\"white-space:pre;overflow-x:auto;line-height:normal;font-family:Menlo,'DejaVu Sans Mono',consolas,'Courier New',monospace\">┏━━━━━━━━━━━━━━━━━━━━━━━━━━━━━━━━━┳━━━━━━━━━━━━━━━━━━━━━━━━┳━━━━━━━━━━━━━━━┓\n",
              "┃<span style=\"font-weight: bold\"> Layer (type)                    </span>┃<span style=\"font-weight: bold\"> Output Shape           </span>┃<span style=\"font-weight: bold\">       Param # </span>┃\n",
              "┡━━━━━━━━━━━━━━━━━━━━━━━━━━━━━━━━━╇━━━━━━━━━━━━━━━━━━━━━━━━╇━━━━━━━━━━━━━━━┩\n",
              "│ conv2d_2 (<span style=\"color: #0087ff; text-decoration-color: #0087ff\">Conv2D</span>)               │ (<span style=\"color: #00d7ff; text-decoration-color: #00d7ff\">None</span>, <span style=\"color: #00af00; text-decoration-color: #00af00\">28</span>, <span style=\"color: #00af00; text-decoration-color: #00af00\">28</span>, <span style=\"color: #00af00; text-decoration-color: #00af00\">32</span>)     │           <span style=\"color: #00af00; text-decoration-color: #00af00\">320</span> │\n",
              "├─────────────────────────────────┼────────────────────────┼───────────────┤\n",
              "│ max_pooling2d_2 (<span style=\"color: #0087ff; text-decoration-color: #0087ff\">MaxPooling2D</span>)  │ (<span style=\"color: #00d7ff; text-decoration-color: #00d7ff\">None</span>, <span style=\"color: #00af00; text-decoration-color: #00af00\">14</span>, <span style=\"color: #00af00; text-decoration-color: #00af00\">14</span>, <span style=\"color: #00af00; text-decoration-color: #00af00\">32</span>)     │             <span style=\"color: #00af00; text-decoration-color: #00af00\">0</span> │\n",
              "├─────────────────────────────────┼────────────────────────┼───────────────┤\n",
              "│ conv2d_3 (<span style=\"color: #0087ff; text-decoration-color: #0087ff\">Conv2D</span>)               │ (<span style=\"color: #00d7ff; text-decoration-color: #00d7ff\">None</span>, <span style=\"color: #00af00; text-decoration-color: #00af00\">14</span>, <span style=\"color: #00af00; text-decoration-color: #00af00\">14</span>, <span style=\"color: #00af00; text-decoration-color: #00af00\">64</span>)     │        <span style=\"color: #00af00; text-decoration-color: #00af00\">18,496</span> │\n",
              "├─────────────────────────────────┼────────────────────────┼───────────────┤\n",
              "│ max_pooling2d_3 (<span style=\"color: #0087ff; text-decoration-color: #0087ff\">MaxPooling2D</span>)  │ (<span style=\"color: #00d7ff; text-decoration-color: #00d7ff\">None</span>, <span style=\"color: #00af00; text-decoration-color: #00af00\">7</span>, <span style=\"color: #00af00; text-decoration-color: #00af00\">7</span>, <span style=\"color: #00af00; text-decoration-color: #00af00\">64</span>)       │             <span style=\"color: #00af00; text-decoration-color: #00af00\">0</span> │\n",
              "├─────────────────────────────────┼────────────────────────┼───────────────┤\n",
              "│ flatten_1 (<span style=\"color: #0087ff; text-decoration-color: #0087ff\">Flatten</span>)             │ (<span style=\"color: #00d7ff; text-decoration-color: #00d7ff\">None</span>, <span style=\"color: #00af00; text-decoration-color: #00af00\">3136</span>)           │             <span style=\"color: #00af00; text-decoration-color: #00af00\">0</span> │\n",
              "├─────────────────────────────────┼────────────────────────┼───────────────┤\n",
              "│ dense_2 (<span style=\"color: #0087ff; text-decoration-color: #0087ff\">Dense</span>)                 │ (<span style=\"color: #00d7ff; text-decoration-color: #00d7ff\">None</span>, <span style=\"color: #00af00; text-decoration-color: #00af00\">128</span>)            │       <span style=\"color: #00af00; text-decoration-color: #00af00\">401,536</span> │\n",
              "├─────────────────────────────────┼────────────────────────┼───────────────┤\n",
              "│ dense_3 (<span style=\"color: #0087ff; text-decoration-color: #0087ff\">Dense</span>)                 │ (<span style=\"color: #00d7ff; text-decoration-color: #00d7ff\">None</span>, <span style=\"color: #00af00; text-decoration-color: #00af00\">10</span>)             │         <span style=\"color: #00af00; text-decoration-color: #00af00\">1,290</span> │\n",
              "└─────────────────────────────────┴────────────────────────┴───────────────┘\n",
              "</pre>\n"
            ]
          },
          "metadata": {}
        },
        {
          "output_type": "display_data",
          "data": {
            "text/plain": [
              "\u001b[1m Total params: \u001b[0m\u001b[38;5;34m421,642\u001b[0m (1.61 MB)\n"
            ],
            "text/html": [
              "<pre style=\"white-space:pre;overflow-x:auto;line-height:normal;font-family:Menlo,'DejaVu Sans Mono',consolas,'Courier New',monospace\"><span style=\"font-weight: bold\"> Total params: </span><span style=\"color: #00af00; text-decoration-color: #00af00\">421,642</span> (1.61 MB)\n",
              "</pre>\n"
            ]
          },
          "metadata": {}
        },
        {
          "output_type": "display_data",
          "data": {
            "text/plain": [
              "\u001b[1m Trainable params: \u001b[0m\u001b[38;5;34m421,642\u001b[0m (1.61 MB)\n"
            ],
            "text/html": [
              "<pre style=\"white-space:pre;overflow-x:auto;line-height:normal;font-family:Menlo,'DejaVu Sans Mono',consolas,'Courier New',monospace\"><span style=\"font-weight: bold\"> Trainable params: </span><span style=\"color: #00af00; text-decoration-color: #00af00\">421,642</span> (1.61 MB)\n",
              "</pre>\n"
            ]
          },
          "metadata": {}
        },
        {
          "output_type": "display_data",
          "data": {
            "text/plain": [
              "\u001b[1m Non-trainable params: \u001b[0m\u001b[38;5;34m0\u001b[0m (0.00 B)\n"
            ],
            "text/html": [
              "<pre style=\"white-space:pre;overflow-x:auto;line-height:normal;font-family:Menlo,'DejaVu Sans Mono',consolas,'Courier New',monospace\"><span style=\"font-weight: bold\"> Non-trainable params: </span><span style=\"color: #00af00; text-decoration-color: #00af00\">0</span> (0.00 B)\n",
              "</pre>\n"
            ]
          },
          "metadata": {}
        },
        {
          "output_type": "stream",
          "name": "stdout",
          "text": [
            "Epoch 1/15\n",
            "\u001b[1m766/766\u001b[0m \u001b[32m━━━━━━━━━━━━━━━━━━━━\u001b[0m\u001b[37m\u001b[0m \u001b[1m59s\u001b[0m 75ms/step - accuracy: 0.8384 - loss: 0.5396 - val_accuracy: 0.9750 - val_loss: 3830.1375\n",
            "Epoch 2/15\n",
            "\u001b[1m766/766\u001b[0m \u001b[32m━━━━━━━━━━━━━━━━━━━━\u001b[0m\u001b[37m\u001b[0m \u001b[1m80s\u001b[0m 73ms/step - accuracy: 0.9813 - loss: 0.0660 - val_accuracy: 0.9824 - val_loss: 864.6827\n",
            "Epoch 3/15\n",
            "\u001b[1m766/766\u001b[0m \u001b[32m━━━━━━━━━━━━━━━━━━━━\u001b[0m\u001b[37m\u001b[0m \u001b[1m83s\u001b[0m 74ms/step - accuracy: 0.9882 - loss: 0.0380 - val_accuracy: 0.9851 - val_loss: 2347.8298\n",
            "Epoch 4/15\n",
            "\u001b[1m766/766\u001b[0m \u001b[32m━━━━━━━━━━━━━━━━━━━━\u001b[0m\u001b[37m\u001b[0m \u001b[1m79s\u001b[0m 70ms/step - accuracy: 0.9915 - loss: 0.0274 - val_accuracy: 0.9847 - val_loss: 2205.8286\n",
            "Epoch 5/15\n",
            "\u001b[1m766/766\u001b[0m \u001b[32m━━━━━━━━━━━━━━━━━━━━\u001b[0m\u001b[37m\u001b[0m \u001b[1m57s\u001b[0m 75ms/step - accuracy: 0.9937 - loss: 0.0223 - val_accuracy: 0.9878 - val_loss: 452.3690\n",
            "Epoch 6/15\n",
            "\u001b[1m766/766\u001b[0m \u001b[32m━━━━━━━━━━━━━━━━━━━━\u001b[0m\u001b[37m\u001b[0m \u001b[1m80s\u001b[0m 73ms/step - accuracy: 0.9957 - loss: 0.0139 - val_accuracy: 0.9859 - val_loss: 1831.7777\n",
            "Epoch 7/15\n",
            "\u001b[1m766/766\u001b[0m \u001b[32m━━━━━━━━━━━━━━━━━━━━\u001b[0m\u001b[37m\u001b[0m \u001b[1m80s\u001b[0m 70ms/step - accuracy: 0.9962 - loss: 0.0117 - val_accuracy: 0.9881 - val_loss: 2023.0145\n",
            "Epoch 8/15\n",
            "\u001b[1m766/766\u001b[0m \u001b[32m━━━━━━━━━━━━━━━━━━━━\u001b[0m\u001b[37m\u001b[0m \u001b[1m84s\u001b[0m 73ms/step - accuracy: 0.9975 - loss: 0.0086 - val_accuracy: 0.9881 - val_loss: 1032.7914\n",
            "Epoch 9/15\n",
            "\u001b[1m766/766\u001b[0m \u001b[32m━━━━━━━━━━━━━━━━━━━━\u001b[0m\u001b[37m\u001b[0m \u001b[1m81s\u001b[0m 72ms/step - accuracy: 0.9986 - loss: 0.0060 - val_accuracy: 0.9878 - val_loss: 1948.6038\n",
            "Epoch 10/15\n",
            "\u001b[1m766/766\u001b[0m \u001b[32m━━━━━━━━━━━━━━━━━━━━\u001b[0m\u001b[37m\u001b[0m \u001b[1m83s\u001b[0m 73ms/step - accuracy: 0.9979 - loss: 0.0065 - val_accuracy: 0.9886 - val_loss: 1849.6904\n",
            "Epoch 11/15\n",
            "\u001b[1m766/766\u001b[0m \u001b[32m━━━━━━━━━━━━━━━━━━━━\u001b[0m\u001b[37m\u001b[0m \u001b[1m82s\u001b[0m 73ms/step - accuracy: 0.9988 - loss: 0.0046 - val_accuracy: 0.9895 - val_loss: 3505.9604\n",
            "Epoch 12/15\n",
            "\u001b[1m766/766\u001b[0m \u001b[32m━━━━━━━━━━━━━━━━━━━━\u001b[0m\u001b[37m\u001b[0m \u001b[1m80s\u001b[0m 71ms/step - accuracy: 0.9994 - loss: 0.0023 - val_accuracy: 0.9888 - val_loss: 3093.2515\n",
            "Epoch 13/15\n",
            "\u001b[1m766/766\u001b[0m \u001b[32m━━━━━━━━━━━━━━━━━━━━\u001b[0m\u001b[37m\u001b[0m \u001b[1m55s\u001b[0m 72ms/step - accuracy: 0.9996 - loss: 0.0017 - val_accuracy: 0.9896 - val_loss: 2996.1355\n",
            "Epoch 14/15\n",
            "\u001b[1m766/766\u001b[0m \u001b[32m━━━━━━━━━━━━━━━━━━━━\u001b[0m\u001b[37m\u001b[0m \u001b[1m56s\u001b[0m 74ms/step - accuracy: 0.9998 - loss: 9.6526e-04 - val_accuracy: 0.9894 - val_loss: 3130.5605\n",
            "Epoch 15/15\n",
            "\u001b[1m766/766\u001b[0m \u001b[32m━━━━━━━━━━━━━━━━━━━━\u001b[0m\u001b[37m\u001b[0m \u001b[1m80s\u001b[0m 71ms/step - accuracy: 0.9999 - loss: 9.5693e-04 - val_accuracy: 0.9892 - val_loss: 3130.5623\n",
            "\n",
            "Final Training Accuracy : 0.9999\n",
            "Final Validation Accuracy: 0.9892\n",
            "Test  Accuracy           : 0.9891\n",
            "Params                  : 421,642\n",
            "Avg Train time/epoch     : 76.49 s\n",
            "Test time               : 4.29 s\n",
            "\n",
            "Training  Opt-1  Added a layer 128 Channels\n"
          ]
        },
        {
          "output_type": "display_data",
          "data": {
            "text/plain": [
              "\u001b[1mModel: \"sequential_2\"\u001b[0m\n"
            ],
            "text/html": [
              "<pre style=\"white-space:pre;overflow-x:auto;line-height:normal;font-family:Menlo,'DejaVu Sans Mono',consolas,'Courier New',monospace\"><span style=\"font-weight: bold\">Model: \"sequential_2\"</span>\n",
              "</pre>\n"
            ]
          },
          "metadata": {}
        },
        {
          "output_type": "display_data",
          "data": {
            "text/plain": [
              "┏━━━━━━━━━━━━━━━━━━━━━━━━━━━━━━━━━┳━━━━━━━━━━━━━━━━━━━━━━━━┳━━━━━━━━━━━━━━━┓\n",
              "┃\u001b[1m \u001b[0m\u001b[1mLayer (type)                   \u001b[0m\u001b[1m \u001b[0m┃\u001b[1m \u001b[0m\u001b[1mOutput Shape          \u001b[0m\u001b[1m \u001b[0m┃\u001b[1m \u001b[0m\u001b[1m      Param #\u001b[0m\u001b[1m \u001b[0m┃\n",
              "┡━━━━━━━━━━━━━━━━━━━━━━━━━━━━━━━━━╇━━━━━━━━━━━━━━━━━━━━━━━━╇━━━━━━━━━━━━━━━┩\n",
              "│ conv2d_4 (\u001b[38;5;33mConv2D\u001b[0m)               │ (\u001b[38;5;45mNone\u001b[0m, \u001b[38;5;34m28\u001b[0m, \u001b[38;5;34m28\u001b[0m, \u001b[38;5;34m32\u001b[0m)     │           \u001b[38;5;34m320\u001b[0m │\n",
              "├─────────────────────────────────┼────────────────────────┼───────────────┤\n",
              "│ max_pooling2d_4 (\u001b[38;5;33mMaxPooling2D\u001b[0m)  │ (\u001b[38;5;45mNone\u001b[0m, \u001b[38;5;34m14\u001b[0m, \u001b[38;5;34m14\u001b[0m, \u001b[38;5;34m32\u001b[0m)     │             \u001b[38;5;34m0\u001b[0m │\n",
              "├─────────────────────────────────┼────────────────────────┼───────────────┤\n",
              "│ conv2d_5 (\u001b[38;5;33mConv2D\u001b[0m)               │ (\u001b[38;5;45mNone\u001b[0m, \u001b[38;5;34m14\u001b[0m, \u001b[38;5;34m14\u001b[0m, \u001b[38;5;34m64\u001b[0m)     │        \u001b[38;5;34m18,496\u001b[0m │\n",
              "├─────────────────────────────────┼────────────────────────┼───────────────┤\n",
              "│ max_pooling2d_5 (\u001b[38;5;33mMaxPooling2D\u001b[0m)  │ (\u001b[38;5;45mNone\u001b[0m, \u001b[38;5;34m7\u001b[0m, \u001b[38;5;34m7\u001b[0m, \u001b[38;5;34m64\u001b[0m)       │             \u001b[38;5;34m0\u001b[0m │\n",
              "├─────────────────────────────────┼────────────────────────┼───────────────┤\n",
              "│ conv2d_6 (\u001b[38;5;33mConv2D\u001b[0m)               │ (\u001b[38;5;45mNone\u001b[0m, \u001b[38;5;34m7\u001b[0m, \u001b[38;5;34m7\u001b[0m, \u001b[38;5;34m128\u001b[0m)      │        \u001b[38;5;34m73,856\u001b[0m │\n",
              "├─────────────────────────────────┼────────────────────────┼───────────────┤\n",
              "│ max_pooling2d_6 (\u001b[38;5;33mMaxPooling2D\u001b[0m)  │ (\u001b[38;5;45mNone\u001b[0m, \u001b[38;5;34m3\u001b[0m, \u001b[38;5;34m3\u001b[0m, \u001b[38;5;34m128\u001b[0m)      │             \u001b[38;5;34m0\u001b[0m │\n",
              "├─────────────────────────────────┼────────────────────────┼───────────────┤\n",
              "│ flatten_2 (\u001b[38;5;33mFlatten\u001b[0m)             │ (\u001b[38;5;45mNone\u001b[0m, \u001b[38;5;34m1152\u001b[0m)           │             \u001b[38;5;34m0\u001b[0m │\n",
              "├─────────────────────────────────┼────────────────────────┼───────────────┤\n",
              "│ dense_4 (\u001b[38;5;33mDense\u001b[0m)                 │ (\u001b[38;5;45mNone\u001b[0m, \u001b[38;5;34m128\u001b[0m)            │       \u001b[38;5;34m147,584\u001b[0m │\n",
              "├─────────────────────────────────┼────────────────────────┼───────────────┤\n",
              "│ dense_5 (\u001b[38;5;33mDense\u001b[0m)                 │ (\u001b[38;5;45mNone\u001b[0m, \u001b[38;5;34m10\u001b[0m)             │         \u001b[38;5;34m1,290\u001b[0m │\n",
              "└─────────────────────────────────┴────────────────────────┴───────────────┘\n"
            ],
            "text/html": [
              "<pre style=\"white-space:pre;overflow-x:auto;line-height:normal;font-family:Menlo,'DejaVu Sans Mono',consolas,'Courier New',monospace\">┏━━━━━━━━━━━━━━━━━━━━━━━━━━━━━━━━━┳━━━━━━━━━━━━━━━━━━━━━━━━┳━━━━━━━━━━━━━━━┓\n",
              "┃<span style=\"font-weight: bold\"> Layer (type)                    </span>┃<span style=\"font-weight: bold\"> Output Shape           </span>┃<span style=\"font-weight: bold\">       Param # </span>┃\n",
              "┡━━━━━━━━━━━━━━━━━━━━━━━━━━━━━━━━━╇━━━━━━━━━━━━━━━━━━━━━━━━╇━━━━━━━━━━━━━━━┩\n",
              "│ conv2d_4 (<span style=\"color: #0087ff; text-decoration-color: #0087ff\">Conv2D</span>)               │ (<span style=\"color: #00d7ff; text-decoration-color: #00d7ff\">None</span>, <span style=\"color: #00af00; text-decoration-color: #00af00\">28</span>, <span style=\"color: #00af00; text-decoration-color: #00af00\">28</span>, <span style=\"color: #00af00; text-decoration-color: #00af00\">32</span>)     │           <span style=\"color: #00af00; text-decoration-color: #00af00\">320</span> │\n",
              "├─────────────────────────────────┼────────────────────────┼───────────────┤\n",
              "│ max_pooling2d_4 (<span style=\"color: #0087ff; text-decoration-color: #0087ff\">MaxPooling2D</span>)  │ (<span style=\"color: #00d7ff; text-decoration-color: #00d7ff\">None</span>, <span style=\"color: #00af00; text-decoration-color: #00af00\">14</span>, <span style=\"color: #00af00; text-decoration-color: #00af00\">14</span>, <span style=\"color: #00af00; text-decoration-color: #00af00\">32</span>)     │             <span style=\"color: #00af00; text-decoration-color: #00af00\">0</span> │\n",
              "├─────────────────────────────────┼────────────────────────┼───────────────┤\n",
              "│ conv2d_5 (<span style=\"color: #0087ff; text-decoration-color: #0087ff\">Conv2D</span>)               │ (<span style=\"color: #00d7ff; text-decoration-color: #00d7ff\">None</span>, <span style=\"color: #00af00; text-decoration-color: #00af00\">14</span>, <span style=\"color: #00af00; text-decoration-color: #00af00\">14</span>, <span style=\"color: #00af00; text-decoration-color: #00af00\">64</span>)     │        <span style=\"color: #00af00; text-decoration-color: #00af00\">18,496</span> │\n",
              "├─────────────────────────────────┼────────────────────────┼───────────────┤\n",
              "│ max_pooling2d_5 (<span style=\"color: #0087ff; text-decoration-color: #0087ff\">MaxPooling2D</span>)  │ (<span style=\"color: #00d7ff; text-decoration-color: #00d7ff\">None</span>, <span style=\"color: #00af00; text-decoration-color: #00af00\">7</span>, <span style=\"color: #00af00; text-decoration-color: #00af00\">7</span>, <span style=\"color: #00af00; text-decoration-color: #00af00\">64</span>)       │             <span style=\"color: #00af00; text-decoration-color: #00af00\">0</span> │\n",
              "├─────────────────────────────────┼────────────────────────┼───────────────┤\n",
              "│ conv2d_6 (<span style=\"color: #0087ff; text-decoration-color: #0087ff\">Conv2D</span>)               │ (<span style=\"color: #00d7ff; text-decoration-color: #00d7ff\">None</span>, <span style=\"color: #00af00; text-decoration-color: #00af00\">7</span>, <span style=\"color: #00af00; text-decoration-color: #00af00\">7</span>, <span style=\"color: #00af00; text-decoration-color: #00af00\">128</span>)      │        <span style=\"color: #00af00; text-decoration-color: #00af00\">73,856</span> │\n",
              "├─────────────────────────────────┼────────────────────────┼───────────────┤\n",
              "│ max_pooling2d_6 (<span style=\"color: #0087ff; text-decoration-color: #0087ff\">MaxPooling2D</span>)  │ (<span style=\"color: #00d7ff; text-decoration-color: #00d7ff\">None</span>, <span style=\"color: #00af00; text-decoration-color: #00af00\">3</span>, <span style=\"color: #00af00; text-decoration-color: #00af00\">3</span>, <span style=\"color: #00af00; text-decoration-color: #00af00\">128</span>)      │             <span style=\"color: #00af00; text-decoration-color: #00af00\">0</span> │\n",
              "├─────────────────────────────────┼────────────────────────┼───────────────┤\n",
              "│ flatten_2 (<span style=\"color: #0087ff; text-decoration-color: #0087ff\">Flatten</span>)             │ (<span style=\"color: #00d7ff; text-decoration-color: #00d7ff\">None</span>, <span style=\"color: #00af00; text-decoration-color: #00af00\">1152</span>)           │             <span style=\"color: #00af00; text-decoration-color: #00af00\">0</span> │\n",
              "├─────────────────────────────────┼────────────────────────┼───────────────┤\n",
              "│ dense_4 (<span style=\"color: #0087ff; text-decoration-color: #0087ff\">Dense</span>)                 │ (<span style=\"color: #00d7ff; text-decoration-color: #00d7ff\">None</span>, <span style=\"color: #00af00; text-decoration-color: #00af00\">128</span>)            │       <span style=\"color: #00af00; text-decoration-color: #00af00\">147,584</span> │\n",
              "├─────────────────────────────────┼────────────────────────┼───────────────┤\n",
              "│ dense_5 (<span style=\"color: #0087ff; text-decoration-color: #0087ff\">Dense</span>)                 │ (<span style=\"color: #00d7ff; text-decoration-color: #00d7ff\">None</span>, <span style=\"color: #00af00; text-decoration-color: #00af00\">10</span>)             │         <span style=\"color: #00af00; text-decoration-color: #00af00\">1,290</span> │\n",
              "└─────────────────────────────────┴────────────────────────┴───────────────┘\n",
              "</pre>\n"
            ]
          },
          "metadata": {}
        },
        {
          "output_type": "display_data",
          "data": {
            "text/plain": [
              "\u001b[1m Total params: \u001b[0m\u001b[38;5;34m241,546\u001b[0m (943.54 KB)\n"
            ],
            "text/html": [
              "<pre style=\"white-space:pre;overflow-x:auto;line-height:normal;font-family:Menlo,'DejaVu Sans Mono',consolas,'Courier New',monospace\"><span style=\"font-weight: bold\"> Total params: </span><span style=\"color: #00af00; text-decoration-color: #00af00\">241,546</span> (943.54 KB)\n",
              "</pre>\n"
            ]
          },
          "metadata": {}
        },
        {
          "output_type": "display_data",
          "data": {
            "text/plain": [
              "\u001b[1m Trainable params: \u001b[0m\u001b[38;5;34m241,546\u001b[0m (943.54 KB)\n"
            ],
            "text/html": [
              "<pre style=\"white-space:pre;overflow-x:auto;line-height:normal;font-family:Menlo,'DejaVu Sans Mono',consolas,'Courier New',monospace\"><span style=\"font-weight: bold\"> Trainable params: </span><span style=\"color: #00af00; text-decoration-color: #00af00\">241,546</span> (943.54 KB)\n",
              "</pre>\n"
            ]
          },
          "metadata": {}
        },
        {
          "output_type": "display_data",
          "data": {
            "text/plain": [
              "\u001b[1m Non-trainable params: \u001b[0m\u001b[38;5;34m0\u001b[0m (0.00 B)\n"
            ],
            "text/html": [
              "<pre style=\"white-space:pre;overflow-x:auto;line-height:normal;font-family:Menlo,'DejaVu Sans Mono',consolas,'Courier New',monospace\"><span style=\"font-weight: bold\"> Non-trainable params: </span><span style=\"color: #00af00; text-decoration-color: #00af00\">0</span> (0.00 B)\n",
              "</pre>\n"
            ]
          },
          "metadata": {}
        },
        {
          "output_type": "stream",
          "name": "stdout",
          "text": [
            "Epoch 1/15\n",
            "\u001b[1m766/766\u001b[0m \u001b[32m━━━━━━━━━━━━━━━━━━━━\u001b[0m\u001b[37m\u001b[0m \u001b[1m78s\u001b[0m 100ms/step - accuracy: 0.8116 - loss: 0.6116 - val_accuracy: 0.9691 - val_loss: 1311.8024\n",
            "Epoch 2/15\n",
            "\u001b[1m766/766\u001b[0m \u001b[32m━━━━━━━━━━━━━━━━━━━━\u001b[0m\u001b[37m\u001b[0m \u001b[1m81s\u001b[0m 100ms/step - accuracy: 0.9817 - loss: 0.0598 - val_accuracy: 0.9828 - val_loss: 2165.3303\n",
            "Epoch 3/15\n",
            "\u001b[1m766/766\u001b[0m \u001b[32m━━━━━━━━━━━━━━━━━━━━\u001b[0m\u001b[37m\u001b[0m \u001b[1m82s\u001b[0m 100ms/step - accuracy: 0.9887 - loss: 0.0373 - val_accuracy: 0.9836 - val_loss: 2907.2634\n",
            "Epoch 4/15\n",
            "\u001b[1m766/766\u001b[0m \u001b[32m━━━━━━━━━━━━━━━━━━━━\u001b[0m\u001b[37m\u001b[0m \u001b[1m83s\u001b[0m 102ms/step - accuracy: 0.9932 - loss: 0.0216 - val_accuracy: 0.9846 - val_loss: 4107.3496\n",
            "Epoch 5/15\n",
            "\u001b[1m766/766\u001b[0m \u001b[32m━━━━━━━━━━━━━━━━━━━━\u001b[0m\u001b[37m\u001b[0m \u001b[1m83s\u001b[0m 102ms/step - accuracy: 0.9941 - loss: 0.0189 - val_accuracy: 0.9851 - val_loss: 9618.8047\n",
            "Epoch 6/15\n",
            "\u001b[1m766/766\u001b[0m \u001b[32m━━━━━━━━━━━━━━━━━━━━\u001b[0m\u001b[37m\u001b[0m \u001b[1m76s\u001b[0m 100ms/step - accuracy: 0.9958 - loss: 0.0140 - val_accuracy: 0.9874 - val_loss: 3003.0022\n",
            "Epoch 7/15\n",
            "\u001b[1m766/766\u001b[0m \u001b[32m━━━━━━━━━━━━━━━━━━━━\u001b[0m\u001b[37m\u001b[0m \u001b[1m83s\u001b[0m 101ms/step - accuracy: 0.9971 - loss: 0.0084 - val_accuracy: 0.9896 - val_loss: 4653.2021\n",
            "Epoch 8/15\n",
            "\u001b[1m766/766\u001b[0m \u001b[32m━━━━━━━━━━━━━━━━━━━━\u001b[0m\u001b[37m\u001b[0m \u001b[1m82s\u001b[0m 101ms/step - accuracy: 0.9979 - loss: 0.0064 - val_accuracy: 0.9899 - val_loss: 4213.2173\n",
            "Epoch 9/15\n",
            "\u001b[1m766/766\u001b[0m \u001b[32m━━━━━━━━━━━━━━━━━━━━\u001b[0m\u001b[37m\u001b[0m \u001b[1m83s\u001b[0m 103ms/step - accuracy: 0.9993 - loss: 0.0027 - val_accuracy: 0.9910 - val_loss: 4166.4927\n",
            "Epoch 10/15\n",
            "\u001b[1m766/766\u001b[0m \u001b[32m━━━━━━━━━━━━━━━━━━━━\u001b[0m\u001b[37m\u001b[0m \u001b[1m81s\u001b[0m 101ms/step - accuracy: 0.9995 - loss: 0.0023 - val_accuracy: 0.9893 - val_loss: 4107.7197\n",
            "Epoch 11/15\n",
            "\u001b[1m766/766\u001b[0m \u001b[32m━━━━━━━━━━━━━━━━━━━━\u001b[0m\u001b[37m\u001b[0m \u001b[1m82s\u001b[0m 101ms/step - accuracy: 0.9995 - loss: 0.0018 - val_accuracy: 0.9905 - val_loss: 4800.7251\n",
            "Epoch 12/15\n",
            "\u001b[1m766/766\u001b[0m \u001b[32m━━━━━━━━━━━━━━━━━━━━\u001b[0m\u001b[37m\u001b[0m \u001b[1m81s\u001b[0m 100ms/step - accuracy: 0.9998 - loss: 0.0011 - val_accuracy: 0.9911 - val_loss: 6518.9844\n",
            "Epoch 13/15\n",
            "\u001b[1m766/766\u001b[0m \u001b[32m━━━━━━━━━━━━━━━━━━━━\u001b[0m\u001b[37m\u001b[0m \u001b[1m83s\u001b[0m 102ms/step - accuracy: 1.0000 - loss: 2.8969e-04 - val_accuracy: 0.9910 - val_loss: 7000.3389\n",
            "Epoch 14/15\n",
            "\u001b[1m766/766\u001b[0m \u001b[32m━━━━━━━━━━━━━━━━━━━━\u001b[0m\u001b[37m\u001b[0m \u001b[1m81s\u001b[0m 100ms/step - accuracy: 1.0000 - loss: 1.9315e-04 - val_accuracy: 0.9911 - val_loss: 7139.4751\n",
            "Epoch 15/15\n",
            "\u001b[1m766/766\u001b[0m \u001b[32m━━━━━━━━━━━━━━━━━━━━\u001b[0m\u001b[37m\u001b[0m \u001b[1m76s\u001b[0m 99ms/step - accuracy: 1.0000 - loss: 1.6463e-04 - val_accuracy: 0.9911 - val_loss: 7341.3232\n",
            "\n",
            "Final Training Accuracy : 1.0000\n",
            "Final Validation Accuracy: 0.9911\n",
            "Test  Accuracy           : 0.9915\n",
            "Params                  : 241,546\n",
            "Avg Train time/epoch     : 81.48 s\n",
            "Test time               : 5.19 s\n",
            "\n",
            "Training  Opt-2  Changed the layers to 32 and 64 \n"
          ]
        },
        {
          "output_type": "display_data",
          "data": {
            "text/plain": [
              "\u001b[1mModel: \"sequential_3\"\u001b[0m\n"
            ],
            "text/html": [
              "<pre style=\"white-space:pre;overflow-x:auto;line-height:normal;font-family:Menlo,'DejaVu Sans Mono',consolas,'Courier New',monospace\"><span style=\"font-weight: bold\">Model: \"sequential_3\"</span>\n",
              "</pre>\n"
            ]
          },
          "metadata": {}
        },
        {
          "output_type": "display_data",
          "data": {
            "text/plain": [
              "┏━━━━━━━━━━━━━━━━━━━━━━━━━━━━━━━━━┳━━━━━━━━━━━━━━━━━━━━━━━━┳━━━━━━━━━━━━━━━┓\n",
              "┃\u001b[1m \u001b[0m\u001b[1mLayer (type)                   \u001b[0m\u001b[1m \u001b[0m┃\u001b[1m \u001b[0m\u001b[1mOutput Shape          \u001b[0m\u001b[1m \u001b[0m┃\u001b[1m \u001b[0m\u001b[1m      Param #\u001b[0m\u001b[1m \u001b[0m┃\n",
              "┡━━━━━━━━━━━━━━━━━━━━━━━━━━━━━━━━━╇━━━━━━━━━━━━━━━━━━━━━━━━╇━━━━━━━━━━━━━━━┩\n",
              "│ conv2d_7 (\u001b[38;5;33mConv2D\u001b[0m)               │ (\u001b[38;5;45mNone\u001b[0m, \u001b[38;5;34m28\u001b[0m, \u001b[38;5;34m28\u001b[0m, \u001b[38;5;34m64\u001b[0m)     │           \u001b[38;5;34m640\u001b[0m │\n",
              "├─────────────────────────────────┼────────────────────────┼───────────────┤\n",
              "│ max_pooling2d_7 (\u001b[38;5;33mMaxPooling2D\u001b[0m)  │ (\u001b[38;5;45mNone\u001b[0m, \u001b[38;5;34m14\u001b[0m, \u001b[38;5;34m14\u001b[0m, \u001b[38;5;34m64\u001b[0m)     │             \u001b[38;5;34m0\u001b[0m │\n",
              "├─────────────────────────────────┼────────────────────────┼───────────────┤\n",
              "│ conv2d_8 (\u001b[38;5;33mConv2D\u001b[0m)               │ (\u001b[38;5;45mNone\u001b[0m, \u001b[38;5;34m14\u001b[0m, \u001b[38;5;34m14\u001b[0m, \u001b[38;5;34m128\u001b[0m)    │        \u001b[38;5;34m73,856\u001b[0m │\n",
              "├─────────────────────────────────┼────────────────────────┼───────────────┤\n",
              "│ max_pooling2d_8 (\u001b[38;5;33mMaxPooling2D\u001b[0m)  │ (\u001b[38;5;45mNone\u001b[0m, \u001b[38;5;34m7\u001b[0m, \u001b[38;5;34m7\u001b[0m, \u001b[38;5;34m128\u001b[0m)      │             \u001b[38;5;34m0\u001b[0m │\n",
              "├─────────────────────────────────┼────────────────────────┼───────────────┤\n",
              "│ flatten_3 (\u001b[38;5;33mFlatten\u001b[0m)             │ (\u001b[38;5;45mNone\u001b[0m, \u001b[38;5;34m6272\u001b[0m)           │             \u001b[38;5;34m0\u001b[0m │\n",
              "├─────────────────────────────────┼────────────────────────┼───────────────┤\n",
              "│ dense_6 (\u001b[38;5;33mDense\u001b[0m)                 │ (\u001b[38;5;45mNone\u001b[0m, \u001b[38;5;34m128\u001b[0m)            │       \u001b[38;5;34m802,944\u001b[0m │\n",
              "├─────────────────────────────────┼────────────────────────┼───────────────┤\n",
              "│ dense_7 (\u001b[38;5;33mDense\u001b[0m)                 │ (\u001b[38;5;45mNone\u001b[0m, \u001b[38;5;34m10\u001b[0m)             │         \u001b[38;5;34m1,290\u001b[0m │\n",
              "└─────────────────────────────────┴────────────────────────┴───────────────┘\n"
            ],
            "text/html": [
              "<pre style=\"white-space:pre;overflow-x:auto;line-height:normal;font-family:Menlo,'DejaVu Sans Mono',consolas,'Courier New',monospace\">┏━━━━━━━━━━━━━━━━━━━━━━━━━━━━━━━━━┳━━━━━━━━━━━━━━━━━━━━━━━━┳━━━━━━━━━━━━━━━┓\n",
              "┃<span style=\"font-weight: bold\"> Layer (type)                    </span>┃<span style=\"font-weight: bold\"> Output Shape           </span>┃<span style=\"font-weight: bold\">       Param # </span>┃\n",
              "┡━━━━━━━━━━━━━━━━━━━━━━━━━━━━━━━━━╇━━━━━━━━━━━━━━━━━━━━━━━━╇━━━━━━━━━━━━━━━┩\n",
              "│ conv2d_7 (<span style=\"color: #0087ff; text-decoration-color: #0087ff\">Conv2D</span>)               │ (<span style=\"color: #00d7ff; text-decoration-color: #00d7ff\">None</span>, <span style=\"color: #00af00; text-decoration-color: #00af00\">28</span>, <span style=\"color: #00af00; text-decoration-color: #00af00\">28</span>, <span style=\"color: #00af00; text-decoration-color: #00af00\">64</span>)     │           <span style=\"color: #00af00; text-decoration-color: #00af00\">640</span> │\n",
              "├─────────────────────────────────┼────────────────────────┼───────────────┤\n",
              "│ max_pooling2d_7 (<span style=\"color: #0087ff; text-decoration-color: #0087ff\">MaxPooling2D</span>)  │ (<span style=\"color: #00d7ff; text-decoration-color: #00d7ff\">None</span>, <span style=\"color: #00af00; text-decoration-color: #00af00\">14</span>, <span style=\"color: #00af00; text-decoration-color: #00af00\">14</span>, <span style=\"color: #00af00; text-decoration-color: #00af00\">64</span>)     │             <span style=\"color: #00af00; text-decoration-color: #00af00\">0</span> │\n",
              "├─────────────────────────────────┼────────────────────────┼───────────────┤\n",
              "│ conv2d_8 (<span style=\"color: #0087ff; text-decoration-color: #0087ff\">Conv2D</span>)               │ (<span style=\"color: #00d7ff; text-decoration-color: #00d7ff\">None</span>, <span style=\"color: #00af00; text-decoration-color: #00af00\">14</span>, <span style=\"color: #00af00; text-decoration-color: #00af00\">14</span>, <span style=\"color: #00af00; text-decoration-color: #00af00\">128</span>)    │        <span style=\"color: #00af00; text-decoration-color: #00af00\">73,856</span> │\n",
              "├─────────────────────────────────┼────────────────────────┼───────────────┤\n",
              "│ max_pooling2d_8 (<span style=\"color: #0087ff; text-decoration-color: #0087ff\">MaxPooling2D</span>)  │ (<span style=\"color: #00d7ff; text-decoration-color: #00d7ff\">None</span>, <span style=\"color: #00af00; text-decoration-color: #00af00\">7</span>, <span style=\"color: #00af00; text-decoration-color: #00af00\">7</span>, <span style=\"color: #00af00; text-decoration-color: #00af00\">128</span>)      │             <span style=\"color: #00af00; text-decoration-color: #00af00\">0</span> │\n",
              "├─────────────────────────────────┼────────────────────────┼───────────────┤\n",
              "│ flatten_3 (<span style=\"color: #0087ff; text-decoration-color: #0087ff\">Flatten</span>)             │ (<span style=\"color: #00d7ff; text-decoration-color: #00d7ff\">None</span>, <span style=\"color: #00af00; text-decoration-color: #00af00\">6272</span>)           │             <span style=\"color: #00af00; text-decoration-color: #00af00\">0</span> │\n",
              "├─────────────────────────────────┼────────────────────────┼───────────────┤\n",
              "│ dense_6 (<span style=\"color: #0087ff; text-decoration-color: #0087ff\">Dense</span>)                 │ (<span style=\"color: #00d7ff; text-decoration-color: #00d7ff\">None</span>, <span style=\"color: #00af00; text-decoration-color: #00af00\">128</span>)            │       <span style=\"color: #00af00; text-decoration-color: #00af00\">802,944</span> │\n",
              "├─────────────────────────────────┼────────────────────────┼───────────────┤\n",
              "│ dense_7 (<span style=\"color: #0087ff; text-decoration-color: #0087ff\">Dense</span>)                 │ (<span style=\"color: #00d7ff; text-decoration-color: #00d7ff\">None</span>, <span style=\"color: #00af00; text-decoration-color: #00af00\">10</span>)             │         <span style=\"color: #00af00; text-decoration-color: #00af00\">1,290</span> │\n",
              "└─────────────────────────────────┴────────────────────────┴───────────────┘\n",
              "</pre>\n"
            ]
          },
          "metadata": {}
        },
        {
          "output_type": "display_data",
          "data": {
            "text/plain": [
              "\u001b[1m Total params: \u001b[0m\u001b[38;5;34m878,730\u001b[0m (3.35 MB)\n"
            ],
            "text/html": [
              "<pre style=\"white-space:pre;overflow-x:auto;line-height:normal;font-family:Menlo,'DejaVu Sans Mono',consolas,'Courier New',monospace\"><span style=\"font-weight: bold\"> Total params: </span><span style=\"color: #00af00; text-decoration-color: #00af00\">878,730</span> (3.35 MB)\n",
              "</pre>\n"
            ]
          },
          "metadata": {}
        },
        {
          "output_type": "display_data",
          "data": {
            "text/plain": [
              "\u001b[1m Trainable params: \u001b[0m\u001b[38;5;34m878,730\u001b[0m (3.35 MB)\n"
            ],
            "text/html": [
              "<pre style=\"white-space:pre;overflow-x:auto;line-height:normal;font-family:Menlo,'DejaVu Sans Mono',consolas,'Courier New',monospace\"><span style=\"font-weight: bold\"> Trainable params: </span><span style=\"color: #00af00; text-decoration-color: #00af00\">878,730</span> (3.35 MB)\n",
              "</pre>\n"
            ]
          },
          "metadata": {}
        },
        {
          "output_type": "display_data",
          "data": {
            "text/plain": [
              "\u001b[1m Non-trainable params: \u001b[0m\u001b[38;5;34m0\u001b[0m (0.00 B)\n"
            ],
            "text/html": [
              "<pre style=\"white-space:pre;overflow-x:auto;line-height:normal;font-family:Menlo,'DejaVu Sans Mono',consolas,'Courier New',monospace\"><span style=\"font-weight: bold\"> Non-trainable params: </span><span style=\"color: #00af00; text-decoration-color: #00af00\">0</span> (0.00 B)\n",
              "</pre>\n"
            ]
          },
          "metadata": {}
        },
        {
          "output_type": "stream",
          "name": "stdout",
          "text": [
            "Epoch 1/15\n",
            "\u001b[1m766/766\u001b[0m \u001b[32m━━━━━━━━━━━━━━━━━━━━\u001b[0m\u001b[37m\u001b[0m \u001b[1m140s\u001b[0m 180ms/step - accuracy: 0.8532 - loss: 0.4882 - val_accuracy: 0.9758 - val_loss: 1158.6338\n",
            "Epoch 2/15\n",
            "\u001b[1m766/766\u001b[0m \u001b[32m━━━━━━━━━━━━━━━━━━━━\u001b[0m\u001b[37m\u001b[0m \u001b[1m143s\u001b[0m 182ms/step - accuracy: 0.9825 - loss: 0.0593 - val_accuracy: 0.9764 - val_loss: 1117.3334\n",
            "Epoch 3/15\n",
            "\u001b[1m766/766\u001b[0m \u001b[32m━━━━━━━━━━━━━━━━━━━━\u001b[0m\u001b[37m\u001b[0m \u001b[1m137s\u001b[0m 179ms/step - accuracy: 0.9889 - loss: 0.0364 - val_accuracy: 0.9826 - val_loss: 1232.2506\n",
            "Epoch 4/15\n",
            "\u001b[1m766/766\u001b[0m \u001b[32m━━━━━━━━━━━━━━━━━━━━\u001b[0m\u001b[37m\u001b[0m \u001b[1m139s\u001b[0m 176ms/step - accuracy: 0.9903 - loss: 0.0292 - val_accuracy: 0.9847 - val_loss: 6143.7295\n",
            "Epoch 5/15\n",
            "\u001b[1m766/766\u001b[0m \u001b[32m━━━━━━━━━━━━━━━━━━━━\u001b[0m\u001b[37m\u001b[0m \u001b[1m138s\u001b[0m 180ms/step - accuracy: 0.9947 - loss: 0.0184 - val_accuracy: 0.9867 - val_loss: 4837.4502\n",
            "Epoch 6/15\n",
            "\u001b[1m766/766\u001b[0m \u001b[32m━━━━━━━━━━━━━━━━━━━━\u001b[0m\u001b[37m\u001b[0m \u001b[1m140s\u001b[0m 177ms/step - accuracy: 0.9958 - loss: 0.0126 - val_accuracy: 0.9870 - val_loss: 4776.5000\n",
            "Epoch 7/15\n",
            "\u001b[1m766/766\u001b[0m \u001b[32m━━━━━━━━━━━━━━━━━━━━\u001b[0m\u001b[37m\u001b[0m \u001b[1m140s\u001b[0m 182ms/step - accuracy: 0.9965 - loss: 0.0109 - val_accuracy: 0.9881 - val_loss: 4387.5825\n",
            "Epoch 8/15\n",
            "\u001b[1m766/766\u001b[0m \u001b[32m━━━━━━━━━━━━━━━━━━━━\u001b[0m\u001b[37m\u001b[0m \u001b[1m138s\u001b[0m 178ms/step - accuracy: 0.9976 - loss: 0.0083 - val_accuracy: 0.9866 - val_loss: 2323.7014\n",
            "Epoch 9/15\n",
            "\u001b[1m766/766\u001b[0m \u001b[32m━━━━━━━━━━━━━━━━━━━━\u001b[0m\u001b[37m\u001b[0m \u001b[1m143s\u001b[0m 179ms/step - accuracy: 0.9983 - loss: 0.0068 - val_accuracy: 0.9885 - val_loss: 3626.6582\n",
            "Epoch 10/15\n",
            "\u001b[1m766/766\u001b[0m \u001b[32m━━━━━━━━━━━━━━━━━━━━\u001b[0m\u001b[37m\u001b[0m \u001b[1m141s\u001b[0m 178ms/step - accuracy: 0.9988 - loss: 0.0041 - val_accuracy: 0.9882 - val_loss: 3989.7703\n",
            "Epoch 11/15\n",
            "\u001b[1m766/766\u001b[0m \u001b[32m━━━━━━━━━━━━━━━━━━━━\u001b[0m\u001b[37m\u001b[0m \u001b[1m138s\u001b[0m 180ms/step - accuracy: 0.9994 - loss: 0.0029 - val_accuracy: 0.9890 - val_loss: 4738.6309\n",
            "Epoch 12/15\n",
            "\u001b[1m766/766\u001b[0m \u001b[32m━━━━━━━━━━━━━━━━━━━━\u001b[0m\u001b[37m\u001b[0m \u001b[1m141s\u001b[0m 179ms/step - accuracy: 0.9997 - loss: 0.0018 - val_accuracy: 0.9891 - val_loss: 5128.9780\n",
            "Epoch 13/15\n",
            "\u001b[1m766/766\u001b[0m \u001b[32m━━━━━━━━━━━━━━━━━━━━\u001b[0m\u001b[37m\u001b[0m \u001b[1m148s\u001b[0m 186ms/step - accuracy: 0.9996 - loss: 0.0015 - val_accuracy: 0.9885 - val_loss: 5261.1929\n",
            "Epoch 14/15\n",
            "\u001b[1m766/766\u001b[0m \u001b[32m━━━━━━━━━━━━━━━━━━━━\u001b[0m\u001b[37m\u001b[0m \u001b[1m199s\u001b[0m 182ms/step - accuracy: 0.9998 - loss: 0.0012 - val_accuracy: 0.9887 - val_loss: 5343.5562\n",
            "Epoch 15/15\n",
            "\u001b[1m766/766\u001b[0m \u001b[32m━━━━━━━━━━━━━━━━━━━━\u001b[0m\u001b[37m\u001b[0m \u001b[1m145s\u001b[0m 186ms/step - accuracy: 0.9996 - loss: 0.0010 - val_accuracy: 0.9901 - val_loss: 5449.8501\n",
            "\n",
            "Final Training Accuracy : 0.9998\n",
            "Final Validation Accuracy: 0.9901\n",
            "Test  Accuracy           : 0.9897\n",
            "Params                  : 878,730\n",
            "Avg Train time/epoch     : 148.58 s\n",
            "Test time               : 7.04 s\n",
            "\n",
            "Training  Opt-3  Added to more layers(16,128) Channels\n"
          ]
        },
        {
          "output_type": "error",
          "ename": "TypeError",
          "evalue": "AveragePooling2D.__init__() missing 1 required positional argument: 'pool_size'",
          "traceback": [
            "\u001b[0;31m---------------------------------------------------------------------------\u001b[0m",
            "\u001b[0;31mTypeError\u001b[0m                                 Traceback (most recent call last)",
            "\u001b[0;32m<ipython-input-11-8de5802fea96>\u001b[0m in \u001b[0;36m<cell line: 0>\u001b[0;34m()\u001b[0m\n\u001b[1;32m     88\u001b[0m \u001b[0;34m\u001b[0m\u001b[0m\n\u001b[1;32m     89\u001b[0m \u001b[0;34m\u001b[0m\u001b[0m\n\u001b[0;32m---> 90\u001b[0;31m     \u001b[0mmodel\u001b[0m \u001b[0;34m=\u001b[0m \u001b[0mbuild_fn\u001b[0m\u001b[0;34m(\u001b[0m\u001b[0;34m)\u001b[0m\u001b[0;34m\u001b[0m\u001b[0;34m\u001b[0m\u001b[0m\n\u001b[0m\u001b[1;32m     91\u001b[0m     \u001b[0mopt\u001b[0m   \u001b[0;34m=\u001b[0m \u001b[0mtf\u001b[0m\u001b[0;34m.\u001b[0m\u001b[0mkeras\u001b[0m\u001b[0;34m.\u001b[0m\u001b[0moptimizers\u001b[0m\u001b[0;34m.\u001b[0m\u001b[0mSGD\u001b[0m\u001b[0;34m(\u001b[0m\u001b[0mlearning_rate\u001b[0m\u001b[0;34m=\u001b[0m\u001b[0mbase_lr\u001b[0m\u001b[0;34m,\u001b[0m \u001b[0mmomentum\u001b[0m\u001b[0;34m=\u001b[0m\u001b[0mmomentum\u001b[0m\u001b[0;34m)\u001b[0m\u001b[0;34m\u001b[0m\u001b[0;34m\u001b[0m\u001b[0m\n\u001b[1;32m     92\u001b[0m     model.compile(optimizer=opt,\n",
            "\u001b[0;32m<ipython-input-11-8de5802fea96>\u001b[0m in \u001b[0;36mbuild_cnn_opt3\u001b[0;34m()\u001b[0m\n\u001b[1;32m     39\u001b[0m       \u001b[0mlayers\u001b[0m\u001b[0;34m.\u001b[0m\u001b[0mInput\u001b[0m\u001b[0;34m(\u001b[0m\u001b[0mshape\u001b[0m\u001b[0;34m=\u001b[0m\u001b[0mX_train\u001b[0m\u001b[0;34m.\u001b[0m\u001b[0mshape\u001b[0m\u001b[0;34m[\u001b[0m\u001b[0;36m1\u001b[0m\u001b[0;34m:\u001b[0m\u001b[0;34m]\u001b[0m\u001b[0;34m)\u001b[0m\u001b[0;34m,\u001b[0m\u001b[0;34m\u001b[0m\u001b[0;34m\u001b[0m\u001b[0m\n\u001b[1;32m     40\u001b[0m       \u001b[0mlayers\u001b[0m\u001b[0;34m.\u001b[0m\u001b[0mConv2D\u001b[0m\u001b[0;34m(\u001b[0m\u001b[0;36m16\u001b[0m\u001b[0;34m,\u001b[0m \u001b[0;34m(\u001b[0m\u001b[0;36m3\u001b[0m\u001b[0;34m,\u001b[0m \u001b[0;36m3\u001b[0m\u001b[0;34m)\u001b[0m\u001b[0;34m,\u001b[0m \u001b[0mactivation\u001b[0m\u001b[0;34m=\u001b[0m\u001b[0;34m'relu'\u001b[0m\u001b[0;34m,\u001b[0m \u001b[0mpadding\u001b[0m\u001b[0;34m=\u001b[0m\u001b[0;34m'same'\u001b[0m\u001b[0;34m)\u001b[0m\u001b[0;34m,\u001b[0m\u001b[0;34m\u001b[0m\u001b[0;34m\u001b[0m\u001b[0m\n\u001b[0;32m---> 41\u001b[0;31m       \u001b[0mlayers\u001b[0m\u001b[0;34m.\u001b[0m\u001b[0mAveragePooling2D\u001b[0m\u001b[0;34m(\u001b[0m\u001b[0;34m)\u001b[0m\u001b[0;34m,\u001b[0m\u001b[0;34m\u001b[0m\u001b[0;34m\u001b[0m\u001b[0m\n\u001b[0m\u001b[1;32m     42\u001b[0m \u001b[0;34m\u001b[0m\u001b[0m\n\u001b[1;32m     43\u001b[0m       \u001b[0mlayers\u001b[0m\u001b[0;34m.\u001b[0m\u001b[0mConv2D\u001b[0m\u001b[0;34m(\u001b[0m\u001b[0;36m32\u001b[0m\u001b[0;34m,\u001b[0m \u001b[0;34m(\u001b[0m\u001b[0;36m3\u001b[0m\u001b[0;34m,\u001b[0m \u001b[0;36m3\u001b[0m\u001b[0;34m)\u001b[0m\u001b[0;34m,\u001b[0m \u001b[0mactivation\u001b[0m\u001b[0;34m=\u001b[0m\u001b[0;34m'relu'\u001b[0m\u001b[0;34m,\u001b[0m \u001b[0mpadding\u001b[0m\u001b[0;34m=\u001b[0m\u001b[0;34m'same'\u001b[0m\u001b[0;34m)\u001b[0m\u001b[0;34m,\u001b[0m\u001b[0;34m\u001b[0m\u001b[0;34m\u001b[0m\u001b[0m\n",
            "\u001b[0;31mTypeError\u001b[0m: AveragePooling2D.__init__() missing 1 required positional argument: 'pool_size'"
          ]
        }
      ],
      "source": [
        "\n",
        "\n",
        "def build_cnn_opt1():\n",
        "    return Sequential([\n",
        "      layers.Input(shape=X_train.shape[1:]),\n",
        "\n",
        "      layers.Conv2D(32, (3, 3), activation='relu', padding='same'),\n",
        "      layers.MaxPooling2D(),\n",
        "\n",
        "      layers.Conv2D(64, (3, 3), activation='relu', padding='same'),\n",
        "      layers.MaxPooling2D(),\n",
        "\n",
        "      layers.Conv2D(128, (3, 3), activation=\"relu\", padding='same'),\n",
        "      layers.MaxPooling2D(),\n",
        "\n",
        "      layers.Flatten(),\n",
        "      layers.Dense(128, activation='relu'),\n",
        "      layers.Dense(10, activation='softmax')\n",
        "    ])\n",
        "\n",
        "\n",
        "def build_cnn_opt2():\n",
        "    return Sequential([\n",
        "      layers.Input(shape=X_train.shape[1:]),\n",
        "\n",
        "\n",
        "      layers.Conv2D(64, (3, 3), activation='relu', padding='same'),\n",
        "      layers.MaxPooling2D(),\n",
        "\n",
        "      layers.Conv2D(128, (3, 3), activation=\"relu\", padding='same'),\n",
        "      layers.MaxPooling2D(),\n",
        "\n",
        "      layers.Flatten(),\n",
        "      layers.Dense(128, activation='relu'),\n",
        "      layers.Dense(10, activation='softmax')\n",
        "    ])\n",
        "\n",
        "\n",
        "\n",
        "\n",
        "# ────────────────────────────────────────────────────────────────────────────\n",
        "builders = {\n",
        "    \"Normal Model\" : build_cnn_model1,\n",
        "    \"Opt-1  Added a layer 128 Channels\"      : build_cnn_opt1,\n",
        "    \"Opt-2  Changed the layers to 32 and 64 \" : build_cnn_opt2,\n",
        "    \"Opt-3  Added to more layers(16,128) Channels\"  : build_cnn_opt3,\n",
        "    \"Opt-4 Changed Channels to (16,32) \" : build_cnn_opt4\n",
        "}\n",
        "\n",
        "epochs      = 15\n",
        "batch_size  = 64\n",
        "base_lr     = 0.01\n",
        "momentum    = 0.9\n",
        "\n",
        "for name, build_fn in builders.items():\n",
        "\n",
        "    print(f\"Training  {name}\")\n",
        "\n",
        "\n",
        "    model = build_fn()\n",
        "    opt   = tf.keras.optimizers.SGD(learning_rate=base_lr, momentum=momentum)\n",
        "    model.compile(optimizer=opt,\n",
        "                  loss='categorical_crossentropy',\n",
        "                  metrics=['accuracy'])\n",
        "\n",
        "\n",
        "    model.summary()\n",
        "\n",
        "    t0 = time.time()\n",
        "    history = model.fit(\n",
        "        X_train, y_train,\n",
        "        epochs=epochs,\n",
        "        batch_size=batch_size,\n",
        "        shuffle=True,\n",
        "        validation_data=(X_val, y_val),\n",
        "        verbose=1\n",
        "    )\n",
        "    train_time = time.time() - t0\n",
        "\n",
        "    t1 = time.time()\n",
        "    test_loss, test_acc = model.evaluate(X_test, y_test, verbose=0)\n",
        "    test_time = time.time() - t1\n",
        "\n",
        "    print(f\"\\nFinal Training Accuracy : {history.history['accuracy'][-1]:.4f}\")\n",
        "    print(f\"Final Validation Accuracy: {history.history['val_accuracy'][-1]:.4f}\")\n",
        "    print(f\"Test  Accuracy           : {test_acc:.4f}\")\n",
        "    print(f\"Params                  : {model.count_params():,}\")\n",
        "    print(f\"Avg Train time/epoch     : {train_time/epochs:.2f} s\")\n",
        "    print(f\"Test time               : {test_time:.2f} s\\n\")"
      ]
    },
    {
      "cell_type": "code",
      "source": [
        "def build_cnn_opt3():\n",
        "    return Sequential([\n",
        "      layers.Input(shape=X_train.shape[1:]),\n",
        "      layers.Conv2D(16, (3, 3), activation='relu', padding='same'),\n",
        "      layers.AveragePooling2D(pool_size=(2,2)),\n",
        "\n",
        "      layers.Conv2D(32, (3, 3), activation='relu', padding='same'),\n",
        "      layers.AveragePooling2D(pool_size=(2,2)),\n",
        "\n",
        "      layers.Conv2D(64, (3, 3), activation='relu', padding='same'),\n",
        "      layers.AveragePooling2D(pool_size=(2,2)),\n",
        "\n",
        "\n",
        "\n",
        "      layers.Flatten(),\n",
        "      layers.Dense(128, activation='relu'),\n",
        "      layers.Dense(10, activation='softmax')\n",
        "    ])\n",
        "\n",
        "def build_cnn_opt4():\n",
        "    return Sequential([\n",
        "      layers.Input(shape=X_train.shape[1:]),\n",
        "      layers.Conv2D(16, (3, 3), activation='relu', padding='same'),\n",
        "      layers.MaxPooling2D(),\n",
        "\n",
        "      layers.Conv2D(32, (3, 3), activation='relu', padding='same'),\n",
        "      layers.MaxPooling2D(),\n",
        "\n",
        "      layers.Flatten(),\n",
        "      layers.Dense(128, activation='relu'),\n",
        "      layers.Dense(10, activation='softmax')\n",
        "    ])\n",
        "\n",
        "\n",
        "# ────────────────────────────────────────────────────────────────────────────\n",
        "builders = {\n",
        "    \"Opt-3  Added to more layers(16,128) Channels\"  : build_cnn_opt3,\n",
        "    \"Opt-4 Changed Channels to (16,32) \" : build_cnn_opt4\n",
        "}\n",
        "\n",
        "epochs      = 15\n",
        "batch_size  = 64\n",
        "base_lr     = 0.01\n",
        "momentum    = 0.9\n",
        "\n",
        "for name, build_fn in builders.items():\n",
        "\n",
        "    print(f\"Training  {name}\")\n",
        "\n",
        "\n",
        "    model = build_fn()\n",
        "    opt   = tf.keras.optimizers.SGD(learning_rate=base_lr, momentum=momentum)\n",
        "    model.compile(optimizer=opt,\n",
        "                  loss='categorical_crossentropy',\n",
        "                  metrics=['accuracy'])\n",
        "\n",
        "\n",
        "    model.summary()\n",
        "\n",
        "    t0 = time.time()\n",
        "    history = model.fit(\n",
        "        X_train, y_train,\n",
        "        epochs=epochs,\n",
        "        batch_size=batch_size,\n",
        "        shuffle=True,\n",
        "        validation_data=(X_val, y_val),\n",
        "        verbose=1\n",
        "    )\n",
        "    train_time = time.time() - t0\n",
        "\n",
        "    t1 = time.time()\n",
        "    test_loss, test_acc = model.evaluate(X_test, y_test, verbose=0)\n",
        "    test_time = time.time() - t1\n",
        "\n",
        "    print(f\"\\nFinal Training Accuracy : {history.history['accuracy'][-1]:.4f}\")\n",
        "    print(f\"Final Validation Accuracy: {history.history['val_accuracy'][-1]:.4f}\")\n",
        "    print(f\"Test  Accuracy           : {test_acc:.4f}\")\n",
        "    print(f\"Params                  : {model.count_params():,}\")\n",
        "    print(f\"Avg Train time/epoch     : {train_time/epochs:.2f} s\")\n",
        "    print(f\"Test time               : {test_time:.2f} s\\n\")"
      ],
      "metadata": {
        "colab": {
          "base_uri": "https://localhost:8080/",
          "height": 1000
        },
        "id": "SbJBquloeFws",
        "outputId": "a02381ce-0f61-40b0-be03-959302ab075f"
      },
      "execution_count": null,
      "outputs": [
        {
          "output_type": "stream",
          "name": "stdout",
          "text": [
            "Training  Opt-3  Added to more layers(16,128) Channels\n"
          ]
        },
        {
          "output_type": "display_data",
          "data": {
            "text/plain": [
              "\u001b[1mModel: \"sequential_4\"\u001b[0m\n"
            ],
            "text/html": [
              "<pre style=\"white-space:pre;overflow-x:auto;line-height:normal;font-family:Menlo,'DejaVu Sans Mono',consolas,'Courier New',monospace\"><span style=\"font-weight: bold\">Model: \"sequential_4\"</span>\n",
              "</pre>\n"
            ]
          },
          "metadata": {}
        },
        {
          "output_type": "display_data",
          "data": {
            "text/plain": [
              "┏━━━━━━━━━━━━━━━━━━━━━━━━━━━━━━━━━┳━━━━━━━━━━━━━━━━━━━━━━━━┳━━━━━━━━━━━━━━━┓\n",
              "┃\u001b[1m \u001b[0m\u001b[1mLayer (type)                   \u001b[0m\u001b[1m \u001b[0m┃\u001b[1m \u001b[0m\u001b[1mOutput Shape          \u001b[0m\u001b[1m \u001b[0m┃\u001b[1m \u001b[0m\u001b[1m      Param #\u001b[0m\u001b[1m \u001b[0m┃\n",
              "┡━━━━━━━━━━━━━━━━━━━━━━━━━━━━━━━━━╇━━━━━━━━━━━━━━━━━━━━━━━━╇━━━━━━━━━━━━━━━┩\n",
              "│ conv2d_10 (\u001b[38;5;33mConv2D\u001b[0m)              │ (\u001b[38;5;45mNone\u001b[0m, \u001b[38;5;34m28\u001b[0m, \u001b[38;5;34m28\u001b[0m, \u001b[38;5;34m16\u001b[0m)     │           \u001b[38;5;34m160\u001b[0m │\n",
              "├─────────────────────────────────┼────────────────────────┼───────────────┤\n",
              "│ average_pooling2d               │ (\u001b[38;5;45mNone\u001b[0m, \u001b[38;5;34m14\u001b[0m, \u001b[38;5;34m14\u001b[0m, \u001b[38;5;34m16\u001b[0m)     │             \u001b[38;5;34m0\u001b[0m │\n",
              "│ (\u001b[38;5;33mAveragePooling2D\u001b[0m)              │                        │               │\n",
              "├─────────────────────────────────┼────────────────────────┼───────────────┤\n",
              "│ conv2d_11 (\u001b[38;5;33mConv2D\u001b[0m)              │ (\u001b[38;5;45mNone\u001b[0m, \u001b[38;5;34m14\u001b[0m, \u001b[38;5;34m14\u001b[0m, \u001b[38;5;34m32\u001b[0m)     │         \u001b[38;5;34m4,640\u001b[0m │\n",
              "├─────────────────────────────────┼────────────────────────┼───────────────┤\n",
              "│ average_pooling2d_1             │ (\u001b[38;5;45mNone\u001b[0m, \u001b[38;5;34m7\u001b[0m, \u001b[38;5;34m7\u001b[0m, \u001b[38;5;34m32\u001b[0m)       │             \u001b[38;5;34m0\u001b[0m │\n",
              "│ (\u001b[38;5;33mAveragePooling2D\u001b[0m)              │                        │               │\n",
              "├─────────────────────────────────┼────────────────────────┼───────────────┤\n",
              "│ conv2d_12 (\u001b[38;5;33mConv2D\u001b[0m)              │ (\u001b[38;5;45mNone\u001b[0m, \u001b[38;5;34m7\u001b[0m, \u001b[38;5;34m7\u001b[0m, \u001b[38;5;34m64\u001b[0m)       │        \u001b[38;5;34m18,496\u001b[0m │\n",
              "├─────────────────────────────────┼────────────────────────┼───────────────┤\n",
              "│ average_pooling2d_2             │ (\u001b[38;5;45mNone\u001b[0m, \u001b[38;5;34m3\u001b[0m, \u001b[38;5;34m3\u001b[0m, \u001b[38;5;34m64\u001b[0m)       │             \u001b[38;5;34m0\u001b[0m │\n",
              "│ (\u001b[38;5;33mAveragePooling2D\u001b[0m)              │                        │               │\n",
              "├─────────────────────────────────┼────────────────────────┼───────────────┤\n",
              "│ flatten_4 (\u001b[38;5;33mFlatten\u001b[0m)             │ (\u001b[38;5;45mNone\u001b[0m, \u001b[38;5;34m576\u001b[0m)            │             \u001b[38;5;34m0\u001b[0m │\n",
              "├─────────────────────────────────┼────────────────────────┼───────────────┤\n",
              "│ dense_8 (\u001b[38;5;33mDense\u001b[0m)                 │ (\u001b[38;5;45mNone\u001b[0m, \u001b[38;5;34m128\u001b[0m)            │        \u001b[38;5;34m73,856\u001b[0m │\n",
              "├─────────────────────────────────┼────────────────────────┼───────────────┤\n",
              "│ dense_9 (\u001b[38;5;33mDense\u001b[0m)                 │ (\u001b[38;5;45mNone\u001b[0m, \u001b[38;5;34m10\u001b[0m)             │         \u001b[38;5;34m1,290\u001b[0m │\n",
              "└─────────────────────────────────┴────────────────────────┴───────────────┘\n"
            ],
            "text/html": [
              "<pre style=\"white-space:pre;overflow-x:auto;line-height:normal;font-family:Menlo,'DejaVu Sans Mono',consolas,'Courier New',monospace\">┏━━━━━━━━━━━━━━━━━━━━━━━━━━━━━━━━━┳━━━━━━━━━━━━━━━━━━━━━━━━┳━━━━━━━━━━━━━━━┓\n",
              "┃<span style=\"font-weight: bold\"> Layer (type)                    </span>┃<span style=\"font-weight: bold\"> Output Shape           </span>┃<span style=\"font-weight: bold\">       Param # </span>┃\n",
              "┡━━━━━━━━━━━━━━━━━━━━━━━━━━━━━━━━━╇━━━━━━━━━━━━━━━━━━━━━━━━╇━━━━━━━━━━━━━━━┩\n",
              "│ conv2d_10 (<span style=\"color: #0087ff; text-decoration-color: #0087ff\">Conv2D</span>)              │ (<span style=\"color: #00d7ff; text-decoration-color: #00d7ff\">None</span>, <span style=\"color: #00af00; text-decoration-color: #00af00\">28</span>, <span style=\"color: #00af00; text-decoration-color: #00af00\">28</span>, <span style=\"color: #00af00; text-decoration-color: #00af00\">16</span>)     │           <span style=\"color: #00af00; text-decoration-color: #00af00\">160</span> │\n",
              "├─────────────────────────────────┼────────────────────────┼───────────────┤\n",
              "│ average_pooling2d               │ (<span style=\"color: #00d7ff; text-decoration-color: #00d7ff\">None</span>, <span style=\"color: #00af00; text-decoration-color: #00af00\">14</span>, <span style=\"color: #00af00; text-decoration-color: #00af00\">14</span>, <span style=\"color: #00af00; text-decoration-color: #00af00\">16</span>)     │             <span style=\"color: #00af00; text-decoration-color: #00af00\">0</span> │\n",
              "│ (<span style=\"color: #0087ff; text-decoration-color: #0087ff\">AveragePooling2D</span>)              │                        │               │\n",
              "├─────────────────────────────────┼────────────────────────┼───────────────┤\n",
              "│ conv2d_11 (<span style=\"color: #0087ff; text-decoration-color: #0087ff\">Conv2D</span>)              │ (<span style=\"color: #00d7ff; text-decoration-color: #00d7ff\">None</span>, <span style=\"color: #00af00; text-decoration-color: #00af00\">14</span>, <span style=\"color: #00af00; text-decoration-color: #00af00\">14</span>, <span style=\"color: #00af00; text-decoration-color: #00af00\">32</span>)     │         <span style=\"color: #00af00; text-decoration-color: #00af00\">4,640</span> │\n",
              "├─────────────────────────────────┼────────────────────────┼───────────────┤\n",
              "│ average_pooling2d_1             │ (<span style=\"color: #00d7ff; text-decoration-color: #00d7ff\">None</span>, <span style=\"color: #00af00; text-decoration-color: #00af00\">7</span>, <span style=\"color: #00af00; text-decoration-color: #00af00\">7</span>, <span style=\"color: #00af00; text-decoration-color: #00af00\">32</span>)       │             <span style=\"color: #00af00; text-decoration-color: #00af00\">0</span> │\n",
              "│ (<span style=\"color: #0087ff; text-decoration-color: #0087ff\">AveragePooling2D</span>)              │                        │               │\n",
              "├─────────────────────────────────┼────────────────────────┼───────────────┤\n",
              "│ conv2d_12 (<span style=\"color: #0087ff; text-decoration-color: #0087ff\">Conv2D</span>)              │ (<span style=\"color: #00d7ff; text-decoration-color: #00d7ff\">None</span>, <span style=\"color: #00af00; text-decoration-color: #00af00\">7</span>, <span style=\"color: #00af00; text-decoration-color: #00af00\">7</span>, <span style=\"color: #00af00; text-decoration-color: #00af00\">64</span>)       │        <span style=\"color: #00af00; text-decoration-color: #00af00\">18,496</span> │\n",
              "├─────────────────────────────────┼────────────────────────┼───────────────┤\n",
              "│ average_pooling2d_2             │ (<span style=\"color: #00d7ff; text-decoration-color: #00d7ff\">None</span>, <span style=\"color: #00af00; text-decoration-color: #00af00\">3</span>, <span style=\"color: #00af00; text-decoration-color: #00af00\">3</span>, <span style=\"color: #00af00; text-decoration-color: #00af00\">64</span>)       │             <span style=\"color: #00af00; text-decoration-color: #00af00\">0</span> │\n",
              "│ (<span style=\"color: #0087ff; text-decoration-color: #0087ff\">AveragePooling2D</span>)              │                        │               │\n",
              "├─────────────────────────────────┼────────────────────────┼───────────────┤\n",
              "│ flatten_4 (<span style=\"color: #0087ff; text-decoration-color: #0087ff\">Flatten</span>)             │ (<span style=\"color: #00d7ff; text-decoration-color: #00d7ff\">None</span>, <span style=\"color: #00af00; text-decoration-color: #00af00\">576</span>)            │             <span style=\"color: #00af00; text-decoration-color: #00af00\">0</span> │\n",
              "├─────────────────────────────────┼────────────────────────┼───────────────┤\n",
              "│ dense_8 (<span style=\"color: #0087ff; text-decoration-color: #0087ff\">Dense</span>)                 │ (<span style=\"color: #00d7ff; text-decoration-color: #00d7ff\">None</span>, <span style=\"color: #00af00; text-decoration-color: #00af00\">128</span>)            │        <span style=\"color: #00af00; text-decoration-color: #00af00\">73,856</span> │\n",
              "├─────────────────────────────────┼────────────────────────┼───────────────┤\n",
              "│ dense_9 (<span style=\"color: #0087ff; text-decoration-color: #0087ff\">Dense</span>)                 │ (<span style=\"color: #00d7ff; text-decoration-color: #00d7ff\">None</span>, <span style=\"color: #00af00; text-decoration-color: #00af00\">10</span>)             │         <span style=\"color: #00af00; text-decoration-color: #00af00\">1,290</span> │\n",
              "└─────────────────────────────────┴────────────────────────┴───────────────┘\n",
              "</pre>\n"
            ]
          },
          "metadata": {}
        },
        {
          "output_type": "display_data",
          "data": {
            "text/plain": [
              "\u001b[1m Total params: \u001b[0m\u001b[38;5;34m98,442\u001b[0m (384.54 KB)\n"
            ],
            "text/html": [
              "<pre style=\"white-space:pre;overflow-x:auto;line-height:normal;font-family:Menlo,'DejaVu Sans Mono',consolas,'Courier New',monospace\"><span style=\"font-weight: bold\"> Total params: </span><span style=\"color: #00af00; text-decoration-color: #00af00\">98,442</span> (384.54 KB)\n",
              "</pre>\n"
            ]
          },
          "metadata": {}
        },
        {
          "output_type": "display_data",
          "data": {
            "text/plain": [
              "\u001b[1m Trainable params: \u001b[0m\u001b[38;5;34m98,442\u001b[0m (384.54 KB)\n"
            ],
            "text/html": [
              "<pre style=\"white-space:pre;overflow-x:auto;line-height:normal;font-family:Menlo,'DejaVu Sans Mono',consolas,'Courier New',monospace\"><span style=\"font-weight: bold\"> Trainable params: </span><span style=\"color: #00af00; text-decoration-color: #00af00\">98,442</span> (384.54 KB)\n",
              "</pre>\n"
            ]
          },
          "metadata": {}
        },
        {
          "output_type": "display_data",
          "data": {
            "text/plain": [
              "\u001b[1m Non-trainable params: \u001b[0m\u001b[38;5;34m0\u001b[0m (0.00 B)\n"
            ],
            "text/html": [
              "<pre style=\"white-space:pre;overflow-x:auto;line-height:normal;font-family:Menlo,'DejaVu Sans Mono',consolas,'Courier New',monospace\"><span style=\"font-weight: bold\"> Non-trainable params: </span><span style=\"color: #00af00; text-decoration-color: #00af00\">0</span> (0.00 B)\n",
              "</pre>\n"
            ]
          },
          "metadata": {}
        },
        {
          "output_type": "stream",
          "name": "stdout",
          "text": [
            "Epoch 1/15\n",
            "\u001b[1m766/766\u001b[0m \u001b[32m━━━━━━━━━━━━━━━━━━━━\u001b[0m\u001b[37m\u001b[0m \u001b[1m33s\u001b[0m 42ms/step - accuracy: 0.6681 - loss: 1.0094 - val_accuracy: 0.9470 - val_loss: 1906.9912\n",
            "Epoch 2/15\n",
            "\u001b[1m766/766\u001b[0m \u001b[32m━━━━━━━━━━━━━━━━━━━━\u001b[0m\u001b[37m\u001b[0m \u001b[1m31s\u001b[0m 40ms/step - accuracy: 0.9615 - loss: 0.1252 - val_accuracy: 0.9689 - val_loss: 1170.8524\n",
            "Epoch 3/15\n",
            "\u001b[1m766/766\u001b[0m \u001b[32m━━━━━━━━━━━━━━━━━━━━\u001b[0m\u001b[37m\u001b[0m \u001b[1m45s\u001b[0m 45ms/step - accuracy: 0.9744 - loss: 0.0791 - val_accuracy: 0.9696 - val_loss: 1365.8724\n",
            "Epoch 4/15\n",
            "\u001b[1m766/766\u001b[0m \u001b[32m━━━━━━━━━━━━━━━━━━━━\u001b[0m\u001b[37m\u001b[0m \u001b[1m38s\u001b[0m 41ms/step - accuracy: 0.9805 - loss: 0.0614 - val_accuracy: 0.9747 - val_loss: 2677.2483\n",
            "Epoch 5/15\n",
            "\u001b[1m766/766\u001b[0m \u001b[32m━━━━━━━━━━━━━━━━━━━━\u001b[0m\u001b[37m\u001b[0m \u001b[1m41s\u001b[0m 41ms/step - accuracy: 0.9852 - loss: 0.0477 - val_accuracy: 0.9781 - val_loss: 535.4488\n",
            "Epoch 6/15\n",
            "\u001b[1m766/766\u001b[0m \u001b[32m━━━━━━━━━━━━━━━━━━━━\u001b[0m\u001b[37m\u001b[0m \u001b[1m40s\u001b[0m 40ms/step - accuracy: 0.9868 - loss: 0.0408 - val_accuracy: 0.9786 - val_loss: 1472.9156\n",
            "Epoch 7/15\n",
            "\u001b[1m766/766\u001b[0m \u001b[32m━━━━━━━━━━━━━━━━━━━━\u001b[0m\u001b[37m\u001b[0m \u001b[1m43s\u001b[0m 43ms/step - accuracy: 0.9897 - loss: 0.0333 - val_accuracy: 0.9802 - val_loss: 1058.0062\n",
            "Epoch 8/15\n",
            "\u001b[1m766/766\u001b[0m \u001b[32m━━━━━━━━━━━━━━━━━━━━\u001b[0m\u001b[37m\u001b[0m \u001b[1m31s\u001b[0m 40ms/step - accuracy: 0.9907 - loss: 0.0296 - val_accuracy: 0.9824 - val_loss: 1668.0850\n",
            "Epoch 9/15\n",
            "\u001b[1m766/766\u001b[0m \u001b[32m━━━━━━━━━━━━━━━━━━━━\u001b[0m\u001b[37m\u001b[0m \u001b[1m41s\u001b[0m 40ms/step - accuracy: 0.9913 - loss: 0.0279 - val_accuracy: 0.9826 - val_loss: 658.2531\n",
            "Epoch 10/15\n",
            "\u001b[1m766/766\u001b[0m \u001b[32m━━━━━━━━━━━━━━━━━━━━\u001b[0m\u001b[37m\u001b[0m \u001b[1m31s\u001b[0m 41ms/step - accuracy: 0.9918 - loss: 0.0265 - val_accuracy: 0.9850 - val_loss: 1473.2271\n",
            "Epoch 11/15\n",
            "\u001b[1m766/766\u001b[0m \u001b[32m━━━━━━━━━━━━━━━━━━━━\u001b[0m\u001b[37m\u001b[0m \u001b[1m40s\u001b[0m 40ms/step - accuracy: 0.9938 - loss: 0.0214 - val_accuracy: 0.9834 - val_loss: 1992.2064\n",
            "Epoch 12/15\n",
            "\u001b[1m766/766\u001b[0m \u001b[32m━━━━━━━━━━━━━━━━━━━━\u001b[0m\u001b[37m\u001b[0m \u001b[1m41s\u001b[0m 40ms/step - accuracy: 0.9941 - loss: 0.0183 - val_accuracy: 0.9846 - val_loss: 781.3371\n",
            "Epoch 13/15\n",
            "\u001b[1m766/766\u001b[0m \u001b[32m━━━━━━━━━━━━━━━━━━━━\u001b[0m\u001b[37m\u001b[0m \u001b[1m31s\u001b[0m 40ms/step - accuracy: 0.9955 - loss: 0.0149 - val_accuracy: 0.9860 - val_loss: 884.2519\n",
            "Epoch 14/15\n",
            "\u001b[1m766/766\u001b[0m \u001b[32m━━━━━━━━━━━━━━━━━━━━\u001b[0m\u001b[37m\u001b[0m \u001b[1m30s\u001b[0m 39ms/step - accuracy: 0.9940 - loss: 0.0178 - val_accuracy: 0.9846 - val_loss: 2528.3823\n",
            "Epoch 15/15\n",
            "\u001b[1m766/766\u001b[0m \u001b[32m━━━━━━━━━━━━━━━━━━━━\u001b[0m\u001b[37m\u001b[0m \u001b[1m44s\u001b[0m 44ms/step - accuracy: 0.9958 - loss: 0.0129 - val_accuracy: 0.9848 - val_loss: 2623.1555\n",
            "\n",
            "Final Training Accuracy : 0.9949\n",
            "Final Validation Accuracy: 0.9848\n",
            "Test  Accuracy           : 0.9861\n",
            "Params                  : 98,442\n",
            "Avg Train time/epoch     : 37.88 s\n",
            "Test time               : 5.18 s\n",
            "\n",
            "Training  Opt-4 Changed Channels to (16,32) \n"
          ]
        },
        {
          "output_type": "display_data",
          "data": {
            "text/plain": [
              "\u001b[1mModel: \"sequential_5\"\u001b[0m\n"
            ],
            "text/html": [
              "<pre style=\"white-space:pre;overflow-x:auto;line-height:normal;font-family:Menlo,'DejaVu Sans Mono',consolas,'Courier New',monospace\"><span style=\"font-weight: bold\">Model: \"sequential_5\"</span>\n",
              "</pre>\n"
            ]
          },
          "metadata": {}
        },
        {
          "output_type": "display_data",
          "data": {
            "text/plain": [
              "┏━━━━━━━━━━━━━━━━━━━━━━━━━━━━━━━━━┳━━━━━━━━━━━━━━━━━━━━━━━━┳━━━━━━━━━━━━━━━┓\n",
              "┃\u001b[1m \u001b[0m\u001b[1mLayer (type)                   \u001b[0m\u001b[1m \u001b[0m┃\u001b[1m \u001b[0m\u001b[1mOutput Shape          \u001b[0m\u001b[1m \u001b[0m┃\u001b[1m \u001b[0m\u001b[1m      Param #\u001b[0m\u001b[1m \u001b[0m┃\n",
              "┡━━━━━━━━━━━━━━━━━━━━━━━━━━━━━━━━━╇━━━━━━━━━━━━━━━━━━━━━━━━╇━━━━━━━━━━━━━━━┩\n",
              "│ conv2d_13 (\u001b[38;5;33mConv2D\u001b[0m)              │ (\u001b[38;5;45mNone\u001b[0m, \u001b[38;5;34m28\u001b[0m, \u001b[38;5;34m28\u001b[0m, \u001b[38;5;34m16\u001b[0m)     │           \u001b[38;5;34m160\u001b[0m │\n",
              "├─────────────────────────────────┼────────────────────────┼───────────────┤\n",
              "│ max_pooling2d_9 (\u001b[38;5;33mMaxPooling2D\u001b[0m)  │ (\u001b[38;5;45mNone\u001b[0m, \u001b[38;5;34m14\u001b[0m, \u001b[38;5;34m14\u001b[0m, \u001b[38;5;34m16\u001b[0m)     │             \u001b[38;5;34m0\u001b[0m │\n",
              "├─────────────────────────────────┼────────────────────────┼───────────────┤\n",
              "│ conv2d_14 (\u001b[38;5;33mConv2D\u001b[0m)              │ (\u001b[38;5;45mNone\u001b[0m, \u001b[38;5;34m14\u001b[0m, \u001b[38;5;34m14\u001b[0m, \u001b[38;5;34m32\u001b[0m)     │         \u001b[38;5;34m4,640\u001b[0m │\n",
              "├─────────────────────────────────┼────────────────────────┼───────────────┤\n",
              "│ max_pooling2d_10 (\u001b[38;5;33mMaxPooling2D\u001b[0m) │ (\u001b[38;5;45mNone\u001b[0m, \u001b[38;5;34m7\u001b[0m, \u001b[38;5;34m7\u001b[0m, \u001b[38;5;34m32\u001b[0m)       │             \u001b[38;5;34m0\u001b[0m │\n",
              "├─────────────────────────────────┼────────────────────────┼───────────────┤\n",
              "│ flatten_5 (\u001b[38;5;33mFlatten\u001b[0m)             │ (\u001b[38;5;45mNone\u001b[0m, \u001b[38;5;34m1568\u001b[0m)           │             \u001b[38;5;34m0\u001b[0m │\n",
              "├─────────────────────────────────┼────────────────────────┼───────────────┤\n",
              "│ dense_10 (\u001b[38;5;33mDense\u001b[0m)                │ (\u001b[38;5;45mNone\u001b[0m, \u001b[38;5;34m128\u001b[0m)            │       \u001b[38;5;34m200,832\u001b[0m │\n",
              "├─────────────────────────────────┼────────────────────────┼───────────────┤\n",
              "│ dense_11 (\u001b[38;5;33mDense\u001b[0m)                │ (\u001b[38;5;45mNone\u001b[0m, \u001b[38;5;34m10\u001b[0m)             │         \u001b[38;5;34m1,290\u001b[0m │\n",
              "└─────────────────────────────────┴────────────────────────┴───────────────┘\n"
            ],
            "text/html": [
              "<pre style=\"white-space:pre;overflow-x:auto;line-height:normal;font-family:Menlo,'DejaVu Sans Mono',consolas,'Courier New',monospace\">┏━━━━━━━━━━━━━━━━━━━━━━━━━━━━━━━━━┳━━━━━━━━━━━━━━━━━━━━━━━━┳━━━━━━━━━━━━━━━┓\n",
              "┃<span style=\"font-weight: bold\"> Layer (type)                    </span>┃<span style=\"font-weight: bold\"> Output Shape           </span>┃<span style=\"font-weight: bold\">       Param # </span>┃\n",
              "┡━━━━━━━━━━━━━━━━━━━━━━━━━━━━━━━━━╇━━━━━━━━━━━━━━━━━━━━━━━━╇━━━━━━━━━━━━━━━┩\n",
              "│ conv2d_13 (<span style=\"color: #0087ff; text-decoration-color: #0087ff\">Conv2D</span>)              │ (<span style=\"color: #00d7ff; text-decoration-color: #00d7ff\">None</span>, <span style=\"color: #00af00; text-decoration-color: #00af00\">28</span>, <span style=\"color: #00af00; text-decoration-color: #00af00\">28</span>, <span style=\"color: #00af00; text-decoration-color: #00af00\">16</span>)     │           <span style=\"color: #00af00; text-decoration-color: #00af00\">160</span> │\n",
              "├─────────────────────────────────┼────────────────────────┼───────────────┤\n",
              "│ max_pooling2d_9 (<span style=\"color: #0087ff; text-decoration-color: #0087ff\">MaxPooling2D</span>)  │ (<span style=\"color: #00d7ff; text-decoration-color: #00d7ff\">None</span>, <span style=\"color: #00af00; text-decoration-color: #00af00\">14</span>, <span style=\"color: #00af00; text-decoration-color: #00af00\">14</span>, <span style=\"color: #00af00; text-decoration-color: #00af00\">16</span>)     │             <span style=\"color: #00af00; text-decoration-color: #00af00\">0</span> │\n",
              "├─────────────────────────────────┼────────────────────────┼───────────────┤\n",
              "│ conv2d_14 (<span style=\"color: #0087ff; text-decoration-color: #0087ff\">Conv2D</span>)              │ (<span style=\"color: #00d7ff; text-decoration-color: #00d7ff\">None</span>, <span style=\"color: #00af00; text-decoration-color: #00af00\">14</span>, <span style=\"color: #00af00; text-decoration-color: #00af00\">14</span>, <span style=\"color: #00af00; text-decoration-color: #00af00\">32</span>)     │         <span style=\"color: #00af00; text-decoration-color: #00af00\">4,640</span> │\n",
              "├─────────────────────────────────┼────────────────────────┼───────────────┤\n",
              "│ max_pooling2d_10 (<span style=\"color: #0087ff; text-decoration-color: #0087ff\">MaxPooling2D</span>) │ (<span style=\"color: #00d7ff; text-decoration-color: #00d7ff\">None</span>, <span style=\"color: #00af00; text-decoration-color: #00af00\">7</span>, <span style=\"color: #00af00; text-decoration-color: #00af00\">7</span>, <span style=\"color: #00af00; text-decoration-color: #00af00\">32</span>)       │             <span style=\"color: #00af00; text-decoration-color: #00af00\">0</span> │\n",
              "├─────────────────────────────────┼────────────────────────┼───────────────┤\n",
              "│ flatten_5 (<span style=\"color: #0087ff; text-decoration-color: #0087ff\">Flatten</span>)             │ (<span style=\"color: #00d7ff; text-decoration-color: #00d7ff\">None</span>, <span style=\"color: #00af00; text-decoration-color: #00af00\">1568</span>)           │             <span style=\"color: #00af00; text-decoration-color: #00af00\">0</span> │\n",
              "├─────────────────────────────────┼────────────────────────┼───────────────┤\n",
              "│ dense_10 (<span style=\"color: #0087ff; text-decoration-color: #0087ff\">Dense</span>)                │ (<span style=\"color: #00d7ff; text-decoration-color: #00d7ff\">None</span>, <span style=\"color: #00af00; text-decoration-color: #00af00\">128</span>)            │       <span style=\"color: #00af00; text-decoration-color: #00af00\">200,832</span> │\n",
              "├─────────────────────────────────┼────────────────────────┼───────────────┤\n",
              "│ dense_11 (<span style=\"color: #0087ff; text-decoration-color: #0087ff\">Dense</span>)                │ (<span style=\"color: #00d7ff; text-decoration-color: #00d7ff\">None</span>, <span style=\"color: #00af00; text-decoration-color: #00af00\">10</span>)             │         <span style=\"color: #00af00; text-decoration-color: #00af00\">1,290</span> │\n",
              "└─────────────────────────────────┴────────────────────────┴───────────────┘\n",
              "</pre>\n"
            ]
          },
          "metadata": {}
        },
        {
          "output_type": "display_data",
          "data": {
            "text/plain": [
              "\u001b[1m Total params: \u001b[0m\u001b[38;5;34m206,922\u001b[0m (808.29 KB)\n"
            ],
            "text/html": [
              "<pre style=\"white-space:pre;overflow-x:auto;line-height:normal;font-family:Menlo,'DejaVu Sans Mono',consolas,'Courier New',monospace\"><span style=\"font-weight: bold\"> Total params: </span><span style=\"color: #00af00; text-decoration-color: #00af00\">206,922</span> (808.29 KB)\n",
              "</pre>\n"
            ]
          },
          "metadata": {}
        },
        {
          "output_type": "display_data",
          "data": {
            "text/plain": [
              "\u001b[1m Trainable params: \u001b[0m\u001b[38;5;34m206,922\u001b[0m (808.29 KB)\n"
            ],
            "text/html": [
              "<pre style=\"white-space:pre;overflow-x:auto;line-height:normal;font-family:Menlo,'DejaVu Sans Mono',consolas,'Courier New',monospace\"><span style=\"font-weight: bold\"> Trainable params: </span><span style=\"color: #00af00; text-decoration-color: #00af00\">206,922</span> (808.29 KB)\n",
              "</pre>\n"
            ]
          },
          "metadata": {}
        },
        {
          "output_type": "display_data",
          "data": {
            "text/plain": [
              "\u001b[1m Non-trainable params: \u001b[0m\u001b[38;5;34m0\u001b[0m (0.00 B)\n"
            ],
            "text/html": [
              "<pre style=\"white-space:pre;overflow-x:auto;line-height:normal;font-family:Menlo,'DejaVu Sans Mono',consolas,'Courier New',monospace\"><span style=\"font-weight: bold\"> Non-trainable params: </span><span style=\"color: #00af00; text-decoration-color: #00af00\">0</span> (0.00 B)\n",
              "</pre>\n"
            ]
          },
          "metadata": {}
        },
        {
          "output_type": "stream",
          "name": "stdout",
          "text": [
            "Epoch 1/15\n",
            "\u001b[1m766/766\u001b[0m \u001b[32m━━━━━━━━━━━━━━━━━━━━\u001b[0m\u001b[37m\u001b[0m \u001b[1m30s\u001b[0m 39ms/step - accuracy: 0.8309 - loss: 0.5643 - val_accuracy: 0.9692 - val_loss: 3696.0291\n",
            "Epoch 2/15\n",
            "\u001b[1m766/766\u001b[0m \u001b[32m━━━━━━━━━━━━━━━━━━━━\u001b[0m\u001b[37m\u001b[0m \u001b[1m29s\u001b[0m 38ms/step - accuracy: 0.9797 - loss: 0.0699 - val_accuracy: 0.9811 - val_loss: 2188.8286\n",
            "Epoch 3/15\n",
            "\u001b[1m766/766\u001b[0m \u001b[32m━━━━━━━━━━━━━━━━━━━━\u001b[0m\u001b[37m\u001b[0m \u001b[1m41s\u001b[0m 38ms/step - accuracy: 0.9865 - loss: 0.0431 - val_accuracy: 0.9812 - val_loss: 1929.6219\n",
            "Epoch 4/15\n",
            "\u001b[1m766/766\u001b[0m \u001b[32m━━━━━━━━━━━━━━━━━━━━\u001b[0m\u001b[37m\u001b[0m \u001b[1m41s\u001b[0m 37ms/step - accuracy: 0.9889 - loss: 0.0331 - val_accuracy: 0.9828 - val_loss: 2074.2222\n",
            "Epoch 5/15\n",
            "\u001b[1m766/766\u001b[0m \u001b[32m━━━━━━━━━━━━━━━━━━━━\u001b[0m\u001b[37m\u001b[0m \u001b[1m29s\u001b[0m 38ms/step - accuracy: 0.9924 - loss: 0.0238 - val_accuracy: 0.9863 - val_loss: 2063.6841\n",
            "Epoch 6/15\n",
            "\u001b[1m766/766\u001b[0m \u001b[32m━━━━━━━━━━━━━━━━━━━━\u001b[0m\u001b[37m\u001b[0m \u001b[1m44s\u001b[0m 42ms/step - accuracy: 0.9949 - loss: 0.0158 - val_accuracy: 0.9870 - val_loss: 2498.7527\n",
            "Epoch 7/15\n",
            "\u001b[1m766/766\u001b[0m \u001b[32m━━━━━━━━━━━━━━━━━━━━\u001b[0m\u001b[37m\u001b[0m \u001b[1m30s\u001b[0m 39ms/step - accuracy: 0.9961 - loss: 0.0126 - val_accuracy: 0.9866 - val_loss: 3719.1211\n",
            "Epoch 8/15\n",
            "\u001b[1m766/766\u001b[0m \u001b[32m━━━━━━━━━━━━━━━━━━━━\u001b[0m\u001b[37m\u001b[0m \u001b[1m40s\u001b[0m 38ms/step - accuracy: 0.9953 - loss: 0.0148 - val_accuracy: 0.9876 - val_loss: 3640.9224\n",
            "Epoch 9/15\n",
            "\u001b[1m766/766\u001b[0m \u001b[32m━━━━━━━━━━━━━━━━━━━━\u001b[0m\u001b[37m\u001b[0m \u001b[1m41s\u001b[0m 39ms/step - accuracy: 0.9977 - loss: 0.0079 - val_accuracy: 0.9869 - val_loss: 3127.7625\n",
            "Epoch 10/15\n",
            "\u001b[1m766/766\u001b[0m \u001b[32m━━━━━━━━━━━━━━━━━━━━\u001b[0m\u001b[37m\u001b[0m \u001b[1m40s\u001b[0m 37ms/step - accuracy: 0.9981 - loss: 0.0064 - val_accuracy: 0.9859 - val_loss: 3983.4275\n",
            "Epoch 11/15\n",
            "\u001b[1m766/766\u001b[0m \u001b[32m━━━━━━━━━━━━━━━━━━━━\u001b[0m\u001b[37m\u001b[0m \u001b[1m41s\u001b[0m 37ms/step - accuracy: 0.9982 - loss: 0.0066 - val_accuracy: 0.9859 - val_loss: 3559.7844\n",
            "Epoch 12/15\n",
            "\u001b[1m766/766\u001b[0m \u001b[32m━━━━━━━━━━━━━━━━━━━━\u001b[0m\u001b[37m\u001b[0m \u001b[1m42s\u001b[0m 38ms/step - accuracy: 0.9989 - loss: 0.0049 - val_accuracy: 0.9842 - val_loss: 5643.0317\n",
            "Epoch 13/15\n",
            "\u001b[1m766/766\u001b[0m \u001b[32m━━━━━━━━━━━━━━━━━━━━\u001b[0m\u001b[37m\u001b[0m \u001b[1m41s\u001b[0m 38ms/step - accuracy: 0.9989 - loss: 0.0038 - val_accuracy: 0.9877 - val_loss: 4822.0044\n",
            "Epoch 14/15\n",
            "\u001b[1m766/766\u001b[0m \u001b[32m━━━━━━━━━━━━━━━━━━━━\u001b[0m\u001b[37m\u001b[0m \u001b[1m43s\u001b[0m 40ms/step - accuracy: 0.9991 - loss: 0.0028 - val_accuracy: 0.9887 - val_loss: 5373.2471\n",
            "Epoch 15/15\n",
            "\u001b[1m766/766\u001b[0m \u001b[32m━━━━━━━━━━━━━━━━━━━━\u001b[0m\u001b[37m\u001b[0m \u001b[1m30s\u001b[0m 39ms/step - accuracy: 0.9994 - loss: 0.0018 - val_accuracy: 0.9880 - val_loss: 6174.7407\n",
            "\n",
            "Final Training Accuracy : 0.9998\n",
            "Final Validation Accuracy: 0.9880\n",
            "Test  Accuracy           : 0.9890\n",
            "Params                  : 206,922\n",
            "Avg Train time/epoch     : 38.18 s\n",
            "Test time               : 5.21 s\n",
            "\n"
          ]
        }
      ]
    },
    {
      "cell_type": "markdown",
      "metadata": {
        "id": "wpBgpKCDx_v5"
      },
      "source": [
        "## **CNN Design Sweep – Final Report**\n",
        "\n",
        "### **Key Results**\n",
        "\n",
        "| Model | Params | Test Accuracy | Avg Train Time / Epoch | Test Time |\n",
        "|-------|--------|--------------|-----------------------|-----------|\n",
        "| **Normal (baseline)** | 421 642 | 98.91 % | 76.5 s | 4.29 s |\n",
        "| **Opt-1 – 3-Conv (32-64-128) + FC128** | 241 546 | **99.15 %** | 81.5 s | 5.19 s |\n",
        "| **Opt-2 – 2-Conv (64-128) + FC128** | 878 730 | 98.97 % | 148.6 s | 7.04 s |\n",
        "| **Opt-3 – 4-Conv (16-32-64) + FC128** | **98 442** | 98.61 % | **37.9 s** | 5.18 s |\n",
        "| **Opt-4 – 2-Conv (16-32) + FC128** | 206 922 | 98.90 % | 38.2 s | 5.21 s |\n",
        "\n",
        "### **Discussion**\n",
        "\n",
        "1. **Accuracy leader – Opt-1**  \n",
        "   • Highest test accuracy (99.15 %).  \n",
        "   • 43 % fewer parameters than the baseline, but **slower** to train (81 s/epoch vs 76 s) and highest inference time among the light models.  \n",
        "\n",
        "2. **Smallest model – Opt-3**  \n",
        "   • Only **98 k parameters** (≈ ¼ of baseline, ≈ 1⁄9 of Opt-2).  \n",
        "   • Fastest training (38 s/epoch) and sub-5 MB memory footprint after quantisation.  \n",
        "   • Pays a –0.54 pp accuracy penalty relative to Opt-1.\n",
        "\n",
        "3. **Balanced contender – Opt-4**  \n",
        "   • Keeps training cost almost as low as Opt-3 (38 s/epoch) while recovering most of the accuracy lost (98.90 %).  \n",
        "   • Uses half the parameters of the baseline and 15 % of Opt-2.\n",
        "\n",
        "### **Best-Overall Choice (Accuracy × Efficiency)**  \n",
        "\n",
        "> **Opt-4** is the recommended model.  \n",
        "\n",
        "| Metric | Baseline | Opt-4 | Improvement |\n",
        "|--------|----------|-------|-------------|\n",
        "| Params | 421 k | 207 k | –50 % |\n",
        "| Train time/epoch | 76.5 s | 38.2 s | –50 % |\n",
        "| Test Accuracy | 98.91 % | 98.90 % | –0.01 pp |\n",
        "\n",
        "*Rationale*  \n",
        "Opt-1 wins on raw accuracy but doubles training time relative to the baseline and has > 20 × the parameters of Opt-3. Opt-3 is extremely compact and quick, yet its 0.54 pp drop in accuracy may be undesirable for MNIST-level tasks.  \n",
        "Opt-4 strikes the tightest balance: it keeps almost the full accuracy of the big networks while halving both model size and processing time, making it ideal for deployment on resource-constrained hardware without sacrificing classification quality.\n",
        "\n",
        "### **Take-aways**\n",
        "\n",
        "* Depth/width scalings past ~200 k parameters yield diminishing returns on MNIST.  \n",
        "* A single additional Conv block (Opt-1) brings tiny accuracy gains at a large computational cost.  \n",
        "* For embedded or real-time scenarios, Opt-4 offers near-state-of-the-art accuracy with a fraction of the baseline footprint."
      ]
    },
    {
      "cell_type": "markdown",
      "metadata": {
        "id": "9ak730riyKg9"
      },
      "source": [
        "# **6. Using CNN With different batch sizes (64, 128, 192)**"
      ]
    },
    {
      "cell_type": "code",
      "source": [
        "# best model opt4\n",
        "\n",
        "def build_cnn_opt4():\n",
        "    return Sequential([\n",
        "      layers.Input(shape=X_train.shape[1:]),\n",
        "      layers.Conv2D(16, (3, 3), activation='relu', padding='same'),\n",
        "      layers.MaxPooling2D(),\n",
        "\n",
        "      layers.Conv2D(32, (3, 3), activation='relu', padding='same'),\n",
        "      layers.MaxPooling2D(),\n",
        "\n",
        "      layers.Flatten(),\n",
        "      layers.Dense(128, activation='relu'),\n",
        "      layers.Dense(10, activation='softmax')\n",
        "    ])"
      ],
      "metadata": {
        "id": "lMSRzu2trROf"
      },
      "execution_count": 12,
      "outputs": []
    },
    {
      "cell_type": "code",
      "execution_count": null,
      "metadata": {
        "id": "WpiAzX3VzSoT"
      },
      "outputs": [],
      "source": [
        "\n",
        "batch_size_train_times = []\n",
        "batch_size_test_times = []\n",
        "batch_size_val_accs = []\n",
        "batch_size_test_accs = []\n",
        "\n",
        "# our optimal constants we concluded from the previous tasks.\n",
        "epochs = 15\n",
        "lr = 0.01\n",
        "momentum = 0.9\n",
        "batch_size = 64\n",
        "best_build_fn = build_cnn_opt4\n",
        "batch_sizes = [batch_size, batch_size * 2, batch_size * 3]\n"
      ]
    },
    {
      "cell_type": "code",
      "source": [
        "for current_batch_size in batch_sizes:\n",
        "    print(f\"\\n=== Training with batch size: {current_batch_size} ===\")\n",
        "\n",
        "\n",
        "    cnn_model = best_build_fn()\n",
        "    optimizer = tf.keras.optimizers.SGD(learning_rate=lr, momentum=momentum)\n",
        "    cnn_model.compile(optimizer=optimizer, loss='categorical_crossentropy', metrics=['accuracy'])\n",
        "\n",
        "    cnn_model.summary()\n",
        "\n",
        "    start_train_time = time.time()\n",
        "    history = cnn_model.fit(\n",
        "        X_train, y_train,\n",
        "        epochs=epochs,\n",
        "        batch_size=current_batch_size,\n",
        "        validation_data=(X_val, y_val),\n",
        "        verbose=1\n",
        "    )\n",
        "    end_train_time = time.time()\n",
        "\n",
        "    start_test_time = time.time()\n",
        "    test_loss, test_acc = cnn_model.evaluate(X_test, y_test)\n",
        "    end_test_time = time.time()\n",
        "\n",
        "    avg_train_time = (end_train_time - start_train_time) / epochs\n",
        "    test_time = end_test_time - start_test_time\n",
        "\n",
        "    batch_size_train_times.append(avg_train_time)\n",
        "    batch_size_test_times.append(test_time)\n",
        "    batch_size_val_accs.append(history.history['val_accuracy'][-1])\n",
        "    batch_size_test_accs.append(test_acc)\n",
        "\n",
        "    print(f\"\\nResults for Batch Size = {current_batch_size}:\")\n",
        "    print(f\"- Final Validation Accuracy: {history.history['val_accuracy'][-1]:.4f}\")\n",
        "    print(f\"- Test Accuracy: {test_acc:.4f}\")\n",
        "    print(f\"- Avg Train Time/Epoch: {avg_train_time:.2f}s\")\n",
        "    print(f\"- Test Time: {test_time:.2f}s\")"
      ],
      "metadata": {
        "colab": {
          "base_uri": "https://localhost:8080/",
          "height": 1000
        },
        "id": "uqWmzsoPKPlk",
        "outputId": "23be1c2c-cc51-4fae-f2d8-82371ec0ff5a",
        "collapsed": true
      },
      "execution_count": null,
      "outputs": [
        {
          "metadata": {
            "tags": null
          },
          "name": "stdout",
          "output_type": "stream",
          "text": [
            "\n",
            "=== Training with batch size: 64 ===\n"
          ]
        },
        {
          "data": {
            "text/html": [
              "<pre style=\"white-space:pre;overflow-x:auto;line-height:normal;font-family:Menlo,'DejaVu Sans Mono',consolas,'Courier New',monospace\"><span style=\"font-weight: bold\">Model: \"sequential\"</span>\n",
              "</pre>\n"
            ],
            "text/plain": [
              "\u001b[1mModel: \"sequential\"\u001b[0m\n"
            ]
          },
          "metadata": {},
          "output_type": "display_data"
        },
        {
          "data": {
            "text/html": [
              "<pre style=\"white-space:pre;overflow-x:auto;line-height:normal;font-family:Menlo,'DejaVu Sans Mono',consolas,'Courier New',monospace\">┏━━━━━━━━━━━━━━━━━━━━━━━━━━━━━━━━━┳━━━━━━━━━━━━━━━━━━━━━━━━┳━━━━━━━━━━━━━━━┓\n",
              "┃<span style=\"font-weight: bold\"> Layer (type)                    </span>┃<span style=\"font-weight: bold\"> Output Shape           </span>┃<span style=\"font-weight: bold\">       Param # </span>┃\n",
              "┡━━━━━━━━━━━━━━━━━━━━━━━━━━━━━━━━━╇━━━━━━━━━━━━━━━━━━━━━━━━╇━━━━━━━━━━━━━━━┩\n",
              "│ conv2d (<span style=\"color: #0087ff; text-decoration-color: #0087ff\">Conv2D</span>)                 │ (<span style=\"color: #00d7ff; text-decoration-color: #00d7ff\">None</span>, <span style=\"color: #00af00; text-decoration-color: #00af00\">28</span>, <span style=\"color: #00af00; text-decoration-color: #00af00\">28</span>, <span style=\"color: #00af00; text-decoration-color: #00af00\">16</span>)     │           <span style=\"color: #00af00; text-decoration-color: #00af00\">160</span> │\n",
              "├─────────────────────────────────┼────────────────────────┼───────────────┤\n",
              "│ max_pooling2d (<span style=\"color: #0087ff; text-decoration-color: #0087ff\">MaxPooling2D</span>)    │ (<span style=\"color: #00d7ff; text-decoration-color: #00d7ff\">None</span>, <span style=\"color: #00af00; text-decoration-color: #00af00\">14</span>, <span style=\"color: #00af00; text-decoration-color: #00af00\">14</span>, <span style=\"color: #00af00; text-decoration-color: #00af00\">16</span>)     │             <span style=\"color: #00af00; text-decoration-color: #00af00\">0</span> │\n",
              "├─────────────────────────────────┼────────────────────────┼───────────────┤\n",
              "│ conv2d_1 (<span style=\"color: #0087ff; text-decoration-color: #0087ff\">Conv2D</span>)               │ (<span style=\"color: #00d7ff; text-decoration-color: #00d7ff\">None</span>, <span style=\"color: #00af00; text-decoration-color: #00af00\">14</span>, <span style=\"color: #00af00; text-decoration-color: #00af00\">14</span>, <span style=\"color: #00af00; text-decoration-color: #00af00\">32</span>)     │         <span style=\"color: #00af00; text-decoration-color: #00af00\">4,640</span> │\n",
              "├─────────────────────────────────┼────────────────────────┼───────────────┤\n",
              "│ max_pooling2d_1 (<span style=\"color: #0087ff; text-decoration-color: #0087ff\">MaxPooling2D</span>)  │ (<span style=\"color: #00d7ff; text-decoration-color: #00d7ff\">None</span>, <span style=\"color: #00af00; text-decoration-color: #00af00\">7</span>, <span style=\"color: #00af00; text-decoration-color: #00af00\">7</span>, <span style=\"color: #00af00; text-decoration-color: #00af00\">32</span>)       │             <span style=\"color: #00af00; text-decoration-color: #00af00\">0</span> │\n",
              "├─────────────────────────────────┼────────────────────────┼───────────────┤\n",
              "│ flatten (<span style=\"color: #0087ff; text-decoration-color: #0087ff\">Flatten</span>)               │ (<span style=\"color: #00d7ff; text-decoration-color: #00d7ff\">None</span>, <span style=\"color: #00af00; text-decoration-color: #00af00\">1568</span>)           │             <span style=\"color: #00af00; text-decoration-color: #00af00\">0</span> │\n",
              "├─────────────────────────────────┼────────────────────────┼───────────────┤\n",
              "│ dense (<span style=\"color: #0087ff; text-decoration-color: #0087ff\">Dense</span>)                   │ (<span style=\"color: #00d7ff; text-decoration-color: #00d7ff\">None</span>, <span style=\"color: #00af00; text-decoration-color: #00af00\">128</span>)            │       <span style=\"color: #00af00; text-decoration-color: #00af00\">200,832</span> │\n",
              "├─────────────────────────────────┼────────────────────────┼───────────────┤\n",
              "│ dense_1 (<span style=\"color: #0087ff; text-decoration-color: #0087ff\">Dense</span>)                 │ (<span style=\"color: #00d7ff; text-decoration-color: #00d7ff\">None</span>, <span style=\"color: #00af00; text-decoration-color: #00af00\">10</span>)             │         <span style=\"color: #00af00; text-decoration-color: #00af00\">1,290</span> │\n",
              "└─────────────────────────────────┴────────────────────────┴───────────────┘\n",
              "</pre>\n"
            ],
            "text/plain": [
              "┏━━━━━━━━━━━━━━━━━━━━━━━━━━━━━━━━━┳━━━━━━━━━━━━━━━━━━━━━━━━┳━━━━━━━━━━━━━━━┓\n",
              "┃\u001b[1m \u001b[0m\u001b[1mLayer (type)                   \u001b[0m\u001b[1m \u001b[0m┃\u001b[1m \u001b[0m\u001b[1mOutput Shape          \u001b[0m\u001b[1m \u001b[0m┃\u001b[1m \u001b[0m\u001b[1m      Param #\u001b[0m\u001b[1m \u001b[0m┃\n",
              "┡━━━━━━━━━━━━━━━━━━━━━━━━━━━━━━━━━╇━━━━━━━━━━━━━━━━━━━━━━━━╇━━━━━━━━━━━━━━━┩\n",
              "│ conv2d (\u001b[38;5;33mConv2D\u001b[0m)                 │ (\u001b[38;5;45mNone\u001b[0m, \u001b[38;5;34m28\u001b[0m, \u001b[38;5;34m28\u001b[0m, \u001b[38;5;34m16\u001b[0m)     │           \u001b[38;5;34m160\u001b[0m │\n",
              "├─────────────────────────────────┼────────────────────────┼───────────────┤\n",
              "│ max_pooling2d (\u001b[38;5;33mMaxPooling2D\u001b[0m)    │ (\u001b[38;5;45mNone\u001b[0m, \u001b[38;5;34m14\u001b[0m, \u001b[38;5;34m14\u001b[0m, \u001b[38;5;34m16\u001b[0m)     │             \u001b[38;5;34m0\u001b[0m │\n",
              "├─────────────────────────────────┼────────────────────────┼───────────────┤\n",
              "│ conv2d_1 (\u001b[38;5;33mConv2D\u001b[0m)               │ (\u001b[38;5;45mNone\u001b[0m, \u001b[38;5;34m14\u001b[0m, \u001b[38;5;34m14\u001b[0m, \u001b[38;5;34m32\u001b[0m)     │         \u001b[38;5;34m4,640\u001b[0m │\n",
              "├─────────────────────────────────┼────────────────────────┼───────────────┤\n",
              "│ max_pooling2d_1 (\u001b[38;5;33mMaxPooling2D\u001b[0m)  │ (\u001b[38;5;45mNone\u001b[0m, \u001b[38;5;34m7\u001b[0m, \u001b[38;5;34m7\u001b[0m, \u001b[38;5;34m32\u001b[0m)       │             \u001b[38;5;34m0\u001b[0m │\n",
              "├─────────────────────────────────┼────────────────────────┼───────────────┤\n",
              "│ flatten (\u001b[38;5;33mFlatten\u001b[0m)               │ (\u001b[38;5;45mNone\u001b[0m, \u001b[38;5;34m1568\u001b[0m)           │             \u001b[38;5;34m0\u001b[0m │\n",
              "├─────────────────────────────────┼────────────────────────┼───────────────┤\n",
              "│ dense (\u001b[38;5;33mDense\u001b[0m)                   │ (\u001b[38;5;45mNone\u001b[0m, \u001b[38;5;34m128\u001b[0m)            │       \u001b[38;5;34m200,832\u001b[0m │\n",
              "├─────────────────────────────────┼────────────────────────┼───────────────┤\n",
              "│ dense_1 (\u001b[38;5;33mDense\u001b[0m)                 │ (\u001b[38;5;45mNone\u001b[0m, \u001b[38;5;34m10\u001b[0m)             │         \u001b[38;5;34m1,290\u001b[0m │\n",
              "└─────────────────────────────────┴────────────────────────┴───────────────┘\n"
            ]
          },
          "metadata": {},
          "output_type": "display_data"
        },
        {
          "data": {
            "text/html": [
              "<pre style=\"white-space:pre;overflow-x:auto;line-height:normal;font-family:Menlo,'DejaVu Sans Mono',consolas,'Courier New',monospace\"><span style=\"font-weight: bold\"> Total params: </span><span style=\"color: #00af00; text-decoration-color: #00af00\">206,922</span> (808.29 KB)\n",
              "</pre>\n"
            ],
            "text/plain": [
              "\u001b[1m Total params: \u001b[0m\u001b[38;5;34m206,922\u001b[0m (808.29 KB)\n"
            ]
          },
          "metadata": {},
          "output_type": "display_data"
        },
        {
          "data": {
            "text/html": [
              "<pre style=\"white-space:pre;overflow-x:auto;line-height:normal;font-family:Menlo,'DejaVu Sans Mono',consolas,'Courier New',monospace\"><span style=\"font-weight: bold\"> Trainable params: </span><span style=\"color: #00af00; text-decoration-color: #00af00\">206,922</span> (808.29 KB)\n",
              "</pre>\n"
            ],
            "text/plain": [
              "\u001b[1m Trainable params: \u001b[0m\u001b[38;5;34m206,922\u001b[0m (808.29 KB)\n"
            ]
          },
          "metadata": {},
          "output_type": "display_data"
        },
        {
          "data": {
            "text/html": [
              "<pre style=\"white-space:pre;overflow-x:auto;line-height:normal;font-family:Menlo,'DejaVu Sans Mono',consolas,'Courier New',monospace\"><span style=\"font-weight: bold\"> Non-trainable params: </span><span style=\"color: #00af00; text-decoration-color: #00af00\">0</span> (0.00 B)\n",
              "</pre>\n"
            ],
            "text/plain": [
              "\u001b[1m Non-trainable params: \u001b[0m\u001b[38;5;34m0\u001b[0m (0.00 B)\n"
            ]
          },
          "metadata": {},
          "output_type": "display_data"
        },
        {
          "metadata": {
            "tags": null
          },
          "name": "stdout",
          "output_type": "stream",
          "text": [
            "Epoch 1/15\n",
            "\u001b[1m766/766\u001b[0m \u001b[32m━━━━━━━━━━━━━━━━━━━━\u001b[0m\u001b[37m\u001b[0m \u001b[1m37s\u001b[0m 47ms/step - accuracy: 0.8522 - loss: 0.5034 - val_accuracy: 0.9755 - val_loss: 1444.8723\n",
            "Epoch 2/15\n",
            "\u001b[1m766/766\u001b[0m \u001b[32m━━━━━━━━━━━━━━━━━━━━\u001b[0m\u001b[37m\u001b[0m \u001b[1m39s\u001b[0m 45ms/step - accuracy: 0.9802 - loss: 0.0659 - val_accuracy: 0.9798 - val_loss: 1523.8230\n",
            "Epoch 3/15\n",
            "\u001b[1m766/766\u001b[0m \u001b[32m━━━━━━━━━━━━━━━━━━━━\u001b[0m\u001b[37m\u001b[0m \u001b[1m40s\u001b[0m 43ms/step - accuracy: 0.9868 - loss: 0.0400 - val_accuracy: 0.9819 - val_loss: 0.0774\n",
            "Epoch 4/15\n",
            "\u001b[1m766/766\u001b[0m \u001b[32m━━━━━━━━━━━━━━━━━━━━\u001b[0m\u001b[37m\u001b[0m \u001b[1m41s\u001b[0m 43ms/step - accuracy: 0.9899 - loss: 0.0303 - val_accuracy: 0.9848 - val_loss: 1403.4271\n",
            "Epoch 5/15\n",
            "\u001b[1m766/766\u001b[0m \u001b[32m━━━━━━━━━━━━━━━━━━━━\u001b[0m\u001b[37m\u001b[0m \u001b[1m37s\u001b[0m 48ms/step - accuracy: 0.9925 - loss: 0.0233 - val_accuracy: 0.9839 - val_loss: 2109.0579\n",
            "Epoch 6/15\n",
            "\u001b[1m766/766\u001b[0m \u001b[32m━━━━━━━━━━━━━━━━━━━━\u001b[0m\u001b[37m\u001b[0m \u001b[1m37s\u001b[0m 43ms/step - accuracy: 0.9943 - loss: 0.0180 - val_accuracy: 0.9851 - val_loss: 2251.9905\n",
            "Epoch 7/15\n",
            "\u001b[1m766/766\u001b[0m \u001b[32m━━━━━━━━━━━━━━━━━━━━\u001b[0m\u001b[37m\u001b[0m \u001b[1m42s\u001b[0m 44ms/step - accuracy: 0.9959 - loss: 0.0139 - val_accuracy: 0.9867 - val_loss: 2325.5798\n",
            "Epoch 8/15\n",
            "\u001b[1m766/766\u001b[0m \u001b[32m━━━━━━━━━━━━━━━━━━━━\u001b[0m\u001b[37m\u001b[0m \u001b[1m41s\u001b[0m 44ms/step - accuracy: 0.9969 - loss: 0.0096 - val_accuracy: 0.9866 - val_loss: 3548.9912\n",
            "Epoch 9/15\n",
            "\u001b[1m766/766\u001b[0m \u001b[32m━━━━━━━━━━━━━━━━━━━━\u001b[0m\u001b[37m\u001b[0m \u001b[1m40s\u001b[0m 43ms/step - accuracy: 0.9978 - loss: 0.0072 - val_accuracy: 0.9864 - val_loss: 2587.3904\n",
            "Epoch 10/15\n",
            "\u001b[1m766/766\u001b[0m \u001b[32m━━━━━━━━━━━━━━━━━━━━\u001b[0m\u001b[37m\u001b[0m \u001b[1m32s\u001b[0m 42ms/step - accuracy: 0.9986 - loss: 0.0051 - val_accuracy: 0.9867 - val_loss: 3030.1201\n",
            "Epoch 11/15\n",
            "\u001b[1m766/766\u001b[0m \u001b[32m━━━━━━━━━━━━━━━━━━━━\u001b[0m\u001b[37m\u001b[0m \u001b[1m42s\u001b[0m 43ms/step - accuracy: 0.9984 - loss: 0.0052 - val_accuracy: 0.9875 - val_loss: 4173.4316\n",
            "Epoch 12/15\n",
            "\u001b[1m766/766\u001b[0m \u001b[32m━━━━━━━━━━━━━━━━━━━━\u001b[0m\u001b[37m\u001b[0m \u001b[1m41s\u001b[0m 43ms/step - accuracy: 0.9996 - loss: 0.0023 - val_accuracy: 0.9867 - val_loss: 3784.6064\n",
            "Epoch 13/15\n",
            "\u001b[1m766/766\u001b[0m \u001b[32m━━━━━━━━━━━━━━━━━━━━\u001b[0m\u001b[37m\u001b[0m \u001b[1m32s\u001b[0m 41ms/step - accuracy: 0.9998 - loss: 0.0017 - val_accuracy: 0.9885 - val_loss: 4036.5288\n",
            "Epoch 14/15\n",
            "\u001b[1m766/766\u001b[0m \u001b[32m━━━━━━━━━━━━━━━━━━━━\u001b[0m\u001b[37m\u001b[0m \u001b[1m34s\u001b[0m 44ms/step - accuracy: 0.9999 - loss: 8.7386e-04 - val_accuracy: 0.9860 - val_loss: 3629.7056\n",
            "Epoch 15/15\n",
            "\u001b[1m766/766\u001b[0m \u001b[32m━━━━━━━━━━━━━━━━━━━━\u001b[0m\u001b[37m\u001b[0m \u001b[1m33s\u001b[0m 42ms/step - accuracy: 0.9992 - loss: 0.0024 - val_accuracy: 0.9884 - val_loss: 3905.7561\n",
            "\u001b[1m329/329\u001b[0m \u001b[32m━━━━━━━━━━━━━━━━━━━━\u001b[0m\u001b[37m\u001b[0m \u001b[1m4s\u001b[0m 11ms/step - accuracy: 0.9863 - loss: 18620.0293\n",
            "\n",
            "Results for Batch Size = 64:\n",
            "- Final Validation Accuracy: 0.9884\n",
            "- Test Accuracy: 0.9874\n",
            "- Avg Train Time/Epoch: 37.81s\n",
            "- Test Time: 5.21s\n",
            "\n",
            "=== Training with batch size: 128 ===\n"
          ]
        },
        {
          "data": {
            "text/html": [
              "<pre style=\"white-space:pre;overflow-x:auto;line-height:normal;font-family:Menlo,'DejaVu Sans Mono',consolas,'Courier New',monospace\"><span style=\"font-weight: bold\">Model: \"sequential_1\"</span>\n",
              "</pre>\n"
            ],
            "text/plain": [
              "\u001b[1mModel: \"sequential_1\"\u001b[0m\n"
            ]
          },
          "metadata": {},
          "output_type": "display_data"
        },
        {
          "data": {
            "text/html": [
              "<pre style=\"white-space:pre;overflow-x:auto;line-height:normal;font-family:Menlo,'DejaVu Sans Mono',consolas,'Courier New',monospace\">┏━━━━━━━━━━━━━━━━━━━━━━━━━━━━━━━━━┳━━━━━━━━━━━━━━━━━━━━━━━━┳━━━━━━━━━━━━━━━┓\n",
              "┃<span style=\"font-weight: bold\"> Layer (type)                    </span>┃<span style=\"font-weight: bold\"> Output Shape           </span>┃<span style=\"font-weight: bold\">       Param # </span>┃\n",
              "┡━━━━━━━━━━━━━━━━━━━━━━━━━━━━━━━━━╇━━━━━━━━━━━━━━━━━━━━━━━━╇━━━━━━━━━━━━━━━┩\n",
              "│ conv2d_2 (<span style=\"color: #0087ff; text-decoration-color: #0087ff\">Conv2D</span>)               │ (<span style=\"color: #00d7ff; text-decoration-color: #00d7ff\">None</span>, <span style=\"color: #00af00; text-decoration-color: #00af00\">28</span>, <span style=\"color: #00af00; text-decoration-color: #00af00\">28</span>, <span style=\"color: #00af00; text-decoration-color: #00af00\">16</span>)     │           <span style=\"color: #00af00; text-decoration-color: #00af00\">160</span> │\n",
              "├─────────────────────────────────┼────────────────────────┼───────────────┤\n",
              "│ max_pooling2d_2 (<span style=\"color: #0087ff; text-decoration-color: #0087ff\">MaxPooling2D</span>)  │ (<span style=\"color: #00d7ff; text-decoration-color: #00d7ff\">None</span>, <span style=\"color: #00af00; text-decoration-color: #00af00\">14</span>, <span style=\"color: #00af00; text-decoration-color: #00af00\">14</span>, <span style=\"color: #00af00; text-decoration-color: #00af00\">16</span>)     │             <span style=\"color: #00af00; text-decoration-color: #00af00\">0</span> │\n",
              "├─────────────────────────────────┼────────────────────────┼───────────────┤\n",
              "│ conv2d_3 (<span style=\"color: #0087ff; text-decoration-color: #0087ff\">Conv2D</span>)               │ (<span style=\"color: #00d7ff; text-decoration-color: #00d7ff\">None</span>, <span style=\"color: #00af00; text-decoration-color: #00af00\">14</span>, <span style=\"color: #00af00; text-decoration-color: #00af00\">14</span>, <span style=\"color: #00af00; text-decoration-color: #00af00\">32</span>)     │         <span style=\"color: #00af00; text-decoration-color: #00af00\">4,640</span> │\n",
              "├─────────────────────────────────┼────────────────────────┼───────────────┤\n",
              "│ max_pooling2d_3 (<span style=\"color: #0087ff; text-decoration-color: #0087ff\">MaxPooling2D</span>)  │ (<span style=\"color: #00d7ff; text-decoration-color: #00d7ff\">None</span>, <span style=\"color: #00af00; text-decoration-color: #00af00\">7</span>, <span style=\"color: #00af00; text-decoration-color: #00af00\">7</span>, <span style=\"color: #00af00; text-decoration-color: #00af00\">32</span>)       │             <span style=\"color: #00af00; text-decoration-color: #00af00\">0</span> │\n",
              "├─────────────────────────────────┼────────────────────────┼───────────────┤\n",
              "│ flatten_1 (<span style=\"color: #0087ff; text-decoration-color: #0087ff\">Flatten</span>)             │ (<span style=\"color: #00d7ff; text-decoration-color: #00d7ff\">None</span>, <span style=\"color: #00af00; text-decoration-color: #00af00\">1568</span>)           │             <span style=\"color: #00af00; text-decoration-color: #00af00\">0</span> │\n",
              "├─────────────────────────────────┼────────────────────────┼───────────────┤\n",
              "│ dense_2 (<span style=\"color: #0087ff; text-decoration-color: #0087ff\">Dense</span>)                 │ (<span style=\"color: #00d7ff; text-decoration-color: #00d7ff\">None</span>, <span style=\"color: #00af00; text-decoration-color: #00af00\">128</span>)            │       <span style=\"color: #00af00; text-decoration-color: #00af00\">200,832</span> │\n",
              "├─────────────────────────────────┼────────────────────────┼───────────────┤\n",
              "│ dense_3 (<span style=\"color: #0087ff; text-decoration-color: #0087ff\">Dense</span>)                 │ (<span style=\"color: #00d7ff; text-decoration-color: #00d7ff\">None</span>, <span style=\"color: #00af00; text-decoration-color: #00af00\">10</span>)             │         <span style=\"color: #00af00; text-decoration-color: #00af00\">1,290</span> │\n",
              "└─────────────────────────────────┴────────────────────────┴───────────────┘\n",
              "</pre>\n"
            ],
            "text/plain": [
              "┏━━━━━━━━━━━━━━━━━━━━━━━━━━━━━━━━━┳━━━━━━━━━━━━━━━━━━━━━━━━┳━━━━━━━━━━━━━━━┓\n",
              "┃\u001b[1m \u001b[0m\u001b[1mLayer (type)                   \u001b[0m\u001b[1m \u001b[0m┃\u001b[1m \u001b[0m\u001b[1mOutput Shape          \u001b[0m\u001b[1m \u001b[0m┃\u001b[1m \u001b[0m\u001b[1m      Param #\u001b[0m\u001b[1m \u001b[0m┃\n",
              "┡━━━━━━━━━━━━━━━━━━━━━━━━━━━━━━━━━╇━━━━━━━━━━━━━━━━━━━━━━━━╇━━━━━━━━━━━━━━━┩\n",
              "│ conv2d_2 (\u001b[38;5;33mConv2D\u001b[0m)               │ (\u001b[38;5;45mNone\u001b[0m, \u001b[38;5;34m28\u001b[0m, \u001b[38;5;34m28\u001b[0m, \u001b[38;5;34m16\u001b[0m)     │           \u001b[38;5;34m160\u001b[0m │\n",
              "├─────────────────────────────────┼────────────────────────┼───────────────┤\n",
              "│ max_pooling2d_2 (\u001b[38;5;33mMaxPooling2D\u001b[0m)  │ (\u001b[38;5;45mNone\u001b[0m, \u001b[38;5;34m14\u001b[0m, \u001b[38;5;34m14\u001b[0m, \u001b[38;5;34m16\u001b[0m)     │             \u001b[38;5;34m0\u001b[0m │\n",
              "├─────────────────────────────────┼────────────────────────┼───────────────┤\n",
              "│ conv2d_3 (\u001b[38;5;33mConv2D\u001b[0m)               │ (\u001b[38;5;45mNone\u001b[0m, \u001b[38;5;34m14\u001b[0m, \u001b[38;5;34m14\u001b[0m, \u001b[38;5;34m32\u001b[0m)     │         \u001b[38;5;34m4,640\u001b[0m │\n",
              "├─────────────────────────────────┼────────────────────────┼───────────────┤\n",
              "│ max_pooling2d_3 (\u001b[38;5;33mMaxPooling2D\u001b[0m)  │ (\u001b[38;5;45mNone\u001b[0m, \u001b[38;5;34m7\u001b[0m, \u001b[38;5;34m7\u001b[0m, \u001b[38;5;34m32\u001b[0m)       │             \u001b[38;5;34m0\u001b[0m │\n",
              "├─────────────────────────────────┼────────────────────────┼───────────────┤\n",
              "│ flatten_1 (\u001b[38;5;33mFlatten\u001b[0m)             │ (\u001b[38;5;45mNone\u001b[0m, \u001b[38;5;34m1568\u001b[0m)           │             \u001b[38;5;34m0\u001b[0m │\n",
              "├─────────────────────────────────┼────────────────────────┼───────────────┤\n",
              "│ dense_2 (\u001b[38;5;33mDense\u001b[0m)                 │ (\u001b[38;5;45mNone\u001b[0m, \u001b[38;5;34m128\u001b[0m)            │       \u001b[38;5;34m200,832\u001b[0m │\n",
              "├─────────────────────────────────┼────────────────────────┼───────────────┤\n",
              "│ dense_3 (\u001b[38;5;33mDense\u001b[0m)                 │ (\u001b[38;5;45mNone\u001b[0m, \u001b[38;5;34m10\u001b[0m)             │         \u001b[38;5;34m1,290\u001b[0m │\n",
              "└─────────────────────────────────┴────────────────────────┴───────────────┘\n"
            ]
          },
          "metadata": {},
          "output_type": "display_data"
        },
        {
          "data": {
            "text/html": [
              "<pre style=\"white-space:pre;overflow-x:auto;line-height:normal;font-family:Menlo,'DejaVu Sans Mono',consolas,'Courier New',monospace\"><span style=\"font-weight: bold\"> Total params: </span><span style=\"color: #00af00; text-decoration-color: #00af00\">206,922</span> (808.29 KB)\n",
              "</pre>\n"
            ],
            "text/plain": [
              "\u001b[1m Total params: \u001b[0m\u001b[38;5;34m206,922\u001b[0m (808.29 KB)\n"
            ]
          },
          "metadata": {},
          "output_type": "display_data"
        },
        {
          "data": {
            "text/html": [
              "<pre style=\"white-space:pre;overflow-x:auto;line-height:normal;font-family:Menlo,'DejaVu Sans Mono',consolas,'Courier New',monospace\"><span style=\"font-weight: bold\"> Trainable params: </span><span style=\"color: #00af00; text-decoration-color: #00af00\">206,922</span> (808.29 KB)\n",
              "</pre>\n"
            ],
            "text/plain": [
              "\u001b[1m Trainable params: \u001b[0m\u001b[38;5;34m206,922\u001b[0m (808.29 KB)\n"
            ]
          },
          "metadata": {},
          "output_type": "display_data"
        },
        {
          "data": {
            "text/html": [
              "<pre style=\"white-space:pre;overflow-x:auto;line-height:normal;font-family:Menlo,'DejaVu Sans Mono',consolas,'Courier New',monospace\"><span style=\"font-weight: bold\"> Non-trainable params: </span><span style=\"color: #00af00; text-decoration-color: #00af00\">0</span> (0.00 B)\n",
              "</pre>\n"
            ],
            "text/plain": [
              "\u001b[1m Non-trainable params: \u001b[0m\u001b[38;5;34m0\u001b[0m (0.00 B)\n"
            ]
          },
          "metadata": {},
          "output_type": "display_data"
        },
        {
          "output_type": "stream",
          "name": "stdout",
          "text": [
            "Epoch 1/15\n",
            "\u001b[1m383/383\u001b[0m \u001b[32m━━━━━━━━━━━━━━━━━━━━\u001b[0m\u001b[37m\u001b[0m \u001b[1m31s\u001b[0m 79ms/step - accuracy: 0.7706 - loss: 0.7295 - val_accuracy: 0.9686 - val_loss: 1510.6790\n",
            "Epoch 2/15\n",
            "\u001b[1m383/383\u001b[0m \u001b[32m━━━━━━━━━━━━━━━━━━━━\u001b[0m\u001b[37m\u001b[0m \u001b[1m40s\u001b[0m 78ms/step - accuracy: 0.9757 - loss: 0.0829 - val_accuracy: 0.9757 - val_loss: 1982.1333\n",
            "Epoch 3/15\n",
            "\u001b[1m383/383\u001b[0m \u001b[32m━━━━━━━━━━━━━━━━━━━━\u001b[0m\u001b[37m\u001b[0m \u001b[1m42s\u001b[0m 81ms/step - accuracy: 0.9812 - loss: 0.0603 - val_accuracy: 0.9793 - val_loss: 3774.5249\n",
            "Epoch 4/15\n",
            "\u001b[1m383/383\u001b[0m \u001b[32m━━━━━━━━━━━━━━━━━━━━\u001b[0m\u001b[37m\u001b[0m \u001b[1m30s\u001b[0m 77ms/step - accuracy: 0.9875 - loss: 0.0435 - val_accuracy: 0.9812 - val_loss: 6068.0205\n",
            "Epoch 5/15\n",
            "\u001b[1m383/383\u001b[0m \u001b[32m━━━━━━━━━━━━━━━━━━━━\u001b[0m\u001b[37m\u001b[0m \u001b[1m42s\u001b[0m 79ms/step - accuracy: 0.9898 - loss: 0.0312 - val_accuracy: 0.9816 - val_loss: 4898.1011\n",
            "Epoch 6/15\n",
            "\u001b[1m383/383\u001b[0m \u001b[32m━━━━━━━━━━━━━━━━━━━━\u001b[0m\u001b[37m\u001b[0m \u001b[1m47s\u001b[0m 95ms/step - accuracy: 0.9911 - loss: 0.0288 - val_accuracy: 0.9829 - val_loss: 16556.9004\n",
            "Epoch 7/15\n",
            "\u001b[1m383/383\u001b[0m \u001b[32m━━━━━━━━━━━━━━━━━━━━\u001b[0m\u001b[37m\u001b[0m \u001b[1m34s\u001b[0m 78ms/step - accuracy: 0.9931 - loss: 0.0235 - val_accuracy: 0.9835 - val_loss: 8442.0176\n",
            "Epoch 8/15\n",
            "\u001b[1m383/383\u001b[0m \u001b[32m━━━━━━━━━━━━━━━━━━━━\u001b[0m\u001b[37m\u001b[0m \u001b[1m43s\u001b[0m 83ms/step - accuracy: 0.9941 - loss: 0.0196 - val_accuracy: 0.9850 - val_loss: 1669.2659\n",
            "Epoch 9/15\n",
            "\u001b[1m383/383\u001b[0m \u001b[32m━━━━━━━━━━━━━━━━━━━━\u001b[0m\u001b[37m\u001b[0m \u001b[1m39s\u001b[0m 77ms/step - accuracy: 0.9949 - loss: 0.0157 - val_accuracy: 0.9847 - val_loss: 2387.0610\n",
            "Epoch 10/15\n",
            "\u001b[1m383/383\u001b[0m \u001b[32m━━━━━━━━━━━━━━━━━━━━\u001b[0m\u001b[37m\u001b[0m \u001b[1m42s\u001b[0m 80ms/step - accuracy: 0.9961 - loss: 0.0133 - val_accuracy: 0.9840 - val_loss: 2315.4146\n",
            "Epoch 11/15\n",
            "\u001b[1m383/383\u001b[0m \u001b[32m━━━━━━━━━━━━━━━━━━━━\u001b[0m\u001b[37m\u001b[0m \u001b[1m44s\u001b[0m 87ms/step - accuracy: 0.9964 - loss: 0.0120 - val_accuracy: 0.9856 - val_loss: 3679.7947\n",
            "Epoch 12/15\n",
            "\u001b[1m383/383\u001b[0m \u001b[32m━━━━━━━━━━━━━━━━━━━━\u001b[0m\u001b[37m\u001b[0m \u001b[1m30s\u001b[0m 77ms/step - accuracy: 0.9974 - loss: 0.0088 - val_accuracy: 0.9856 - val_loss: 2965.4512\n",
            "Epoch 13/15\n",
            "\u001b[1m383/383\u001b[0m \u001b[32m━━━━━━━━━━━━━━━━━━━━\u001b[0m\u001b[37m\u001b[0m \u001b[1m31s\u001b[0m 80ms/step - accuracy: 0.9984 - loss: 0.0070 - val_accuracy: 0.9852 - val_loss: 3365.9163\n",
            "Epoch 14/15\n",
            "\u001b[1m383/383\u001b[0m \u001b[32m━━━━━━━━━━━━━━━━━━━━\u001b[0m\u001b[37m\u001b[0m \u001b[1m30s\u001b[0m 79ms/step - accuracy: 0.9987 - loss: 0.0062 - val_accuracy: 0.9855 - val_loss: 4186.0806\n",
            "Epoch 15/15\n",
            "\u001b[1m383/383\u001b[0m \u001b[32m━━━━━━━━━━━━━━━━━━━━\u001b[0m\u001b[37m\u001b[0m \u001b[1m40s\u001b[0m 77ms/step - accuracy: 0.9988 - loss: 0.0049 - val_accuracy: 0.9871 - val_loss: 3505.5439\n",
            "\u001b[1m329/329\u001b[0m \u001b[32m━━━━━━━━━━━━━━━━━━━━\u001b[0m\u001b[37m\u001b[0m \u001b[1m3s\u001b[0m 8ms/step - accuracy: 0.9867 - loss: 18989.0977\n",
            "\n",
            "Results for Batch Size = 128:\n",
            "- Final Validation Accuracy: 0.9871\n",
            "- Test Accuracy: 0.9879\n",
            "- Avg Train Time/Epoch: 37.70s\n",
            "- Test Time: 5.21s\n",
            "\n",
            "=== Training with batch size: 192 ===\n"
          ]
        },
        {
          "output_type": "display_data",
          "data": {
            "text/plain": [
              "\u001b[1mModel: \"sequential_2\"\u001b[0m\n"
            ],
            "text/html": [
              "<pre style=\"white-space:pre;overflow-x:auto;line-height:normal;font-family:Menlo,'DejaVu Sans Mono',consolas,'Courier New',monospace\"><span style=\"font-weight: bold\">Model: \"sequential_2\"</span>\n",
              "</pre>\n"
            ]
          },
          "metadata": {}
        },
        {
          "output_type": "display_data",
          "data": {
            "text/plain": [
              "┏━━━━━━━━━━━━━━━━━━━━━━━━━━━━━━━━━┳━━━━━━━━━━━━━━━━━━━━━━━━┳━━━━━━━━━━━━━━━┓\n",
              "┃\u001b[1m \u001b[0m\u001b[1mLayer (type)                   \u001b[0m\u001b[1m \u001b[0m┃\u001b[1m \u001b[0m\u001b[1mOutput Shape          \u001b[0m\u001b[1m \u001b[0m┃\u001b[1m \u001b[0m\u001b[1m      Param #\u001b[0m\u001b[1m \u001b[0m┃\n",
              "┡━━━━━━━━━━━━━━━━━━━━━━━━━━━━━━━━━╇━━━━━━━━━━━━━━━━━━━━━━━━╇━━━━━━━━━━━━━━━┩\n",
              "│ conv2d_4 (\u001b[38;5;33mConv2D\u001b[0m)               │ (\u001b[38;5;45mNone\u001b[0m, \u001b[38;5;34m28\u001b[0m, \u001b[38;5;34m28\u001b[0m, \u001b[38;5;34m16\u001b[0m)     │           \u001b[38;5;34m160\u001b[0m │\n",
              "├─────────────────────────────────┼────────────────────────┼───────────────┤\n",
              "│ max_pooling2d_4 (\u001b[38;5;33mMaxPooling2D\u001b[0m)  │ (\u001b[38;5;45mNone\u001b[0m, \u001b[38;5;34m14\u001b[0m, \u001b[38;5;34m14\u001b[0m, \u001b[38;5;34m16\u001b[0m)     │             \u001b[38;5;34m0\u001b[0m │\n",
              "├─────────────────────────────────┼────────────────────────┼───────────────┤\n",
              "│ conv2d_5 (\u001b[38;5;33mConv2D\u001b[0m)               │ (\u001b[38;5;45mNone\u001b[0m, \u001b[38;5;34m14\u001b[0m, \u001b[38;5;34m14\u001b[0m, \u001b[38;5;34m32\u001b[0m)     │         \u001b[38;5;34m4,640\u001b[0m │\n",
              "├─────────────────────────────────┼────────────────────────┼───────────────┤\n",
              "│ max_pooling2d_5 (\u001b[38;5;33mMaxPooling2D\u001b[0m)  │ (\u001b[38;5;45mNone\u001b[0m, \u001b[38;5;34m7\u001b[0m, \u001b[38;5;34m7\u001b[0m, \u001b[38;5;34m32\u001b[0m)       │             \u001b[38;5;34m0\u001b[0m │\n",
              "├─────────────────────────────────┼────────────────────────┼───────────────┤\n",
              "│ flatten_2 (\u001b[38;5;33mFlatten\u001b[0m)             │ (\u001b[38;5;45mNone\u001b[0m, \u001b[38;5;34m1568\u001b[0m)           │             \u001b[38;5;34m0\u001b[0m │\n",
              "├─────────────────────────────────┼────────────────────────┼───────────────┤\n",
              "│ dense_4 (\u001b[38;5;33mDense\u001b[0m)                 │ (\u001b[38;5;45mNone\u001b[0m, \u001b[38;5;34m128\u001b[0m)            │       \u001b[38;5;34m200,832\u001b[0m │\n",
              "├─────────────────────────────────┼────────────────────────┼───────────────┤\n",
              "│ dense_5 (\u001b[38;5;33mDense\u001b[0m)                 │ (\u001b[38;5;45mNone\u001b[0m, \u001b[38;5;34m10\u001b[0m)             │         \u001b[38;5;34m1,290\u001b[0m │\n",
              "└─────────────────────────────────┴────────────────────────┴───────────────┘\n"
            ],
            "text/html": [
              "<pre style=\"white-space:pre;overflow-x:auto;line-height:normal;font-family:Menlo,'DejaVu Sans Mono',consolas,'Courier New',monospace\">┏━━━━━━━━━━━━━━━━━━━━━━━━━━━━━━━━━┳━━━━━━━━━━━━━━━━━━━━━━━━┳━━━━━━━━━━━━━━━┓\n",
              "┃<span style=\"font-weight: bold\"> Layer (type)                    </span>┃<span style=\"font-weight: bold\"> Output Shape           </span>┃<span style=\"font-weight: bold\">       Param # </span>┃\n",
              "┡━━━━━━━━━━━━━━━━━━━━━━━━━━━━━━━━━╇━━━━━━━━━━━━━━━━━━━━━━━━╇━━━━━━━━━━━━━━━┩\n",
              "│ conv2d_4 (<span style=\"color: #0087ff; text-decoration-color: #0087ff\">Conv2D</span>)               │ (<span style=\"color: #00d7ff; text-decoration-color: #00d7ff\">None</span>, <span style=\"color: #00af00; text-decoration-color: #00af00\">28</span>, <span style=\"color: #00af00; text-decoration-color: #00af00\">28</span>, <span style=\"color: #00af00; text-decoration-color: #00af00\">16</span>)     │           <span style=\"color: #00af00; text-decoration-color: #00af00\">160</span> │\n",
              "├─────────────────────────────────┼────────────────────────┼───────────────┤\n",
              "│ max_pooling2d_4 (<span style=\"color: #0087ff; text-decoration-color: #0087ff\">MaxPooling2D</span>)  │ (<span style=\"color: #00d7ff; text-decoration-color: #00d7ff\">None</span>, <span style=\"color: #00af00; text-decoration-color: #00af00\">14</span>, <span style=\"color: #00af00; text-decoration-color: #00af00\">14</span>, <span style=\"color: #00af00; text-decoration-color: #00af00\">16</span>)     │             <span style=\"color: #00af00; text-decoration-color: #00af00\">0</span> │\n",
              "├─────────────────────────────────┼────────────────────────┼───────────────┤\n",
              "│ conv2d_5 (<span style=\"color: #0087ff; text-decoration-color: #0087ff\">Conv2D</span>)               │ (<span style=\"color: #00d7ff; text-decoration-color: #00d7ff\">None</span>, <span style=\"color: #00af00; text-decoration-color: #00af00\">14</span>, <span style=\"color: #00af00; text-decoration-color: #00af00\">14</span>, <span style=\"color: #00af00; text-decoration-color: #00af00\">32</span>)     │         <span style=\"color: #00af00; text-decoration-color: #00af00\">4,640</span> │\n",
              "├─────────────────────────────────┼────────────────────────┼───────────────┤\n",
              "│ max_pooling2d_5 (<span style=\"color: #0087ff; text-decoration-color: #0087ff\">MaxPooling2D</span>)  │ (<span style=\"color: #00d7ff; text-decoration-color: #00d7ff\">None</span>, <span style=\"color: #00af00; text-decoration-color: #00af00\">7</span>, <span style=\"color: #00af00; text-decoration-color: #00af00\">7</span>, <span style=\"color: #00af00; text-decoration-color: #00af00\">32</span>)       │             <span style=\"color: #00af00; text-decoration-color: #00af00\">0</span> │\n",
              "├─────────────────────────────────┼────────────────────────┼───────────────┤\n",
              "│ flatten_2 (<span style=\"color: #0087ff; text-decoration-color: #0087ff\">Flatten</span>)             │ (<span style=\"color: #00d7ff; text-decoration-color: #00d7ff\">None</span>, <span style=\"color: #00af00; text-decoration-color: #00af00\">1568</span>)           │             <span style=\"color: #00af00; text-decoration-color: #00af00\">0</span> │\n",
              "├─────────────────────────────────┼────────────────────────┼───────────────┤\n",
              "│ dense_4 (<span style=\"color: #0087ff; text-decoration-color: #0087ff\">Dense</span>)                 │ (<span style=\"color: #00d7ff; text-decoration-color: #00d7ff\">None</span>, <span style=\"color: #00af00; text-decoration-color: #00af00\">128</span>)            │       <span style=\"color: #00af00; text-decoration-color: #00af00\">200,832</span> │\n",
              "├─────────────────────────────────┼────────────────────────┼───────────────┤\n",
              "│ dense_5 (<span style=\"color: #0087ff; text-decoration-color: #0087ff\">Dense</span>)                 │ (<span style=\"color: #00d7ff; text-decoration-color: #00d7ff\">None</span>, <span style=\"color: #00af00; text-decoration-color: #00af00\">10</span>)             │         <span style=\"color: #00af00; text-decoration-color: #00af00\">1,290</span> │\n",
              "└─────────────────────────────────┴────────────────────────┴───────────────┘\n",
              "</pre>\n"
            ]
          },
          "metadata": {}
        },
        {
          "output_type": "display_data",
          "data": {
            "text/plain": [
              "\u001b[1m Total params: \u001b[0m\u001b[38;5;34m206,922\u001b[0m (808.29 KB)\n"
            ],
            "text/html": [
              "<pre style=\"white-space:pre;overflow-x:auto;line-height:normal;font-family:Menlo,'DejaVu Sans Mono',consolas,'Courier New',monospace\"><span style=\"font-weight: bold\"> Total params: </span><span style=\"color: #00af00; text-decoration-color: #00af00\">206,922</span> (808.29 KB)\n",
              "</pre>\n"
            ]
          },
          "metadata": {}
        },
        {
          "output_type": "display_data",
          "data": {
            "text/plain": [
              "\u001b[1m Trainable params: \u001b[0m\u001b[38;5;34m206,922\u001b[0m (808.29 KB)\n"
            ],
            "text/html": [
              "<pre style=\"white-space:pre;overflow-x:auto;line-height:normal;font-family:Menlo,'DejaVu Sans Mono',consolas,'Courier New',monospace\"><span style=\"font-weight: bold\"> Trainable params: </span><span style=\"color: #00af00; text-decoration-color: #00af00\">206,922</span> (808.29 KB)\n",
              "</pre>\n"
            ]
          },
          "metadata": {}
        },
        {
          "output_type": "display_data",
          "data": {
            "text/plain": [
              "\u001b[1m Non-trainable params: \u001b[0m\u001b[38;5;34m0\u001b[0m (0.00 B)\n"
            ],
            "text/html": [
              "<pre style=\"white-space:pre;overflow-x:auto;line-height:normal;font-family:Menlo,'DejaVu Sans Mono',consolas,'Courier New',monospace\"><span style=\"font-weight: bold\"> Non-trainable params: </span><span style=\"color: #00af00; text-decoration-color: #00af00\">0</span> (0.00 B)\n",
              "</pre>\n"
            ]
          },
          "metadata": {}
        },
        {
          "output_type": "stream",
          "name": "stdout",
          "text": [
            "Epoch 1/15\n",
            "\u001b[1m256/256\u001b[0m \u001b[32m━━━━━━━━━━━━━━━━━━━━\u001b[0m\u001b[37m\u001b[0m \u001b[1m30s\u001b[0m 112ms/step - accuracy: 0.7287 - loss: 0.8836 - val_accuracy: 0.9550 - val_loss: 9309.2793\n",
            "Epoch 2/15\n",
            "\u001b[1m256/256\u001b[0m \u001b[32m━━━━━━━━━━━━━━━━━━━━\u001b[0m\u001b[37m\u001b[0m \u001b[1m41s\u001b[0m 112ms/step - accuracy: 0.9677 - loss: 0.1129 - val_accuracy: 0.9700 - val_loss: 8839.6318\n",
            "Epoch 3/15\n",
            "\u001b[1m256/256\u001b[0m \u001b[32m━━━━━━━━━━━━━━━━━━━━\u001b[0m\u001b[37m\u001b[0m \u001b[1m43s\u001b[0m 118ms/step - accuracy: 0.9793 - loss: 0.0695 - val_accuracy: 0.9742 - val_loss: 7292.4097\n",
            "Epoch 4/15\n",
            "\u001b[1m256/256\u001b[0m \u001b[32m━━━━━━━━━━━━━━━━━━━━\u001b[0m\u001b[37m\u001b[0m \u001b[1m40s\u001b[0m 113ms/step - accuracy: 0.9834 - loss: 0.0556 - val_accuracy: 0.9801 - val_loss: 2221.4949\n",
            "Epoch 5/15\n",
            "\u001b[1m256/256\u001b[0m \u001b[32m━━━━━━━━━━━━━━━━━━━━\u001b[0m\u001b[37m\u001b[0m \u001b[1m41s\u001b[0m 111ms/step - accuracy: 0.9874 - loss: 0.0429 - val_accuracy: 0.9808 - val_loss: 13195.7119\n",
            "Epoch 6/15\n",
            "\u001b[1m256/256\u001b[0m \u001b[32m━━━━━━━━━━━━━━━━━━━━\u001b[0m\u001b[37m\u001b[0m \u001b[1m42s\u001b[0m 114ms/step - accuracy: 0.9886 - loss: 0.0358 - val_accuracy: 0.9842 - val_loss: 3901.1074\n",
            "Epoch 7/15\n",
            "\u001b[1m256/256\u001b[0m \u001b[32m━━━━━━━━━━━━━━━━━━━━\u001b[0m\u001b[37m\u001b[0m \u001b[1m41s\u001b[0m 116ms/step - accuracy: 0.9909 - loss: 0.0290 - val_accuracy: 0.9834 - val_loss: 13573.7754\n",
            "Epoch 8/15\n",
            "\u001b[1m256/256\u001b[0m \u001b[32m━━━━━━━━━━━━━━━━━━━━\u001b[0m\u001b[37m\u001b[0m \u001b[1m41s\u001b[0m 114ms/step - accuracy: 0.9929 - loss: 0.0251 - val_accuracy: 0.9842 - val_loss: 2289.9695\n",
            "Epoch 9/15\n",
            "\u001b[1m256/256\u001b[0m \u001b[32m━━━━━━━━━━━━━━━━━━━━\u001b[0m\u001b[37m\u001b[0m \u001b[1m40s\u001b[0m 110ms/step - accuracy: 0.9931 - loss: 0.0218 - val_accuracy: 0.9853 - val_loss: 2682.6294\n",
            "Epoch 10/15\n",
            "\u001b[1m256/256\u001b[0m \u001b[32m━━━━━━━━━━━━━━━━━━━━\u001b[0m\u001b[37m\u001b[0m \u001b[1m42s\u001b[0m 116ms/step - accuracy: 0.9949 - loss: 0.0174 - val_accuracy: 0.9846 - val_loss: 3763.1729\n",
            "Epoch 11/15\n",
            "\u001b[1m256/256\u001b[0m \u001b[32m━━━━━━━━━━━━━━━━━━━━\u001b[0m\u001b[37m\u001b[0m \u001b[1m41s\u001b[0m 114ms/step - accuracy: 0.9953 - loss: 0.0160 - val_accuracy: 0.9835 - val_loss: 4789.5195\n",
            "Epoch 12/15\n",
            "\u001b[1m256/256\u001b[0m \u001b[32m━━━━━━━━━━━━━━━━━━━━\u001b[0m\u001b[37m\u001b[0m \u001b[1m41s\u001b[0m 114ms/step - accuracy: 0.9949 - loss: 0.0169 - val_accuracy: 0.9858 - val_loss: 4447.5825\n",
            "Epoch 13/15\n",
            "\u001b[1m256/256\u001b[0m \u001b[32m━━━━━━━━━━━━━━━━━━━━\u001b[0m\u001b[37m\u001b[0m \u001b[1m28s\u001b[0m 110ms/step - accuracy: 0.9969 - loss: 0.0118 - val_accuracy: 0.9834 - val_loss: 4624.1084\n",
            "Epoch 14/15\n",
            "\u001b[1m256/256\u001b[0m \u001b[32m━━━━━━━━━━━━━━━━━━━━\u001b[0m\u001b[37m\u001b[0m \u001b[1m43s\u001b[0m 116ms/step - accuracy: 0.9964 - loss: 0.0116 - val_accuracy: 0.9850 - val_loss: 5934.0693\n",
            "Epoch 15/15\n",
            "\u001b[1m256/256\u001b[0m \u001b[32m━━━━━━━━━━━━━━━━━━━━\u001b[0m\u001b[37m\u001b[0m \u001b[1m39s\u001b[0m 110ms/step - accuracy: 0.9973 - loss: 0.0094 - val_accuracy: 0.9839 - val_loss: 6310.5381\n",
            "\u001b[1m329/329\u001b[0m \u001b[32m━━━━━━━━━━━━━━━━━━━━\u001b[0m\u001b[37m\u001b[0m \u001b[1m3s\u001b[0m 9ms/step - accuracy: 0.9852 - loss: 15602.9619\n",
            "\n",
            "Results for Batch Size = 192:\n",
            "- Final Validation Accuracy: 0.9839\n",
            "- Test Accuracy: 0.9853\n",
            "- Avg Train Time/Epoch: 40.25s\n",
            "- Test Time: 5.22s\n"
          ]
        }
      ]
    },
    {
      "cell_type": "markdown",
      "source": [
        "## Plotting the results for batch sizes"
      ],
      "metadata": {
        "id": "oAF1flVk_V34"
      }
    },
    {
      "cell_type": "code",
      "source": [
        "plt.figure(figsize=(15, 5))\n",
        "\n",
        "plt.subplot(1, 3, 1)\n",
        "plt.plot(batch_sizes, batch_size_val_accs, 'bo-', label='Validation')\n",
        "plt.plot(batch_sizes, batch_size_test_accs, 'ro-', label='Test')\n",
        "plt.xscale('log', base=2)\n",
        "plt.xticks(batch_sizes, batch_sizes)\n",
        "plt.title('Accuracy vs Batch Size')\n",
        "plt.xlabel('Batch Size (log scale)')\n",
        "plt.ylabel('Accuracy')\n",
        "plt.legend()\n",
        "plt.grid(True)\n",
        "\n",
        "plt.subplot(1, 3, 2)\n",
        "plt.plot(batch_sizes, batch_size_train_times, 'go-')\n",
        "plt.xscale('log', base=2)\n",
        "plt.xticks(batch_sizes, batch_sizes)\n",
        "plt.title('Avg Training Time/Epoch vs Batch Size')\n",
        "plt.xlabel('Batch Size (log scale)')\n",
        "plt.ylabel('Avg Time per Epoch (s)')\n",
        "plt.grid(True)\n",
        "\n",
        "plt.subplot(1, 3, 3)\n",
        "plt.plot(batch_sizes, batch_size_test_times, 'mo-')\n",
        "plt.xscale('log', base=2)\n",
        "plt.xticks(batch_sizes, batch_sizes)\n",
        "plt.title('Test Time vs Batch Size')\n",
        "plt.xlabel('Batch Size (log scale)')\n",
        "plt.ylabel('Test Time (s)')\n",
        "plt.grid(True)\n",
        "\n",
        "plt.tight_layout()\n",
        "plt.show()"
      ],
      "metadata": {
        "id": "eXQ_nignHcGp",
        "outputId": "99ca6212-688d-437d-b20a-2112ee1f8ce1",
        "colab": {
          "base_uri": "https://localhost:8080/",
          "height": 482
        }
      },
      "execution_count": null,
      "outputs": [
        {
          "output_type": "display_data",
          "data": {
            "text/plain": [
              "<Figure size 1500x500 with 3 Axes>"
            ],
            "image/png": "[encoded data removed]"
          },
          "metadata": {}
        }
      ]
    },
    {
      "cell_type": "code",
      "source": [
        "best_batch_size = batch_sizes[batch_size_val_accs.index(max(batch_size_val_accs))]\n",
        "best_val_acc = max(batch_size_val_accs)\n",
        "best_test_acc_index = batch_size_val_accs.index(best_val_acc)\n",
        "best_test_acc_at_best_bs = batch_size_test_accs[best_test_acc_index]\n",
        "\n",
        "print(f\"\\n=== Best Batch Size Based on Validation Accuracy ===\")\n",
        "print(f\"Batch Size: {best_batch_size}\")\n",
        "print(f\"Validation Accuracy: {best_val_acc:.4f}\")\n",
        "print(f\"\\n=== Test Performance for Best Batch Size ({best_batch_size}) ===\")\n",
        "print(f\"Test Accuracy: {best_test_acc_at_best_bs:.4f}\")\n",
        "print(f\"Avg Train Time/Epoch: {batch_size_train_times[best_test_acc_index]:.2f}s\")\n",
        "print(f\"Test Time: {batch_size_test_times[best_test_acc_index]:.2f}s\")"
      ],
      "metadata": {
        "id": "l-DSrZPs_hh-",
        "outputId": "745528a5-4d74-4ab2-dbea-b7bf1e869efd",
        "colab": {
          "base_uri": "https://localhost:8080/"
        }
      },
      "execution_count": null,
      "outputs": [
        {
          "output_type": "stream",
          "name": "stdout",
          "text": [
            "\n",
            "=== Best Batch Size Based on Validation Accuracy ===\n",
            "Batch Size: 64\n",
            "Validation Accuracy: 0.9880\n",
            "\n",
            "=== Test Performance for Best Batch Size (64) ===\n",
            "Test Accuracy: 0.9884\n",
            "Avg Train Time/Epoch: 45.46s\n",
            "Test Time: 3.80s\n"
          ]
        }
      ]
    },
    {
      "cell_type": "markdown",
      "metadata": {
        "id": "pqZ3kFEQDBv6"
      },
      "source": [
        "# Accuracy Trend\n",
        " - There's a clear inverse relationship between batch size and model accuracy.  \n",
        "\n",
        " - As batch size increases, both validation and test accuracy decrease:\n",
        "\n",
        "```\n",
        "Batch size 64: highest accuracy (0.9884 test)\n",
        "Batch size 128: middle accuracy (0.9876 test)\n",
        "Batch size 192: lowest accuracy (0.9844 test)\n",
        "```\n",
        "\n",
        "\n",
        "# Training Time Efficiency\n",
        "- Larger batch sizes generally train faster per epoch:\n",
        "\n",
        "```\n",
        "Batch size 192: slowest training (45.46s per epoch)\n",
        "Batch size 128: middle training speed (35.89s per epoch)\n",
        "Batch size 64: fastest training (36.05s per epoch)\n",
        "```\n",
        "\n",
        "- The smaller batch size had slightly longer test time:\n",
        "\n",
        "```\n",
        "Batch sizes 192: 2.69s\n",
        "Batch sizes 128: 3.19s\n",
        "Batch size 64: 3.80s\n",
        "```\n",
        "\n",
        "\n",
        "# Best Batch Size\n",
        " - ### Batch Size 128 provides the best moderate performance with:\n",
        "```\n",
        "High validation accuracy (0.9870)\n",
        "High test accuracy (0.9876)\n",
        "Reasonable training time (~36s per epoch)\n",
        "```\n",
        " - The difference between batch sizes of 64 and 128 is negligible, with only a 0.0008% accuracy improvement—insignificant compared to the 10-second reduction in training time per epoch (45.5s vs 36s).\n",
        "\n",
        "\n",
        "\n",
        "\n",
        "# Analysis\n",
        "- Training Efficiency: Batch size 128 reduced training time per epoch by approximately 10 seconds (45.5s → 36s), offering a significant speedup over batch size 64.\n",
        "\n",
        "- Accuracy Impact: The accuracy improvement with batch size 64 was only about 0.0008%, which is statistically negligible and does not justify the increased training time.\n",
        "\n",
        "- Trade-off Evaluation: Although smaller batches can offer benefits like more frequent updates and potentially better generalization, in this case, they did not yield meaningful accuracy gains.\n",
        "\n",
        "- Conclusion: Given the substantial time savings and insignificant accuracy difference, batch size 128 is the more practical and efficient choice for this model and dataset."
      ]
    },
    {
      "cell_type": "markdown",
      "source": [],
      "metadata": {
        "id": "YTO9gyt0GqXS"
      }
    },
    {
      "cell_type": "markdown",
      "source": [
        "# 7. **Changing all the activations to something else (WIP)**\n"
      ],
      "metadata": {
        "id": "rsQQtvEEHCNb"
      }
    },
    {
      "cell_type": "code",
      "source": [
        "# Our 3 activation functions, RelU should work best with CNN i think.\n",
        "activations = ['sigmoid', 'relu', 'tanh', 'swish']\n",
        "best_activation = None\n",
        "best_val_activation = 0"
      ],
      "metadata": {
        "id": "it9SVT3GAL1O"
      },
      "execution_count": null,
      "outputs": []
    },
    {
      "cell_type": "code",
      "source": [
        "activation_train_times = []\n",
        "activation_test_times = []\n",
        "activation_val_accs = []\n",
        "activation_test_accs = []"
      ],
      "metadata": {
        "id": "XoWKwRM3BS5d"
      },
      "execution_count": null,
      "outputs": []
    },
    {
      "cell_type": "code",
      "source": [
        "# optimal constants until now.\n",
        "epochs = 15\n",
        "lr = 0.01\n",
        "momentum = 0.9\n",
        "batch_size = 128"
      ],
      "metadata": {
        "id": "XsjgbomRBdY9"
      },
      "execution_count": null,
      "outputs": []
    },
    {
      "cell_type": "code",
      "source": [
        "for current_activation in activations:\n",
        "    print(f\"\\n=== Training with activation: {current_activation} ===\")\n",
        "\n",
        "    def build_cnn_opt2_with_activation(activation_fn):\n",
        "        return Sequential([\n",
        "          layers.Input(shape=X_train.shape[1:]),\n",
        "\n",
        "          layers.Conv2D(16, (3, 3), activation=activation_fn, padding='same'),\n",
        "          layers.MaxPooling2D(),\n",
        "\n",
        "          layers.Conv2D(32, (3, 3), activation=activation_fn, padding='same'),\n",
        "          layers.MaxPooling2D(),\n",
        "\n",
        "          layers.Flatten(),\n",
        "          layers.Dense(128, activation=activation_fn),\n",
        "          layers.Dense(10,  activation='softmax'),\n",
        "        ])\n",
        "\n",
        "\n",
        "    cnn_model = build_cnn_opt2_with_activation(current_activation)\n",
        "    optimizer = tf.keras.optimizers.SGD(learning_rate=lr, momentum=momentum)\n",
        "    cnn_model.compile(optimizer=optimizer, loss='categorical_crossentropy', metrics=['accuracy'])\n",
        "\n",
        "    cnn_model.summary()\n",
        "\n",
        "    start_train_time = time.time()\n",
        "    history = cnn_model.fit(\n",
        "        X_train, y_train,\n",
        "        epochs=epochs,\n",
        "        batch_size=batch_size,\n",
        "        validation_data=(X_val, y_val),\n",
        "        verbose=1\n",
        "    )\n",
        "    end_train_time = time.time()\n",
        "\n",
        "    start_test_time = time.time()\n",
        "    test_loss, test_acc = cnn_model.evaluate(X_test, y_test)\n",
        "    end_test_time = time.time()\n",
        "\n",
        "    avg_train_time = (end_train_time - start_train_time) / epochs\n",
        "    test_time = end_test_time - start_test_time\n",
        "\n",
        "    activation_train_times.append(avg_train_time)\n",
        "    activation_test_times.append(test_time)\n",
        "    activation_val_accs.append(history.history['val_accuracy'][-1])\n",
        "    activation_test_accs.append(test_acc)\n",
        "\n",
        "    print(f\"\\nResults for Activation = {current_activation}:\")\n",
        "    print(f\"- Final Validation Accuracy: {history.history['val_accuracy'][-1]:.4f}\")\n",
        "    print(f\"- Test Accuracy: {test_acc:.4f}\")\n",
        "    print(f\"- Avg Train Time/Epoch: {avg_train_time:.2f}s\")\n",
        "    print(f\"- Test Time: {test_time:.2f}s\")\n",
        "\n",
        "    if history.history['val_accuracy'][-1] > best_val_activation:\n",
        "        best_val_activation = history.history['val_accuracy'][-1]\n",
        "        best_activation = current_activation"
      ],
      "metadata": {
        "id": "SZINt8bEBRad",
        "outputId": "40fc7cd8-8d39-4a0e-c69e-5bbc531f2f62",
        "colab": {
          "base_uri": "https://localhost:8080/",
          "height": 1000
        }
      },
      "execution_count": null,
      "outputs": [
        {
          "output_type": "stream",
          "name": "stdout",
          "text": [
            "\n",
            "=== Training with activation: sigmoid ===\n"
          ]
        },
        {
          "output_type": "display_data",
          "data": {
            "text/plain": [
              "\u001b[1mModel: \"sequential_3\"\u001b[0m\n"
            ],
            "text/html": [
              "<pre style=\"white-space:pre;overflow-x:auto;line-height:normal;font-family:Menlo,'DejaVu Sans Mono',consolas,'Courier New',monospace\"><span style=\"font-weight: bold\">Model: \"sequential_3\"</span>\n",
              "</pre>\n"
            ]
          },
          "metadata": {}
        },
        {
          "output_type": "display_data",
          "data": {
            "text/plain": [
              "┏━━━━━━━━━━━━━━━━━━━━━━━━━━━━━━━━━┳━━━━━━━━━━━━━━━━━━━━━━━━┳━━━━━━━━━━━━━━━┓\n",
              "┃\u001b[1m \u001b[0m\u001b[1mLayer (type)                   \u001b[0m\u001b[1m \u001b[0m┃\u001b[1m \u001b[0m\u001b[1mOutput Shape          \u001b[0m\u001b[1m \u001b[0m┃\u001b[1m \u001b[0m\u001b[1m      Param #\u001b[0m\u001b[1m \u001b[0m┃\n",
              "┡━━━━━━━━━━━━━━━━━━━━━━━━━━━━━━━━━╇━━━━━━━━━━━━━━━━━━━━━━━━╇━━━━━━━━━━━━━━━┩\n",
              "│ conv2d_6 (\u001b[38;5;33mConv2D\u001b[0m)               │ (\u001b[38;5;45mNone\u001b[0m, \u001b[38;5;34m28\u001b[0m, \u001b[38;5;34m28\u001b[0m, \u001b[38;5;34m16\u001b[0m)     │           \u001b[38;5;34m160\u001b[0m │\n",
              "├─────────────────────────────────┼────────────────────────┼───────────────┤\n",
              "│ max_pooling2d_6 (\u001b[38;5;33mMaxPooling2D\u001b[0m)  │ (\u001b[38;5;45mNone\u001b[0m, \u001b[38;5;34m14\u001b[0m, \u001b[38;5;34m14\u001b[0m, \u001b[38;5;34m16\u001b[0m)     │             \u001b[38;5;34m0\u001b[0m │\n",
              "├─────────────────────────────────┼────────────────────────┼───────────────┤\n",
              "│ conv2d_7 (\u001b[38;5;33mConv2D\u001b[0m)               │ (\u001b[38;5;45mNone\u001b[0m, \u001b[38;5;34m14\u001b[0m, \u001b[38;5;34m14\u001b[0m, \u001b[38;5;34m32\u001b[0m)     │         \u001b[38;5;34m4,640\u001b[0m │\n",
              "├─────────────────────────────────┼────────────────────────┼───────────────┤\n",
              "│ max_pooling2d_7 (\u001b[38;5;33mMaxPooling2D\u001b[0m)  │ (\u001b[38;5;45mNone\u001b[0m, \u001b[38;5;34m7\u001b[0m, \u001b[38;5;34m7\u001b[0m, \u001b[38;5;34m32\u001b[0m)       │             \u001b[38;5;34m0\u001b[0m │\n",
              "├─────────────────────────────────┼────────────────────────┼───────────────┤\n",
              "│ flatten_3 (\u001b[38;5;33mFlatten\u001b[0m)             │ (\u001b[38;5;45mNone\u001b[0m, \u001b[38;5;34m1568\u001b[0m)           │             \u001b[38;5;34m0\u001b[0m │\n",
              "├─────────────────────────────────┼────────────────────────┼───────────────┤\n",
              "│ dense_6 (\u001b[38;5;33mDense\u001b[0m)                 │ (\u001b[38;5;45mNone\u001b[0m, \u001b[38;5;34m128\u001b[0m)            │       \u001b[38;5;34m200,832\u001b[0m │\n",
              "├─────────────────────────────────┼────────────────────────┼───────────────┤\n",
              "│ dense_7 (\u001b[38;5;33mDense\u001b[0m)                 │ (\u001b[38;5;45mNone\u001b[0m, \u001b[38;5;34m10\u001b[0m)             │         \u001b[38;5;34m1,290\u001b[0m │\n",
              "└─────────────────────────────────┴────────────────────────┴───────────────┘\n"
            ],
            "text/html": [
              "<pre style=\"white-space:pre;overflow-x:auto;line-height:normal;font-family:Menlo,'DejaVu Sans Mono',consolas,'Courier New',monospace\">┏━━━━━━━━━━━━━━━━━━━━━━━━━━━━━━━━━┳━━━━━━━━━━━━━━━━━━━━━━━━┳━━━━━━━━━━━━━━━┓\n",
              "┃<span style=\"font-weight: bold\"> Layer (type)                    </span>┃<span style=\"font-weight: bold\"> Output Shape           </span>┃<span style=\"font-weight: bold\">       Param # </span>┃\n",
              "┡━━━━━━━━━━━━━━━━━━━━━━━━━━━━━━━━━╇━━━━━━━━━━━━━━━━━━━━━━━━╇━━━━━━━━━━━━━━━┩\n",
              "│ conv2d_6 (<span style=\"color: #0087ff; text-decoration-color: #0087ff\">Conv2D</span>)               │ (<span style=\"color: #00d7ff; text-decoration-color: #00d7ff\">None</span>, <span style=\"color: #00af00; text-decoration-color: #00af00\">28</span>, <span style=\"color: #00af00; text-decoration-color: #00af00\">28</span>, <span style=\"color: #00af00; text-decoration-color: #00af00\">16</span>)     │           <span style=\"color: #00af00; text-decoration-color: #00af00\">160</span> │\n",
              "├─────────────────────────────────┼────────────────────────┼───────────────┤\n",
              "│ max_pooling2d_6 (<span style=\"color: #0087ff; text-decoration-color: #0087ff\">MaxPooling2D</span>)  │ (<span style=\"color: #00d7ff; text-decoration-color: #00d7ff\">None</span>, <span style=\"color: #00af00; text-decoration-color: #00af00\">14</span>, <span style=\"color: #00af00; text-decoration-color: #00af00\">14</span>, <span style=\"color: #00af00; text-decoration-color: #00af00\">16</span>)     │             <span style=\"color: #00af00; text-decoration-color: #00af00\">0</span> │\n",
              "├─────────────────────────────────┼────────────────────────┼───────────────┤\n",
              "│ conv2d_7 (<span style=\"color: #0087ff; text-decoration-color: #0087ff\">Conv2D</span>)               │ (<span style=\"color: #00d7ff; text-decoration-color: #00d7ff\">None</span>, <span style=\"color: #00af00; text-decoration-color: #00af00\">14</span>, <span style=\"color: #00af00; text-decoration-color: #00af00\">14</span>, <span style=\"color: #00af00; text-decoration-color: #00af00\">32</span>)     │         <span style=\"color: #00af00; text-decoration-color: #00af00\">4,640</span> │\n",
              "├─────────────────────────────────┼────────────────────────┼───────────────┤\n",
              "│ max_pooling2d_7 (<span style=\"color: #0087ff; text-decoration-color: #0087ff\">MaxPooling2D</span>)  │ (<span style=\"color: #00d7ff; text-decoration-color: #00d7ff\">None</span>, <span style=\"color: #00af00; text-decoration-color: #00af00\">7</span>, <span style=\"color: #00af00; text-decoration-color: #00af00\">7</span>, <span style=\"color: #00af00; text-decoration-color: #00af00\">32</span>)       │             <span style=\"color: #00af00; text-decoration-color: #00af00\">0</span> │\n",
              "├─────────────────────────────────┼────────────────────────┼───────────────┤\n",
              "│ flatten_3 (<span style=\"color: #0087ff; text-decoration-color: #0087ff\">Flatten</span>)             │ (<span style=\"color: #00d7ff; text-decoration-color: #00d7ff\">None</span>, <span style=\"color: #00af00; text-decoration-color: #00af00\">1568</span>)           │             <span style=\"color: #00af00; text-decoration-color: #00af00\">0</span> │\n",
              "├─────────────────────────────────┼────────────────────────┼───────────────┤\n",
              "│ dense_6 (<span style=\"color: #0087ff; text-decoration-color: #0087ff\">Dense</span>)                 │ (<span style=\"color: #00d7ff; text-decoration-color: #00d7ff\">None</span>, <span style=\"color: #00af00; text-decoration-color: #00af00\">128</span>)            │       <span style=\"color: #00af00; text-decoration-color: #00af00\">200,832</span> │\n",
              "├─────────────────────────────────┼────────────────────────┼───────────────┤\n",
              "│ dense_7 (<span style=\"color: #0087ff; text-decoration-color: #0087ff\">Dense</span>)                 │ (<span style=\"color: #00d7ff; text-decoration-color: #00d7ff\">None</span>, <span style=\"color: #00af00; text-decoration-color: #00af00\">10</span>)             │         <span style=\"color: #00af00; text-decoration-color: #00af00\">1,290</span> │\n",
              "└─────────────────────────────────┴────────────────────────┴───────────────┘\n",
              "</pre>\n"
            ]
          },
          "metadata": {}
        },
        {
          "output_type": "display_data",
          "data": {
            "text/plain": [
              "\u001b[1m Total params: \u001b[0m\u001b[38;5;34m206,922\u001b[0m (808.29 KB)\n"
            ],
            "text/html": [
              "<pre style=\"white-space:pre;overflow-x:auto;line-height:normal;font-family:Menlo,'DejaVu Sans Mono',consolas,'Courier New',monospace\"><span style=\"font-weight: bold\"> Total params: </span><span style=\"color: #00af00; text-decoration-color: #00af00\">206,922</span> (808.29 KB)\n",
              "</pre>\n"
            ]
          },
          "metadata": {}
        },
        {
          "output_type": "display_data",
          "data": {
            "text/plain": [
              "\u001b[1m Trainable params: \u001b[0m\u001b[38;5;34m206,922\u001b[0m (808.29 KB)\n"
            ],
            "text/html": [
              "<pre style=\"white-space:pre;overflow-x:auto;line-height:normal;font-family:Menlo,'DejaVu Sans Mono',consolas,'Courier New',monospace\"><span style=\"font-weight: bold\"> Trainable params: </span><span style=\"color: #00af00; text-decoration-color: #00af00\">206,922</span> (808.29 KB)\n",
              "</pre>\n"
            ]
          },
          "metadata": {}
        },
        {
          "output_type": "display_data",
          "data": {
            "text/plain": [
              "\u001b[1m Non-trainable params: \u001b[0m\u001b[38;5;34m0\u001b[0m (0.00 B)\n"
            ],
            "text/html": [
              "<pre style=\"white-space:pre;overflow-x:auto;line-height:normal;font-family:Menlo,'DejaVu Sans Mono',consolas,'Courier New',monospace\"><span style=\"font-weight: bold\"> Non-trainable params: </span><span style=\"color: #00af00; text-decoration-color: #00af00\">0</span> (0.00 B)\n",
              "</pre>\n"
            ]
          },
          "metadata": {}
        },
        {
          "output_type": "stream",
          "name": "stdout",
          "text": [
            "Epoch 1/15\n",
            "\u001b[1m383/383\u001b[0m \u001b[32m━━━━━━━━━━━━━━━━━━━━\u001b[0m\u001b[37m\u001b[0m \u001b[1m35s\u001b[0m 89ms/step - accuracy: 0.1236 - loss: 2.3104 - val_accuracy: 0.4168 - val_loss: 2.0749\n",
            "Epoch 2/15\n",
            "\u001b[1m383/383\u001b[0m \u001b[32m━━━━━━━━━━━━━━━━━━━━\u001b[0m\u001b[37m\u001b[0m \u001b[1m40s\u001b[0m 85ms/step - accuracy: 0.6186 - loss: 1.4874 - val_accuracy: 0.8423 - val_loss: 0.5440\n",
            "Epoch 3/15\n",
            "\u001b[1m383/383\u001b[0m \u001b[32m━━━━━━━━━━━━━━━━━━━━\u001b[0m\u001b[37m\u001b[0m \u001b[1m39s\u001b[0m 81ms/step - accuracy: 0.8712 - loss: 0.4723 - val_accuracy: 0.8889 - val_loss: 0.3789\n",
            "Epoch 4/15\n",
            "\u001b[1m383/383\u001b[0m \u001b[32m━━━━━━━━━━━━━━━━━━━━\u001b[0m\u001b[37m\u001b[0m \u001b[1m41s\u001b[0m 81ms/step - accuracy: 0.9026 - loss: 0.3494 - val_accuracy: 0.9061 - val_loss: 0.3134\n",
            "Epoch 5/15\n",
            "\u001b[1m383/383\u001b[0m \u001b[32m━━━━━━━━━━━━━━━━━━━━\u001b[0m\u001b[37m\u001b[0m \u001b[1m41s\u001b[0m 81ms/step - accuracy: 0.9158 - loss: 0.2883 - val_accuracy: 0.9187 - val_loss: 0.2702\n",
            "Epoch 6/15\n",
            "\u001b[1m383/383\u001b[0m \u001b[32m━━━━━━━━━━━━━━━━━━━━\u001b[0m\u001b[37m\u001b[0m \u001b[1m42s\u001b[0m 85ms/step - accuracy: 0.9266 - loss: 0.2513 - val_accuracy: 0.9279 - val_loss: 0.2444\n",
            "Epoch 7/15\n",
            "\u001b[1m383/383\u001b[0m \u001b[32m━━━━━━━━━━━━━━━━━━━━\u001b[0m\u001b[37m\u001b[0m \u001b[1m32s\u001b[0m 83ms/step - accuracy: 0.9376 - loss: 0.2164 - val_accuracy: 0.9363 - val_loss: 0.2126\n",
            "Epoch 8/15\n",
            "\u001b[1m383/383\u001b[0m \u001b[32m━━━━━━━━━━━━━━━━━━━━\u001b[0m\u001b[37m\u001b[0m \u001b[1m31s\u001b[0m 82ms/step - accuracy: 0.9463 - loss: 0.1903 - val_accuracy: 0.9418 - val_loss: 0.1922\n",
            "Epoch 9/15\n",
            "\u001b[1m383/383\u001b[0m \u001b[32m━━━━━━━━━━━━━━━━━━━━\u001b[0m\u001b[37m\u001b[0m \u001b[1m42s\u001b[0m 85ms/step - accuracy: 0.9524 - loss: 0.1682 - val_accuracy: 0.9446 - val_loss: 0.1797\n",
            "Epoch 10/15\n",
            "\u001b[1m383/383\u001b[0m \u001b[32m━━━━━━━━━━━━━━━━━━━━\u001b[0m\u001b[37m\u001b[0m \u001b[1m41s\u001b[0m 85ms/step - accuracy: 0.9546 - loss: 0.1557 - val_accuracy: 0.9498 - val_loss: 0.1646\n",
            "Epoch 11/15\n",
            "\u001b[1m383/383\u001b[0m \u001b[32m━━━━━━━━━━━━━━━━━━━━\u001b[0m\u001b[37m\u001b[0m \u001b[1m30s\u001b[0m 80ms/step - accuracy: 0.9586 - loss: 0.1444 - val_accuracy: 0.9523 - val_loss: 0.1547\n",
            "Epoch 12/15\n",
            "\u001b[1m383/383\u001b[0m \u001b[32m━━━━━━━━━━━━━━━━━━━━\u001b[0m\u001b[37m\u001b[0m \u001b[1m42s\u001b[0m 82ms/step - accuracy: 0.9618 - loss: 0.1309 - val_accuracy: 0.9555 - val_loss: 0.1440\n",
            "Epoch 13/15\n",
            "\u001b[1m383/383\u001b[0m \u001b[32m━━━━━━━━━━━━━━━━━━━━\u001b[0m\u001b[37m\u001b[0m \u001b[1m42s\u001b[0m 84ms/step - accuracy: 0.9668 - loss: 0.1194 - val_accuracy: 0.9571 - val_loss: 0.1365\n",
            "Epoch 14/15\n",
            "\u001b[1m383/383\u001b[0m \u001b[32m━━━━━━━━━━━━━━━━━━━━\u001b[0m\u001b[37m\u001b[0m \u001b[1m42s\u001b[0m 86ms/step - accuracy: 0.9670 - loss: 0.1167 - val_accuracy: 0.9596 - val_loss: 0.1282\n",
            "Epoch 15/15\n",
            "\u001b[1m383/383\u001b[0m \u001b[32m━━━━━━━━━━━━━━━━━━━━\u001b[0m\u001b[37m\u001b[0m \u001b[1m39s\u001b[0m 82ms/step - accuracy: 0.9683 - loss: 0.1131 - val_accuracy: 0.9590 - val_loss: 0.1261\n",
            "\u001b[1m329/329\u001b[0m \u001b[32m━━━━━━━━━━━━━━━━━━━━\u001b[0m\u001b[37m\u001b[0m \u001b[1m3s\u001b[0m 8ms/step - accuracy: 0.9588 - loss: 0.1304\n",
            "\n",
            "Results for Activation = sigmoid:\n",
            "- Final Validation Accuracy: 0.9590\n",
            "- Test Accuracy: 0.9637\n",
            "- Avg Train Time/Epoch: 39.32s\n",
            "- Test Time: 2.88s\n",
            "\n",
            "=== Training with activation: relu ===\n"
          ]
        },
        {
          "output_type": "display_data",
          "data": {
            "text/plain": [
              "\u001b[1mModel: \"sequential_4\"\u001b[0m\n"
            ],
            "text/html": [
              "<pre style=\"white-space:pre;overflow-x:auto;line-height:normal;font-family:Menlo,'DejaVu Sans Mono',consolas,'Courier New',monospace\"><span style=\"font-weight: bold\">Model: \"sequential_4\"</span>\n",
              "</pre>\n"
            ]
          },
          "metadata": {}
        },
        {
          "output_type": "display_data",
          "data": {
            "text/plain": [
              "┏━━━━━━━━━━━━━━━━━━━━━━━━━━━━━━━━━┳━━━━━━━━━━━━━━━━━━━━━━━━┳━━━━━━━━━━━━━━━┓\n",
              "┃\u001b[1m \u001b[0m\u001b[1mLayer (type)                   \u001b[0m\u001b[1m \u001b[0m┃\u001b[1m \u001b[0m\u001b[1mOutput Shape          \u001b[0m\u001b[1m \u001b[0m┃\u001b[1m \u001b[0m\u001b[1m      Param #\u001b[0m\u001b[1m \u001b[0m┃\n",
              "┡━━━━━━━━━━━━━━━━━━━━━━━━━━━━━━━━━╇━━━━━━━━━━━━━━━━━━━━━━━━╇━━━━━━━━━━━━━━━┩\n",
              "│ conv2d_8 (\u001b[38;5;33mConv2D\u001b[0m)               │ (\u001b[38;5;45mNone\u001b[0m, \u001b[38;5;34m28\u001b[0m, \u001b[38;5;34m28\u001b[0m, \u001b[38;5;34m16\u001b[0m)     │           \u001b[38;5;34m160\u001b[0m │\n",
              "├─────────────────────────────────┼────────────────────────┼───────────────┤\n",
              "│ max_pooling2d_8 (\u001b[38;5;33mMaxPooling2D\u001b[0m)  │ (\u001b[38;5;45mNone\u001b[0m, \u001b[38;5;34m14\u001b[0m, \u001b[38;5;34m14\u001b[0m, \u001b[38;5;34m16\u001b[0m)     │             \u001b[38;5;34m0\u001b[0m │\n",
              "├─────────────────────────────────┼────────────────────────┼───────────────┤\n",
              "│ conv2d_9 (\u001b[38;5;33mConv2D\u001b[0m)               │ (\u001b[38;5;45mNone\u001b[0m, \u001b[38;5;34m14\u001b[0m, \u001b[38;5;34m14\u001b[0m, \u001b[38;5;34m32\u001b[0m)     │         \u001b[38;5;34m4,640\u001b[0m │\n",
              "├─────────────────────────────────┼────────────────────────┼───────────────┤\n",
              "│ max_pooling2d_9 (\u001b[38;5;33mMaxPooling2D\u001b[0m)  │ (\u001b[38;5;45mNone\u001b[0m, \u001b[38;5;34m7\u001b[0m, \u001b[38;5;34m7\u001b[0m, \u001b[38;5;34m32\u001b[0m)       │             \u001b[38;5;34m0\u001b[0m │\n",
              "├─────────────────────────────────┼────────────────────────┼───────────────┤\n",
              "│ flatten_4 (\u001b[38;5;33mFlatten\u001b[0m)             │ (\u001b[38;5;45mNone\u001b[0m, \u001b[38;5;34m1568\u001b[0m)           │             \u001b[38;5;34m0\u001b[0m │\n",
              "├─────────────────────────────────┼────────────────────────┼───────────────┤\n",
              "│ dense_8 (\u001b[38;5;33mDense\u001b[0m)                 │ (\u001b[38;5;45mNone\u001b[0m, \u001b[38;5;34m128\u001b[0m)            │       \u001b[38;5;34m200,832\u001b[0m │\n",
              "├─────────────────────────────────┼────────────────────────┼───────────────┤\n",
              "│ dense_9 (\u001b[38;5;33mDense\u001b[0m)                 │ (\u001b[38;5;45mNone\u001b[0m, \u001b[38;5;34m10\u001b[0m)             │         \u001b[38;5;34m1,290\u001b[0m │\n",
              "└─────────────────────────────────┴────────────────────────┴───────────────┘\n"
            ],
            "text/html": [
              "<pre style=\"white-space:pre;overflow-x:auto;line-height:normal;font-family:Menlo,'DejaVu Sans Mono',consolas,'Courier New',monospace\">┏━━━━━━━━━━━━━━━━━━━━━━━━━━━━━━━━━┳━━━━━━━━━━━━━━━━━━━━━━━━┳━━━━━━━━━━━━━━━┓\n",
              "┃<span style=\"font-weight: bold\"> Layer (type)                    </span>┃<span style=\"font-weight: bold\"> Output Shape           </span>┃<span style=\"font-weight: bold\">       Param # </span>┃\n",
              "┡━━━━━━━━━━━━━━━━━━━━━━━━━━━━━━━━━╇━━━━━━━━━━━━━━━━━━━━━━━━╇━━━━━━━━━━━━━━━┩\n",
              "│ conv2d_8 (<span style=\"color: #0087ff; text-decoration-color: #0087ff\">Conv2D</span>)               │ (<span style=\"color: #00d7ff; text-decoration-color: #00d7ff\">None</span>, <span style=\"color: #00af00; text-decoration-color: #00af00\">28</span>, <span style=\"color: #00af00; text-decoration-color: #00af00\">28</span>, <span style=\"color: #00af00; text-decoration-color: #00af00\">16</span>)     │           <span style=\"color: #00af00; text-decoration-color: #00af00\">160</span> │\n",
              "├─────────────────────────────────┼────────────────────────┼───────────────┤\n",
              "│ max_pooling2d_8 (<span style=\"color: #0087ff; text-decoration-color: #0087ff\">MaxPooling2D</span>)  │ (<span style=\"color: #00d7ff; text-decoration-color: #00d7ff\">None</span>, <span style=\"color: #00af00; text-decoration-color: #00af00\">14</span>, <span style=\"color: #00af00; text-decoration-color: #00af00\">14</span>, <span style=\"color: #00af00; text-decoration-color: #00af00\">16</span>)     │             <span style=\"color: #00af00; text-decoration-color: #00af00\">0</span> │\n",
              "├─────────────────────────────────┼────────────────────────┼───────────────┤\n",
              "│ conv2d_9 (<span style=\"color: #0087ff; text-decoration-color: #0087ff\">Conv2D</span>)               │ (<span style=\"color: #00d7ff; text-decoration-color: #00d7ff\">None</span>, <span style=\"color: #00af00; text-decoration-color: #00af00\">14</span>, <span style=\"color: #00af00; text-decoration-color: #00af00\">14</span>, <span style=\"color: #00af00; text-decoration-color: #00af00\">32</span>)     │         <span style=\"color: #00af00; text-decoration-color: #00af00\">4,640</span> │\n",
              "├─────────────────────────────────┼────────────────────────┼───────────────┤\n",
              "│ max_pooling2d_9 (<span style=\"color: #0087ff; text-decoration-color: #0087ff\">MaxPooling2D</span>)  │ (<span style=\"color: #00d7ff; text-decoration-color: #00d7ff\">None</span>, <span style=\"color: #00af00; text-decoration-color: #00af00\">7</span>, <span style=\"color: #00af00; text-decoration-color: #00af00\">7</span>, <span style=\"color: #00af00; text-decoration-color: #00af00\">32</span>)       │             <span style=\"color: #00af00; text-decoration-color: #00af00\">0</span> │\n",
              "├─────────────────────────────────┼────────────────────────┼───────────────┤\n",
              "│ flatten_4 (<span style=\"color: #0087ff; text-decoration-color: #0087ff\">Flatten</span>)             │ (<span style=\"color: #00d7ff; text-decoration-color: #00d7ff\">None</span>, <span style=\"color: #00af00; text-decoration-color: #00af00\">1568</span>)           │             <span style=\"color: #00af00; text-decoration-color: #00af00\">0</span> │\n",
              "├─────────────────────────────────┼────────────────────────┼───────────────┤\n",
              "│ dense_8 (<span style=\"color: #0087ff; text-decoration-color: #0087ff\">Dense</span>)                 │ (<span style=\"color: #00d7ff; text-decoration-color: #00d7ff\">None</span>, <span style=\"color: #00af00; text-decoration-color: #00af00\">128</span>)            │       <span style=\"color: #00af00; text-decoration-color: #00af00\">200,832</span> │\n",
              "├─────────────────────────────────┼────────────────────────┼───────────────┤\n",
              "│ dense_9 (<span style=\"color: #0087ff; text-decoration-color: #0087ff\">Dense</span>)                 │ (<span style=\"color: #00d7ff; text-decoration-color: #00d7ff\">None</span>, <span style=\"color: #00af00; text-decoration-color: #00af00\">10</span>)             │         <span style=\"color: #00af00; text-decoration-color: #00af00\">1,290</span> │\n",
              "└─────────────────────────────────┴────────────────────────┴───────────────┘\n",
              "</pre>\n"
            ]
          },
          "metadata": {}
        },
        {
          "output_type": "display_data",
          "data": {
            "text/plain": [
              "\u001b[1m Total params: \u001b[0m\u001b[38;5;34m206,922\u001b[0m (808.29 KB)\n"
            ],
            "text/html": [
              "<pre style=\"white-space:pre;overflow-x:auto;line-height:normal;font-family:Menlo,'DejaVu Sans Mono',consolas,'Courier New',monospace\"><span style=\"font-weight: bold\"> Total params: </span><span style=\"color: #00af00; text-decoration-color: #00af00\">206,922</span> (808.29 KB)\n",
              "</pre>\n"
            ]
          },
          "metadata": {}
        },
        {
          "output_type": "display_data",
          "data": {
            "text/plain": [
              "\u001b[1m Trainable params: \u001b[0m\u001b[38;5;34m206,922\u001b[0m (808.29 KB)\n"
            ],
            "text/html": [
              "<pre style=\"white-space:pre;overflow-x:auto;line-height:normal;font-family:Menlo,'DejaVu Sans Mono',consolas,'Courier New',monospace\"><span style=\"font-weight: bold\"> Trainable params: </span><span style=\"color: #00af00; text-decoration-color: #00af00\">206,922</span> (808.29 KB)\n",
              "</pre>\n"
            ]
          },
          "metadata": {}
        },
        {
          "output_type": "display_data",
          "data": {
            "text/plain": [
              "\u001b[1m Non-trainable params: \u001b[0m\u001b[38;5;34m0\u001b[0m (0.00 B)\n"
            ],
            "text/html": [
              "<pre style=\"white-space:pre;overflow-x:auto;line-height:normal;font-family:Menlo,'DejaVu Sans Mono',consolas,'Courier New',monospace\"><span style=\"font-weight: bold\"> Non-trainable params: </span><span style=\"color: #00af00; text-decoration-color: #00af00\">0</span> (0.00 B)\n",
              "</pre>\n"
            ]
          },
          "metadata": {}
        },
        {
          "output_type": "stream",
          "name": "stdout",
          "text": [
            "Epoch 1/15\n",
            "\u001b[1m383/383\u001b[0m \u001b[32m━━━━━━━━━━━━━━━━━━━━\u001b[0m\u001b[37m\u001b[0m \u001b[1m36s\u001b[0m 90ms/step - accuracy: 0.7718 - loss: 0.7554 - val_accuracy: 0.9659 - val_loss: 4228.1709\n",
            "Epoch 2/15\n",
            "\u001b[1m383/383\u001b[0m \u001b[32m━━━━━━━━━━━━━━━━━━━━\u001b[0m\u001b[37m\u001b[0m \u001b[1m38s\u001b[0m 82ms/step - accuracy: 0.9748 - loss: 0.0848 - val_accuracy: 0.9759 - val_loss: 3709.2949\n",
            "Epoch 3/15\n",
            "\u001b[1m383/383\u001b[0m \u001b[32m━━━━━━━━━━━━━━━━━━━━\u001b[0m\u001b[37m\u001b[0m \u001b[1m41s\u001b[0m 81ms/step - accuracy: 0.9824 - loss: 0.0578 - val_accuracy: 0.9793 - val_loss: 3340.1919\n",
            "Epoch 4/15\n",
            "\u001b[1m383/383\u001b[0m \u001b[32m━━━━━━━━━━━━━━━━━━━━\u001b[0m\u001b[37m\u001b[0m \u001b[1m30s\u001b[0m 78ms/step - accuracy: 0.9865 - loss: 0.0423 - val_accuracy: 0.9823 - val_loss: 2634.8496\n",
            "Epoch 5/15\n",
            "\u001b[1m383/383\u001b[0m \u001b[32m━━━━━━━━━━━━━━━━━━━━\u001b[0m\u001b[37m\u001b[0m \u001b[1m42s\u001b[0m 81ms/step - accuracy: 0.9897 - loss: 0.0325 - val_accuracy: 0.9850 - val_loss: 2540.4329\n",
            "Epoch 6/15\n",
            "\u001b[1m383/383\u001b[0m \u001b[32m━━━━━━━━━━━━━━━━━━━━\u001b[0m\u001b[37m\u001b[0m \u001b[1m41s\u001b[0m 82ms/step - accuracy: 0.9924 - loss: 0.0253 - val_accuracy: 0.9854 - val_loss: 2581.2427\n",
            "Epoch 7/15\n",
            "\u001b[1m383/383\u001b[0m \u001b[32m━━━━━━━━━━━━━━━━━━━━\u001b[0m\u001b[37m\u001b[0m \u001b[1m42s\u001b[0m 85ms/step - accuracy: 0.9937 - loss: 0.0220 - val_accuracy: 0.9849 - val_loss: 3994.8259\n",
            "Epoch 8/15\n",
            "\u001b[1m383/383\u001b[0m \u001b[32m━━━━━━━━━━━━━━━━━━━━\u001b[0m\u001b[37m\u001b[0m \u001b[1m40s\u001b[0m 83ms/step - accuracy: 0.9947 - loss: 0.0179 - val_accuracy: 0.9877 - val_loss: 3007.8269\n",
            "Epoch 9/15\n",
            "\u001b[1m383/383\u001b[0m \u001b[32m━━━━━━━━━━━━━━━━━━━━\u001b[0m\u001b[37m\u001b[0m \u001b[1m39s\u001b[0m 79ms/step - accuracy: 0.9954 - loss: 0.0149 - val_accuracy: 0.9855 - val_loss: 2883.9207\n",
            "Epoch 10/15\n",
            "\u001b[1m383/383\u001b[0m \u001b[32m━━━━━━━━━━━━━━━━━━━━\u001b[0m\u001b[37m\u001b[0m \u001b[1m42s\u001b[0m 80ms/step - accuracy: 0.9959 - loss: 0.0128 - val_accuracy: 0.9853 - val_loss: 2118.7937\n",
            "Epoch 11/15\n",
            "\u001b[1m383/383\u001b[0m \u001b[32m━━━━━━━━━━━━━━━━━━━━\u001b[0m\u001b[37m\u001b[0m \u001b[1m31s\u001b[0m 81ms/step - accuracy: 0.9965 - loss: 0.0170 - val_accuracy: 0.9878 - val_loss: 1461.7114\n",
            "Epoch 12/15\n",
            "\u001b[1m383/383\u001b[0m \u001b[32m━━━━━━━━━━━━━━━━━━━━\u001b[0m\u001b[37m\u001b[0m \u001b[1m41s\u001b[0m 81ms/step - accuracy: 0.9975 - loss: 0.0094 - val_accuracy: 0.9872 - val_loss: 2240.3643\n",
            "Epoch 13/15\n",
            "\u001b[1m383/383\u001b[0m \u001b[32m━━━━━━━━━━━━━━━━━━━━\u001b[0m\u001b[37m\u001b[0m \u001b[1m40s\u001b[0m 78ms/step - accuracy: 0.9982 - loss: 0.0068 - val_accuracy: 0.9863 - val_loss: 2450.2422\n",
            "Epoch 14/15\n",
            "\u001b[1m383/383\u001b[0m \u001b[32m━━━━━━━━━━━━━━━━━━━━\u001b[0m\u001b[37m\u001b[0m \u001b[1m42s\u001b[0m 80ms/step - accuracy: 0.9986 - loss: 0.0058 - val_accuracy: 0.9875 - val_loss: 2265.5603\n",
            "Epoch 15/15\n",
            "\u001b[1m383/383\u001b[0m \u001b[32m━━━━━━━━━━━━━━━━━━━━\u001b[0m\u001b[37m\u001b[0m \u001b[1m31s\u001b[0m 80ms/step - accuracy: 0.9987 - loss: 0.0052 - val_accuracy: 0.9880 - val_loss: 2215.5027\n",
            "\u001b[1m329/329\u001b[0m \u001b[32m━━━━━━━━━━━━━━━━━━━━\u001b[0m\u001b[37m\u001b[0m \u001b[1m4s\u001b[0m 12ms/step - accuracy: 0.9839 - loss: 8208.2314\n",
            "\n",
            "Results for Activation = relu:\n",
            "- Final Validation Accuracy: 0.9880\n",
            "- Test Accuracy: 0.9870\n",
            "- Avg Train Time/Epoch: 39.01s\n",
            "- Test Time: 4.04s\n",
            "\n",
            "=== Training with activation: tanh ===\n"
          ]
        },
        {
          "output_type": "display_data",
          "data": {
            "text/plain": [
              "\u001b[1mModel: \"sequential_5\"\u001b[0m\n"
            ],
            "text/html": [
              "<pre style=\"white-space:pre;overflow-x:auto;line-height:normal;font-family:Menlo,'DejaVu Sans Mono',consolas,'Courier New',monospace\"><span style=\"font-weight: bold\">Model: \"sequential_5\"</span>\n",
              "</pre>\n"
            ]
          },
          "metadata": {}
        },
        {
          "output_type": "display_data",
          "data": {
            "text/plain": [
              "┏━━━━━━━━━━━━━━━━━━━━━━━━━━━━━━━━━┳━━━━━━━━━━━━━━━━━━━━━━━━┳━━━━━━━━━━━━━━━┓\n",
              "┃\u001b[1m \u001b[0m\u001b[1mLayer (type)                   \u001b[0m\u001b[1m \u001b[0m┃\u001b[1m \u001b[0m\u001b[1mOutput Shape          \u001b[0m\u001b[1m \u001b[0m┃\u001b[1m \u001b[0m\u001b[1m      Param #\u001b[0m\u001b[1m \u001b[0m┃\n",
              "┡━━━━━━━━━━━━━━━━━━━━━━━━━━━━━━━━━╇━━━━━━━━━━━━━━━━━━━━━━━━╇━━━━━━━━━━━━━━━┩\n",
              "│ conv2d_10 (\u001b[38;5;33mConv2D\u001b[0m)              │ (\u001b[38;5;45mNone\u001b[0m, \u001b[38;5;34m28\u001b[0m, \u001b[38;5;34m28\u001b[0m, \u001b[38;5;34m16\u001b[0m)     │           \u001b[38;5;34m160\u001b[0m │\n",
              "├─────────────────────────────────┼────────────────────────┼───────────────┤\n",
              "│ max_pooling2d_10 (\u001b[38;5;33mMaxPooling2D\u001b[0m) │ (\u001b[38;5;45mNone\u001b[0m, \u001b[38;5;34m14\u001b[0m, \u001b[38;5;34m14\u001b[0m, \u001b[38;5;34m16\u001b[0m)     │             \u001b[38;5;34m0\u001b[0m │\n",
              "├─────────────────────────────────┼────────────────────────┼───────────────┤\n",
              "│ conv2d_11 (\u001b[38;5;33mConv2D\u001b[0m)              │ (\u001b[38;5;45mNone\u001b[0m, \u001b[38;5;34m14\u001b[0m, \u001b[38;5;34m14\u001b[0m, \u001b[38;5;34m32\u001b[0m)     │         \u001b[38;5;34m4,640\u001b[0m │\n",
              "├─────────────────────────────────┼────────────────────────┼───────────────┤\n",
              "│ max_pooling2d_11 (\u001b[38;5;33mMaxPooling2D\u001b[0m) │ (\u001b[38;5;45mNone\u001b[0m, \u001b[38;5;34m7\u001b[0m, \u001b[38;5;34m7\u001b[0m, \u001b[38;5;34m32\u001b[0m)       │             \u001b[38;5;34m0\u001b[0m │\n",
              "├─────────────────────────────────┼────────────────────────┼───────────────┤\n",
              "│ flatten_5 (\u001b[38;5;33mFlatten\u001b[0m)             │ (\u001b[38;5;45mNone\u001b[0m, \u001b[38;5;34m1568\u001b[0m)           │             \u001b[38;5;34m0\u001b[0m │\n",
              "├─────────────────────────────────┼────────────────────────┼───────────────┤\n",
              "│ dense_10 (\u001b[38;5;33mDense\u001b[0m)                │ (\u001b[38;5;45mNone\u001b[0m, \u001b[38;5;34m128\u001b[0m)            │       \u001b[38;5;34m200,832\u001b[0m │\n",
              "├─────────────────────────────────┼────────────────────────┼───────────────┤\n",
              "│ dense_11 (\u001b[38;5;33mDense\u001b[0m)                │ (\u001b[38;5;45mNone\u001b[0m, \u001b[38;5;34m10\u001b[0m)             │         \u001b[38;5;34m1,290\u001b[0m │\n",
              "└─────────────────────────────────┴────────────────────────┴───────────────┘\n"
            ],
            "text/html": [
              "<pre style=\"white-space:pre;overflow-x:auto;line-height:normal;font-family:Menlo,'DejaVu Sans Mono',consolas,'Courier New',monospace\">┏━━━━━━━━━━━━━━━━━━━━━━━━━━━━━━━━━┳━━━━━━━━━━━━━━━━━━━━━━━━┳━━━━━━━━━━━━━━━┓\n",
              "┃<span style=\"font-weight: bold\"> Layer (type)                    </span>┃<span style=\"font-weight: bold\"> Output Shape           </span>┃<span style=\"font-weight: bold\">       Param # </span>┃\n",
              "┡━━━━━━━━━━━━━━━━━━━━━━━━━━━━━━━━━╇━━━━━━━━━━━━━━━━━━━━━━━━╇━━━━━━━━━━━━━━━┩\n",
              "│ conv2d_10 (<span style=\"color: #0087ff; text-decoration-color: #0087ff\">Conv2D</span>)              │ (<span style=\"color: #00d7ff; text-decoration-color: #00d7ff\">None</span>, <span style=\"color: #00af00; text-decoration-color: #00af00\">28</span>, <span style=\"color: #00af00; text-decoration-color: #00af00\">28</span>, <span style=\"color: #00af00; text-decoration-color: #00af00\">16</span>)     │           <span style=\"color: #00af00; text-decoration-color: #00af00\">160</span> │\n",
              "├─────────────────────────────────┼────────────────────────┼───────────────┤\n",
              "│ max_pooling2d_10 (<span style=\"color: #0087ff; text-decoration-color: #0087ff\">MaxPooling2D</span>) │ (<span style=\"color: #00d7ff; text-decoration-color: #00d7ff\">None</span>, <span style=\"color: #00af00; text-decoration-color: #00af00\">14</span>, <span style=\"color: #00af00; text-decoration-color: #00af00\">14</span>, <span style=\"color: #00af00; text-decoration-color: #00af00\">16</span>)     │             <span style=\"color: #00af00; text-decoration-color: #00af00\">0</span> │\n",
              "├─────────────────────────────────┼────────────────────────┼───────────────┤\n",
              "│ conv2d_11 (<span style=\"color: #0087ff; text-decoration-color: #0087ff\">Conv2D</span>)              │ (<span style=\"color: #00d7ff; text-decoration-color: #00d7ff\">None</span>, <span style=\"color: #00af00; text-decoration-color: #00af00\">14</span>, <span style=\"color: #00af00; text-decoration-color: #00af00\">14</span>, <span style=\"color: #00af00; text-decoration-color: #00af00\">32</span>)     │         <span style=\"color: #00af00; text-decoration-color: #00af00\">4,640</span> │\n",
              "├─────────────────────────────────┼────────────────────────┼───────────────┤\n",
              "│ max_pooling2d_11 (<span style=\"color: #0087ff; text-decoration-color: #0087ff\">MaxPooling2D</span>) │ (<span style=\"color: #00d7ff; text-decoration-color: #00d7ff\">None</span>, <span style=\"color: #00af00; text-decoration-color: #00af00\">7</span>, <span style=\"color: #00af00; text-decoration-color: #00af00\">7</span>, <span style=\"color: #00af00; text-decoration-color: #00af00\">32</span>)       │             <span style=\"color: #00af00; text-decoration-color: #00af00\">0</span> │\n",
              "├─────────────────────────────────┼────────────────────────┼───────────────┤\n",
              "│ flatten_5 (<span style=\"color: #0087ff; text-decoration-color: #0087ff\">Flatten</span>)             │ (<span style=\"color: #00d7ff; text-decoration-color: #00d7ff\">None</span>, <span style=\"color: #00af00; text-decoration-color: #00af00\">1568</span>)           │             <span style=\"color: #00af00; text-decoration-color: #00af00\">0</span> │\n",
              "├─────────────────────────────────┼────────────────────────┼───────────────┤\n",
              "│ dense_10 (<span style=\"color: #0087ff; text-decoration-color: #0087ff\">Dense</span>)                │ (<span style=\"color: #00d7ff; text-decoration-color: #00d7ff\">None</span>, <span style=\"color: #00af00; text-decoration-color: #00af00\">128</span>)            │       <span style=\"color: #00af00; text-decoration-color: #00af00\">200,832</span> │\n",
              "├─────────────────────────────────┼────────────────────────┼───────────────┤\n",
              "│ dense_11 (<span style=\"color: #0087ff; text-decoration-color: #0087ff\">Dense</span>)                │ (<span style=\"color: #00d7ff; text-decoration-color: #00d7ff\">None</span>, <span style=\"color: #00af00; text-decoration-color: #00af00\">10</span>)             │         <span style=\"color: #00af00; text-decoration-color: #00af00\">1,290</span> │\n",
              "└─────────────────────────────────┴────────────────────────┴───────────────┘\n",
              "</pre>\n"
            ]
          },
          "metadata": {}
        },
        {
          "output_type": "display_data",
          "data": {
            "text/plain": [
              "\u001b[1m Total params: \u001b[0m\u001b[38;5;34m206,922\u001b[0m (808.29 KB)\n"
            ],
            "text/html": [
              "<pre style=\"white-space:pre;overflow-x:auto;line-height:normal;font-family:Menlo,'DejaVu Sans Mono',consolas,'Courier New',monospace\"><span style=\"font-weight: bold\"> Total params: </span><span style=\"color: #00af00; text-decoration-color: #00af00\">206,922</span> (808.29 KB)\n",
              "</pre>\n"
            ]
          },
          "metadata": {}
        },
        {
          "output_type": "display_data",
          "data": {
            "text/plain": [
              "\u001b[1m Trainable params: \u001b[0m\u001b[38;5;34m206,922\u001b[0m (808.29 KB)\n"
            ],
            "text/html": [
              "<pre style=\"white-space:pre;overflow-x:auto;line-height:normal;font-family:Menlo,'DejaVu Sans Mono',consolas,'Courier New',monospace\"><span style=\"font-weight: bold\"> Trainable params: </span><span style=\"color: #00af00; text-decoration-color: #00af00\">206,922</span> (808.29 KB)\n",
              "</pre>\n"
            ]
          },
          "metadata": {}
        },
        {
          "output_type": "display_data",
          "data": {
            "text/plain": [
              "\u001b[1m Non-trainable params: \u001b[0m\u001b[38;5;34m0\u001b[0m (0.00 B)\n"
            ],
            "text/html": [
              "<pre style=\"white-space:pre;overflow-x:auto;line-height:normal;font-family:Menlo,'DejaVu Sans Mono',consolas,'Courier New',monospace\"><span style=\"font-weight: bold\"> Non-trainable params: </span><span style=\"color: #00af00; text-decoration-color: #00af00\">0</span> (0.00 B)\n",
              "</pre>\n"
            ]
          },
          "metadata": {}
        },
        {
          "output_type": "stream",
          "name": "stdout",
          "text": [
            "Epoch 1/15\n",
            "\u001b[1m383/383\u001b[0m \u001b[32m━━━━━━━━━━━━━━━━━━━━\u001b[0m\u001b[37m\u001b[0m \u001b[1m33s\u001b[0m 85ms/step - accuracy: 0.7956 - loss: 0.6679 - val_accuracy: 0.9556 - val_loss: 0.1470\n",
            "Epoch 2/15\n",
            "\u001b[1m383/383\u001b[0m \u001b[32m━━━━━━━━━━━━━━━━━━━━\u001b[0m\u001b[37m\u001b[0m \u001b[1m41s\u001b[0m 84ms/step - accuracy: 0.9685 - loss: 0.1118 - val_accuracy: 0.9720 - val_loss: 0.0938\n",
            "Epoch 3/15\n",
            "\u001b[1m383/383\u001b[0m \u001b[32m━━━━━━━━━━━━━━━━━━━━\u001b[0m\u001b[37m\u001b[0m \u001b[1m43s\u001b[0m 90ms/step - accuracy: 0.9804 - loss: 0.0737 - val_accuracy: 0.9771 - val_loss: 0.0749\n",
            "Epoch 4/15\n",
            "\u001b[1m383/383\u001b[0m \u001b[32m━━━━━━━━━━━━━━━━━━━━\u001b[0m\u001b[37m\u001b[0m \u001b[1m40s\u001b[0m 89ms/step - accuracy: 0.9843 - loss: 0.0582 - val_accuracy: 0.9785 - val_loss: 0.0676\n",
            "Epoch 5/15\n",
            "\u001b[1m383/383\u001b[0m \u001b[32m━━━━━━━━━━━━━━━━━━━━\u001b[0m\u001b[37m\u001b[0m \u001b[1m40s\u001b[0m 87ms/step - accuracy: 0.9875 - loss: 0.0456 - val_accuracy: 0.9821 - val_loss: 0.0583\n",
            "Epoch 6/15\n",
            "\u001b[1m383/383\u001b[0m \u001b[32m━━━━━━━━━━━━━━━━━━━━\u001b[0m\u001b[37m\u001b[0m \u001b[1m31s\u001b[0m 82ms/step - accuracy: 0.9887 - loss: 0.0400 - val_accuracy: 0.9817 - val_loss: 0.0567\n",
            "Epoch 7/15\n",
            "\u001b[1m383/383\u001b[0m \u001b[32m━━━━━━━━━━━━━━━━━━━━\u001b[0m\u001b[37m\u001b[0m \u001b[1m42s\u001b[0m 85ms/step - accuracy: 0.9917 - loss: 0.0327 - val_accuracy: 0.9830 - val_loss: 0.0533\n",
            "Epoch 8/15\n",
            "\u001b[1m383/383\u001b[0m \u001b[32m━━━━━━━━━━━━━━━━━━━━\u001b[0m\u001b[37m\u001b[0m \u001b[1m41s\u001b[0m 84ms/step - accuracy: 0.9926 - loss: 0.0292 - val_accuracy: 0.9832 - val_loss: 0.0522\n",
            "Epoch 9/15\n",
            "\u001b[1m383/383\u001b[0m \u001b[32m━━━━━━━━━━━━━━━━━━━━\u001b[0m\u001b[37m\u001b[0m \u001b[1m41s\u001b[0m 84ms/step - accuracy: 0.9940 - loss: 0.0244 - val_accuracy: 0.9845 - val_loss: 0.0484\n",
            "Epoch 10/15\n",
            "\u001b[1m383/383\u001b[0m \u001b[32m━━━━━━━━━━━━━━━━━━━━\u001b[0m\u001b[37m\u001b[0m \u001b[1m41s\u001b[0m 84ms/step - accuracy: 0.9945 - loss: 0.0232 - val_accuracy: 0.9856 - val_loss: 0.0499\n",
            "Epoch 11/15\n",
            "\u001b[1m383/383\u001b[0m \u001b[32m━━━━━━━━━━━━━━━━━━━━\u001b[0m\u001b[37m\u001b[0m \u001b[1m41s\u001b[0m 84ms/step - accuracy: 0.9953 - loss: 0.0214 - val_accuracy: 0.9846 - val_loss: 0.0488\n",
            "Epoch 12/15\n",
            "\u001b[1m383/383\u001b[0m \u001b[32m━━━━━━━━━━━━━━━━━━━━\u001b[0m\u001b[37m\u001b[0m \u001b[1m32s\u001b[0m 84ms/step - accuracy: 0.9966 - loss: 0.0170 - val_accuracy: 0.9863 - val_loss: 0.0463\n",
            "Epoch 13/15\n",
            "\u001b[1m383/383\u001b[0m \u001b[32m━━━━━━━━━━━━━━━━━━━━\u001b[0m\u001b[37m\u001b[0m \u001b[1m32s\u001b[0m 83ms/step - accuracy: 0.9967 - loss: 0.0158 - val_accuracy: 0.9856 - val_loss: 0.0462\n",
            "Epoch 14/15\n",
            "\u001b[1m383/383\u001b[0m \u001b[32m━━━━━━━━━━━━━━━━━━━━\u001b[0m\u001b[37m\u001b[0m \u001b[1m33s\u001b[0m 87ms/step - accuracy: 0.9972 - loss: 0.0150 - val_accuracy: 0.9857 - val_loss: 0.0452\n",
            "Epoch 15/15\n",
            "\u001b[1m383/383\u001b[0m \u001b[32m━━━━━━━━━━━━━━━━━━━━\u001b[0m\u001b[37m\u001b[0m \u001b[1m32s\u001b[0m 83ms/step - accuracy: 0.9976 - loss: 0.0131 - val_accuracy: 0.9854 - val_loss: 0.0471\n",
            "\u001b[1m329/329\u001b[0m \u001b[32m━━━━━━━━━━━━━━━━━━━━\u001b[0m\u001b[37m\u001b[0m \u001b[1m3s\u001b[0m 11ms/step - accuracy: 0.9847 - loss: 0.0510\n",
            "\n",
            "Results for Activation = tanh:\n",
            "- Final Validation Accuracy: 0.9854\n",
            "- Test Accuracy: 0.9873\n",
            "- Avg Train Time/Epoch: 37.62s\n",
            "- Test Time: 5.19s\n",
            "\n",
            "=== Training with activation: swish ===\n"
          ]
        },
        {
          "output_type": "display_data",
          "data": {
            "text/plain": [
              "\u001b[1mModel: \"sequential_6\"\u001b[0m\n"
            ],
            "text/html": [
              "<pre style=\"white-space:pre;overflow-x:auto;line-height:normal;font-family:Menlo,'DejaVu Sans Mono',consolas,'Courier New',monospace\"><span style=\"font-weight: bold\">Model: \"sequential_6\"</span>\n",
              "</pre>\n"
            ]
          },
          "metadata": {}
        },
        {
          "output_type": "display_data",
          "data": {
            "text/plain": [
              "┏━━━━━━━━━━━━━━━━━━━━━━━━━━━━━━━━━┳━━━━━━━━━━━━━━━━━━━━━━━━┳━━━━━━━━━━━━━━━┓\n",
              "┃\u001b[1m \u001b[0m\u001b[1mLayer (type)                   \u001b[0m\u001b[1m \u001b[0m┃\u001b[1m \u001b[0m\u001b[1mOutput Shape          \u001b[0m\u001b[1m \u001b[0m┃\u001b[1m \u001b[0m\u001b[1m      Param #\u001b[0m\u001b[1m \u001b[0m┃\n",
              "┡━━━━━━━━━━━━━━━━━━━━━━━━━━━━━━━━━╇━━━━━━━━━━━━━━━━━━━━━━━━╇━━━━━━━━━━━━━━━┩\n",
              "│ conv2d_12 (\u001b[38;5;33mConv2D\u001b[0m)              │ (\u001b[38;5;45mNone\u001b[0m, \u001b[38;5;34m28\u001b[0m, \u001b[38;5;34m28\u001b[0m, \u001b[38;5;34m16\u001b[0m)     │           \u001b[38;5;34m160\u001b[0m │\n",
              "├─────────────────────────────────┼────────────────────────┼───────────────┤\n",
              "│ max_pooling2d_12 (\u001b[38;5;33mMaxPooling2D\u001b[0m) │ (\u001b[38;5;45mNone\u001b[0m, \u001b[38;5;34m14\u001b[0m, \u001b[38;5;34m14\u001b[0m, \u001b[38;5;34m16\u001b[0m)     │             \u001b[38;5;34m0\u001b[0m │\n",
              "├─────────────────────────────────┼────────────────────────┼───────────────┤\n",
              "│ conv2d_13 (\u001b[38;5;33mConv2D\u001b[0m)              │ (\u001b[38;5;45mNone\u001b[0m, \u001b[38;5;34m14\u001b[0m, \u001b[38;5;34m14\u001b[0m, \u001b[38;5;34m32\u001b[0m)     │         \u001b[38;5;34m4,640\u001b[0m │\n",
              "├─────────────────────────────────┼────────────────────────┼───────────────┤\n",
              "│ max_pooling2d_13 (\u001b[38;5;33mMaxPooling2D\u001b[0m) │ (\u001b[38;5;45mNone\u001b[0m, \u001b[38;5;34m7\u001b[0m, \u001b[38;5;34m7\u001b[0m, \u001b[38;5;34m32\u001b[0m)       │             \u001b[38;5;34m0\u001b[0m │\n",
              "├─────────────────────────────────┼────────────────────────┼───────────────┤\n",
              "│ flatten_6 (\u001b[38;5;33mFlatten\u001b[0m)             │ (\u001b[38;5;45mNone\u001b[0m, \u001b[38;5;34m1568\u001b[0m)           │             \u001b[38;5;34m0\u001b[0m │\n",
              "├─────────────────────────────────┼────────────────────────┼───────────────┤\n",
              "│ dense_12 (\u001b[38;5;33mDense\u001b[0m)                │ (\u001b[38;5;45mNone\u001b[0m, \u001b[38;5;34m128\u001b[0m)            │       \u001b[38;5;34m200,832\u001b[0m │\n",
              "├─────────────────────────────────┼────────────────────────┼───────────────┤\n",
              "│ dense_13 (\u001b[38;5;33mDense\u001b[0m)                │ (\u001b[38;5;45mNone\u001b[0m, \u001b[38;5;34m10\u001b[0m)             │         \u001b[38;5;34m1,290\u001b[0m │\n",
              "└─────────────────────────────────┴────────────────────────┴───────────────┘\n"
            ],
            "text/html": [
              "<pre style=\"white-space:pre;overflow-x:auto;line-height:normal;font-family:Menlo,'DejaVu Sans Mono',consolas,'Courier New',monospace\">┏━━━━━━━━━━━━━━━━━━━━━━━━━━━━━━━━━┳━━━━━━━━━━━━━━━━━━━━━━━━┳━━━━━━━━━━━━━━━┓\n",
              "┃<span style=\"font-weight: bold\"> Layer (type)                    </span>┃<span style=\"font-weight: bold\"> Output Shape           </span>┃<span style=\"font-weight: bold\">       Param # </span>┃\n",
              "┡━━━━━━━━━━━━━━━━━━━━━━━━━━━━━━━━━╇━━━━━━━━━━━━━━━━━━━━━━━━╇━━━━━━━━━━━━━━━┩\n",
              "│ conv2d_12 (<span style=\"color: #0087ff; text-decoration-color: #0087ff\">Conv2D</span>)              │ (<span style=\"color: #00d7ff; text-decoration-color: #00d7ff\">None</span>, <span style=\"color: #00af00; text-decoration-color: #00af00\">28</span>, <span style=\"color: #00af00; text-decoration-color: #00af00\">28</span>, <span style=\"color: #00af00; text-decoration-color: #00af00\">16</span>)     │           <span style=\"color: #00af00; text-decoration-color: #00af00\">160</span> │\n",
              "├─────────────────────────────────┼────────────────────────┼───────────────┤\n",
              "│ max_pooling2d_12 (<span style=\"color: #0087ff; text-decoration-color: #0087ff\">MaxPooling2D</span>) │ (<span style=\"color: #00d7ff; text-decoration-color: #00d7ff\">None</span>, <span style=\"color: #00af00; text-decoration-color: #00af00\">14</span>, <span style=\"color: #00af00; text-decoration-color: #00af00\">14</span>, <span style=\"color: #00af00; text-decoration-color: #00af00\">16</span>)     │             <span style=\"color: #00af00; text-decoration-color: #00af00\">0</span> │\n",
              "├─────────────────────────────────┼────────────────────────┼───────────────┤\n",
              "│ conv2d_13 (<span style=\"color: #0087ff; text-decoration-color: #0087ff\">Conv2D</span>)              │ (<span style=\"color: #00d7ff; text-decoration-color: #00d7ff\">None</span>, <span style=\"color: #00af00; text-decoration-color: #00af00\">14</span>, <span style=\"color: #00af00; text-decoration-color: #00af00\">14</span>, <span style=\"color: #00af00; text-decoration-color: #00af00\">32</span>)     │         <span style=\"color: #00af00; text-decoration-color: #00af00\">4,640</span> │\n",
              "├─────────────────────────────────┼────────────────────────┼───────────────┤\n",
              "│ max_pooling2d_13 (<span style=\"color: #0087ff; text-decoration-color: #0087ff\">MaxPooling2D</span>) │ (<span style=\"color: #00d7ff; text-decoration-color: #00d7ff\">None</span>, <span style=\"color: #00af00; text-decoration-color: #00af00\">7</span>, <span style=\"color: #00af00; text-decoration-color: #00af00\">7</span>, <span style=\"color: #00af00; text-decoration-color: #00af00\">32</span>)       │             <span style=\"color: #00af00; text-decoration-color: #00af00\">0</span> │\n",
              "├─────────────────────────────────┼────────────────────────┼───────────────┤\n",
              "│ flatten_6 (<span style=\"color: #0087ff; text-decoration-color: #0087ff\">Flatten</span>)             │ (<span style=\"color: #00d7ff; text-decoration-color: #00d7ff\">None</span>, <span style=\"color: #00af00; text-decoration-color: #00af00\">1568</span>)           │             <span style=\"color: #00af00; text-decoration-color: #00af00\">0</span> │\n",
              "├─────────────────────────────────┼────────────────────────┼───────────────┤\n",
              "│ dense_12 (<span style=\"color: #0087ff; text-decoration-color: #0087ff\">Dense</span>)                │ (<span style=\"color: #00d7ff; text-decoration-color: #00d7ff\">None</span>, <span style=\"color: #00af00; text-decoration-color: #00af00\">128</span>)            │       <span style=\"color: #00af00; text-decoration-color: #00af00\">200,832</span> │\n",
              "├─────────────────────────────────┼────────────────────────┼───────────────┤\n",
              "│ dense_13 (<span style=\"color: #0087ff; text-decoration-color: #0087ff\">Dense</span>)                │ (<span style=\"color: #00d7ff; text-decoration-color: #00d7ff\">None</span>, <span style=\"color: #00af00; text-decoration-color: #00af00\">10</span>)             │         <span style=\"color: #00af00; text-decoration-color: #00af00\">1,290</span> │\n",
              "└─────────────────────────────────┴────────────────────────┴───────────────┘\n",
              "</pre>\n"
            ]
          },
          "metadata": {}
        },
        {
          "output_type": "display_data",
          "data": {
            "text/plain": [
              "\u001b[1m Total params: \u001b[0m\u001b[38;5;34m206,922\u001b[0m (808.29 KB)\n"
            ],
            "text/html": [
              "<pre style=\"white-space:pre;overflow-x:auto;line-height:normal;font-family:Menlo,'DejaVu Sans Mono',consolas,'Courier New',monospace\"><span style=\"font-weight: bold\"> Total params: </span><span style=\"color: #00af00; text-decoration-color: #00af00\">206,922</span> (808.29 KB)\n",
              "</pre>\n"
            ]
          },
          "metadata": {}
        },
        {
          "output_type": "display_data",
          "data": {
            "text/plain": [
              "\u001b[1m Trainable params: \u001b[0m\u001b[38;5;34m206,922\u001b[0m (808.29 KB)\n"
            ],
            "text/html": [
              "<pre style=\"white-space:pre;overflow-x:auto;line-height:normal;font-family:Menlo,'DejaVu Sans Mono',consolas,'Courier New',monospace\"><span style=\"font-weight: bold\"> Trainable params: </span><span style=\"color: #00af00; text-decoration-color: #00af00\">206,922</span> (808.29 KB)\n",
              "</pre>\n"
            ]
          },
          "metadata": {}
        },
        {
          "output_type": "display_data",
          "data": {
            "text/plain": [
              "\u001b[1m Non-trainable params: \u001b[0m\u001b[38;5;34m0\u001b[0m (0.00 B)\n"
            ],
            "text/html": [
              "<pre style=\"white-space:pre;overflow-x:auto;line-height:normal;font-family:Menlo,'DejaVu Sans Mono',consolas,'Courier New',monospace\"><span style=\"font-weight: bold\"> Non-trainable params: </span><span style=\"color: #00af00; text-decoration-color: #00af00\">0</span> (0.00 B)\n",
              "</pre>\n"
            ]
          },
          "metadata": {}
        },
        {
          "output_type": "stream",
          "name": "stdout",
          "text": [
            "Epoch 1/15\n",
            "\u001b[1m383/383\u001b[0m \u001b[32m━━━━━━━━━━━━━━━━━━━━\u001b[0m\u001b[37m\u001b[0m \u001b[1m40s\u001b[0m 102ms/step - accuracy: 0.7199 - loss: 0.9108 - val_accuracy: 0.9606 - val_loss: 5681.2832\n",
            "Epoch 2/15\n",
            "\u001b[1m383/383\u001b[0m \u001b[32m━━━━━━━━━━━━━━━━━━━━\u001b[0m\u001b[37m\u001b[0m \u001b[1m40s\u001b[0m 99ms/step - accuracy: 0.9693 - loss: 0.1041 - val_accuracy: 0.9721 - val_loss: 4763.1069\n",
            "Epoch 3/15\n",
            "\u001b[1m383/383\u001b[0m \u001b[32m━━━━━━━━━━━━━━━━━━━━\u001b[0m\u001b[37m\u001b[0m \u001b[1m41s\u001b[0m 99ms/step - accuracy: 0.9823 - loss: 0.0568 - val_accuracy: 0.9776 - val_loss: 364.1964\n",
            "Epoch 4/15\n",
            "\u001b[1m383/383\u001b[0m \u001b[32m━━━━━━━━━━━━━━━━━━━━\u001b[0m\u001b[37m\u001b[0m \u001b[1m38s\u001b[0m 99ms/step - accuracy: 0.9875 - loss: 0.0411 - val_accuracy: 0.9807 - val_loss: 1693.8093\n",
            "Epoch 5/15\n",
            "\u001b[1m383/383\u001b[0m \u001b[32m━━━━━━━━━━━━━━━━━━━━\u001b[0m\u001b[37m\u001b[0m \u001b[1m41s\u001b[0m 98ms/step - accuracy: 0.9905 - loss: 0.0298 - val_accuracy: 0.9823 - val_loss: 1599.1910\n",
            "Epoch 6/15\n",
            "\u001b[1m383/383\u001b[0m \u001b[32m━━━━━━━━━━━━━━━━━━━━\u001b[0m\u001b[37m\u001b[0m \u001b[1m41s\u001b[0m 99ms/step - accuracy: 0.9917 - loss: 0.0262 - val_accuracy: 0.9807 - val_loss: 3747.8054\n",
            "Epoch 7/15\n",
            "\u001b[1m383/383\u001b[0m \u001b[32m━━━━━━━━━━━━━━━━━━━━\u001b[0m\u001b[37m\u001b[0m \u001b[1m41s\u001b[0m 100ms/step - accuracy: 0.9935 - loss: 0.0223 - val_accuracy: 0.9811 - val_loss: 4876.9346\n",
            "Epoch 8/15\n",
            "\u001b[1m383/383\u001b[0m \u001b[32m━━━━━━━━━━━━━━━━━━━━\u001b[0m\u001b[37m\u001b[0m \u001b[1m41s\u001b[0m 101ms/step - accuracy: 0.9948 - loss: 0.0171 - val_accuracy: 0.9835 - val_loss: 4243.6162\n",
            "Epoch 9/15\n",
            "\u001b[1m383/383\u001b[0m \u001b[32m━━━━━━━━━━━━━━━━━━━━\u001b[0m\u001b[37m\u001b[0m \u001b[1m39s\u001b[0m 97ms/step - accuracy: 0.9963 - loss: 0.0129 - val_accuracy: 0.9841 - val_loss: 4053.2290\n",
            "Epoch 10/15\n",
            "\u001b[1m383/383\u001b[0m \u001b[32m━━━━━━━━━━━━━━━━━━━━\u001b[0m\u001b[37m\u001b[0m \u001b[1m44s\u001b[0m 106ms/step - accuracy: 0.9969 - loss: 0.0106 - val_accuracy: 0.9846 - val_loss: 4501.3174\n",
            "Epoch 11/15\n",
            "\u001b[1m383/383\u001b[0m \u001b[32m━━━━━━━━━━━━━━━━━━━━\u001b[0m\u001b[37m\u001b[0m \u001b[1m39s\u001b[0m 101ms/step - accuracy: 0.9978 - loss: 0.0076 - val_accuracy: 0.9847 - val_loss: 4331.6133\n",
            "Epoch 12/15\n",
            "\u001b[1m383/383\u001b[0m \u001b[32m━━━━━━━━━━━━━━━━━━━━\u001b[0m\u001b[37m\u001b[0m \u001b[1m41s\u001b[0m 102ms/step - accuracy: 0.9980 - loss: 0.0064 - val_accuracy: 0.9842 - val_loss: 4790.1162\n",
            "Epoch 13/15\n",
            "\u001b[1m383/383\u001b[0m \u001b[32m━━━━━━━━━━━━━━━━━━━━\u001b[0m\u001b[37m\u001b[0m \u001b[1m39s\u001b[0m 102ms/step - accuracy: 0.9987 - loss: 0.0054 - val_accuracy: 0.9835 - val_loss: 5188.8174\n",
            "Epoch 14/15\n",
            "\u001b[1m383/383\u001b[0m \u001b[32m━━━━━━━━━━━━━━━━━━━━\u001b[0m\u001b[37m\u001b[0m \u001b[1m41s\u001b[0m 101ms/step - accuracy: 0.9988 - loss: 0.0046 - val_accuracy: 0.9850 - val_loss: 4998.8047\n",
            "Epoch 15/15\n",
            "\u001b[1m383/383\u001b[0m \u001b[32m━━━━━━━━━━━━━━━━━━━━\u001b[0m\u001b[37m\u001b[0m \u001b[1m38s\u001b[0m 100ms/step - accuracy: 0.9990 - loss: 0.0048 - val_accuracy: 0.9850 - val_loss: 6398.6509\n",
            "\u001b[1m329/329\u001b[0m \u001b[32m━━━━━━━━━━━━━━━━━━━━\u001b[0m\u001b[37m\u001b[0m \u001b[1m3s\u001b[0m 10ms/step - accuracy: 0.9847 - loss: 14807.5713\n",
            "\n",
            "Results for Activation = swish:\n",
            "- Final Validation Accuracy: 0.9850\n",
            "- Test Accuracy: 0.9868\n",
            "- Avg Train Time/Epoch: 40.38s\n",
            "- Test Time: 5.20s\n"
          ]
        }
      ]
    },
    {
      "cell_type": "markdown",
      "source": [
        "# Results for activations\n"
      ],
      "metadata": {
        "id": "QUQg_ViqCvFM"
      }
    },
    {
      "cell_type": "code",
      "source": [
        "plt.figure(figsize=(15, 5))\n",
        "\n",
        "plt.subplot(1, 3, 1)\n",
        "plt.bar(activations, activation_val_accs, color='skyblue', label='Validation')\n",
        "plt.bar(activations, activation_test_accs, color='salmon', label='Test', width=0.4)\n",
        "plt.title('Accuracy vs Activation Function')\n",
        "plt.xlabel('Activation Function')\n",
        "plt.ylabel('Accuracy')\n",
        "plt.ylim(0, 1.0)\n",
        "plt.legend()\n",
        "plt.grid(axis='y')\n",
        "\n",
        "plt.subplot(1, 3, 2)\n",
        "plt.bar(activations, activation_train_times, color='lightgreen')\n",
        "plt.title('Avg Training Time/Epoch vs Activation Function')\n",
        "plt.xlabel('Activation Function')\n",
        "plt.ylabel('Avg Time per Epoch (s)')\n",
        "plt.grid(axis='y')\n",
        "\n",
        "plt.subplot(1, 3, 3)\n",
        "plt.bar(activations, activation_test_times, color='orchid')\n",
        "plt.title('Test Time vs Activation Function')\n",
        "plt.xlabel('Activation Function')\n",
        "plt.ylabel('Test Time (s)')\n",
        "plt.grid(axis='y')\n",
        "\n",
        "plt.tight_layout()\n",
        "plt.show()\n",
        "\n",
        "print(f\"\\n=== Best Activation Function Based on Validation Accuracy ===\")\n",
        "print(f\"Activation Function: {best_activation}\")\n",
        "print(f\"Validation Accuracy: {best_val_activation:.4f}\")\n",
        "\n",
        "best_activation_index = activations.index(best_activation)\n",
        "best_test_acc_at_best_activation = activation_test_accs[best_activation_index]\n",
        "\n",
        "print(f\"\\n=== Test Performance for Best Activation ({best_activation}) ===\")\n",
        "print(f\"Test Accuracy: {best_test_acc_at_best_activation:.4f}\")\n",
        "print(f\"Avg Train Time/Epoch: {activation_train_times[best_activation_index]:.2f}s\")\n",
        "print(f\"Test Time: {activation_test_times[best_activation_index]:.2f}s\")"
      ],
      "metadata": {
        "id": "0AwDMp2bCx2c",
        "outputId": "bfc10482-0fd1-40af-8704-e46ce408bffa",
        "colab": {
          "base_uri": "https://localhost:8080/",
          "height": 638
        }
      },
      "execution_count": null,
      "outputs": [
        {
          "output_type": "display_data",
          "data": {
            "text/plain": [
              "<Figure size 1500x500 with 3 Axes>"
            ],
            "image/png": "[encoded data removed]"
          },
          "metadata": {}
        },
        {
          "output_type": "stream",
          "name": "stdout",
          "text": [
            "\n",
            "=== Best Activation Function Based on Validation Accuracy ===\n",
            "Activation Function: relu\n",
            "Validation Accuracy: 0.9880\n",
            "\n",
            "=== Test Performance for Best Activation (relu) ===\n",
            "Test Accuracy: 0.9870\n",
            "Avg Train Time/Epoch: 39.01s\n",
            "Test Time: 4.04s\n"
          ]
        }
      ]
    },
    {
      "cell_type": "markdown",
      "source": [
        "# Accuracy Comparison\n",
        "\n",
        "- ReLU: Highest validation accuracy (0.9880) and very strong test accuracy (0.9870)\n",
        "- Tanh: Second-best validation accuracy (0.9854) with the highest test accuracy (0.9873)\n",
        "- Swish: Good validation accuracy (0.9850) with strong test accuracy (0.9868)\n",
        "- Sigmoid: Significantly lower validation (0.9590) and test accuracy (0.9637)\n",
        "\n",
        "# Efficiency Comparison\n",
        "\n",
        " - Tanh: Fastest training time (37.62s per epoch)\n",
        " - ReLU: Second fastest training (39.01s per epoch)\n",
        " - Sigmoid: Similar training speed (39.32s per epoch)\n",
        " - Swish: Slowest training time (40.38s per epoch)\n",
        " - Sigmoid: Fastest test time (2.88s)\n",
        " - ReLU: Second fastest test time (4.04s)\n",
        " - Tanh and Swish: Slowest test times (5.19s and 5.20s)\n",
        "\n",
        "# Best Model Recommendation\n",
        "- ### **ReLU provides the best overall balance of accuracy and efficiency:**\n",
        "\n",
        "  - Highest validation accuracy and near-top test accuracy\n",
        "  - Second fastest training time\n",
        "  - Reasonable test time performance\n",
        "\n",
        "- While Tanh achieved marginally better test accuracy (+0.0003) and faster training, ReLU's superior validation accuracy suggests better generalization potential.\n",
        "\n",
        "- The significantly faster test time of Sigmoid doesn't compensate for its notably lower accuracy.\n",
        "\n",
        "For production deployment where both high accuracy and reasonable inference speed are priorities, the ReLU model represents the optimal choice."
      ],
      "metadata": {
        "id": "j8lYS5zP4XrF"
      }
    },
    {
      "cell_type": "markdown",
      "source": [
        "#try 2 more optimizers with the best settings reached."
      ],
      "metadata": {
        "id": "MCTeDq3v2XHI"
      }
    },
    {
      "cell_type": "code",
      "source": [
        "# our optimal constants we concluded from the previous tasks.\n",
        "epochs = 15\n",
        "lr = 0.001\n",
        "momentum = 0.9\n",
        "batch_size = 128\n",
        "\n",
        "\n",
        "# Testing optimizer 1: Adam\n",
        "model_adam = build_cnn_opt4()  # best model reach till now\n",
        "adam_optimizer = tf.keras.optimizers.Adam(learning_rate=lr)\n",
        "model_adam.compile(optimizer=adam_optimizer,\n",
        "                  loss='categorical_crossentropy',\n",
        "                  metrics=['accuracy'])\n",
        "\n",
        "adam_history = model_adam.fit(\n",
        "                             X_train, y_train,\n",
        "                             validation_data=(X_val, y_val),\n",
        "                             epochs=epochs,\n",
        "                             batch_size=batch_size,\n",
        "                             verbose=1)\n",
        "\n",
        "\n",
        "# Testing optimizer 2: RMSprop\n",
        "model_rmsprop = build_cnn_opt4()\n",
        "rmsprop_optimizer = tf.keras.optimizers.RMSprop(learning_rate=lr)\n",
        "model_rmsprop.compile(optimizer=rmsprop_optimizer,\n",
        "                     loss='categorical_crossentropy',\n",
        "                     metrics=['accuracy'])\n",
        "\n",
        "rmsprop_history = model_rmsprop.fit(\n",
        "                                   X_train, y_train,\n",
        "                                   validation_data=(X_val, y_val),\n",
        "                                   epochs=epochs,\n",
        "                                   batch_size=batch_size,\n",
        "                                   verbose=1)\n",
        "\n",
        "\n",
        "\n"
      ],
      "metadata": {
        "id": "QbFytcnP3cKI",
        "outputId": "ef937149-3fd5-402c-e440-5c0e3f9f358c",
        "colab": {
          "base_uri": "https://localhost:8080/"
        }
      },
      "execution_count": 35,
      "outputs": [
        {
          "output_type": "stream",
          "name": "stdout",
          "text": [
            "Epoch 1/15\n",
            "\u001b[1m383/383\u001b[0m \u001b[32m━━━━━━━━━━━━━━━━━━━━\u001b[0m\u001b[37m\u001b[0m \u001b[1m73s\u001b[0m 191ms/step - accuracy: 0.8612 - loss: 0.4976 - val_accuracy: 0.9726 - val_loss: 138.0869\n",
            "Epoch 2/15\n",
            "\u001b[1m383/383\u001b[0m \u001b[32m━━━━━━━━━━━━━━━━━━━━\u001b[0m\u001b[37m\u001b[0m \u001b[1m77s\u001b[0m 178ms/step - accuracy: 0.9784 - loss: 0.0717 - val_accuracy: 0.9787 - val_loss: 0.0952\n",
            "Epoch 3/15\n",
            "\u001b[1m383/383\u001b[0m \u001b[32m━━━━━━━━━━━━━━━━━━━━\u001b[0m\u001b[37m\u001b[0m \u001b[1m81s\u001b[0m 176ms/step - accuracy: 0.9843 - loss: 0.0488 - val_accuracy: 0.9811 - val_loss: 291.5613\n",
            "Epoch 4/15\n",
            "\u001b[1m383/383\u001b[0m \u001b[32m━━━━━━━━━━━━━━━━━━━━\u001b[0m\u001b[37m\u001b[0m \u001b[1m82s\u001b[0m 176ms/step - accuracy: 0.9885 - loss: 0.0351 - val_accuracy: 0.9830 - val_loss: 3972.1531\n",
            "Epoch 5/15\n",
            "\u001b[1m383/383\u001b[0m \u001b[32m━━━━━━━━━━━━━━━━━━━━\u001b[0m\u001b[37m\u001b[0m \u001b[1m72s\u001b[0m 188ms/step - accuracy: 0.9931 - loss: 0.0248 - val_accuracy: 0.9844 - val_loss: 2312.8440\n",
            "Epoch 6/15\n",
            "\u001b[1m383/383\u001b[0m \u001b[32m━━━━━━━━━━━━━━━━━━━━\u001b[0m\u001b[37m\u001b[0m \u001b[1m66s\u001b[0m 174ms/step - accuracy: 0.9937 - loss: 0.0198 - val_accuracy: 0.9844 - val_loss: 356.3843\n",
            "Epoch 7/15\n",
            "\u001b[1m383/383\u001b[0m \u001b[32m━━━━━━━━━━━━━━━━━━━━\u001b[0m\u001b[37m\u001b[0m \u001b[1m83s\u001b[0m 176ms/step - accuracy: 0.9955 - loss: 0.0149 - val_accuracy: 0.9841 - val_loss: 2986.9607\n",
            "Epoch 8/15\n",
            "\u001b[1m383/383\u001b[0m \u001b[32m━━━━━━━━━━━━━━━━━━━━\u001b[0m\u001b[37m\u001b[0m \u001b[1m81s\u001b[0m 174ms/step - accuracy: 0.9954 - loss: 0.0148 - val_accuracy: 0.9871 - val_loss: 1781.2758\n",
            "Epoch 9/15\n",
            "\u001b[1m383/383\u001b[0m \u001b[32m━━━━━━━━━━━━━━━━━━━━\u001b[0m\u001b[37m\u001b[0m \u001b[1m83s\u001b[0m 175ms/step - accuracy: 0.9971 - loss: 0.0095 - val_accuracy: 0.9882 - val_loss: 2231.1553\n",
            "Epoch 10/15\n",
            "\u001b[1m383/383\u001b[0m \u001b[32m━━━━━━━━━━━━━━━━━━━━\u001b[0m\u001b[37m\u001b[0m \u001b[1m81s\u001b[0m 174ms/step - accuracy: 0.9978 - loss: 0.0080 - val_accuracy: 0.9865 - val_loss: 632.5326\n",
            "Epoch 11/15\n",
            "\u001b[1m383/383\u001b[0m \u001b[32m━━━━━━━━━━━━━━━━━━━━\u001b[0m\u001b[37m\u001b[0m \u001b[1m81s\u001b[0m 171ms/step - accuracy: 0.9973 - loss: 0.0078 - val_accuracy: 0.9829 - val_loss: 1202.8154\n",
            "Epoch 12/15\n",
            "\u001b[1m383/383\u001b[0m \u001b[32m━━━━━━━━━━━━━━━━━━━━\u001b[0m\u001b[37m\u001b[0m \u001b[1m82s\u001b[0m 172ms/step - accuracy: 0.9977 - loss: 0.0072 - val_accuracy: 0.9830 - val_loss: 2204.5754\n",
            "Epoch 13/15\n",
            "\u001b[1m383/383\u001b[0m \u001b[32m━━━━━━━━━━━━━━━━━━━━\u001b[0m\u001b[37m\u001b[0m \u001b[1m82s\u001b[0m 173ms/step - accuracy: 0.9980 - loss: 0.0069 - val_accuracy: 0.9855 - val_loss: 3249.9429\n",
            "Epoch 14/15\n",
            "\u001b[1m383/383\u001b[0m \u001b[32m━━━━━━━━━━━━━━━━━━━━\u001b[0m\u001b[37m\u001b[0m \u001b[1m65s\u001b[0m 171ms/step - accuracy: 0.9985 - loss: 0.0043 - val_accuracy: 0.9886 - val_loss: 9829.1074\n",
            "Epoch 15/15\n",
            "\u001b[1m383/383\u001b[0m \u001b[32m━━━━━━━━━━━━━━━━━━━━\u001b[0m\u001b[37m\u001b[0m \u001b[1m66s\u001b[0m 173ms/step - accuracy: 0.9982 - loss: 0.0053 - val_accuracy: 0.9874 - val_loss: 2620.7969\n",
            "Epoch 1/15\n",
            "\u001b[1m383/383\u001b[0m \u001b[32m━━━━━━━━━━━━━━━━━━━━\u001b[0m\u001b[37m\u001b[0m \u001b[1m60s\u001b[0m 157ms/step - accuracy: 0.8506 - loss: 0.4894 - val_accuracy: 0.9705 - val_loss: 3755.3965\n",
            "Epoch 2/15\n",
            "\u001b[1m383/383\u001b[0m \u001b[32m━━━━━━━━━━━━━━━━━━━━\u001b[0m\u001b[37m\u001b[0m \u001b[1m82s\u001b[0m 157ms/step - accuracy: 0.9803 - loss: 0.0688 - val_accuracy: 0.9760 - val_loss: 4899.1934\n",
            "Epoch 3/15\n",
            "\u001b[1m383/383\u001b[0m \u001b[32m━━━━━━━━━━━━━━━━━━━━\u001b[0m\u001b[37m\u001b[0m \u001b[1m58s\u001b[0m 153ms/step - accuracy: 0.9866 - loss: 0.0409 - val_accuracy: 0.9827 - val_loss: 2656.5774\n",
            "Epoch 4/15\n",
            "\u001b[1m383/383\u001b[0m \u001b[32m━━━━━━━━━━━━━━━━━━━━\u001b[0m\u001b[37m\u001b[0m \u001b[1m83s\u001b[0m 156ms/step - accuracy: 0.9917 - loss: 0.0264 - val_accuracy: 0.9842 - val_loss: 1974.9053\n",
            "Epoch 5/15\n",
            "\u001b[1m383/383\u001b[0m \u001b[32m━━━━━━━━━━━━━━━━━━━━\u001b[0m\u001b[37m\u001b[0m \u001b[1m82s\u001b[0m 155ms/step - accuracy: 0.9936 - loss: 0.0190 - val_accuracy: 0.9851 - val_loss: 7860.8457\n",
            "Epoch 6/15\n",
            "\u001b[1m383/383\u001b[0m \u001b[32m━━━━━━━━━━━━━━━━━━━━\u001b[0m\u001b[37m\u001b[0m \u001b[1m82s\u001b[0m 156ms/step - accuracy: 0.9963 - loss: 0.0128 - val_accuracy: 0.9877 - val_loss: 5935.1567\n",
            "Epoch 7/15\n",
            "\u001b[1m383/383\u001b[0m \u001b[32m━━━━━━━━━━━━━━━━━━━━\u001b[0m\u001b[37m\u001b[0m \u001b[1m57s\u001b[0m 150ms/step - accuracy: 0.9966 - loss: 0.0101 - val_accuracy: 0.9870 - val_loss: 3463.3928\n",
            "Epoch 8/15\n",
            "\u001b[1m383/383\u001b[0m \u001b[32m━━━━━━━━━━━━━━━━━━━━\u001b[0m\u001b[37m\u001b[0m \u001b[1m59s\u001b[0m 153ms/step - accuracy: 0.9978 - loss: 0.0078 - val_accuracy: 0.9890 - val_loss: 5461.6079\n",
            "Epoch 9/15\n",
            "\u001b[1m383/383\u001b[0m \u001b[32m━━━━━━━━━━━━━━━━━━━━\u001b[0m\u001b[37m\u001b[0m \u001b[1m60s\u001b[0m 156ms/step - accuracy: 0.9978 - loss: 0.0070 - val_accuracy: 0.9874 - val_loss: 8604.3350\n",
            "Epoch 10/15\n",
            "\u001b[1m383/383\u001b[0m \u001b[32m━━━━━━━━━━━━━━━━━━━━\u001b[0m\u001b[37m\u001b[0m \u001b[1m60s\u001b[0m 157ms/step - accuracy: 0.9986 - loss: 0.0043 - val_accuracy: 0.9875 - val_loss: 3496.0876\n",
            "Epoch 11/15\n",
            "\u001b[1m383/383\u001b[0m \u001b[32m━━━━━━━━━━━━━━━━━━━━\u001b[0m\u001b[37m\u001b[0m \u001b[1m81s\u001b[0m 156ms/step - accuracy: 0.9987 - loss: 0.0036 - val_accuracy: 0.9877 - val_loss: 7184.0425\n",
            "Epoch 12/15\n",
            "\u001b[1m383/383\u001b[0m \u001b[32m━━━━━━━━━━━━━━━━━━━━\u001b[0m\u001b[37m\u001b[0m \u001b[1m59s\u001b[0m 155ms/step - accuracy: 0.9988 - loss: 0.0037 - val_accuracy: 0.9885 - val_loss: 6956.5547\n",
            "Epoch 13/15\n",
            "\u001b[1m383/383\u001b[0m \u001b[32m━━━━━━━━━━━━━━━━━━━━\u001b[0m\u001b[37m\u001b[0m \u001b[1m83s\u001b[0m 157ms/step - accuracy: 0.9993 - loss: 0.0023 - val_accuracy: 0.9888 - val_loss: 9930.1641\n",
            "Epoch 14/15\n",
            "\u001b[1m383/383\u001b[0m \u001b[32m━━━━━━━━━━━━━━━━━━━━\u001b[0m\u001b[37m\u001b[0m \u001b[1m81s\u001b[0m 154ms/step - accuracy: 0.9995 - loss: 0.0018 - val_accuracy: 0.9882 - val_loss: 9723.0508\n",
            "Epoch 15/15\n",
            "\u001b[1m383/383\u001b[0m \u001b[32m━━━━━━━━━━━━━━━━━━━━\u001b[0m\u001b[37m\u001b[0m \u001b[1m84s\u001b[0m 159ms/step - accuracy: 0.9997 - loss: 0.0012 - val_accuracy: 0.9880 - val_loss: 12955.1006\n"
          ]
        }
      ]
    },
    {
      "cell_type": "code",
      "source": [
        "adam_test_loss, adam_test_acc = model_adam.evaluate(X_test, y_test)\n",
        "print(f\"Adam Test Accuracy: {adam_test_acc:.4f}\")\n",
        "\n",
        "rmsprop_test_loss, rmsprop_test_acc = model_rmsprop.evaluate(X_test, y_test)\n",
        "print(f\"RMSprop Test Accuracy: {rmsprop_test_acc:.4f}\")\n"
      ],
      "metadata": {
        "id": "Nnk9dTO7H6u7",
        "outputId": "440a2cfc-7430-489b-e459-c783ad1bab1c",
        "colab": {
          "base_uri": "https://localhost:8080/"
        }
      },
      "execution_count": 38,
      "outputs": [
        {
          "output_type": "stream",
          "name": "stdout",
          "text": [
            "\u001b[1m329/329\u001b[0m \u001b[32m━━━━━━━━━━━━━━━━━━━━\u001b[0m\u001b[37m\u001b[0m \u001b[1m11s\u001b[0m 32ms/step - accuracy: 0.9874 - loss: 3491.5364\n",
            "Adam Test Accuracy: 0.9883\n",
            "\u001b[1m329/329\u001b[0m \u001b[32m━━━━━━━━━━━━━━━━━━━━\u001b[0m\u001b[37m\u001b[0m \u001b[1m11s\u001b[0m 32ms/step - accuracy: 0.9875 - loss: 37559.4883\n",
            "RMSprop Test Accuracy: 0.9885\n"
          ]
        }
      ]
    },
    {
      "cell_type": "code",
      "source": [
        "# Print results for comparison\n",
        "print(\"\\nResults comparison:\")\n",
        "print(f\"Adam - Final training accuracy: {adam_history.history['accuracy'][-1]:.4f}\")\n",
        "print(f\"Adam - Final validation accuracy: {adam_history.history['val_accuracy'][-1]:.4f}\")\n",
        "print(f\"RMSprop - Final training accuracy: {rmsprop_history.history['accuracy'][-1]:.4f}\")\n",
        "print(f\"RMSprop - Final validation accuracy: {rmsprop_history.history['val_accuracy'][-1]:.4f}\")\n"
      ],
      "metadata": {
        "id": "ZBdAEdDoFRoD",
        "outputId": "75260125-198c-4548-c823-e675c555e47b",
        "colab": {
          "base_uri": "https://localhost:8080/"
        }
      },
      "execution_count": 39,
      "outputs": [
        {
          "output_type": "stream",
          "name": "stdout",
          "text": [
            "\n",
            "Results comparison:\n",
            "Adam - Final training accuracy: 0.9982\n",
            "Adam - Final validation accuracy: 0.9874\n",
            "RMSprop - Final training accuracy: 0.9994\n",
            "RMSprop - Final validation accuracy: 0.9880\n"
          ]
        }
      ]
    },
    {
      "cell_type": "markdown",
      "source": [
        "#Put a dropout layer in the model"
      ],
      "metadata": {
        "id": "n_szRuZKMmEM"
      }
    },
    {
      "cell_type": "code",
      "source": [
        "\n",
        "# Model 1: Dropout after first Conv block with rate 0.25\n",
        "def build_cnn_dropout1():\n",
        "    return Sequential([\n",
        "        layers.Input(shape=X_train.shape[1:]),\n",
        "        layers.Conv2D(16, (3, 3), activation='relu', padding='same'),\n",
        "        layers.MaxPooling2D(),\n",
        "        layers.Dropout(0.25),  # First position - after first conv block\n",
        "\n",
        "        layers.Conv2D(32, (3, 3), activation='relu', padding='same'),\n",
        "        layers.MaxPooling2D(),\n",
        "\n",
        "        layers.Flatten(),\n",
        "        layers.Dense(128, activation='relu'),\n",
        "        layers.Dense(10, activation='softmax')\n",
        "    ])\n",
        "\n",
        "# Model 2: Dropout after first Conv block with rate 0.5\n",
        "def build_cnn_dropout2():\n",
        "    return Sequential([\n",
        "        layers.Input(shape=X_train.shape[1:]),\n",
        "        layers.Conv2D(16, (3, 3), activation='relu', padding='same'),\n",
        "        layers.MaxPooling2D(),\n",
        "        layers.Dropout(0.5),  # First position - higher dropout rate\n",
        "\n",
        "        layers.Conv2D(32, (3, 3), activation='relu', padding='same'),\n",
        "        layers.MaxPooling2D(),\n",
        "\n",
        "        layers.Flatten(),\n",
        "        layers.Dense(128, activation='relu'),\n",
        "        layers.Dense(10, activation='softmax')\n",
        "    ])\n",
        "\n",
        "# Model 3: Dropout before Dense layer with rate 0.25\n",
        "def build_cnn_dropout3():\n",
        "    return Sequential([\n",
        "        layers.Input(shape=X_train.shape[1:]),\n",
        "        layers.Conv2D(16, (3, 3), activation='relu', padding='same'),\n",
        "        layers.MaxPooling2D(),\n",
        "\n",
        "        layers.Conv2D(32, (3, 3), activation='relu', padding='same'),\n",
        "        layers.MaxPooling2D(),\n",
        "\n",
        "        layers.Flatten(),\n",
        "        layers.Dropout(0.25),  # Second position - before dense layer\n",
        "        layers.Dense(128, activation='relu'),\n",
        "        layers.Dense(10, activation='softmax')\n",
        "    ])\n",
        "\n",
        "# Model 4: Dropout before Dense layer with rate 0.5\n",
        "def build_cnn_dropout4():\n",
        "    return Sequential([\n",
        "        layers.Input(shape=X_train.shape[1:]),\n",
        "        layers.Conv2D(16, (3, 3), activation='relu', padding='same'),\n",
        "        layers.MaxPooling2D(),\n",
        "\n",
        "        layers.Conv2D(32, (3, 3), activation='relu', padding='same'),\n",
        "        layers.MaxPooling2D(),\n",
        "\n",
        "        layers.Flatten(),\n",
        "        layers.Dropout(0.5),  # Second position - higher dropout rate\n",
        "        layers.Dense(128, activation='relu'),\n",
        "        layers.Dense(10, activation='softmax')\n",
        "    ])\n",
        "\n"
      ],
      "metadata": {
        "id": "jLA7YGQfNP2N"
      },
      "execution_count": 40,
      "outputs": []
    },
    {
      "cell_type": "code",
      "source": [
        "models = [\n",
        "    (\"Dropout 0.25 after first conv\", build_cnn_dropout1()),\n",
        "    (\"Dropout 0.50 after first conv\", build_cnn_dropout2()),\n",
        "    (\"Dropout 0.25 before dense\", build_cnn_dropout3()),\n",
        "    (\"Dropout 0.50 before dense\", build_cnn_dropout4())\n",
        "]\n",
        "\n",
        "results = {}\n",
        "\n",
        "for name, model in models:\n",
        "    print(f\"\\nTraining {name}:\")\n",
        "    optimizer = optimizers.Adam(learning_rate=lr)\n",
        "    model.compile(optimizer=optimizer,\n",
        "                 loss='categorical_crossentropy',\n",
        "                 metrics=['accuracy'])\n",
        "\n",
        "    history = model.fit(X_train, y_train,\n",
        "                       validation_data=(X_val, y_val),\n",
        "                       epochs=epochs,\n",
        "                       batch_size=batch_size,\n",
        "                       verbose=1)\n",
        "\n",
        "    results[name] = {\n",
        "        'train_acc': history.history['accuracy'][-1],\n",
        "        'val_acc': history.history['val_accuracy'][-1],\n",
        "        'history': history.history\n",
        "    }"
      ],
      "metadata": {
        "id": "llxflQxiNjVV",
        "outputId": "408909e5-71e2-483c-e605-dc02c0326b4f",
        "colab": {
          "base_uri": "https://localhost:8080/"
        }
      },
      "execution_count": 41,
      "outputs": [
        {
          "output_type": "stream",
          "name": "stdout",
          "text": [
            "\n",
            "Training Dropout 0.25 after first conv:\n",
            "Epoch 1/15\n",
            "\u001b[1m383/383\u001b[0m \u001b[32m━━━━━━━━━━━━━━━━━━━━\u001b[0m\u001b[37m\u001b[0m \u001b[1m72s\u001b[0m 187ms/step - accuracy: 0.8210 - loss: 0.6028 - val_accuracy: 0.9664 - val_loss: 2553.6689\n",
            "Epoch 2/15\n",
            "\u001b[1m383/383\u001b[0m \u001b[32m━━━━━━━━━━━━━━━━━━━━\u001b[0m\u001b[37m\u001b[0m \u001b[1m84s\u001b[0m 193ms/step - accuracy: 0.9708 - loss: 0.0929 - val_accuracy: 0.9772 - val_loss: 5869.9575\n",
            "Epoch 3/15\n",
            "\u001b[1m383/383\u001b[0m \u001b[32m━━━━━━━━━━━━━━━━━━━━\u001b[0m\u001b[37m\u001b[0m \u001b[1m85s\u001b[0m 202ms/step - accuracy: 0.9787 - loss: 0.0698 - val_accuracy: 0.9826 - val_loss: 1866.7411\n",
            "Epoch 4/15\n",
            "\u001b[1m383/383\u001b[0m \u001b[32m━━━━━━━━━━━━━━━━━━━━\u001b[0m\u001b[37m\u001b[0m \u001b[1m74s\u001b[0m 192ms/step - accuracy: 0.9841 - loss: 0.0485 - val_accuracy: 0.9824 - val_loss: 2384.9399\n",
            "Epoch 5/15\n",
            "\u001b[1m383/383\u001b[0m \u001b[32m━━━━━━━━━━━━━━━━━━━━\u001b[0m\u001b[37m\u001b[0m \u001b[1m82s\u001b[0m 192ms/step - accuracy: 0.9871 - loss: 0.0413 - val_accuracy: 0.9850 - val_loss: 4712.1191\n",
            "Epoch 6/15\n",
            "\u001b[1m383/383\u001b[0m \u001b[32m━━━━━━━━━━━━━━━━━━━━\u001b[0m\u001b[37m\u001b[0m \u001b[1m83s\u001b[0m 194ms/step - accuracy: 0.9898 - loss: 0.0333 - val_accuracy: 0.9848 - val_loss: 4336.1924\n",
            "Epoch 7/15\n",
            "\u001b[1m383/383\u001b[0m \u001b[32m━━━━━━━━━━━━━━━━━━━━\u001b[0m\u001b[37m\u001b[0m \u001b[1m74s\u001b[0m 192ms/step - accuracy: 0.9915 - loss: 0.0291 - val_accuracy: 0.9860 - val_loss: 1063.3251\n",
            "Epoch 8/15\n",
            "\u001b[1m383/383\u001b[0m \u001b[32m━━━━━━━━━━━━━━━━━━━━\u001b[0m\u001b[37m\u001b[0m \u001b[1m77s\u001b[0m 200ms/step - accuracy: 0.9911 - loss: 0.0263 - val_accuracy: 0.9892 - val_loss: 2463.1946\n",
            "Epoch 9/15\n",
            "\u001b[1m383/383\u001b[0m \u001b[32m━━━━━━━━━━━━━━━━━━━━\u001b[0m\u001b[37m\u001b[0m \u001b[1m79s\u001b[0m 192ms/step - accuracy: 0.9924 - loss: 0.0232 - val_accuracy: 0.9890 - val_loss: 3317.8811\n",
            "Epoch 10/15\n",
            "\u001b[1m383/383\u001b[0m \u001b[32m━━━━━━━━━━━━━━━━━━━━\u001b[0m\u001b[37m\u001b[0m \u001b[1m83s\u001b[0m 195ms/step - accuracy: 0.9934 - loss: 0.0206 - val_accuracy: 0.9882 - val_loss: 5210.1401\n",
            "Epoch 11/15\n",
            "\u001b[1m383/383\u001b[0m \u001b[32m━━━━━━━━━━━━━━━━━━━━\u001b[0m\u001b[37m\u001b[0m \u001b[1m72s\u001b[0m 187ms/step - accuracy: 0.9943 - loss: 0.0164 - val_accuracy: 0.9864 - val_loss: 4494.1792\n",
            "Epoch 12/15\n",
            "\u001b[1m383/383\u001b[0m \u001b[32m━━━━━━━━━━━━━━━━━━━━\u001b[0m\u001b[37m\u001b[0m \u001b[1m74s\u001b[0m 193ms/step - accuracy: 0.9944 - loss: 0.0174 - val_accuracy: 0.9868 - val_loss: 4761.0859\n",
            "Epoch 13/15\n",
            "\u001b[1m383/383\u001b[0m \u001b[32m━━━━━━━━━━━━━━━━━━━━\u001b[0m\u001b[37m\u001b[0m \u001b[1m79s\u001b[0m 186ms/step - accuracy: 0.9950 - loss: 0.0162 - val_accuracy: 0.9886 - val_loss: 5535.9956\n",
            "Epoch 14/15\n",
            "\u001b[1m383/383\u001b[0m \u001b[32m━━━━━━━━━━━━━━━━━━━━\u001b[0m\u001b[37m\u001b[0m \u001b[1m73s\u001b[0m 190ms/step - accuracy: 0.9953 - loss: 0.0145 - val_accuracy: 0.9887 - val_loss: 5846.8394\n",
            "Epoch 15/15\n",
            "\u001b[1m383/383\u001b[0m \u001b[32m━━━━━━━━━━━━━━━━━━━━\u001b[0m\u001b[37m\u001b[0m \u001b[1m81s\u001b[0m 188ms/step - accuracy: 0.9961 - loss: 0.0115 - val_accuracy: 0.9855 - val_loss: 4474.4888\n",
            "\n",
            "Training Dropout 0.50 after first conv:\n",
            "Epoch 1/15\n",
            "\u001b[1m383/383\u001b[0m \u001b[32m━━━━━━━━━━━━━━━━━━━━\u001b[0m\u001b[37m\u001b[0m \u001b[1m73s\u001b[0m 191ms/step - accuracy: 0.8030 - loss: 0.6474 - val_accuracy: 0.9614 - val_loss: 1403.0712\n",
            "Epoch 2/15\n",
            "\u001b[1m383/383\u001b[0m \u001b[32m━━━━━━━━━━━━━━━━━━━━\u001b[0m\u001b[37m\u001b[0m \u001b[1m73s\u001b[0m 192ms/step - accuracy: 0.9594 - loss: 0.1345 - val_accuracy: 0.9713 - val_loss: 4425.9023\n",
            "Epoch 3/15\n",
            "\u001b[1m383/383\u001b[0m \u001b[32m━━━━━━━━━━━━━━━━━━━━\u001b[0m\u001b[37m\u001b[0m \u001b[1m82s\u001b[0m 193ms/step - accuracy: 0.9711 - loss: 0.0924 - val_accuracy: 0.9770 - val_loss: 2360.8789\n",
            "Epoch 4/15\n",
            "\u001b[1m383/383\u001b[0m \u001b[32m━━━━━━━━━━━━━━━━━━━━\u001b[0m\u001b[37m\u001b[0m \u001b[1m73s\u001b[0m 190ms/step - accuracy: 0.9763 - loss: 0.0773 - val_accuracy: 0.9815 - val_loss: 2284.8972\n",
            "Epoch 5/15\n",
            "\u001b[1m383/383\u001b[0m \u001b[32m━━━━━━━━━━━━━━━━━━━━\u001b[0m\u001b[37m\u001b[0m \u001b[1m74s\u001b[0m 193ms/step - accuracy: 0.9797 - loss: 0.0668 - val_accuracy: 0.9825 - val_loss: 4742.2119\n",
            "Epoch 6/15\n",
            "\u001b[1m383/383\u001b[0m \u001b[32m━━━━━━━━━━━━━━━━━━━━\u001b[0m\u001b[37m\u001b[0m \u001b[1m73s\u001b[0m 190ms/step - accuracy: 0.9835 - loss: 0.0526 - val_accuracy: 0.9848 - val_loss: 3304.3757\n",
            "Epoch 7/15\n",
            "\u001b[1m383/383\u001b[0m \u001b[32m━━━━━━━━━━━━━━━━━━━━\u001b[0m\u001b[37m\u001b[0m \u001b[1m82s\u001b[0m 191ms/step - accuracy: 0.9858 - loss: 0.0467 - val_accuracy: 0.9868 - val_loss: 3288.6377\n",
            "Epoch 8/15\n",
            "\u001b[1m383/383\u001b[0m \u001b[32m━━━━━━━━━━━━━━━━━━━━\u001b[0m\u001b[37m\u001b[0m \u001b[1m80s\u001b[0m 187ms/step - accuracy: 0.9863 - loss: 0.0453 - val_accuracy: 0.9863 - val_loss: 67.5312\n",
            "Epoch 9/15\n",
            "\u001b[1m383/383\u001b[0m \u001b[32m━━━━━━━━━━━━━━━━━━━━\u001b[0m\u001b[37m\u001b[0m \u001b[1m82s\u001b[0m 187ms/step - accuracy: 0.9872 - loss: 0.0394 - val_accuracy: 0.9872 - val_loss: 5747.3452\n",
            "Epoch 10/15\n",
            "\u001b[1m383/383\u001b[0m \u001b[32m━━━━━━━━━━━━━━━━━━━━\u001b[0m\u001b[37m\u001b[0m \u001b[1m83s\u001b[0m 190ms/step - accuracy: 0.9892 - loss: 0.0341 - val_accuracy: 0.9864 - val_loss: 3081.3826\n",
            "Epoch 11/15\n",
            "\u001b[1m383/383\u001b[0m \u001b[32m━━━━━━━━━━━━━━━━━━━━\u001b[0m\u001b[37m\u001b[0m \u001b[1m83s\u001b[0m 194ms/step - accuracy: 0.9898 - loss: 0.0316 - val_accuracy: 0.9868 - val_loss: 11712.7607\n",
            "Epoch 12/15\n",
            "\u001b[1m383/383\u001b[0m \u001b[32m━━━━━━━━━━━━━━━━━━━━\u001b[0m\u001b[37m\u001b[0m \u001b[1m81s\u001b[0m 192ms/step - accuracy: 0.9910 - loss: 0.0300 - val_accuracy: 0.9861 - val_loss: 6080.3511\n",
            "Epoch 13/15\n",
            "\u001b[1m383/383\u001b[0m \u001b[32m━━━━━━━━━━━━━━━━━━━━\u001b[0m\u001b[37m\u001b[0m \u001b[1m80s\u001b[0m 187ms/step - accuracy: 0.9902 - loss: 0.0302 - val_accuracy: 0.9861 - val_loss: 2044.6241\n",
            "Epoch 14/15\n",
            "\u001b[1m383/383\u001b[0m \u001b[32m━━━━━━━━━━━━━━━━━━━━\u001b[0m\u001b[37m\u001b[0m \u001b[1m73s\u001b[0m 192ms/step - accuracy: 0.9903 - loss: 0.0296 - val_accuracy: 0.9869 - val_loss: 1389.9944\n",
            "Epoch 15/15\n",
            "\u001b[1m383/383\u001b[0m \u001b[32m━━━━━━━━━━━━━━━━━━━━\u001b[0m\u001b[37m\u001b[0m \u001b[1m73s\u001b[0m 191ms/step - accuracy: 0.9932 - loss: 0.0224 - val_accuracy: 0.9877 - val_loss: 2302.6423\n",
            "\n",
            "Training Dropout 0.25 before dense:\n",
            "Epoch 1/15\n",
            "\u001b[1m383/383\u001b[0m \u001b[32m━━━━━━━━━━━━━━━━━━━━\u001b[0m\u001b[37m\u001b[0m \u001b[1m74s\u001b[0m 194ms/step - accuracy: 0.8324 - loss: 0.5720 - val_accuracy: 0.9730 - val_loss: 2065.2646\n",
            "Epoch 2/15\n",
            "\u001b[1m383/383\u001b[0m \u001b[32m━━━━━━━━━━━━━━━━━━━━\u001b[0m\u001b[37m\u001b[0m \u001b[1m72s\u001b[0m 188ms/step - accuracy: 0.9714 - loss: 0.0896 - val_accuracy: 0.9779 - val_loss: 8162.1206\n",
            "Epoch 3/15\n",
            "\u001b[1m383/383\u001b[0m \u001b[32m━━━━━━━━━━━━━━━━━━━━\u001b[0m\u001b[37m\u001b[0m \u001b[1m82s\u001b[0m 189ms/step - accuracy: 0.9815 - loss: 0.0605 - val_accuracy: 0.9832 - val_loss: 700.3432\n",
            "Epoch 4/15\n",
            "\u001b[1m383/383\u001b[0m \u001b[32m━━━━━━━━━━━━━━━━━━━━\u001b[0m\u001b[37m\u001b[0m \u001b[1m71s\u001b[0m 186ms/step - accuracy: 0.9856 - loss: 0.0439 - val_accuracy: 0.9841 - val_loss: 4792.9536\n",
            "Epoch 5/15\n",
            "\u001b[1m383/383\u001b[0m \u001b[32m━━━━━━━━━━━━━━━━━━━━\u001b[0m\u001b[37m\u001b[0m \u001b[1m83s\u001b[0m 189ms/step - accuracy: 0.9884 - loss: 0.0375 - val_accuracy: 0.9839 - val_loss: 3241.6980\n",
            "Epoch 6/15\n",
            "\u001b[1m383/383\u001b[0m \u001b[32m━━━━━━━━━━━━━━━━━━━━\u001b[0m\u001b[37m\u001b[0m \u001b[1m83s\u001b[0m 191ms/step - accuracy: 0.9890 - loss: 0.0344 - val_accuracy: 0.9850 - val_loss: 463.9308\n",
            "Epoch 7/15\n",
            "\u001b[1m383/383\u001b[0m \u001b[32m━━━━━━━━━━━━━━━━━━━━\u001b[0m\u001b[37m\u001b[0m \u001b[1m73s\u001b[0m 191ms/step - accuracy: 0.9907 - loss: 0.0283 - val_accuracy: 0.9883 - val_loss: 941.8203\n",
            "Epoch 8/15\n",
            "\u001b[1m383/383\u001b[0m \u001b[32m━━━━━━━━━━━━━━━━━━━━\u001b[0m\u001b[37m\u001b[0m \u001b[1m72s\u001b[0m 189ms/step - accuracy: 0.9913 - loss: 0.0257 - val_accuracy: 0.9878 - val_loss: 0.0894\n",
            "Epoch 9/15\n",
            "\u001b[1m383/383\u001b[0m \u001b[32m━━━━━━━━━━━━━━━━━━━━\u001b[0m\u001b[37m\u001b[0m \u001b[1m83s\u001b[0m 191ms/step - accuracy: 0.9921 - loss: 0.0240 - val_accuracy: 0.9889 - val_loss: 92.0929\n",
            "Epoch 10/15\n",
            "\u001b[1m383/383\u001b[0m \u001b[32m━━━━━━━━━━━━━━━━━━━━\u001b[0m\u001b[37m\u001b[0m \u001b[1m71s\u001b[0m 186ms/step - accuracy: 0.9929 - loss: 0.0192 - val_accuracy: 0.9896 - val_loss: 1676.4681\n",
            "Epoch 11/15\n",
            "\u001b[1m383/383\u001b[0m \u001b[32m━━━━━━━━━━━━━━━━━━━━\u001b[0m\u001b[37m\u001b[0m \u001b[1m83s\u001b[0m 189ms/step - accuracy: 0.9941 - loss: 0.0175 - val_accuracy: 0.9887 - val_loss: 0.1164\n",
            "Epoch 12/15\n",
            "\u001b[1m383/383\u001b[0m \u001b[32m━━━━━━━━━━━━━━━━━━━━\u001b[0m\u001b[37m\u001b[0m \u001b[1m71s\u001b[0m 186ms/step - accuracy: 0.9931 - loss: 0.0199 - val_accuracy: 0.9898 - val_loss: 0.0891\n",
            "Epoch 13/15\n",
            "\u001b[1m383/383\u001b[0m \u001b[32m━━━━━━━━━━━━━━━━━━━━\u001b[0m\u001b[37m\u001b[0m \u001b[1m84s\u001b[0m 191ms/step - accuracy: 0.9944 - loss: 0.0159 - val_accuracy: 0.9890 - val_loss: 356.3317\n",
            "Epoch 14/15\n",
            "\u001b[1m383/383\u001b[0m \u001b[32m━━━━━━━━━━━━━━━━━━━━\u001b[0m\u001b[37m\u001b[0m \u001b[1m81s\u001b[0m 189ms/step - accuracy: 0.9952 - loss: 0.0142 - val_accuracy: 0.9897 - val_loss: 183.2193\n",
            "Epoch 15/15\n",
            "\u001b[1m383/383\u001b[0m \u001b[32m━━━━━━━━━━━━━━━━━━━━\u001b[0m\u001b[37m\u001b[0m \u001b[1m71s\u001b[0m 185ms/step - accuracy: 0.9955 - loss: 0.0133 - val_accuracy: 0.9897 - val_loss: 0.1105\n",
            "\n",
            "Training Dropout 0.50 before dense:\n",
            "Epoch 1/15\n",
            "\u001b[1m383/383\u001b[0m \u001b[32m━━━━━━━━━━━━━━━━━━━━\u001b[0m\u001b[37m\u001b[0m \u001b[1m74s\u001b[0m 192ms/step - accuracy: 0.8071 - loss: 0.6383 - val_accuracy: 0.9694 - val_loss: 6376.7808\n",
            "Epoch 2/15\n",
            "\u001b[1m383/383\u001b[0m \u001b[32m━━━━━━━━━━━━━━━━━━━━\u001b[0m\u001b[37m\u001b[0m \u001b[1m80s\u001b[0m 188ms/step - accuracy: 0.9649 - loss: 0.1146 - val_accuracy: 0.9792 - val_loss: 439.0676\n",
            "Epoch 3/15\n",
            "\u001b[1m383/383\u001b[0m \u001b[32m━━━━━━━━━━━━━━━━━━━━\u001b[0m\u001b[37m\u001b[0m \u001b[1m82s\u001b[0m 187ms/step - accuracy: 0.9735 - loss: 0.0839 - val_accuracy: 0.9814 - val_loss: 2627.5403\n",
            "Epoch 4/15\n",
            "\u001b[1m383/383\u001b[0m \u001b[32m━━━━━━━━━━━━━━━━━━━━\u001b[0m\u001b[37m\u001b[0m \u001b[1m73s\u001b[0m 190ms/step - accuracy: 0.9776 - loss: 0.0715 - val_accuracy: 0.9839 - val_loss: 4030.8186\n",
            "Epoch 5/15\n",
            "\u001b[1m383/383\u001b[0m \u001b[32m━━━━━━━━━━━━━━━━━━━━\u001b[0m\u001b[37m\u001b[0m \u001b[1m73s\u001b[0m 191ms/step - accuracy: 0.9818 - loss: 0.0564 - val_accuracy: 0.9861 - val_loss: 725.1892\n",
            "Epoch 6/15\n",
            "\u001b[1m383/383\u001b[0m \u001b[32m━━━━━━━━━━━━━━━━━━━━\u001b[0m\u001b[37m\u001b[0m \u001b[1m73s\u001b[0m 189ms/step - accuracy: 0.9823 - loss: 0.0527 - val_accuracy: 0.9865 - val_loss: 5718.5469\n",
            "Epoch 7/15\n",
            "\u001b[1m383/383\u001b[0m \u001b[32m━━━━━━━━━━━━━━━━━━━━\u001b[0m\u001b[37m\u001b[0m \u001b[1m72s\u001b[0m 188ms/step - accuracy: 0.9850 - loss: 0.0464 - val_accuracy: 0.9892 - val_loss: 2432.1956\n",
            "Epoch 8/15\n",
            "\u001b[1m383/383\u001b[0m \u001b[32m━━━━━━━━━━━━━━━━━━━━\u001b[0m\u001b[37m\u001b[0m \u001b[1m72s\u001b[0m 188ms/step - accuracy: 0.9855 - loss: 0.0434 - val_accuracy: 0.9875 - val_loss: 1086.5244\n",
            "Epoch 9/15\n",
            "\u001b[1m383/383\u001b[0m \u001b[32m━━━━━━━━━━━━━━━━━━━━\u001b[0m\u001b[37m\u001b[0m \u001b[1m72s\u001b[0m 189ms/step - accuracy: 0.9868 - loss: 0.0390 - val_accuracy: 0.9887 - val_loss: 4705.3613\n",
            "Epoch 10/15\n",
            "\u001b[1m383/383\u001b[0m \u001b[32m━━━━━━━━━━━━━━━━━━━━\u001b[0m\u001b[37m\u001b[0m \u001b[1m73s\u001b[0m 191ms/step - accuracy: 0.9885 - loss: 0.0355 - val_accuracy: 0.9879 - val_loss: 2768.6755\n",
            "Epoch 11/15\n",
            "\u001b[1m383/383\u001b[0m \u001b[32m━━━━━━━━━━━━━━━━━━━━\u001b[0m\u001b[37m\u001b[0m \u001b[1m85s\u001b[0m 198ms/step - accuracy: 0.9892 - loss: 0.0340 - val_accuracy: 0.9890 - val_loss: 1503.0414\n",
            "Epoch 12/15\n",
            "\u001b[1m383/383\u001b[0m \u001b[32m━━━━━━━━━━━━━━━━━━━━\u001b[0m\u001b[37m\u001b[0m \u001b[1m74s\u001b[0m 192ms/step - accuracy: 0.9917 - loss: 0.0258 - val_accuracy: 0.9890 - val_loss: 1614.6328\n",
            "Epoch 13/15\n",
            "\u001b[1m383/383\u001b[0m \u001b[32m━━━━━━━━━━━━━━━━━━━━\u001b[0m\u001b[37m\u001b[0m \u001b[1m73s\u001b[0m 190ms/step - accuracy: 0.9895 - loss: 0.0317 - val_accuracy: 0.9887 - val_loss: 5135.9956\n",
            "Epoch 14/15\n",
            "\u001b[1m383/383\u001b[0m \u001b[32m━━━━━━━━━━━━━━━━━━━━\u001b[0m\u001b[37m\u001b[0m \u001b[1m82s\u001b[0m 191ms/step - accuracy: 0.9897 - loss: 0.0296 - val_accuracy: 0.9892 - val_loss: 2924.7520\n",
            "Epoch 15/15\n",
            "\u001b[1m383/383\u001b[0m \u001b[32m━━━━━━━━━━━━━━━━━━━━\u001b[0m\u001b[37m\u001b[0m \u001b[1m72s\u001b[0m 188ms/step - accuracy: 0.9906 - loss: 0.0279 - val_accuracy: 0.9899 - val_loss: 2152.9602\n"
          ]
        }
      ]
    },
    {
      "cell_type": "code",
      "source": [
        "# Print comparison of results\n",
        "print(\"\\n===== RESULTS COMPARISON =====\")\n",
        "for name, result in results.items():\n",
        "    print(f\"{name}:\")\n",
        "    print(f\"  Training accuracy: {result['train_acc']:.4f}\")\n",
        "    print(f\"  Validation accuracy: {result['val_acc']:.4f}\")\n"
      ],
      "metadata": {
        "id": "VPCRhWPQNrxN",
        "outputId": "9e36e010-c173-4d91-aee5-c52e64f864a6",
        "colab": {
          "base_uri": "https://localhost:8080/"
        }
      },
      "execution_count": 42,
      "outputs": [
        {
          "output_type": "stream",
          "name": "stdout",
          "text": [
            "\n",
            "===== RESULTS COMPARISON =====\n",
            "Dropout 0.25 after first conv:\n",
            "  Training accuracy: 0.9957\n",
            "  Validation accuracy: 0.9855\n",
            "Dropout 0.50 after first conv:\n",
            "  Training accuracy: 0.9921\n",
            "  Validation accuracy: 0.9877\n",
            "Dropout 0.25 before dense:\n",
            "  Training accuracy: 0.9953\n",
            "  Validation accuracy: 0.9897\n",
            "Dropout 0.50 before dense:\n",
            "  Training accuracy: 0.9908\n",
            "  Validation accuracy: 0.9899\n"
          ]
        }
      ]
    }
  ],
  "metadata": {
    "colab": {
      "provenance": [],
      "include_colab_link": true
    },
    "kernelspec": {
      "display_name": "Python 3",
      "name": "python3"
    },
    "language_info": {
      "codemirror_mode": {
        "name": "ipython",
        "version": 3
      },
      "file_extension": ".py",
      "mimetype": "text/x-python",
      "name": "python",
      "nbconvert_exporter": "python",
      "pygments_lexer": "ipython3",
      "version": "3.12.7"
    }
  },
  "nbformat": 4,
  "nbformat_minor": 0
}