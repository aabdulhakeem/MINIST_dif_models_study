{
  "nbformat": 4,
  "nbformat_minor": 0,
  "metadata": {
    "colab": {
      "provenance": [],
      "include_colab_link": true
    },
    "kernelspec": {
      "name": "python3",
      "display_name": "Python 3"
    },
    "language_info": {
      "name": "python"
    }
  },
  "cells": [
    {
      "cell_type": "markdown",
      "metadata": {
        "id": "view-in-github",
        "colab_type": "text"
      },
      "source": [
        "<a href=\"https://colab.research.google.com/github/aabdulhakeem/MINIST_dif_models_study/blob/main/MINIST_with_different_models.ipynb\" target=\"_parent\"><img src=\"https://colab.research.google.com/assets/colab-badge.svg\" alt=\"Open In Colab\"/></a>"
      ]
    },
    {
      "cell_type": "markdown",
      "source": [
        "##Importing the libraries"
      ],
      "metadata": {
        "id": "3pGtywK_tZP2"
      }
    },
    {
      "cell_type": "code",
      "source": [
        "import tensorflow as tf\n",
        "from tensorflow import keras\n",
        "import matplotlib.pyplot as plt\n",
        "import numpy as np\n",
        "import pandas as pd\n",
        "import sklearn\n",
        "from sklearn.model_selection import train_test_split\n",
        "import random\n",
        "import time\n",
        "from tensorflow.keras import layers, models\n",
        "from tensorflow.keras.models import Sequential\n",
        "from tensorflow.keras.layers import Dense, Flatten, Dropout\n",
        "from tensorflow.keras.utils import to_categorical\n",
        "from sklearn.svm import SVC\n",
        "from sklearn.metrics import accuracy_score"
      ],
      "metadata": {
        "id": "UuTNlk-ntYpH"
      },
      "execution_count": 30,
      "outputs": []
    },
    {
      "cell_type": "markdown",
      "source": [
        "##0. Importing MINIST with shuffled data"
      ],
      "metadata": {
        "id": "-rFkxP1htMbB"
      }
    },
    {
      "cell_type": "code",
      "execution_count": 31,
      "metadata": {
        "colab": {
          "base_uri": "https://localhost:8080/"
        },
        "id": "pDISSUpltG7l",
        "outputId": "cff79d87-a499-46e3-bc99-b51c7eedf693"
      },
      "outputs": [
        {
          "output_type": "execute_result",
          "data": {
            "text/plain": [
              "(70000, 784)"
            ]
          },
          "metadata": {},
          "execution_count": 31
        }
      ],
      "source": [
        "X, y = sklearn.datasets.fetch_openml('mnist_784', version=1, return_X_y=True, as_frame=False)\n",
        "X.shape"
      ]
    },
    {
      "cell_type": "code",
      "source": [
        "X = X.reshape(-1, 28, 28)"
      ],
      "metadata": {
        "id": "o4R527DsgcRV"
      },
      "execution_count": 32,
      "outputs": []
    },
    {
      "cell_type": "code",
      "source": [
        "X_images, y = sklearn.utils.shuffle(X, y, random_state=42)\n",
        "X = X_images.reshape(-1, 784)"
      ],
      "metadata": {
        "id": "wejKD4KzghJp"
      },
      "execution_count": 33,
      "outputs": []
    },
    {
      "cell_type": "code",
      "source": [
        "# choosing number of samples randomly\n",
        "i = random.randint(0, len(X))\n",
        "plt.imshow(X_images[i], cmap='gray')\n",
        "plt.title(f\"Label: {y[i]}\")\n",
        "plt.axis('off')\n",
        "plt.show()"
      ],
      "metadata": {
        "colab": {
          "base_uri": "https://localhost:8080/",
          "height": 428
        },
        "id": "xUDffcYmxufQ",
        "outputId": "306805d7-b867-4bf2-a6b4-03a6fa5971b1"
      },
      "execution_count": 34,
      "outputs": [
        {
          "output_type": "display_data",
          "data": {
            "text/plain": [
              "<Figure size 640x480 with 1 Axes>"
            ],
            "image/png": "[encoded data removed]"
          },
          "metadata": {}
        }
      ]
    },
    {
      "cell_type": "markdown",
      "source": [
        "## 1.  SIMPLE ANN MODEL AND SVM AND APPLY THEM TO THE DATA independently"
      ],
      "metadata": {
        "id": "x10LkARxBsHN"
      }
    },
    {
      "cell_type": "code",
      "source": [
        "X_ann = X / 255.0\n",
        "y_ann = to_categorical(y.astype(int), 10)\n",
        "\n",
        "X_train_ann, X_test_ann, y_train_ann, y_test_ann = train_test_split(X_ann, y_ann, test_size=0.2, random_state=50)\n",
        "\n",
        "for epochs in [5, 10, 15, 20]:\n",
        "    print(f\"\\nTraining model for {epochs} epochs...\")\n",
        "\n",
        "    ann_model = models.Sequential([\n",
        "        layers.Input(shape=(784,)),\n",
        "        layers.Dense(128, activation='relu'),\n",
        "        layers.Dropout(0.3),\n",
        "        layers.Dense(64, activation='relu'),\n",
        "        layers.Dense(10, activation='softmax')\n",
        "    ])\n",
        "\n",
        "    optimizer = tf.keras.optimizers.Adam(learning_rate=0.001)\n",
        "    ann_model.compile(optimizer=optimizer, loss='categorical_crossentropy', metrics=['accuracy'])\n",
        "    ann_model.summary()\n",
        "\n",
        "    start_train_time = time.time()\n",
        "    history = ann_model.fit(\n",
        "        X_train_ann, y_train_ann,\n",
        "        epochs=epochs,\n",
        "        batch_size=128,\n",
        "        validation_split=0.1,\n",
        "        verbose=1\n",
        "    )\n",
        "    end_train_time = time.time()\n",
        "\n",
        "    start_test_time = time.time()\n",
        "    ann_loss, ann_acc = ann_model.evaluate(X_test_ann, y_test_ann)\n",
        "    end_test_time = time.time()\n",
        "\n",
        "    print(\"\\nValidation Accuracy per Epoch:\")\n",
        "    for i in range(len(history.history['val_accuracy'])):\n",
        "        print(f\"Epoch {i+1}: {history.history['val_accuracy'][i]:.4f}\")\n",
        "\n",
        "    print(f\"\\nFinal ANN Test Accuracy: {ann_acc:.4f}\")\n",
        "\n",
        "    # Calculate average training time per epoch\n",
        "    avg_train_time = (end_train_time - start_train_time) / epochs\n",
        "    avg_test_time = (end_test_time - start_test_time)\n",
        "    print(f\"\\nAverage Training Time per Epoch: {avg_train_time:.4f} seconds\")\n",
        "    print(f\"Test Time: {avg_test_time:.4f} seconds\")"
      ],
      "metadata": {
        "id": "iWYxqdxLB48P",
        "outputId": "a6fa7436-70ae-4cf4-d39b-854c68243da5",
        "colab": {
          "base_uri": "https://localhost:8080/",
          "height": 1000
        },
        "collapsed": true
      },
      "execution_count": 35,
      "outputs": [
        {
          "output_type": "stream",
          "name": "stdout",
          "text": [
            "\n",
            "Training model for 5 epochs...\n"
          ]
        },
        {
          "output_type": "display_data",
          "data": {
            "text/plain": [
              "\u001b[1mModel: \"sequential_7\"\u001b[0m\n"
            ],
            "text/html": [
              "<pre style=\"white-space:pre;overflow-x:auto;line-height:normal;font-family:Menlo,'DejaVu Sans Mono',consolas,'Courier New',monospace\"><span style=\"font-weight: bold\">Model: \"sequential_7\"</span>\n",
              "</pre>\n"
            ]
          },
          "metadata": {}
        },
        {
          "output_type": "display_data",
          "data": {
            "text/plain": [
              "┏━━━━━━━━━━━━━━━━━━━━━━━━━━━━━━━━━┳━━━━━━━━━━━━━━━━━━━━━━━━┳━━━━━━━━━━━━━━━┓\n",
              "┃\u001b[1m \u001b[0m\u001b[1mLayer (type)                   \u001b[0m\u001b[1m \u001b[0m┃\u001b[1m \u001b[0m\u001b[1mOutput Shape          \u001b[0m\u001b[1m \u001b[0m┃\u001b[1m \u001b[0m\u001b[1m      Param #\u001b[0m\u001b[1m \u001b[0m┃\n",
              "┡━━━━━━━━━━━━━━━━━━━━━━━━━━━━━━━━━╇━━━━━━━━━━━━━━━━━━━━━━━━╇━━━━━━━━━━━━━━━┩\n",
              "│ dense_18 (\u001b[38;5;33mDense\u001b[0m)                │ (\u001b[38;5;45mNone\u001b[0m, \u001b[38;5;34m128\u001b[0m)            │       \u001b[38;5;34m100,480\u001b[0m │\n",
              "├─────────────────────────────────┼────────────────────────┼───────────────┤\n",
              "│ dropout_4 (\u001b[38;5;33mDropout\u001b[0m)             │ (\u001b[38;5;45mNone\u001b[0m, \u001b[38;5;34m128\u001b[0m)            │             \u001b[38;5;34m0\u001b[0m │\n",
              "├─────────────────────────────────┼────────────────────────┼───────────────┤\n",
              "│ dense_19 (\u001b[38;5;33mDense\u001b[0m)                │ (\u001b[38;5;45mNone\u001b[0m, \u001b[38;5;34m64\u001b[0m)             │         \u001b[38;5;34m8,256\u001b[0m │\n",
              "├─────────────────────────────────┼────────────────────────┼───────────────┤\n",
              "│ dense_20 (\u001b[38;5;33mDense\u001b[0m)                │ (\u001b[38;5;45mNone\u001b[0m, \u001b[38;5;34m10\u001b[0m)             │           \u001b[38;5;34m650\u001b[0m │\n",
              "└─────────────────────────────────┴────────────────────────┴───────────────┘\n"
            ],
            "text/html": [
              "<pre style=\"white-space:pre;overflow-x:auto;line-height:normal;font-family:Menlo,'DejaVu Sans Mono',consolas,'Courier New',monospace\">┏━━━━━━━━━━━━━━━━━━━━━━━━━━━━━━━━━┳━━━━━━━━━━━━━━━━━━━━━━━━┳━━━━━━━━━━━━━━━┓\n",
              "┃<span style=\"font-weight: bold\"> Layer (type)                    </span>┃<span style=\"font-weight: bold\"> Output Shape           </span>┃<span style=\"font-weight: bold\">       Param # </span>┃\n",
              "┡━━━━━━━━━━━━━━━━━━━━━━━━━━━━━━━━━╇━━━━━━━━━━━━━━━━━━━━━━━━╇━━━━━━━━━━━━━━━┩\n",
              "│ dense_18 (<span style=\"color: #0087ff; text-decoration-color: #0087ff\">Dense</span>)                │ (<span style=\"color: #00d7ff; text-decoration-color: #00d7ff\">None</span>, <span style=\"color: #00af00; text-decoration-color: #00af00\">128</span>)            │       <span style=\"color: #00af00; text-decoration-color: #00af00\">100,480</span> │\n",
              "├─────────────────────────────────┼────────────────────────┼───────────────┤\n",
              "│ dropout_4 (<span style=\"color: #0087ff; text-decoration-color: #0087ff\">Dropout</span>)             │ (<span style=\"color: #00d7ff; text-decoration-color: #00d7ff\">None</span>, <span style=\"color: #00af00; text-decoration-color: #00af00\">128</span>)            │             <span style=\"color: #00af00; text-decoration-color: #00af00\">0</span> │\n",
              "├─────────────────────────────────┼────────────────────────┼───────────────┤\n",
              "│ dense_19 (<span style=\"color: #0087ff; text-decoration-color: #0087ff\">Dense</span>)                │ (<span style=\"color: #00d7ff; text-decoration-color: #00d7ff\">None</span>, <span style=\"color: #00af00; text-decoration-color: #00af00\">64</span>)             │         <span style=\"color: #00af00; text-decoration-color: #00af00\">8,256</span> │\n",
              "├─────────────────────────────────┼────────────────────────┼───────────────┤\n",
              "│ dense_20 (<span style=\"color: #0087ff; text-decoration-color: #0087ff\">Dense</span>)                │ (<span style=\"color: #00d7ff; text-decoration-color: #00d7ff\">None</span>, <span style=\"color: #00af00; text-decoration-color: #00af00\">10</span>)             │           <span style=\"color: #00af00; text-decoration-color: #00af00\">650</span> │\n",
              "└─────────────────────────────────┴────────────────────────┴───────────────┘\n",
              "</pre>\n"
            ]
          },
          "metadata": {}
        },
        {
          "output_type": "display_data",
          "data": {
            "text/plain": [
              "\u001b[1m Total params: \u001b[0m\u001b[38;5;34m109,386\u001b[0m (427.29 KB)\n"
            ],
            "text/html": [
              "<pre style=\"white-space:pre;overflow-x:auto;line-height:normal;font-family:Menlo,'DejaVu Sans Mono',consolas,'Courier New',monospace\"><span style=\"font-weight: bold\"> Total params: </span><span style=\"color: #00af00; text-decoration-color: #00af00\">109,386</span> (427.29 KB)\n",
              "</pre>\n"
            ]
          },
          "metadata": {}
        },
        {
          "output_type": "display_data",
          "data": {
            "text/plain": [
              "\u001b[1m Trainable params: \u001b[0m\u001b[38;5;34m109,386\u001b[0m (427.29 KB)\n"
            ],
            "text/html": [
              "<pre style=\"white-space:pre;overflow-x:auto;line-height:normal;font-family:Menlo,'DejaVu Sans Mono',consolas,'Courier New',monospace\"><span style=\"font-weight: bold\"> Trainable params: </span><span style=\"color: #00af00; text-decoration-color: #00af00\">109,386</span> (427.29 KB)\n",
              "</pre>\n"
            ]
          },
          "metadata": {}
        },
        {
          "output_type": "display_data",
          "data": {
            "text/plain": [
              "\u001b[1m Non-trainable params: \u001b[0m\u001b[38;5;34m0\u001b[0m (0.00 B)\n"
            ],
            "text/html": [
              "<pre style=\"white-space:pre;overflow-x:auto;line-height:normal;font-family:Menlo,'DejaVu Sans Mono',consolas,'Courier New',monospace\"><span style=\"font-weight: bold\"> Non-trainable params: </span><span style=\"color: #00af00; text-decoration-color: #00af00\">0</span> (0.00 B)\n",
              "</pre>\n"
            ]
          },
          "metadata": {}
        },
        {
          "output_type": "stream",
          "name": "stdout",
          "text": [
            "Epoch 1/5\n",
            "\u001b[1m394/394\u001b[0m \u001b[32m━━━━━━━━━━━━━━━━━━━━\u001b[0m\u001b[37m\u001b[0m \u001b[1m4s\u001b[0m 6ms/step - accuracy: 0.7632 - loss: 0.7836 - val_accuracy: 0.9455 - val_loss: 0.1943\n",
            "Epoch 2/5\n",
            "\u001b[1m394/394\u001b[0m \u001b[32m━━━━━━━━━━━━━━━━━━━━\u001b[0m\u001b[37m\u001b[0m \u001b[1m3s\u001b[0m 8ms/step - accuracy: 0.9359 - loss: 0.2131 - val_accuracy: 0.9566 - val_loss: 0.1445\n",
            "Epoch 3/5\n",
            "\u001b[1m394/394\u001b[0m \u001b[32m━━━━━━━━━━━━━━━━━━━━\u001b[0m\u001b[37m\u001b[0m \u001b[1m4s\u001b[0m 6ms/step - accuracy: 0.9520 - loss: 0.1564 - val_accuracy: 0.9675 - val_loss: 0.1152\n",
            "Epoch 4/5\n",
            "\u001b[1m394/394\u001b[0m \u001b[32m━━━━━━━━━━━━━━━━━━━━\u001b[0m\u001b[37m\u001b[0m \u001b[1m2s\u001b[0m 5ms/step - accuracy: 0.9609 - loss: 0.1301 - val_accuracy: 0.9704 - val_loss: 0.1084\n",
            "Epoch 5/5\n",
            "\u001b[1m394/394\u001b[0m \u001b[32m━━━━━━━━━━━━━━━━━━━━\u001b[0m\u001b[37m\u001b[0m \u001b[1m3s\u001b[0m 6ms/step - accuracy: 0.9649 - loss: 0.1111 - val_accuracy: 0.9729 - val_loss: 0.0959\n",
            "\u001b[1m438/438\u001b[0m \u001b[32m━━━━━━━━━━━━━━━━━━━━\u001b[0m\u001b[37m\u001b[0m \u001b[1m1s\u001b[0m 3ms/step - accuracy: 0.9704 - loss: 0.0964\n",
            "\n",
            "Validation Accuracy per Epoch:\n",
            "Epoch 1: 0.9455\n",
            "Epoch 2: 0.9566\n",
            "Epoch 3: 0.9675\n",
            "Epoch 4: 0.9704\n",
            "Epoch 5: 0.9729\n",
            "\n",
            "Final ANN Test Accuracy: 0.9696\n",
            "\n",
            "Average Training Time per Epoch: 3.5730 seconds\n",
            "Test Time: 1.6001 seconds\n",
            "\n",
            "Training model for 10 epochs...\n"
          ]
        },
        {
          "output_type": "display_data",
          "data": {
            "text/plain": [
              "\u001b[1mModel: \"sequential_8\"\u001b[0m\n"
            ],
            "text/html": [
              "<pre style=\"white-space:pre;overflow-x:auto;line-height:normal;font-family:Menlo,'DejaVu Sans Mono',consolas,'Courier New',monospace\"><span style=\"font-weight: bold\">Model: \"sequential_8\"</span>\n",
              "</pre>\n"
            ]
          },
          "metadata": {}
        },
        {
          "output_type": "display_data",
          "data": {
            "text/plain": [
              "┏━━━━━━━━━━━━━━━━━━━━━━━━━━━━━━━━━┳━━━━━━━━━━━━━━━━━━━━━━━━┳━━━━━━━━━━━━━━━┓\n",
              "┃\u001b[1m \u001b[0m\u001b[1mLayer (type)                   \u001b[0m\u001b[1m \u001b[0m┃\u001b[1m \u001b[0m\u001b[1mOutput Shape          \u001b[0m\u001b[1m \u001b[0m┃\u001b[1m \u001b[0m\u001b[1m      Param #\u001b[0m\u001b[1m \u001b[0m┃\n",
              "┡━━━━━━━━━━━━━━━━━━━━━━━━━━━━━━━━━╇━━━━━━━━━━━━━━━━━━━━━━━━╇━━━━━━━━━━━━━━━┩\n",
              "│ dense_21 (\u001b[38;5;33mDense\u001b[0m)                │ (\u001b[38;5;45mNone\u001b[0m, \u001b[38;5;34m128\u001b[0m)            │       \u001b[38;5;34m100,480\u001b[0m │\n",
              "├─────────────────────────────────┼────────────────────────┼───────────────┤\n",
              "│ dropout_5 (\u001b[38;5;33mDropout\u001b[0m)             │ (\u001b[38;5;45mNone\u001b[0m, \u001b[38;5;34m128\u001b[0m)            │             \u001b[38;5;34m0\u001b[0m │\n",
              "├─────────────────────────────────┼────────────────────────┼───────────────┤\n",
              "│ dense_22 (\u001b[38;5;33mDense\u001b[0m)                │ (\u001b[38;5;45mNone\u001b[0m, \u001b[38;5;34m64\u001b[0m)             │         \u001b[38;5;34m8,256\u001b[0m │\n",
              "├─────────────────────────────────┼────────────────────────┼───────────────┤\n",
              "│ dense_23 (\u001b[38;5;33mDense\u001b[0m)                │ (\u001b[38;5;45mNone\u001b[0m, \u001b[38;5;34m10\u001b[0m)             │           \u001b[38;5;34m650\u001b[0m │\n",
              "└─────────────────────────────────┴────────────────────────┴───────────────┘\n"
            ],
            "text/html": [
              "<pre style=\"white-space:pre;overflow-x:auto;line-height:normal;font-family:Menlo,'DejaVu Sans Mono',consolas,'Courier New',monospace\">┏━━━━━━━━━━━━━━━━━━━━━━━━━━━━━━━━━┳━━━━━━━━━━━━━━━━━━━━━━━━┳━━━━━━━━━━━━━━━┓\n",
              "┃<span style=\"font-weight: bold\"> Layer (type)                    </span>┃<span style=\"font-weight: bold\"> Output Shape           </span>┃<span style=\"font-weight: bold\">       Param # </span>┃\n",
              "┡━━━━━━━━━━━━━━━━━━━━━━━━━━━━━━━━━╇━━━━━━━━━━━━━━━━━━━━━━━━╇━━━━━━━━━━━━━━━┩\n",
              "│ dense_21 (<span style=\"color: #0087ff; text-decoration-color: #0087ff\">Dense</span>)                │ (<span style=\"color: #00d7ff; text-decoration-color: #00d7ff\">None</span>, <span style=\"color: #00af00; text-decoration-color: #00af00\">128</span>)            │       <span style=\"color: #00af00; text-decoration-color: #00af00\">100,480</span> │\n",
              "├─────────────────────────────────┼────────────────────────┼───────────────┤\n",
              "│ dropout_5 (<span style=\"color: #0087ff; text-decoration-color: #0087ff\">Dropout</span>)             │ (<span style=\"color: #00d7ff; text-decoration-color: #00d7ff\">None</span>, <span style=\"color: #00af00; text-decoration-color: #00af00\">128</span>)            │             <span style=\"color: #00af00; text-decoration-color: #00af00\">0</span> │\n",
              "├─────────────────────────────────┼────────────────────────┼───────────────┤\n",
              "│ dense_22 (<span style=\"color: #0087ff; text-decoration-color: #0087ff\">Dense</span>)                │ (<span style=\"color: #00d7ff; text-decoration-color: #00d7ff\">None</span>, <span style=\"color: #00af00; text-decoration-color: #00af00\">64</span>)             │         <span style=\"color: #00af00; text-decoration-color: #00af00\">8,256</span> │\n",
              "├─────────────────────────────────┼────────────────────────┼───────────────┤\n",
              "│ dense_23 (<span style=\"color: #0087ff; text-decoration-color: #0087ff\">Dense</span>)                │ (<span style=\"color: #00d7ff; text-decoration-color: #00d7ff\">None</span>, <span style=\"color: #00af00; text-decoration-color: #00af00\">10</span>)             │           <span style=\"color: #00af00; text-decoration-color: #00af00\">650</span> │\n",
              "└─────────────────────────────────┴────────────────────────┴───────────────┘\n",
              "</pre>\n"
            ]
          },
          "metadata": {}
        },
        {
          "output_type": "display_data",
          "data": {
            "text/plain": [
              "\u001b[1m Total params: \u001b[0m\u001b[38;5;34m109,386\u001b[0m (427.29 KB)\n"
            ],
            "text/html": [
              "<pre style=\"white-space:pre;overflow-x:auto;line-height:normal;font-family:Menlo,'DejaVu Sans Mono',consolas,'Courier New',monospace\"><span style=\"font-weight: bold\"> Total params: </span><span style=\"color: #00af00; text-decoration-color: #00af00\">109,386</span> (427.29 KB)\n",
              "</pre>\n"
            ]
          },
          "metadata": {}
        },
        {
          "output_type": "display_data",
          "data": {
            "text/plain": [
              "\u001b[1m Trainable params: \u001b[0m\u001b[38;5;34m109,386\u001b[0m (427.29 KB)\n"
            ],
            "text/html": [
              "<pre style=\"white-space:pre;overflow-x:auto;line-height:normal;font-family:Menlo,'DejaVu Sans Mono',consolas,'Courier New',monospace\"><span style=\"font-weight: bold\"> Trainable params: </span><span style=\"color: #00af00; text-decoration-color: #00af00\">109,386</span> (427.29 KB)\n",
              "</pre>\n"
            ]
          },
          "metadata": {}
        },
        {
          "output_type": "display_data",
          "data": {
            "text/plain": [
              "\u001b[1m Non-trainable params: \u001b[0m\u001b[38;5;34m0\u001b[0m (0.00 B)\n"
            ],
            "text/html": [
              "<pre style=\"white-space:pre;overflow-x:auto;line-height:normal;font-family:Menlo,'DejaVu Sans Mono',consolas,'Courier New',monospace\"><span style=\"font-weight: bold\"> Non-trainable params: </span><span style=\"color: #00af00; text-decoration-color: #00af00\">0</span> (0.00 B)\n",
              "</pre>\n"
            ]
          },
          "metadata": {}
        },
        {
          "output_type": "stream",
          "name": "stdout",
          "text": [
            "Epoch 1/10\n",
            "\u001b[1m394/394\u001b[0m \u001b[32m━━━━━━━━━━━━━━━━━━━━\u001b[0m\u001b[37m\u001b[0m \u001b[1m5s\u001b[0m 10ms/step - accuracy: 0.7633 - loss: 0.7684 - val_accuracy: 0.9452 - val_loss: 0.1922\n",
            "Epoch 2/10\n",
            "\u001b[1m394/394\u001b[0m \u001b[32m━━━━━━━━━━━━━━━━━━━━\u001b[0m\u001b[37m\u001b[0m \u001b[1m4s\u001b[0m 7ms/step - accuracy: 0.9375 - loss: 0.2081 - val_accuracy: 0.9621 - val_loss: 0.1371\n",
            "Epoch 3/10\n",
            "\u001b[1m394/394\u001b[0m \u001b[32m━━━━━━━━━━━━━━━━━━━━\u001b[0m\u001b[37m\u001b[0m \u001b[1m5s\u001b[0m 14ms/step - accuracy: 0.9531 - loss: 0.1559 - val_accuracy: 0.9652 - val_loss: 0.1171\n",
            "Epoch 4/10\n",
            "\u001b[1m394/394\u001b[0m \u001b[32m━━━━━━━━━━━━━━━━━━━━\u001b[0m\u001b[37m\u001b[0m \u001b[1m7s\u001b[0m 5ms/step - accuracy: 0.9617 - loss: 0.1226 - val_accuracy: 0.9720 - val_loss: 0.0967\n",
            "Epoch 5/10\n",
            "\u001b[1m394/394\u001b[0m \u001b[32m━━━━━━━━━━━━━━━━━━━━\u001b[0m\u001b[37m\u001b[0m \u001b[1m2s\u001b[0m 5ms/step - accuracy: 0.9661 - loss: 0.1087 - val_accuracy: 0.9732 - val_loss: 0.0934\n",
            "Epoch 6/10\n",
            "\u001b[1m394/394\u001b[0m \u001b[32m━━━━━━━━━━━━━━━━━━━━\u001b[0m\u001b[37m\u001b[0m \u001b[1m3s\u001b[0m 8ms/step - accuracy: 0.9712 - loss: 0.0933 - val_accuracy: 0.9752 - val_loss: 0.0909\n",
            "Epoch 7/10\n",
            "\u001b[1m394/394\u001b[0m \u001b[32m━━━━━━━━━━━━━━━━━━━━\u001b[0m\u001b[37m\u001b[0m \u001b[1m3s\u001b[0m 7ms/step - accuracy: 0.9747 - loss: 0.0812 - val_accuracy: 0.9746 - val_loss: 0.0873\n",
            "Epoch 8/10\n",
            "\u001b[1m394/394\u001b[0m \u001b[32m━━━━━━━━━━━━━━━━━━━━\u001b[0m\u001b[37m\u001b[0m \u001b[1m2s\u001b[0m 5ms/step - accuracy: 0.9760 - loss: 0.0748 - val_accuracy: 0.9759 - val_loss: 0.0848\n",
            "Epoch 9/10\n",
            "\u001b[1m394/394\u001b[0m \u001b[32m━━━━━━━━━━━━━━━━━━━━\u001b[0m\u001b[37m\u001b[0m \u001b[1m3s\u001b[0m 5ms/step - accuracy: 0.9784 - loss: 0.0681 - val_accuracy: 0.9764 - val_loss: 0.0821\n",
            "Epoch 10/10\n",
            "\u001b[1m394/394\u001b[0m \u001b[32m━━━━━━━━━━━━━━━━━━━━\u001b[0m\u001b[37m\u001b[0m \u001b[1m3s\u001b[0m 7ms/step - accuracy: 0.9784 - loss: 0.0661 - val_accuracy: 0.9761 - val_loss: 0.0915\n",
            "\u001b[1m438/438\u001b[0m \u001b[32m━━━━━━━━━━━━━━━━━━━━\u001b[0m\u001b[37m\u001b[0m \u001b[1m1s\u001b[0m 3ms/step - accuracy: 0.9739 - loss: 0.0880\n",
            "\n",
            "Validation Accuracy per Epoch:\n",
            "Epoch 1: 0.9452\n",
            "Epoch 2: 0.9621\n",
            "Epoch 3: 0.9652\n",
            "Epoch 4: 0.9720\n",
            "Epoch 5: 0.9732\n",
            "Epoch 6: 0.9752\n",
            "Epoch 7: 0.9746\n",
            "Epoch 8: 0.9759\n",
            "Epoch 9: 0.9764\n",
            "Epoch 10: 0.9761\n",
            "\n",
            "Final ANN Test Accuracy: 0.9738\n",
            "\n",
            "Average Training Time per Epoch: 3.8738 seconds\n",
            "Test Time: 1.5959 seconds\n",
            "\n",
            "Training model for 15 epochs...\n"
          ]
        },
        {
          "output_type": "display_data",
          "data": {
            "text/plain": [
              "\u001b[1mModel: \"sequential_9\"\u001b[0m\n"
            ],
            "text/html": [
              "<pre style=\"white-space:pre;overflow-x:auto;line-height:normal;font-family:Menlo,'DejaVu Sans Mono',consolas,'Courier New',monospace\"><span style=\"font-weight: bold\">Model: \"sequential_9\"</span>\n",
              "</pre>\n"
            ]
          },
          "metadata": {}
        },
        {
          "output_type": "display_data",
          "data": {
            "text/plain": [
              "┏━━━━━━━━━━━━━━━━━━━━━━━━━━━━━━━━━┳━━━━━━━━━━━━━━━━━━━━━━━━┳━━━━━━━━━━━━━━━┓\n",
              "┃\u001b[1m \u001b[0m\u001b[1mLayer (type)                   \u001b[0m\u001b[1m \u001b[0m┃\u001b[1m \u001b[0m\u001b[1mOutput Shape          \u001b[0m\u001b[1m \u001b[0m┃\u001b[1m \u001b[0m\u001b[1m      Param #\u001b[0m\u001b[1m \u001b[0m┃\n",
              "┡━━━━━━━━━━━━━━━━━━━━━━━━━━━━━━━━━╇━━━━━━━━━━━━━━━━━━━━━━━━╇━━━━━━━━━━━━━━━┩\n",
              "│ dense_24 (\u001b[38;5;33mDense\u001b[0m)                │ (\u001b[38;5;45mNone\u001b[0m, \u001b[38;5;34m128\u001b[0m)            │       \u001b[38;5;34m100,480\u001b[0m │\n",
              "├─────────────────────────────────┼────────────────────────┼───────────────┤\n",
              "│ dropout_6 (\u001b[38;5;33mDropout\u001b[0m)             │ (\u001b[38;5;45mNone\u001b[0m, \u001b[38;5;34m128\u001b[0m)            │             \u001b[38;5;34m0\u001b[0m │\n",
              "├─────────────────────────────────┼────────────────────────┼───────────────┤\n",
              "│ dense_25 (\u001b[38;5;33mDense\u001b[0m)                │ (\u001b[38;5;45mNone\u001b[0m, \u001b[38;5;34m64\u001b[0m)             │         \u001b[38;5;34m8,256\u001b[0m │\n",
              "├─────────────────────────────────┼────────────────────────┼───────────────┤\n",
              "│ dense_26 (\u001b[38;5;33mDense\u001b[0m)                │ (\u001b[38;5;45mNone\u001b[0m, \u001b[38;5;34m10\u001b[0m)             │           \u001b[38;5;34m650\u001b[0m │\n",
              "└─────────────────────────────────┴────────────────────────┴───────────────┘\n"
            ],
            "text/html": [
              "<pre style=\"white-space:pre;overflow-x:auto;line-height:normal;font-family:Menlo,'DejaVu Sans Mono',consolas,'Courier New',monospace\">┏━━━━━━━━━━━━━━━━━━━━━━━━━━━━━━━━━┳━━━━━━━━━━━━━━━━━━━━━━━━┳━━━━━━━━━━━━━━━┓\n",
              "┃<span style=\"font-weight: bold\"> Layer (type)                    </span>┃<span style=\"font-weight: bold\"> Output Shape           </span>┃<span style=\"font-weight: bold\">       Param # </span>┃\n",
              "┡━━━━━━━━━━━━━━━━━━━━━━━━━━━━━━━━━╇━━━━━━━━━━━━━━━━━━━━━━━━╇━━━━━━━━━━━━━━━┩\n",
              "│ dense_24 (<span style=\"color: #0087ff; text-decoration-color: #0087ff\">Dense</span>)                │ (<span style=\"color: #00d7ff; text-decoration-color: #00d7ff\">None</span>, <span style=\"color: #00af00; text-decoration-color: #00af00\">128</span>)            │       <span style=\"color: #00af00; text-decoration-color: #00af00\">100,480</span> │\n",
              "├─────────────────────────────────┼────────────────────────┼───────────────┤\n",
              "│ dropout_6 (<span style=\"color: #0087ff; text-decoration-color: #0087ff\">Dropout</span>)             │ (<span style=\"color: #00d7ff; text-decoration-color: #00d7ff\">None</span>, <span style=\"color: #00af00; text-decoration-color: #00af00\">128</span>)            │             <span style=\"color: #00af00; text-decoration-color: #00af00\">0</span> │\n",
              "├─────────────────────────────────┼────────────────────────┼───────────────┤\n",
              "│ dense_25 (<span style=\"color: #0087ff; text-decoration-color: #0087ff\">Dense</span>)                │ (<span style=\"color: #00d7ff; text-decoration-color: #00d7ff\">None</span>, <span style=\"color: #00af00; text-decoration-color: #00af00\">64</span>)             │         <span style=\"color: #00af00; text-decoration-color: #00af00\">8,256</span> │\n",
              "├─────────────────────────────────┼────────────────────────┼───────────────┤\n",
              "│ dense_26 (<span style=\"color: #0087ff; text-decoration-color: #0087ff\">Dense</span>)                │ (<span style=\"color: #00d7ff; text-decoration-color: #00d7ff\">None</span>, <span style=\"color: #00af00; text-decoration-color: #00af00\">10</span>)             │           <span style=\"color: #00af00; text-decoration-color: #00af00\">650</span> │\n",
              "└─────────────────────────────────┴────────────────────────┴───────────────┘\n",
              "</pre>\n"
            ]
          },
          "metadata": {}
        },
        {
          "output_type": "display_data",
          "data": {
            "text/plain": [
              "\u001b[1m Total params: \u001b[0m\u001b[38;5;34m109,386\u001b[0m (427.29 KB)\n"
            ],
            "text/html": [
              "<pre style=\"white-space:pre;overflow-x:auto;line-height:normal;font-family:Menlo,'DejaVu Sans Mono',consolas,'Courier New',monospace\"><span style=\"font-weight: bold\"> Total params: </span><span style=\"color: #00af00; text-decoration-color: #00af00\">109,386</span> (427.29 KB)\n",
              "</pre>\n"
            ]
          },
          "metadata": {}
        },
        {
          "output_type": "display_data",
          "data": {
            "text/plain": [
              "\u001b[1m Trainable params: \u001b[0m\u001b[38;5;34m109,386\u001b[0m (427.29 KB)\n"
            ],
            "text/html": [
              "<pre style=\"white-space:pre;overflow-x:auto;line-height:normal;font-family:Menlo,'DejaVu Sans Mono',consolas,'Courier New',monospace\"><span style=\"font-weight: bold\"> Trainable params: </span><span style=\"color: #00af00; text-decoration-color: #00af00\">109,386</span> (427.29 KB)\n",
              "</pre>\n"
            ]
          },
          "metadata": {}
        },
        {
          "output_type": "display_data",
          "data": {
            "text/plain": [
              "\u001b[1m Non-trainable params: \u001b[0m\u001b[38;5;34m0\u001b[0m (0.00 B)\n"
            ],
            "text/html": [
              "<pre style=\"white-space:pre;overflow-x:auto;line-height:normal;font-family:Menlo,'DejaVu Sans Mono',consolas,'Courier New',monospace\"><span style=\"font-weight: bold\"> Non-trainable params: </span><span style=\"color: #00af00; text-decoration-color: #00af00\">0</span> (0.00 B)\n",
              "</pre>\n"
            ]
          },
          "metadata": {}
        },
        {
          "output_type": "stream",
          "name": "stdout",
          "text": [
            "Epoch 1/15\n",
            "\u001b[1m394/394\u001b[0m \u001b[32m━━━━━━━━━━━━━━━━━━━━\u001b[0m\u001b[37m\u001b[0m \u001b[1m4s\u001b[0m 6ms/step - accuracy: 0.7660 - loss: 0.7667 - val_accuracy: 0.9470 - val_loss: 0.1910\n",
            "Epoch 2/15\n",
            "\u001b[1m394/394\u001b[0m \u001b[32m━━━━━━━━━━━━━━━━━━━━\u001b[0m\u001b[37m\u001b[0m \u001b[1m2s\u001b[0m 6ms/step - accuracy: 0.9384 - loss: 0.2083 - val_accuracy: 0.9582 - val_loss: 0.1387\n",
            "Epoch 3/15\n",
            "\u001b[1m394/394\u001b[0m \u001b[32m━━━━━━━━━━━━━━━━━━━━\u001b[0m\u001b[37m\u001b[0m \u001b[1m3s\u001b[0m 6ms/step - accuracy: 0.9540 - loss: 0.1495 - val_accuracy: 0.9639 - val_loss: 0.1186\n",
            "Epoch 4/15\n",
            "\u001b[1m394/394\u001b[0m \u001b[32m━━━━━━━━━━━━━━━━━━━━\u001b[0m\u001b[37m\u001b[0m \u001b[1m3s\u001b[0m 8ms/step - accuracy: 0.9617 - loss: 0.1259 - val_accuracy: 0.9709 - val_loss: 0.1023\n",
            "Epoch 5/15\n",
            "\u001b[1m394/394\u001b[0m \u001b[32m━━━━━━━━━━━━━━━━━━━━\u001b[0m\u001b[37m\u001b[0m \u001b[1m2s\u001b[0m 6ms/step - accuracy: 0.9649 - loss: 0.1142 - val_accuracy: 0.9714 - val_loss: 0.1007\n",
            "Epoch 6/15\n",
            "\u001b[1m394/394\u001b[0m \u001b[32m━━━━━━━━━━━━━━━━━━━━\u001b[0m\u001b[37m\u001b[0m \u001b[1m2s\u001b[0m 5ms/step - accuracy: 0.9698 - loss: 0.0976 - val_accuracy: 0.9736 - val_loss: 0.0950\n",
            "Epoch 7/15\n",
            "\u001b[1m394/394\u001b[0m \u001b[32m━━━━━━━━━━━━━━━━━━━━\u001b[0m\u001b[37m\u001b[0m \u001b[1m3s\u001b[0m 6ms/step - accuracy: 0.9747 - loss: 0.0820 - val_accuracy: 0.9757 - val_loss: 0.0887\n",
            "Epoch 8/15\n",
            "\u001b[1m394/394\u001b[0m \u001b[32m━━━━━━━━━━━━━━━━━━━━\u001b[0m\u001b[37m\u001b[0m \u001b[1m3s\u001b[0m 6ms/step - accuracy: 0.9750 - loss: 0.0778 - val_accuracy: 0.9761 - val_loss: 0.0901\n",
            "Epoch 9/15\n",
            "\u001b[1m394/394\u001b[0m \u001b[32m━━━━━━━━━━━━━━━━━━━━\u001b[0m\u001b[37m\u001b[0m \u001b[1m3s\u001b[0m 9ms/step - accuracy: 0.9765 - loss: 0.0713 - val_accuracy: 0.9784 - val_loss: 0.0830\n",
            "Epoch 10/15\n",
            "\u001b[1m394/394\u001b[0m \u001b[32m━━━━━━━━━━━━━━━━━━━━\u001b[0m\u001b[37m\u001b[0m \u001b[1m2s\u001b[0m 5ms/step - accuracy: 0.9790 - loss: 0.0651 - val_accuracy: 0.9793 - val_loss: 0.0818\n",
            "Epoch 11/15\n",
            "\u001b[1m394/394\u001b[0m \u001b[32m━━━━━━━━━━━━━━━━━━━━\u001b[0m\u001b[37m\u001b[0m \u001b[1m3s\u001b[0m 6ms/step - accuracy: 0.9808 - loss: 0.0599 - val_accuracy: 0.9777 - val_loss: 0.0885\n",
            "Epoch 12/15\n",
            "\u001b[1m394/394\u001b[0m \u001b[32m━━━━━━━━━━━━━━━━━━━━\u001b[0m\u001b[37m\u001b[0m \u001b[1m3s\u001b[0m 5ms/step - accuracy: 0.9810 - loss: 0.0546 - val_accuracy: 0.9787 - val_loss: 0.0804\n",
            "Epoch 13/15\n",
            "\u001b[1m394/394\u001b[0m \u001b[32m━━━━━━━━━━━━━━━━━━━━\u001b[0m\u001b[37m\u001b[0m \u001b[1m3s\u001b[0m 6ms/step - accuracy: 0.9815 - loss: 0.0538 - val_accuracy: 0.9784 - val_loss: 0.0808\n",
            "Epoch 14/15\n",
            "\u001b[1m394/394\u001b[0m \u001b[32m━━━━━━━━━━━━━━━━━━━━\u001b[0m\u001b[37m\u001b[0m \u001b[1m3s\u001b[0m 8ms/step - accuracy: 0.9836 - loss: 0.0496 - val_accuracy: 0.9771 - val_loss: 0.0890\n",
            "Epoch 15/15\n",
            "\u001b[1m394/394\u001b[0m \u001b[32m━━━━━━━━━━━━━━━━━━━━\u001b[0m\u001b[37m\u001b[0m \u001b[1m4s\u001b[0m 6ms/step - accuracy: 0.9850 - loss: 0.0468 - val_accuracy: 0.9770 - val_loss: 0.0874\n",
            "\u001b[1m438/438\u001b[0m \u001b[32m━━━━━━━━━━━━━━━━━━━━\u001b[0m\u001b[37m\u001b[0m \u001b[1m1s\u001b[0m 2ms/step - accuracy: 0.9762 - loss: 0.0812\n",
            "\n",
            "Validation Accuracy per Epoch:\n",
            "Epoch 1: 0.9470\n",
            "Epoch 2: 0.9582\n",
            "Epoch 3: 0.9639\n",
            "Epoch 4: 0.9709\n",
            "Epoch 5: 0.9714\n",
            "Epoch 6: 0.9736\n",
            "Epoch 7: 0.9757\n",
            "Epoch 8: 0.9761\n",
            "Epoch 9: 0.9784\n",
            "Epoch 10: 0.9793\n",
            "Epoch 11: 0.9777\n",
            "Epoch 12: 0.9787\n",
            "Epoch 13: 0.9784\n",
            "Epoch 14: 0.9771\n",
            "Epoch 15: 0.9770\n",
            "\n",
            "Final ANN Test Accuracy: 0.9766\n",
            "\n",
            "Average Training Time per Epoch: 2.8785 seconds\n",
            "Test Time: 1.4026 seconds\n",
            "\n",
            "Training model for 20 epochs...\n"
          ]
        },
        {
          "output_type": "display_data",
          "data": {
            "text/plain": [
              "\u001b[1mModel: \"sequential_10\"\u001b[0m\n"
            ],
            "text/html": [
              "<pre style=\"white-space:pre;overflow-x:auto;line-height:normal;font-family:Menlo,'DejaVu Sans Mono',consolas,'Courier New',monospace\"><span style=\"font-weight: bold\">Model: \"sequential_10\"</span>\n",
              "</pre>\n"
            ]
          },
          "metadata": {}
        },
        {
          "output_type": "display_data",
          "data": {
            "text/plain": [
              "┏━━━━━━━━━━━━━━━━━━━━━━━━━━━━━━━━━┳━━━━━━━━━━━━━━━━━━━━━━━━┳━━━━━━━━━━━━━━━┓\n",
              "┃\u001b[1m \u001b[0m\u001b[1mLayer (type)                   \u001b[0m\u001b[1m \u001b[0m┃\u001b[1m \u001b[0m\u001b[1mOutput Shape          \u001b[0m\u001b[1m \u001b[0m┃\u001b[1m \u001b[0m\u001b[1m      Param #\u001b[0m\u001b[1m \u001b[0m┃\n",
              "┡━━━━━━━━━━━━━━━━━━━━━━━━━━━━━━━━━╇━━━━━━━━━━━━━━━━━━━━━━━━╇━━━━━━━━━━━━━━━┩\n",
              "│ dense_27 (\u001b[38;5;33mDense\u001b[0m)                │ (\u001b[38;5;45mNone\u001b[0m, \u001b[38;5;34m128\u001b[0m)            │       \u001b[38;5;34m100,480\u001b[0m │\n",
              "├─────────────────────────────────┼────────────────────────┼───────────────┤\n",
              "│ dropout_7 (\u001b[38;5;33mDropout\u001b[0m)             │ (\u001b[38;5;45mNone\u001b[0m, \u001b[38;5;34m128\u001b[0m)            │             \u001b[38;5;34m0\u001b[0m │\n",
              "├─────────────────────────────────┼────────────────────────┼───────────────┤\n",
              "│ dense_28 (\u001b[38;5;33mDense\u001b[0m)                │ (\u001b[38;5;45mNone\u001b[0m, \u001b[38;5;34m64\u001b[0m)             │         \u001b[38;5;34m8,256\u001b[0m │\n",
              "├─────────────────────────────────┼────────────────────────┼───────────────┤\n",
              "│ dense_29 (\u001b[38;5;33mDense\u001b[0m)                │ (\u001b[38;5;45mNone\u001b[0m, \u001b[38;5;34m10\u001b[0m)             │           \u001b[38;5;34m650\u001b[0m │\n",
              "└─────────────────────────────────┴────────────────────────┴───────────────┘\n"
            ],
            "text/html": [
              "<pre style=\"white-space:pre;overflow-x:auto;line-height:normal;font-family:Menlo,'DejaVu Sans Mono',consolas,'Courier New',monospace\">┏━━━━━━━━━━━━━━━━━━━━━━━━━━━━━━━━━┳━━━━━━━━━━━━━━━━━━━━━━━━┳━━━━━━━━━━━━━━━┓\n",
              "┃<span style=\"font-weight: bold\"> Layer (type)                    </span>┃<span style=\"font-weight: bold\"> Output Shape           </span>┃<span style=\"font-weight: bold\">       Param # </span>┃\n",
              "┡━━━━━━━━━━━━━━━━━━━━━━━━━━━━━━━━━╇━━━━━━━━━━━━━━━━━━━━━━━━╇━━━━━━━━━━━━━━━┩\n",
              "│ dense_27 (<span style=\"color: #0087ff; text-decoration-color: #0087ff\">Dense</span>)                │ (<span style=\"color: #00d7ff; text-decoration-color: #00d7ff\">None</span>, <span style=\"color: #00af00; text-decoration-color: #00af00\">128</span>)            │       <span style=\"color: #00af00; text-decoration-color: #00af00\">100,480</span> │\n",
              "├─────────────────────────────────┼────────────────────────┼───────────────┤\n",
              "│ dropout_7 (<span style=\"color: #0087ff; text-decoration-color: #0087ff\">Dropout</span>)             │ (<span style=\"color: #00d7ff; text-decoration-color: #00d7ff\">None</span>, <span style=\"color: #00af00; text-decoration-color: #00af00\">128</span>)            │             <span style=\"color: #00af00; text-decoration-color: #00af00\">0</span> │\n",
              "├─────────────────────────────────┼────────────────────────┼───────────────┤\n",
              "│ dense_28 (<span style=\"color: #0087ff; text-decoration-color: #0087ff\">Dense</span>)                │ (<span style=\"color: #00d7ff; text-decoration-color: #00d7ff\">None</span>, <span style=\"color: #00af00; text-decoration-color: #00af00\">64</span>)             │         <span style=\"color: #00af00; text-decoration-color: #00af00\">8,256</span> │\n",
              "├─────────────────────────────────┼────────────────────────┼───────────────┤\n",
              "│ dense_29 (<span style=\"color: #0087ff; text-decoration-color: #0087ff\">Dense</span>)                │ (<span style=\"color: #00d7ff; text-decoration-color: #00d7ff\">None</span>, <span style=\"color: #00af00; text-decoration-color: #00af00\">10</span>)             │           <span style=\"color: #00af00; text-decoration-color: #00af00\">650</span> │\n",
              "└─────────────────────────────────┴────────────────────────┴───────────────┘\n",
              "</pre>\n"
            ]
          },
          "metadata": {}
        },
        {
          "output_type": "display_data",
          "data": {
            "text/plain": [
              "\u001b[1m Total params: \u001b[0m\u001b[38;5;34m109,386\u001b[0m (427.29 KB)\n"
            ],
            "text/html": [
              "<pre style=\"white-space:pre;overflow-x:auto;line-height:normal;font-family:Menlo,'DejaVu Sans Mono',consolas,'Courier New',monospace\"><span style=\"font-weight: bold\"> Total params: </span><span style=\"color: #00af00; text-decoration-color: #00af00\">109,386</span> (427.29 KB)\n",
              "</pre>\n"
            ]
          },
          "metadata": {}
        },
        {
          "output_type": "display_data",
          "data": {
            "text/plain": [
              "\u001b[1m Trainable params: \u001b[0m\u001b[38;5;34m109,386\u001b[0m (427.29 KB)\n"
            ],
            "text/html": [
              "<pre style=\"white-space:pre;overflow-x:auto;line-height:normal;font-family:Menlo,'DejaVu Sans Mono',consolas,'Courier New',monospace\"><span style=\"font-weight: bold\"> Trainable params: </span><span style=\"color: #00af00; text-decoration-color: #00af00\">109,386</span> (427.29 KB)\n",
              "</pre>\n"
            ]
          },
          "metadata": {}
        },
        {
          "output_type": "display_data",
          "data": {
            "text/plain": [
              "\u001b[1m Non-trainable params: \u001b[0m\u001b[38;5;34m0\u001b[0m (0.00 B)\n"
            ],
            "text/html": [
              "<pre style=\"white-space:pre;overflow-x:auto;line-height:normal;font-family:Menlo,'DejaVu Sans Mono',consolas,'Courier New',monospace\"><span style=\"font-weight: bold\"> Non-trainable params: </span><span style=\"color: #00af00; text-decoration-color: #00af00\">0</span> (0.00 B)\n",
              "</pre>\n"
            ]
          },
          "metadata": {}
        },
        {
          "output_type": "stream",
          "name": "stdout",
          "text": [
            "Epoch 1/20\n",
            "\u001b[1m394/394\u001b[0m \u001b[32m━━━━━━━━━━━━━━━━━━━━\u001b[0m\u001b[37m\u001b[0m \u001b[1m4s\u001b[0m 7ms/step - accuracy: 0.7486 - loss: 0.8080 - val_accuracy: 0.9477 - val_loss: 0.1900\n",
            "Epoch 2/20\n",
            "\u001b[1m394/394\u001b[0m \u001b[32m━━━━━━━━━━━━━━━━━━━━\u001b[0m\u001b[37m\u001b[0m \u001b[1m4s\u001b[0m 5ms/step - accuracy: 0.9357 - loss: 0.2136 - val_accuracy: 0.9614 - val_loss: 0.1374\n",
            "Epoch 3/20\n",
            "\u001b[1m394/394\u001b[0m \u001b[32m━━━━━━━━━━━━━━━━━━━━\u001b[0m\u001b[37m\u001b[0m \u001b[1m3s\u001b[0m 5ms/step - accuracy: 0.9558 - loss: 0.1529 - val_accuracy: 0.9677 - val_loss: 0.1160\n",
            "Epoch 4/20\n",
            "\u001b[1m394/394\u001b[0m \u001b[32m━━━━━━━━━━━━━━━━━━━━\u001b[0m\u001b[37m\u001b[0m \u001b[1m3s\u001b[0m 5ms/step - accuracy: 0.9615 - loss: 0.1287 - val_accuracy: 0.9732 - val_loss: 0.0987\n",
            "Epoch 5/20\n",
            "\u001b[1m394/394\u001b[0m \u001b[32m━━━━━━━━━━━━━━━━━━━━\u001b[0m\u001b[37m\u001b[0m \u001b[1m3s\u001b[0m 7ms/step - accuracy: 0.9663 - loss: 0.1082 - val_accuracy: 0.9707 - val_loss: 0.1034\n",
            "Epoch 6/20\n",
            "\u001b[1m394/394\u001b[0m \u001b[32m━━━━━━━━━━━━━━━━━━━━\u001b[0m\u001b[37m\u001b[0m \u001b[1m3s\u001b[0m 7ms/step - accuracy: 0.9705 - loss: 0.0942 - val_accuracy: 0.9757 - val_loss: 0.0888\n",
            "Epoch 7/20\n",
            "\u001b[1m394/394\u001b[0m \u001b[32m━━━━━━━━━━━━━━━━━━━━\u001b[0m\u001b[37m\u001b[0m \u001b[1m2s\u001b[0m 5ms/step - accuracy: 0.9757 - loss: 0.0808 - val_accuracy: 0.9754 - val_loss: 0.0874\n",
            "Epoch 8/20\n",
            "\u001b[1m394/394\u001b[0m \u001b[32m━━━━━━━━━━━━━━━━━━━━\u001b[0m\u001b[37m\u001b[0m \u001b[1m2s\u001b[0m 6ms/step - accuracy: 0.9754 - loss: 0.0784 - val_accuracy: 0.9754 - val_loss: 0.0833\n",
            "Epoch 9/20\n",
            "\u001b[1m394/394\u001b[0m \u001b[32m━━━━━━━━━━━━━━━━━━━━\u001b[0m\u001b[37m\u001b[0m \u001b[1m3s\u001b[0m 6ms/step - accuracy: 0.9776 - loss: 0.0731 - val_accuracy: 0.9752 - val_loss: 0.0934\n",
            "Epoch 10/20\n",
            "\u001b[1m394/394\u001b[0m \u001b[32m━━━━━━━━━━━━━━━━━━━━\u001b[0m\u001b[37m\u001b[0m \u001b[1m3s\u001b[0m 7ms/step - accuracy: 0.9779 - loss: 0.0683 - val_accuracy: 0.9773 - val_loss: 0.0854\n",
            "Epoch 11/20\n",
            "\u001b[1m394/394\u001b[0m \u001b[32m━━━━━━━━━━━━━━━━━━━━\u001b[0m\u001b[37m\u001b[0m \u001b[1m5s\u001b[0m 6ms/step - accuracy: 0.9794 - loss: 0.0616 - val_accuracy: 0.9784 - val_loss: 0.0841\n",
            "Epoch 12/20\n",
            "\u001b[1m394/394\u001b[0m \u001b[32m━━━━━━━━━━━━━━━━━━━━\u001b[0m\u001b[37m\u001b[0m \u001b[1m3s\u001b[0m 6ms/step - accuracy: 0.9793 - loss: 0.0603 - val_accuracy: 0.9752 - val_loss: 0.0910\n",
            "Epoch 13/20\n",
            "\u001b[1m394/394\u001b[0m \u001b[32m━━━━━━━━━━━━━━━━━━━━\u001b[0m\u001b[37m\u001b[0m \u001b[1m2s\u001b[0m 6ms/step - accuracy: 0.9819 - loss: 0.0544 - val_accuracy: 0.9764 - val_loss: 0.0844\n",
            "Epoch 14/20\n",
            "\u001b[1m394/394\u001b[0m \u001b[32m━━━━━━━━━━━━━━━━━━━━\u001b[0m\u001b[37m\u001b[0m \u001b[1m3s\u001b[0m 8ms/step - accuracy: 0.9838 - loss: 0.0495 - val_accuracy: 0.9771 - val_loss: 0.0832\n",
            "Epoch 15/20\n",
            "\u001b[1m394/394\u001b[0m \u001b[32m━━━━━━━━━━━━━━━━━━━━\u001b[0m\u001b[37m\u001b[0m \u001b[1m3s\u001b[0m 7ms/step - accuracy: 0.9832 - loss: 0.0506 - val_accuracy: 0.9775 - val_loss: 0.0867\n",
            "Epoch 16/20\n",
            "\u001b[1m394/394\u001b[0m \u001b[32m━━━━━━━━━━━━━━━━━━━━\u001b[0m\u001b[37m\u001b[0m \u001b[1m5s\u001b[0m 6ms/step - accuracy: 0.9849 - loss: 0.0468 - val_accuracy: 0.9777 - val_loss: 0.0866\n",
            "Epoch 17/20\n",
            "\u001b[1m394/394\u001b[0m \u001b[32m━━━━━━━━━━━━━━━━━━━━\u001b[0m\u001b[37m\u001b[0m \u001b[1m2s\u001b[0m 6ms/step - accuracy: 0.9853 - loss: 0.0432 - val_accuracy: 0.9787 - val_loss: 0.0851\n",
            "Epoch 18/20\n",
            "\u001b[1m394/394\u001b[0m \u001b[32m━━━━━━━━━━━━━━━━━━━━\u001b[0m\u001b[37m\u001b[0m \u001b[1m3s\u001b[0m 9ms/step - accuracy: 0.9846 - loss: 0.0438 - val_accuracy: 0.9782 - val_loss: 0.0875\n",
            "Epoch 19/20\n",
            "\u001b[1m394/394\u001b[0m \u001b[32m━━━━━━━━━━━━━━━━━━━━\u001b[0m\u001b[37m\u001b[0m \u001b[1m2s\u001b[0m 6ms/step - accuracy: 0.9860 - loss: 0.0403 - val_accuracy: 0.9784 - val_loss: 0.0923\n",
            "Epoch 20/20\n",
            "\u001b[1m394/394\u001b[0m \u001b[32m━━━━━━━━━━━━━━━━━━━━\u001b[0m\u001b[37m\u001b[0m \u001b[1m3s\u001b[0m 6ms/step - accuracy: 0.9859 - loss: 0.0417 - val_accuracy: 0.9771 - val_loss: 0.0984\n",
            "\u001b[1m438/438\u001b[0m \u001b[32m━━━━━━━━━━━━━━━━━━━━\u001b[0m\u001b[37m\u001b[0m \u001b[1m1s\u001b[0m 2ms/step - accuracy: 0.9772 - loss: 0.0859\n",
            "\n",
            "Validation Accuracy per Epoch:\n",
            "Epoch 1: 0.9477\n",
            "Epoch 2: 0.9614\n",
            "Epoch 3: 0.9677\n",
            "Epoch 4: 0.9732\n",
            "Epoch 5: 0.9707\n",
            "Epoch 6: 0.9757\n",
            "Epoch 7: 0.9754\n",
            "Epoch 8: 0.9754\n",
            "Epoch 9: 0.9752\n",
            "Epoch 10: 0.9773\n",
            "Epoch 11: 0.9784\n",
            "Epoch 12: 0.9752\n",
            "Epoch 13: 0.9764\n",
            "Epoch 14: 0.9771\n",
            "Epoch 15: 0.9775\n",
            "Epoch 16: 0.9777\n",
            "Epoch 17: 0.9787\n",
            "Epoch 18: 0.9782\n",
            "Epoch 19: 0.9784\n",
            "Epoch 20: 0.9771\n",
            "\n",
            "Final ANN Test Accuracy: 0.9771\n",
            "\n",
            "Average Training Time per Epoch: 3.0236 seconds\n",
            "Test Time: 1.0879 seconds\n"
          ]
        }
      ]
    },
    {
      "cell_type": "markdown",
      "source": [
        "**Key Results**:\n",
        "- **5 Epochs**: 97.19% Accuracy | 4.8261s Train Time/Epoch | 2.7354s Test Time\n",
        "- **10 Epochs**: 97.37% Accuracy | 4.4655s Train Time/Epoch | 2.0763s Test Time\n",
        "- **15 Epochs**: 97.68% Accuracy | 5.3001s Train Time/Epoch | 2.0949s Test Time\n",
        "- **20 Epochs**: 97.74% Accuracy | 4.3112s Train Time/Epoch | 1.4609s Test Time\n",
        "\n",
        "**Best Model**:\n",
        "- **20 Epochs**: While the improvement in accuracy is marginal (from 97.68% to 97.74%), this model provides the best result with **slightly higher accuracy**.\n",
        "- **Reason**: 20 epochs offers the best balance, as accuracy improvement becomes minimal after this point and low in avg time per epoch.\n",
        "\n",
        "---\n",
        "\n",
        "**Observations**:\n",
        "- Accuracy improves as the number of epochs increases, but the gains diminish after 10 epochs.\n",
        "- The best model choice should depend on balancing **accuracy** and **training time**. While 20 epochs gives the highest accuracy, and good time."
      ],
      "metadata": {
        "id": "nZPmUeSflKfV"
      }
    },
    {
      "cell_type": "code",
      "source": [
        "print(\"\\n--- Model Summary ---\")\n",
        "print(f\"Number of Parameters: {ann_model.count_params()}\")\n",
        "print(f\"Layers:\")\n",
        "for layer in ann_model.layers:\n",
        "    print(f\"- {layer.__class__.__name__}: Activation = {layer.activation.__name__ if hasattr(layer, 'activation') else 'N/A'}\")\n",
        "print(f\"Optimizer: Adam\")\n",
        "print(f\"Learning Rate: {optimizer.learning_rate.numpy()}\")\n",
        "print(f\"Dropout used after first Dense layer with rate = 0.3\")"
      ],
      "metadata": {
        "id": "CKM6cDnZhlbU",
        "outputId": "81a8ddc3-5a29-45a9-8095-cce38f11364d",
        "colab": {
          "base_uri": "https://localhost:8080/"
        }
      },
      "execution_count": 36,
      "outputs": [
        {
          "output_type": "stream",
          "name": "stdout",
          "text": [
            "\n",
            "--- Model Summary ---\n",
            "Number of Parameters: 109386\n",
            "Layers:\n",
            "- Dense: Activation = relu\n",
            "- Dropout: Activation = N/A\n",
            "- Dense: Activation = relu\n",
            "- Dense: Activation = softmax\n",
            "Optimizer: Adam\n",
            "Learning Rate: 0.0010000000474974513\n",
            "Dropout used after first Dense layer with rate = 0.3\n"
          ]
        }
      ]
    },
    {
      "cell_type": "code",
      "source": [
        "X_svm, _, y_svm, _ = train_test_split(X, y, train_size=7000, stratify=y, random_state=42)\n",
        "X_train_svm, X_test_svm, y_train_svm, y_test_svm = train_test_split(X_svm, y_svm, test_size=0.2, random_state=42)\n",
        "\n",
        "svm_model = SVC(kernel='linear')\n",
        "svm_model.fit(X_train_svm, y_train_svm)\n",
        "\n",
        "y_pred_svm = svm_model.predict(X_test_svm)\n",
        "svm_acc = accuracy_score(y_test_svm, y_pred_svm)\n",
        "print(f\"\\nSVM Test Accuracy: {svm_acc:.4f}\")"
      ],
      "metadata": {
        "id": "m1FjTLXqCH5s",
        "outputId": "4c083f27-5bd8-4814-8a04-6d62f5abd13e",
        "colab": {
          "base_uri": "https://localhost:8080/"
        }
      },
      "execution_count": 37,
      "outputs": [
        {
          "output_type": "stream",
          "name": "stdout",
          "text": [
            "\n",
            "SVM Test Accuracy: 0.8993\n"
          ]
        }
      ]
    },
    {
      "cell_type": "markdown",
      "source": [
        "##2. Initializing CNN model"
      ],
      "metadata": {
        "id": "vWoa58OJiZ0h"
      }
    },
    {
      "cell_type": "code",
      "source": [
        "X_train, X_test, y_train, y_test = train_test_split(X_images, y, test_size=0.3, random_state=42)\n",
        "X_test, X_val, y_test, y_val = train_test_split(X_test, y_test, test_size=0.5, random_state=42)"
      ],
      "metadata": {
        "id": "7gbt_F6Vi3a8"
      },
      "execution_count": 60,
      "outputs": []
    },
    {
      "cell_type": "code",
      "source": [
        "X_train.shape, X_test.shape, X_val.shape, y_train.shape, y_test.shape, y_val.shape"
      ],
      "metadata": {
        "id": "3Uljb32eKpjb",
        "outputId": "313fa44c-2b5c-4509-d26d-b35e8f5f6168",
        "colab": {
          "base_uri": "https://localhost:8080/"
        }
      },
      "execution_count": 61,
      "outputs": [
        {
          "output_type": "execute_result",
          "data": {
            "text/plain": [
              "((49000, 28, 28),\n",
              " (10500, 28, 28),\n",
              " (10500, 28, 28),\n",
              " (49000,),\n",
              " (10500,),\n",
              " (10500,))"
            ]
          },
          "metadata": {},
          "execution_count": 61
        }
      ]
    },
    {
      "cell_type": "code",
      "source": [
        "X_train = X_train.reshape(-1, 28, 28, 1)\n",
        "X_test = X_test.reshape(-1, 28, 28, 1)\n",
        "X_val = X_val.reshape(-1, 28, 28, 1)"
      ],
      "metadata": {
        "id": "Akr1vVLkMEuD"
      },
      "execution_count": 62,
      "outputs": []
    },
    {
      "cell_type": "code",
      "source": [
        "X_train = X_train.astype('float32')\n",
        "X_test = X_test.astype('float32')\n",
        "X_val = X_val.astype('float32')\n",
        "\n",
        "y_train = to_categorical(y_train.astype(int), 10)\n",
        "y_test = to_categorical(y_test.astype(int), 10)\n",
        "y_val = to_categorical(y_val.astype(int), 10)\n",
        "mean = X_train.mean(axis=0)\n",
        "std = X_train.std(axis=0)\n",
        "X_train = (X_train - mean) / (std + 1e-7)\n",
        "X_test = (X_test - mean) / (std + 1e-7)\n",
        "X_val = (X_val - mean) / (std + 1e-7)"
      ],
      "metadata": {
        "id": "UkJ3pIxmkzv5"
      },
      "execution_count": 63,
      "outputs": []
    },
    {
      "cell_type": "code",
      "source": [
        "def build_cnn_model1():\n",
        "  cnn_model = Sequential([\n",
        "      layers.Input(shape=X_train.shape[1:]),\n",
        "\n",
        "      layers.Conv2D(32, (3, 3), activation='relu', padding='same'),\n",
        "      layers.MaxPooling2D(),\n",
        "\n",
        "      layers.Conv2D(64, (3, 3), activation='relu', padding='same'),\n",
        "      layers.MaxPooling2D(),\n",
        "\n",
        "      layers.Flatten(),\n",
        "      layers.Dense(128, activation='relu'),\n",
        "      layers.Dense(10, activation='softmax')\n",
        "\n",
        "  ])\n",
        "  return cnn_model"
      ],
      "metadata": {
        "id": "qALQgnXtx24i"
      },
      "execution_count": 64,
      "outputs": []
    },
    {
      "cell_type": "markdown",
      "source": [
        "##3. Trying diffrant Number of epochs"
      ],
      "metadata": {
        "id": "mvCw-GDgyuw1"
      }
    },
    {
      "cell_type": "code",
      "source": [
        "def print_results(model, history, avg_train_time, test_time):\n",
        "  print(\"\\n--- Model Summary ---\")\n",
        "\n",
        "  for i in range(5):\n",
        "      print(f\"Epoch {i+1}, Training Accuracy:{history.history['accuracy'][i]:.4f}, Validation Accuracy: {history.history['val_accuracy'][i]:.4f}\")\n",
        "\n",
        "  print(f\"\\nfinal Training Accuracy: {history.history['accuracy'][-1]:.4f}\")\n",
        "  print(f\"final Validation Accuracy: {history.history['val_accuracy'][-1]:.4f}\")\n",
        "  print(f\"final Test Accuracy: {cnn_acc:.4f}\")\n",
        "\n",
        "  print(f\"\\nNumber of Parameters: {model.count_params()}\")\n",
        "  print(f\"Test Time: {test_time:.4f} seconds\")\n",
        "\n",
        "  print(f\"\\nLayers:\")\n",
        "  for layer in model.layers:\n",
        "      print(f\"- {layer.__class__.__name__}: Activation = {layer.activation.__name__ if hasattr(layer, 'activation') else 'N/A'}\")\n",
        "  print(f\"\\nOptimizer: {cnn_model.optimizer.__class__.__name__}, Learning Rate: {optimizer.learning_rate.numpy():.4f}, Momentum: {optimizer.momentum}\")"
      ],
      "metadata": {
        "id": "pM--xWVJ6aJz"
      },
      "execution_count": 65,
      "outputs": []
    },
    {
      "cell_type": "code",
      "source": [
        "epochs = [5, 7, 10, 12, 15, 18, 20]\n",
        "acc = []\n",
        "val_acc = []\n",
        "test_acc = []\n",
        "for epoch in epochs:\n",
        "  print(f\"\\nTraining the model for {epoch} epochs...\")\n",
        "  cnn_model = build_cnn_model1()\n",
        "\n",
        "  optimizer = tf.keras.optimizers.SGD(learning_rate=0.01, momentum=0.9)\n",
        "  cnn_model.compile(optimizer=optimizer, loss='categorical_crossentropy', metrics=['accuracy'])\n",
        "\n",
        "  start_train_time = time.time()\n",
        "  history = cnn_model.fit(\n",
        "      X_train, y_train,\n",
        "      epochs=epoch,\n",
        "      batch_size=64,\n",
        "      validation_data=(X_val, y_val),\n",
        "      verbose=1\n",
        "  )\n",
        "  end_train_time = time.time()\n",
        "\n",
        "  start_test_time = time.time()\n",
        "  cnn_loss, cnn_acc = cnn_model.evaluate(X_test, y_test)\n",
        "  end_test_time = time.time()\n",
        "\n",
        "  avg_train_time = (end_train_time - start_train_time) / epoch\n",
        "  test_time = (end_test_time - start_test_time)\n",
        "\n",
        "  print_results(cnn_model, history, avg_train_time, test_time)\n",
        "\n",
        "  acc.append(history.history['accuracy'][-1])\n",
        "  val_acc.append(history.history['val_accuracy'][-1])\n",
        "  test_acc.append(cnn_acc)"
      ],
      "metadata": {
        "collapsed": true,
        "id": "PHlW_WX8yuCY",
        "outputId": "6ed87962-bb89-4c14-9746-54bae744755c",
        "colab": {
          "base_uri": "https://localhost:8080/"
        }
      },
      "execution_count": 66,
      "outputs": [
        {
          "output_type": "stream",
          "name": "stdout",
          "text": [
            "\n",
            "Training the model for 5 epochs...\n",
            "Epoch 1/5\n",
            "\u001b[1m766/766\u001b[0m \u001b[32m━━━━━━━━━━━━━━━━━━━━\u001b[0m\u001b[37m\u001b[0m \u001b[1m70s\u001b[0m 86ms/step - accuracy: 0.8389 - loss: 0.5354 - val_accuracy: 0.9710 - val_loss: 557.3416\n",
            "Epoch 2/5\n",
            "\u001b[1m766/766\u001b[0m \u001b[32m━━━━━━━━━━━━━━━━━━━━\u001b[0m\u001b[37m\u001b[0m \u001b[1m75s\u001b[0m 77ms/step - accuracy: 0.9812 - loss: 0.0636 - val_accuracy: 0.9815 - val_loss: 1271.8934\n",
            "Epoch 3/5\n",
            "\u001b[1m766/766\u001b[0m \u001b[32m━━━━━━━━━━━━━━━━━━━━\u001b[0m\u001b[37m\u001b[0m \u001b[1m55s\u001b[0m 72ms/step - accuracy: 0.9877 - loss: 0.0393 - val_accuracy: 0.9826 - val_loss: 994.5699\n",
            "Epoch 4/5\n",
            "\u001b[1m766/766\u001b[0m \u001b[32m━━━━━━━━━━━━━━━━━━━━\u001b[0m\u001b[37m\u001b[0m \u001b[1m86s\u001b[0m 78ms/step - accuracy: 0.9910 - loss: 0.0280 - val_accuracy: 0.9851 - val_loss: 2116.4856\n",
            "Epoch 5/5\n",
            "\u001b[1m766/766\u001b[0m \u001b[32m━━━━━━━━━━━━━━━━━━━━\u001b[0m\u001b[37m\u001b[0m \u001b[1m77s\u001b[0m 72ms/step - accuracy: 0.9923 - loss: 0.0234 - val_accuracy: 0.9865 - val_loss: 2921.0134\n",
            "\u001b[1m329/329\u001b[0m \u001b[32m━━━━━━━━━━━━━━━━━━━━\u001b[0m\u001b[37m\u001b[0m \u001b[1m5s\u001b[0m 15ms/step - accuracy: 0.9870 - loss: 3990.6052\n",
            "\n",
            "--- Model Summary ---\n",
            "Epoch 1, Training Accuracy:0.9315, Validation Accuracy: 0.9710\n",
            "Epoch 2, Training Accuracy:0.9819, Validation Accuracy: 0.9815\n",
            "Epoch 3, Training Accuracy:0.9881, Validation Accuracy: 0.9826\n",
            "Epoch 4, Training Accuracy:0.9905, Validation Accuracy: 0.9851\n",
            "Epoch 5, Training Accuracy:0.9921, Validation Accuracy: 0.9865\n",
            "\n",
            "final Training Accuracy: 0.9921\n",
            "final Validation Accuracy: 0.9865\n",
            "final Test Accuracy: 0.9878\n",
            "\n",
            "Number of Parameters: 421642\n",
            "Test Time: 5.2059 seconds\n",
            "\n",
            "Layers:\n",
            "- Conv2D: Activation = relu\n",
            "- MaxPooling2D: Activation = N/A\n",
            "- Conv2D: Activation = relu\n",
            "- MaxPooling2D: Activation = N/A\n",
            "- Flatten: Activation = N/A\n",
            "- Dense: Activation = relu\n",
            "- Dense: Activation = softmax\n",
            "\n",
            "Optimizer: SGD, Learning Rate: 0.0100, Momentum: 0.9\n",
            "\n",
            "Training the model for 7 epochs...\n",
            "Epoch 1/7\n",
            "\u001b[1m766/766\u001b[0m \u001b[32m━━━━━━━━━━━━━━━━━━━━\u001b[0m\u001b[37m\u001b[0m \u001b[1m61s\u001b[0m 78ms/step - accuracy: 0.8442 - loss: 0.5149 - val_accuracy: 0.9760 - val_loss: 1575.6129\n",
            "Epoch 2/7\n",
            "\u001b[1m766/766\u001b[0m \u001b[32m━━━━━━━━━━━━━━━━━━━━\u001b[0m\u001b[37m\u001b[0m \u001b[1m78s\u001b[0m 73ms/step - accuracy: 0.9807 - loss: 0.0606 - val_accuracy: 0.9793 - val_loss: 3684.1909\n",
            "Epoch 3/7\n",
            "\u001b[1m766/766\u001b[0m \u001b[32m━━━━━━━━━━━━━━━━━━━━\u001b[0m\u001b[37m\u001b[0m \u001b[1m85s\u001b[0m 77ms/step - accuracy: 0.9869 - loss: 0.0402 - val_accuracy: 0.9821 - val_loss: 1890.6010\n",
            "Epoch 4/7\n",
            "\u001b[1m766/766\u001b[0m \u001b[32m━━━━━━━━━━━━━━━━━━━━\u001b[0m\u001b[37m\u001b[0m \u001b[1m81s\u001b[0m 76ms/step - accuracy: 0.9893 - loss: 0.0328 - val_accuracy: 0.9865 - val_loss: 1355.1681\n",
            "Epoch 5/7\n",
            "\u001b[1m766/766\u001b[0m \u001b[32m━━━━━━━━━━━━━━━━━━━━\u001b[0m\u001b[37m\u001b[0m \u001b[1m57s\u001b[0m 75ms/step - accuracy: 0.9930 - loss: 0.0208 - val_accuracy: 0.9871 - val_loss: 1140.8055\n",
            "Epoch 6/7\n",
            "\u001b[1m766/766\u001b[0m \u001b[32m━━━━━━━━━━━━━━━━━━━━\u001b[0m\u001b[37m\u001b[0m \u001b[1m56s\u001b[0m 72ms/step - accuracy: 0.9956 - loss: 0.0143 - val_accuracy: 0.9872 - val_loss: 1202.2947\n",
            "Epoch 7/7\n",
            "\u001b[1m766/766\u001b[0m \u001b[32m━━━━━━━━━━━━━━━━━━━━\u001b[0m\u001b[37m\u001b[0m \u001b[1m84s\u001b[0m 75ms/step - accuracy: 0.9954 - loss: 0.0147 - val_accuracy: 0.9855 - val_loss: 1257.7678\n",
            "\u001b[1m329/329\u001b[0m \u001b[32m━━━━━━━━━━━━━━━━━━━━\u001b[0m\u001b[37m\u001b[0m \u001b[1m4s\u001b[0m 11ms/step - accuracy: 0.9842 - loss: 6963.6240\n",
            "\n",
            "--- Model Summary ---\n",
            "Epoch 1, Training Accuracy:0.9334, Validation Accuracy: 0.9760\n",
            "Epoch 2, Training Accuracy:0.9816, Validation Accuracy: 0.9793\n",
            "Epoch 3, Training Accuracy:0.9877, Validation Accuracy: 0.9821\n",
            "Epoch 4, Training Accuracy:0.9907, Validation Accuracy: 0.9865\n",
            "Epoch 5, Training Accuracy:0.9928, Validation Accuracy: 0.9871\n",
            "\n",
            "final Training Accuracy: 0.9952\n",
            "final Validation Accuracy: 0.9855\n",
            "final Test Accuracy: 0.9861\n",
            "\n",
            "Number of Parameters: 421642\n",
            "Test Time: 5.1983 seconds\n",
            "\n",
            "Layers:\n",
            "- Conv2D: Activation = relu\n",
            "- MaxPooling2D: Activation = N/A\n",
            "- Conv2D: Activation = relu\n",
            "- MaxPooling2D: Activation = N/A\n",
            "- Flatten: Activation = N/A\n",
            "- Dense: Activation = relu\n",
            "- Dense: Activation = softmax\n",
            "\n",
            "Optimizer: SGD, Learning Rate: 0.0100, Momentum: 0.9\n",
            "\n",
            "Training the model for 10 epochs...\n",
            "Epoch 1/10\n",
            "\u001b[1m766/766\u001b[0m \u001b[32m━━━━━━━━━━━━━━━━━━━━\u001b[0m\u001b[37m\u001b[0m \u001b[1m61s\u001b[0m 78ms/step - accuracy: 0.8357 - loss: 0.5515 - val_accuracy: 0.9707 - val_loss: 2214.5464\n",
            "Epoch 2/10\n",
            "\u001b[1m766/766\u001b[0m \u001b[32m━━━━━━━━━━━━━━━━━━━━\u001b[0m\u001b[37m\u001b[0m \u001b[1m58s\u001b[0m 76ms/step - accuracy: 0.9806 - loss: 0.0613 - val_accuracy: 0.9811 - val_loss: 4336.1982\n",
            "Epoch 3/10\n",
            "\u001b[1m766/766\u001b[0m \u001b[32m━━━━━━━━━━━━━━━━━━━━\u001b[0m\u001b[37m\u001b[0m \u001b[1m83s\u001b[0m 78ms/step - accuracy: 0.9869 - loss: 0.0416 - val_accuracy: 0.9833 - val_loss: 1009.5202\n",
            "Epoch 4/10\n",
            "\u001b[1m766/766\u001b[0m \u001b[32m━━━━━━━━━━━━━━━━━━━━\u001b[0m\u001b[37m\u001b[0m \u001b[1m81s\u001b[0m 76ms/step - accuracy: 0.9917 - loss: 0.0252 - val_accuracy: 0.9869 - val_loss: 491.5030\n",
            "Epoch 5/10\n",
            "\u001b[1m766/766\u001b[0m \u001b[32m━━━━━━━━━━━━━━━━━━━━\u001b[0m\u001b[37m\u001b[0m \u001b[1m81s\u001b[0m 74ms/step - accuracy: 0.9935 - loss: 0.0191 - val_accuracy: 0.9857 - val_loss: 1533.3180\n",
            "Epoch 6/10\n",
            "\u001b[1m766/766\u001b[0m \u001b[32m━━━━━━━━━━━━━━━━━━━━\u001b[0m\u001b[37m\u001b[0m \u001b[1m58s\u001b[0m 76ms/step - accuracy: 0.9954 - loss: 0.0144 - val_accuracy: 0.9852 - val_loss: 2315.0166\n",
            "Epoch 7/10\n",
            "\u001b[1m766/766\u001b[0m \u001b[32m━━━━━━━━━━━━━━━━━━━━\u001b[0m\u001b[37m\u001b[0m \u001b[1m83s\u001b[0m 77ms/step - accuracy: 0.9968 - loss: 0.0121 - val_accuracy: 0.9870 - val_loss: 925.1949\n",
            "Epoch 8/10\n",
            "\u001b[1m766/766\u001b[0m \u001b[32m━━━━━━━━━━━━━━━━━━━━\u001b[0m\u001b[37m\u001b[0m \u001b[1m56s\u001b[0m 73ms/step - accuracy: 0.9962 - loss: 0.0124 - val_accuracy: 0.9891 - val_loss: 2031.1699\n",
            "Epoch 9/10\n",
            "\u001b[1m766/766\u001b[0m \u001b[32m━━━━━━━━━━━━━━━━━━━━\u001b[0m\u001b[37m\u001b[0m \u001b[1m57s\u001b[0m 74ms/step - accuracy: 0.9983 - loss: 0.0065 - val_accuracy: 0.9878 - val_loss: 4157.9624\n",
            "Epoch 10/10\n",
            "\u001b[1m766/766\u001b[0m \u001b[32m━━━━━━━━━━━━━━━━━━━━\u001b[0m\u001b[37m\u001b[0m \u001b[1m84s\u001b[0m 77ms/step - accuracy: 0.9985 - loss: 0.0049 - val_accuracy: 0.9889 - val_loss: 4479.1182\n",
            "\u001b[1m329/329\u001b[0m \u001b[32m━━━━━━━━━━━━━━━━━━━━\u001b[0m\u001b[37m\u001b[0m \u001b[1m5s\u001b[0m 14ms/step - accuracy: 0.9864 - loss: 6504.8105\n",
            "\n",
            "--- Model Summary ---\n",
            "Epoch 1, Training Accuracy:0.9296, Validation Accuracy: 0.9707\n",
            "Epoch 2, Training Accuracy:0.9817, Validation Accuracy: 0.9811\n",
            "Epoch 3, Training Accuracy:0.9872, Validation Accuracy: 0.9833\n",
            "Epoch 4, Training Accuracy:0.9908, Validation Accuracy: 0.9869\n",
            "Epoch 5, Training Accuracy:0.9932, Validation Accuracy: 0.9857\n",
            "\n",
            "final Training Accuracy: 0.9987\n",
            "final Validation Accuracy: 0.9889\n",
            "final Test Accuracy: 0.9891\n",
            "\n",
            "Number of Parameters: 421642\n",
            "Test Time: 5.2362 seconds\n",
            "\n",
            "Layers:\n",
            "- Conv2D: Activation = relu\n",
            "- MaxPooling2D: Activation = N/A\n",
            "- Conv2D: Activation = relu\n",
            "- MaxPooling2D: Activation = N/A\n",
            "- Flatten: Activation = N/A\n",
            "- Dense: Activation = relu\n",
            "- Dense: Activation = softmax\n",
            "\n",
            "Optimizer: SGD, Learning Rate: 0.0100, Momentum: 0.9\n",
            "\n",
            "Training the model for 12 epochs...\n",
            "Epoch 1/12\n",
            "\u001b[1m766/766\u001b[0m \u001b[32m━━━━━━━━━━━━━━━━━━━━\u001b[0m\u001b[37m\u001b[0m \u001b[1m59s\u001b[0m 76ms/step - accuracy: 0.8488 - loss: 0.5085 - val_accuracy: 0.9714 - val_loss: 5779.1436\n",
            "Epoch 2/12\n",
            "\u001b[1m766/766\u001b[0m \u001b[32m━━━━━━━━━━━━━━━━━━━━\u001b[0m\u001b[37m\u001b[0m \u001b[1m80s\u001b[0m 74ms/step - accuracy: 0.9808 - loss: 0.0623 - val_accuracy: 0.9802 - val_loss: 1497.3429\n",
            "Epoch 3/12\n",
            "\u001b[1m766/766\u001b[0m \u001b[32m━━━━━━━━━━━━━━━━━━━━\u001b[0m\u001b[37m\u001b[0m \u001b[1m81s\u001b[0m 73ms/step - accuracy: 0.9878 - loss: 0.0402 - val_accuracy: 0.9825 - val_loss: 3139.8000\n",
            "Epoch 4/12\n",
            "\u001b[1m766/766\u001b[0m \u001b[32m━━━━━━━━━━━━━━━━━━━━\u001b[0m\u001b[37m\u001b[0m \u001b[1m85s\u001b[0m 77ms/step - accuracy: 0.9902 - loss: 0.0282 - val_accuracy: 0.9850 - val_loss: 1420.0054\n",
            "Epoch 5/12\n",
            "\u001b[1m766/766\u001b[0m \u001b[32m━━━━━━━━━━━━━━━━━━━━\u001b[0m\u001b[37m\u001b[0m \u001b[1m79s\u001b[0m 73ms/step - accuracy: 0.9933 - loss: 0.0226 - val_accuracy: 0.9865 - val_loss: 1874.7438\n",
            "Epoch 6/12\n",
            "\u001b[1m766/766\u001b[0m \u001b[32m━━━━━━━━━━━━━━━━━━━━\u001b[0m\u001b[37m\u001b[0m \u001b[1m83s\u001b[0m 74ms/step - accuracy: 0.9960 - loss: 0.0140 - val_accuracy: 0.9859 - val_loss: 2050.1448\n",
            "Epoch 7/12\n",
            "\u001b[1m766/766\u001b[0m \u001b[32m━━━━━━━━━━━━━━━━━━━━\u001b[0m\u001b[37m\u001b[0m \u001b[1m58s\u001b[0m 76ms/step - accuracy: 0.9971 - loss: 0.0114 - val_accuracy: 0.9871 - val_loss: 2822.7446\n",
            "Epoch 8/12\n",
            "\u001b[1m766/766\u001b[0m \u001b[32m━━━━━━━━━━━━━━━━━━━━\u001b[0m\u001b[37m\u001b[0m \u001b[1m57s\u001b[0m 75ms/step - accuracy: 0.9971 - loss: 0.0090 - val_accuracy: 0.9870 - val_loss: 2775.3103\n",
            "Epoch 9/12\n",
            "\u001b[1m766/766\u001b[0m \u001b[32m━━━━━━━━━━━━━━━━━━━━\u001b[0m\u001b[37m\u001b[0m \u001b[1m83s\u001b[0m 76ms/step - accuracy: 0.9985 - loss: 0.0061 - val_accuracy: 0.9885 - val_loss: 2821.8193\n",
            "Epoch 10/12\n",
            "\u001b[1m766/766\u001b[0m \u001b[32m━━━━━━━━━━━━━━━━━━━━\u001b[0m\u001b[37m\u001b[0m \u001b[1m83s\u001b[0m 77ms/step - accuracy: 0.9985 - loss: 0.0055 - val_accuracy: 0.9877 - val_loss: 4071.1611\n",
            "Epoch 11/12\n",
            "\u001b[1m766/766\u001b[0m \u001b[32m━━━━━━━━━━━━━━━━━━━━\u001b[0m\u001b[37m\u001b[0m \u001b[1m81s\u001b[0m 76ms/step - accuracy: 0.9982 - loss: 0.0064 - val_accuracy: 0.9864 - val_loss: 5169.7612\n",
            "Epoch 12/12\n",
            "\u001b[1m766/766\u001b[0m \u001b[32m━━━━━━━━━━━━━━━━━━━━\u001b[0m\u001b[37m\u001b[0m \u001b[1m57s\u001b[0m 74ms/step - accuracy: 0.9993 - loss: 0.0030 - val_accuracy: 0.9884 - val_loss: 5392.9800\n",
            "\u001b[1m329/329\u001b[0m \u001b[32m━━━━━━━━━━━━━━━━━━━━\u001b[0m\u001b[37m\u001b[0m \u001b[1m4s\u001b[0m 12ms/step - accuracy: 0.9863 - loss: 5541.4907\n",
            "\n",
            "--- Model Summary ---\n",
            "Epoch 1, Training Accuracy:0.9340, Validation Accuracy: 0.9714\n",
            "Epoch 2, Training Accuracy:0.9822, Validation Accuracy: 0.9802\n",
            "Epoch 3, Training Accuracy:0.9878, Validation Accuracy: 0.9825\n",
            "Epoch 4, Training Accuracy:0.9901, Validation Accuracy: 0.9850\n",
            "Epoch 5, Training Accuracy:0.9933, Validation Accuracy: 0.9865\n",
            "\n",
            "final Training Accuracy: 0.9992\n",
            "final Validation Accuracy: 0.9884\n",
            "final Test Accuracy: 0.9886\n",
            "\n",
            "Number of Parameters: 421642\n",
            "Test Time: 5.2626 seconds\n",
            "\n",
            "Layers:\n",
            "- Conv2D: Activation = relu\n",
            "- MaxPooling2D: Activation = N/A\n",
            "- Conv2D: Activation = relu\n",
            "- MaxPooling2D: Activation = N/A\n",
            "- Flatten: Activation = N/A\n",
            "- Dense: Activation = relu\n",
            "- Dense: Activation = softmax\n",
            "\n",
            "Optimizer: SGD, Learning Rate: 0.0100, Momentum: 0.9\n",
            "\n",
            "Training the model for 15 epochs...\n",
            "Epoch 1/15\n",
            "\u001b[1m766/766\u001b[0m \u001b[32m━━━━━━━━━━━━━━━━━━━━\u001b[0m\u001b[37m\u001b[0m \u001b[1m60s\u001b[0m 76ms/step - accuracy: 0.8369 - loss: 0.5366 - val_accuracy: 0.9717 - val_loss: 213.6301\n",
            "Epoch 2/15\n",
            "\u001b[1m766/766\u001b[0m \u001b[32m━━━━━━━━━━━━━━━━━━━━\u001b[0m\u001b[37m\u001b[0m \u001b[1m60s\u001b[0m 78ms/step - accuracy: 0.9818 - loss: 0.0629 - val_accuracy: 0.9803 - val_loss: 969.9361\n",
            "Epoch 3/15\n",
            "\u001b[1m766/766\u001b[0m \u001b[32m━━━━━━━━━━━━━━━━━━━━\u001b[0m\u001b[37m\u001b[0m \u001b[1m80s\u001b[0m 76ms/step - accuracy: 0.9873 - loss: 0.0398 - val_accuracy: 0.9842 - val_loss: 1387.4703\n",
            "Epoch 4/15\n",
            "\u001b[1m766/766\u001b[0m \u001b[32m━━━━━━━━━━━━━━━━━━━━\u001b[0m\u001b[37m\u001b[0m \u001b[1m57s\u001b[0m 75ms/step - accuracy: 0.9917 - loss: 0.0279 - val_accuracy: 0.9868 - val_loss: 311.4579\n",
            "Epoch 5/15\n",
            "\u001b[1m766/766\u001b[0m \u001b[32m━━━━━━━━━━━━━━━━━━━━\u001b[0m\u001b[37m\u001b[0m \u001b[1m82s\u001b[0m 74ms/step - accuracy: 0.9942 - loss: 0.0191 - val_accuracy: 0.9847 - val_loss: 970.9592\n",
            "Epoch 6/15\n",
            "\u001b[1m766/766\u001b[0m \u001b[32m━━━━━━━━━━━━━━━━━━━━\u001b[0m\u001b[37m\u001b[0m \u001b[1m82s\u001b[0m 75ms/step - accuracy: 0.9956 - loss: 0.0145 - val_accuracy: 0.9859 - val_loss: 1113.4524\n",
            "Epoch 7/15\n",
            "\u001b[1m766/766\u001b[0m \u001b[32m━━━━━━━━━━━━━━━━━━━━\u001b[0m\u001b[37m\u001b[0m \u001b[1m83s\u001b[0m 76ms/step - accuracy: 0.9966 - loss: 0.0114 - val_accuracy: 0.9867 - val_loss: 397.2240\n",
            "Epoch 8/15\n",
            "\u001b[1m766/766\u001b[0m \u001b[32m━━━━━━━━━━━━━━━━━━━━\u001b[0m\u001b[37m\u001b[0m \u001b[1m81s\u001b[0m 75ms/step - accuracy: 0.9974 - loss: 0.0084 - val_accuracy: 0.9856 - val_loss: 706.0784\n",
            "Epoch 9/15\n",
            "\u001b[1m766/766\u001b[0m \u001b[32m━━━━━━━━━━━━━━━━━━━━\u001b[0m\u001b[37m\u001b[0m \u001b[1m83s\u001b[0m 76ms/step - accuracy: 0.9982 - loss: 0.0063 - val_accuracy: 0.9881 - val_loss: 854.6064\n",
            "Epoch 10/15\n",
            "\u001b[1m766/766\u001b[0m \u001b[32m━━━━━━━━━━━━━━━━━━━━\u001b[0m\u001b[37m\u001b[0m \u001b[1m83s\u001b[0m 78ms/step - accuracy: 0.9990 - loss: 0.0036 - val_accuracy: 0.9878 - val_loss: 812.4637\n",
            "Epoch 11/15\n",
            "\u001b[1m766/766\u001b[0m \u001b[32m━━━━━━━━━━━━━━━━━━━━\u001b[0m\u001b[37m\u001b[0m \u001b[1m81s\u001b[0m 76ms/step - accuracy: 0.9988 - loss: 0.0050 - val_accuracy: 0.9892 - val_loss: 1948.6152\n",
            "Epoch 12/15\n",
            "\u001b[1m766/766\u001b[0m \u001b[32m━━━━━━━━━━━━━━━━━━━━\u001b[0m\u001b[37m\u001b[0m \u001b[1m83s\u001b[0m 78ms/step - accuracy: 0.9993 - loss: 0.0028 - val_accuracy: 0.9875 - val_loss: 1293.6930\n",
            "Epoch 13/15\n",
            "\u001b[1m766/766\u001b[0m \u001b[32m━━━━━━━━━━━━━━━━━━━━\u001b[0m\u001b[37m\u001b[0m \u001b[1m81s\u001b[0m 76ms/step - accuracy: 0.9996 - loss: 0.0020 - val_accuracy: 0.9891 - val_loss: 864.9104\n",
            "Epoch 14/15\n",
            "\u001b[1m766/766\u001b[0m \u001b[32m━━━━━━━━━━━━━━━━━━━━\u001b[0m\u001b[37m\u001b[0m \u001b[1m82s\u001b[0m 77ms/step - accuracy: 1.0000 - loss: 8.0747e-04 - val_accuracy: 0.9889 - val_loss: 909.4698\n",
            "Epoch 15/15\n",
            "\u001b[1m766/766\u001b[0m \u001b[32m━━━━━━━━━━━━━━━━━━━━\u001b[0m\u001b[37m\u001b[0m \u001b[1m80s\u001b[0m 75ms/step - accuracy: 1.0000 - loss: 6.3090e-04 - val_accuracy: 0.9893 - val_loss: 1160.5258\n",
            "\u001b[1m329/329\u001b[0m \u001b[32m━━━━━━━━━━━━━━━━━━━━\u001b[0m\u001b[37m\u001b[0m \u001b[1m4s\u001b[0m 11ms/step - accuracy: 0.9880 - loss: 8108.0820\n",
            "\n",
            "--- Model Summary ---\n",
            "Epoch 1, Training Accuracy:0.9294, Validation Accuracy: 0.9717\n",
            "Epoch 2, Training Accuracy:0.9826, Validation Accuracy: 0.9803\n",
            "Epoch 3, Training Accuracy:0.9880, Validation Accuracy: 0.9842\n",
            "Epoch 4, Training Accuracy:0.9910, Validation Accuracy: 0.9868\n",
            "Epoch 5, Training Accuracy:0.9942, Validation Accuracy: 0.9847\n",
            "\n",
            "final Training Accuracy: 0.9999\n",
            "final Validation Accuracy: 0.9893\n",
            "final Test Accuracy: 0.9897\n",
            "\n",
            "Number of Parameters: 421642\n",
            "Test Time: 5.1956 seconds\n",
            "\n",
            "Layers:\n",
            "- Conv2D: Activation = relu\n",
            "- MaxPooling2D: Activation = N/A\n",
            "- Conv2D: Activation = relu\n",
            "- MaxPooling2D: Activation = N/A\n",
            "- Flatten: Activation = N/A\n",
            "- Dense: Activation = relu\n",
            "- Dense: Activation = softmax\n",
            "\n",
            "Optimizer: SGD, Learning Rate: 0.0100, Momentum: 0.9\n",
            "\n",
            "Training the model for 18 epochs...\n",
            "Epoch 1/18\n",
            "\u001b[1m766/766\u001b[0m \u001b[32m━━━━━━━━━━━━━━━━━━━━\u001b[0m\u001b[37m\u001b[0m \u001b[1m60s\u001b[0m 77ms/step - accuracy: 0.8469 - loss: 0.5010 - val_accuracy: 0.9676 - val_loss: 9874.8750\n",
            "Epoch 2/18\n",
            "\u001b[1m766/766\u001b[0m \u001b[32m━━━━━━━━━━━━━━━━━━━━\u001b[0m\u001b[37m\u001b[0m \u001b[1m81s\u001b[0m 75ms/step - accuracy: 0.9798 - loss: 0.0674 - val_accuracy: 0.9804 - val_loss: 2104.3887\n",
            "Epoch 3/18\n",
            "\u001b[1m766/766\u001b[0m \u001b[32m━━━━━━━━━━━━━━━━━━━━\u001b[0m\u001b[37m\u001b[0m \u001b[1m83s\u001b[0m 77ms/step - accuracy: 0.9885 - loss: 0.0385 - val_accuracy: 0.9848 - val_loss: 2175.0730\n",
            "Epoch 4/18\n",
            "\u001b[1m766/766\u001b[0m \u001b[32m━━━━━━━━━━━━━━━━━━━━\u001b[0m\u001b[37m\u001b[0m \u001b[1m84s\u001b[0m 79ms/step - accuracy: 0.9924 - loss: 0.0251 - val_accuracy: 0.9849 - val_loss: 7649.0957\n",
            "Epoch 5/18\n",
            "\u001b[1m766/766\u001b[0m \u001b[32m━━━━━━━━━━━━━━━━━━━━\u001b[0m\u001b[37m\u001b[0m \u001b[1m59s\u001b[0m 77ms/step - accuracy: 0.9941 - loss: 0.0187 - val_accuracy: 0.9862 - val_loss: 2889.1653\n",
            "Epoch 6/18\n",
            "\u001b[1m766/766\u001b[0m \u001b[32m━━━━━━━━━━━━━━━━━━━━\u001b[0m\u001b[37m\u001b[0m \u001b[1m83s\u001b[0m 79ms/step - accuracy: 0.9941 - loss: 0.0168 - val_accuracy: 0.9850 - val_loss: 3403.4990\n",
            "Epoch 7/18\n",
            "\u001b[1m766/766\u001b[0m \u001b[32m━━━━━━━━━━━━━━━━━━━━\u001b[0m\u001b[37m\u001b[0m \u001b[1m81s\u001b[0m 78ms/step - accuracy: 0.9954 - loss: 0.0140 - val_accuracy: 0.9864 - val_loss: 2857.6218\n",
            "Epoch 8/18\n",
            "\u001b[1m766/766\u001b[0m \u001b[32m━━━━━━━━━━━━━━━━━━━━\u001b[0m\u001b[37m\u001b[0m \u001b[1m81s\u001b[0m 77ms/step - accuracy: 0.9972 - loss: 0.0091 - val_accuracy: 0.9877 - val_loss: 3129.3411\n",
            "Epoch 9/18\n",
            "\u001b[1m766/766\u001b[0m \u001b[32m━━━━━━━━━━━━━━━━━━━━\u001b[0m\u001b[37m\u001b[0m \u001b[1m82s\u001b[0m 77ms/step - accuracy: 0.9980 - loss: 0.0069 - val_accuracy: 0.9877 - val_loss: 5262.8740\n",
            "Epoch 10/18\n",
            "\u001b[1m766/766\u001b[0m \u001b[32m━━━━━━━━━━━━━━━━━━━━\u001b[0m\u001b[37m\u001b[0m \u001b[1m60s\u001b[0m 79ms/step - accuracy: 0.9986 - loss: 0.0048 - val_accuracy: 0.9869 - val_loss: 3197.0864\n",
            "Epoch 11/18\n",
            "\u001b[1m766/766\u001b[0m \u001b[32m━━━━━━━━━━━━━━━━━━━━\u001b[0m\u001b[37m\u001b[0m \u001b[1m82s\u001b[0m 79ms/step - accuracy: 0.9984 - loss: 0.0073 - val_accuracy: 0.9879 - val_loss: 3565.0828\n",
            "Epoch 12/18\n",
            "\u001b[1m766/766\u001b[0m \u001b[32m━━━━━━━━━━━━━━━━━━━━\u001b[0m\u001b[37m\u001b[0m \u001b[1m81s\u001b[0m 77ms/step - accuracy: 0.9986 - loss: 0.0058 - val_accuracy: 0.9879 - val_loss: 2612.8162\n",
            "Epoch 13/18\n",
            "\u001b[1m766/766\u001b[0m \u001b[32m━━━━━━━━━━━━━━━━━━━━\u001b[0m\u001b[37m\u001b[0m \u001b[1m81s\u001b[0m 77ms/step - accuracy: 0.9992 - loss: 0.0029 - val_accuracy: 0.9890 - val_loss: 2908.8308\n",
            "Epoch 14/18\n",
            "\u001b[1m766/766\u001b[0m \u001b[32m━━━━━━━━━━━━━━━━━━━━\u001b[0m\u001b[37m\u001b[0m \u001b[1m61s\u001b[0m 79ms/step - accuracy: 0.9995 - loss: 0.0019 - val_accuracy: 0.9886 - val_loss: 2948.8782\n",
            "Epoch 15/18\n",
            "\u001b[1m766/766\u001b[0m \u001b[32m━━━━━━━━━━━━━━━━━━━━\u001b[0m\u001b[37m\u001b[0m \u001b[1m78s\u001b[0m 74ms/step - accuracy: 1.0000 - loss: 6.3380e-04 - val_accuracy: 0.9885 - val_loss: 3239.7981\n",
            "Epoch 16/18\n",
            "\u001b[1m766/766\u001b[0m \u001b[32m━━━━━━━━━━━━━━━━━━━━\u001b[0m\u001b[37m\u001b[0m \u001b[1m86s\u001b[0m 79ms/step - accuracy: 0.9999 - loss: 9.6505e-04 - val_accuracy: 0.9888 - val_loss: 3662.9238\n",
            "Epoch 17/18\n",
            "\u001b[1m766/766\u001b[0m \u001b[32m━━━━━━━━━━━━━━━━━━━━\u001b[0m\u001b[37m\u001b[0m \u001b[1m59s\u001b[0m 77ms/step - accuracy: 0.9999 - loss: 4.6194e-04 - val_accuracy: 0.9886 - val_loss: 3650.1746\n",
            "Epoch 18/18\n",
            "\u001b[1m766/766\u001b[0m \u001b[32m━━━━━━━━━━━━━━━━━━━━\u001b[0m\u001b[37m\u001b[0m \u001b[1m83s\u001b[0m 79ms/step - accuracy: 1.0000 - loss: 3.2194e-04 - val_accuracy: 0.9890 - val_loss: 3523.2932\n",
            "\u001b[1m329/329\u001b[0m \u001b[32m━━━━━━━━━━━━━━━━━━━━\u001b[0m\u001b[37m\u001b[0m \u001b[1m4s\u001b[0m 12ms/step - accuracy: 0.9883 - loss: 9824.1455\n",
            "\n",
            "--- Model Summary ---\n",
            "Epoch 1, Training Accuracy:0.9324, Validation Accuracy: 0.9676\n",
            "Epoch 2, Training Accuracy:0.9819, Validation Accuracy: 0.9804\n",
            "Epoch 3, Training Accuracy:0.9884, Validation Accuracy: 0.9848\n",
            "Epoch 4, Training Accuracy:0.9915, Validation Accuracy: 0.9849\n",
            "Epoch 5, Training Accuracy:0.9937, Validation Accuracy: 0.9862\n",
            "\n",
            "final Training Accuracy: 1.0000\n",
            "final Validation Accuracy: 0.9890\n",
            "final Test Accuracy: 0.9899\n",
            "\n",
            "Number of Parameters: 421642\n",
            "Test Time: 4.1761 seconds\n",
            "\n",
            "Layers:\n",
            "- Conv2D: Activation = relu\n",
            "- MaxPooling2D: Activation = N/A\n",
            "- Conv2D: Activation = relu\n",
            "- MaxPooling2D: Activation = N/A\n",
            "- Flatten: Activation = N/A\n",
            "- Dense: Activation = relu\n",
            "- Dense: Activation = softmax\n",
            "\n",
            "Optimizer: SGD, Learning Rate: 0.0100, Momentum: 0.9\n",
            "\n",
            "Training the model for 20 epochs...\n",
            "Epoch 1/20\n",
            "\u001b[1m766/766\u001b[0m \u001b[32m━━━━━━━━━━━━━━━━━━━━\u001b[0m\u001b[37m\u001b[0m \u001b[1m61s\u001b[0m 78ms/step - accuracy: 0.8384 - loss: 0.5278 - val_accuracy: 0.9740 - val_loss: 3629.9668\n",
            "Epoch 2/20\n",
            "\u001b[1m766/766\u001b[0m \u001b[32m━━━━━━━━━━━━━━━━━━━━\u001b[0m\u001b[37m\u001b[0m \u001b[1m80s\u001b[0m 75ms/step - accuracy: 0.9813 - loss: 0.0624 - val_accuracy: 0.9791 - val_loss: 2535.0356\n",
            "Epoch 3/20\n",
            "\u001b[1m766/766\u001b[0m \u001b[32m━━━━━━━━━━━━━━━━━━━━\u001b[0m\u001b[37m\u001b[0m \u001b[1m83s\u001b[0m 77ms/step - accuracy: 0.9876 - loss: 0.0442 - val_accuracy: 0.9830 - val_loss: 15720.7070\n",
            "Epoch 4/20\n",
            "\u001b[1m766/766\u001b[0m \u001b[32m━━━━━━━━━━━━━━━━━━━━\u001b[0m\u001b[37m\u001b[0m \u001b[1m82s\u001b[0m 77ms/step - accuracy: 0.9910 - loss: 0.0312 - val_accuracy: 0.9852 - val_loss: 1540.7615\n",
            "Epoch 5/20\n",
            "\u001b[1m766/766\u001b[0m \u001b[32m━━━━━━━━━━━━━━━━━━━━\u001b[0m\u001b[37m\u001b[0m \u001b[1m59s\u001b[0m 77ms/step - accuracy: 0.9933 - loss: 0.0212 - val_accuracy: 0.9863 - val_loss: 2642.7683\n",
            "Epoch 6/20\n",
            "\u001b[1m766/766\u001b[0m \u001b[32m━━━━━━━━━━━━━━━━━━━━\u001b[0m\u001b[37m\u001b[0m \u001b[1m59s\u001b[0m 78ms/step - accuracy: 0.9953 - loss: 0.0138 - val_accuracy: 0.9880 - val_loss: 3586.3738\n",
            "Epoch 7/20\n",
            "\u001b[1m766/766\u001b[0m \u001b[32m━━━━━━━━━━━━━━━━━━━━\u001b[0m\u001b[37m\u001b[0m \u001b[1m82s\u001b[0m 77ms/step - accuracy: 0.9968 - loss: 0.0113 - val_accuracy: 0.9874 - val_loss: 2235.6714\n",
            "Epoch 8/20\n",
            "\u001b[1m766/766\u001b[0m \u001b[32m━━━━━━━━━━━━━━━━━━━━\u001b[0m\u001b[37m\u001b[0m \u001b[1m82s\u001b[0m 77ms/step - accuracy: 0.9974 - loss: 0.0092 - val_accuracy: 0.9879 - val_loss: 3381.4744\n",
            "Epoch 9/20\n",
            "\u001b[1m766/766\u001b[0m \u001b[32m━━━━━━━━━━━━━━━━━━━━\u001b[0m\u001b[37m\u001b[0m \u001b[1m83s\u001b[0m 78ms/step - accuracy: 0.9985 - loss: 0.0056 - val_accuracy: 0.9877 - val_loss: 4457.2363\n",
            "Epoch 10/20\n",
            "\u001b[1m766/766\u001b[0m \u001b[32m━━━━━━━━━━━━━━━━━━━━\u001b[0m\u001b[37m\u001b[0m \u001b[1m80s\u001b[0m 76ms/step - accuracy: 0.9984 - loss: 0.0055 - val_accuracy: 0.9899 - val_loss: 4795.9214\n",
            "Epoch 11/20\n",
            "\u001b[1m766/766\u001b[0m \u001b[32m━━━━━━━━━━━━━━━━━━━━\u001b[0m\u001b[37m\u001b[0m \u001b[1m84s\u001b[0m 79ms/step - accuracy: 0.9989 - loss: 0.0045 - val_accuracy: 0.9866 - val_loss: 3183.0291\n",
            "Epoch 12/20\n",
            "\u001b[1m766/766\u001b[0m \u001b[32m━━━━━━━━━━━━━━━━━━━━\u001b[0m\u001b[37m\u001b[0m \u001b[1m58s\u001b[0m 76ms/step - accuracy: 0.9996 - loss: 0.0027 - val_accuracy: 0.9892 - val_loss: 3720.2556\n",
            "Epoch 13/20\n",
            "\u001b[1m766/766\u001b[0m \u001b[32m━━━━━━━━━━━━━━━━━━━━\u001b[0m\u001b[37m\u001b[0m \u001b[1m59s\u001b[0m 77ms/step - accuracy: 0.9990 - loss: 0.0041 - val_accuracy: 0.9865 - val_loss: 1835.0154\n",
            "Epoch 14/20\n",
            "\u001b[1m766/766\u001b[0m \u001b[32m━━━━━━━━━━━━━━━━━━━━\u001b[0m\u001b[37m\u001b[0m \u001b[1m82s\u001b[0m 77ms/step - accuracy: 0.9988 - loss: 0.0045 - val_accuracy: 0.9888 - val_loss: 2141.4812\n",
            "Epoch 15/20\n",
            "\u001b[1m766/766\u001b[0m \u001b[32m━━━━━━━━━━━━━━━━━━━━\u001b[0m\u001b[37m\u001b[0m \u001b[1m59s\u001b[0m 77ms/step - accuracy: 0.9985 - loss: 0.0057 - val_accuracy: 0.9884 - val_loss: 2182.9500\n",
            "Epoch 16/20\n",
            "\u001b[1m766/766\u001b[0m \u001b[32m━━━━━━━━━━━━━━━━━━━━\u001b[0m\u001b[37m\u001b[0m \u001b[1m61s\u001b[0m 80ms/step - accuracy: 0.9990 - loss: 0.0032 - val_accuracy: 0.9883 - val_loss: 1258.9338\n",
            "Epoch 17/20\n",
            "\u001b[1m766/766\u001b[0m \u001b[32m━━━━━━━━━━━━━━━━━━━━\u001b[0m\u001b[37m\u001b[0m \u001b[1m59s\u001b[0m 77ms/step - accuracy: 0.9998 - loss: 0.0013 - val_accuracy: 0.9894 - val_loss: 1837.8745\n",
            "Epoch 18/20\n",
            "\u001b[1m766/766\u001b[0m \u001b[32m━━━━━━━━━━━━━━━━━━━━\u001b[0m\u001b[37m\u001b[0m \u001b[1m81s\u001b[0m 76ms/step - accuracy: 1.0000 - loss: 5.2923e-04 - val_accuracy: 0.9898 - val_loss: 2191.6768\n",
            "Epoch 19/20\n",
            "\u001b[1m766/766\u001b[0m \u001b[32m━━━━━━━━━━━━━━━━━━━━\u001b[0m\u001b[37m\u001b[0m \u001b[1m80s\u001b[0m 75ms/step - accuracy: 1.0000 - loss: 2.9886e-04 - val_accuracy: 0.9896 - val_loss: 2491.3679\n",
            "Epoch 20/20\n",
            "\u001b[1m766/766\u001b[0m \u001b[32m━━━━━━━━━━━━━━━━━━━━\u001b[0m\u001b[37m\u001b[0m \u001b[1m84s\u001b[0m 78ms/step - accuracy: 0.9999 - loss: 3.7935e-04 - val_accuracy: 0.9901 - val_loss: 2622.7205\n",
            "\u001b[1m329/329\u001b[0m \u001b[32m━━━━━━━━━━━━━━━━━━━━\u001b[0m\u001b[37m\u001b[0m \u001b[1m4s\u001b[0m 11ms/step - accuracy: 0.9879 - loss: 3938.8701\n",
            "\n",
            "--- Model Summary ---\n",
            "Epoch 1, Training Accuracy:0.9309, Validation Accuracy: 0.9740\n",
            "Epoch 2, Training Accuracy:0.9823, Validation Accuracy: 0.9791\n",
            "Epoch 3, Training Accuracy:0.9871, Validation Accuracy: 0.9830\n",
            "Epoch 4, Training Accuracy:0.9909, Validation Accuracy: 0.9852\n",
            "Epoch 5, Training Accuracy:0.9933, Validation Accuracy: 0.9863\n",
            "\n",
            "final Training Accuracy: 1.0000\n",
            "final Validation Accuracy: 0.9901\n",
            "final Test Accuracy: 0.9890\n",
            "\n",
            "Number of Parameters: 421642\n",
            "Test Time: 5.1982 seconds\n",
            "\n",
            "Layers:\n",
            "- Conv2D: Activation = relu\n",
            "- MaxPooling2D: Activation = N/A\n",
            "- Conv2D: Activation = relu\n",
            "- MaxPooling2D: Activation = N/A\n",
            "- Flatten: Activation = N/A\n",
            "- Dense: Activation = relu\n",
            "- Dense: Activation = softmax\n",
            "\n",
            "Optimizer: SGD, Learning Rate: 0.0100, Momentum: 0.9\n"
          ]
        }
      ]
    },
    {
      "cell_type": "code",
      "source": [
        "\n",
        "plt.plot(epochs, acc, marker='o', linestyle='-', color='b', label='Training Accuracy')\n",
        "plt.plot(epochs, val_acc, marker='o', linestyle='-', color='r', label='Validation Accuracy')\n",
        "plt.xlabel('Epochs')\n",
        "plt.ylabel('Accuracy')\n",
        "plt.title('Training Accuracy Over Time')\n",
        "plt.grid(True)\n",
        "plt.legend()\n",
        "plt.show()"
      ],
      "metadata": {
        "id": "fvCV03O4KCtE",
        "outputId": "97647d79-571a-4330-f490-34b14fed87ca",
        "colab": {
          "base_uri": "https://localhost:8080/",
          "height": 472
        }
      },
      "execution_count": 76,
      "outputs": [
        {
          "output_type": "display_data",
          "data": {
            "text/plain": [
              "<Figure size 640x480 with 1 Axes>"
            ],
            "image/png": "[encoded data removed]"
          },
          "metadata": {}
        }
      ]
    },
    {
      "cell_type": "code",
      "source": [
        "test_acc[4]"
      ],
      "metadata": {
        "id": "cTtmxmD9RDEk",
        "outputId": "53f7e105-367b-4221-8c85-71a8ddafabe3",
        "colab": {
          "base_uri": "https://localhost:8080/"
        }
      },
      "execution_count": 77,
      "outputs": [
        {
          "output_type": "execute_result",
          "data": {
            "text/plain": [
              "0.9897142648696899"
            ]
          },
          "metadata": {},
          "execution_count": 77
        }
      ]
    },
    {
      "cell_type": "markdown",
      "source": [
        "### **3. CNN with different Epochs Key Results**:\n",
        "- **5 Epochs:** Training Accuracy: 0.9921 | Validation Accuracy: 0.9865 | Total Time: 6.1333 mins\n",
        "- **7 Epochs:** Training Accuracy: 0.9952 | Validation Accuracy: 0.9855 |\n",
        "Total Time: 8.4333 mins\n",
        "- **10 Epochs:** Training Accuracy: 0.9987 | Validation Accuracy: 0.9889 | Total Time: 11.7833 mins\n",
        "- **12 Epochs:** Training Accuracy: 0.9992 | Validation Accuracy: 0.9884 | Total Time: 14.8333 mins\n",
        "- **15 Epochs:** Training Accuracy: 0.9999 | Validation Accuracy: 0.9893 | Total Time: 19.3667 mins\n",
        "- **18 Epochs:** Training Accuracy: 1.0000 | Validation Accuracy: 0.9890 | Total Time: 22.8167 mins\n",
        "- **20 Epochs:** Training Accuracy: 1.0000 | Validation Accuracy: 0.9901 | Total Time: 24.3667 mins\n",
        "\n",
        "**Observations**:\n",
        "1. **Diminishing Returns:** Beyond 15 epochs, validation accuracy improves by only +0.08% (98.93% → 99.01%) despite 26% longer training time.\n",
        "\n",
        "2. **Overfitting Risk:** Training accuracy reaches 100% by 18 epochs, while validation accuracy plateaus, suggesting the model may lose generalizability.\n",
        "\n",
        "3. **Efficiency Trade-off:** 15 epochs offer the best balance—near-peak validation accuracy (98.93%) with 20% faster training than 20 epochs.\n",
        "\n",
        "---\n",
        "\n",
        "**recommended Model**: 15 Epochs | Test Accuracy: 98.97%\n",
        "\n",
        "* Why?\n",
        "\n",
        " * Validation accuracy (98.93%) is nearly identical to 20 epochs (99.01%).\n",
        "\n",
        " * Saves 5 minutes per training run (19.4 mins vs. 24.4 mins).\n",
        "\n",
        " * Avoids overfitting risks from longer training (100% training accuracy is a red flag).\n"
      ],
      "metadata": {
        "id": "Pj8TaRpc3ikC"
      }
    }
  ]
}